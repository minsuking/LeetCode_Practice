{
  "nbformat": 4,
  "nbformat_minor": 0,
  "metadata": {
    "colab": {
      "name": "2021_Dec_LeetCodeStudy",
      "provenance": [],
      "collapsed_sections": [],
      "toc_visible": true,
      "include_colab_link": true
    },
    "kernelspec": {
      "name": "python3",
      "display_name": "Python 3"
    },
    "language_info": {
      "name": "python"
    }
  },
  "cells": [
    {
      "cell_type": "markdown",
      "metadata": {
        "id": "view-in-github",
        "colab_type": "text"
      },
      "source": [
        "<a href=\"https://colab.research.google.com/github/minsuking/LeetCode_Practice/blob/master/2021_Dec_LeetCodeStudy.ipynb\" target=\"_parent\"><img src=\"https://colab.research.google.com/assets/colab-badge.svg\" alt=\"Open In Colab\"/></a>"
      ]
    },
    {
      "cell_type": "markdown",
      "metadata": {
        "id": "2WDniA3DCIkl"
      },
      "source": [
        "MeetUp Link\n",
        "\n",
        "https://meet.google.com/xhp-sfsc-ucj\n",
        "\n",
        "문제 출제 순서 \n",
        "\n",
        "Joseph -> **Leo** -> Minsu -> Youngsu\n",
        "\n",
        "\n",
        "leokim2024@gmail.com "
      ]
    },
    {
      "cell_type": "markdown",
      "metadata": {
        "id": "-DePXyFSp76S"
      },
      "source": [
        "# Nov. 24. 2021\n",
        "\n",
        "239. Sliding Window Maximum\n",
        "\n",
        "https://leetcode.com/problems/sliding-window-maximum/"
      ]
    },
    {
      "cell_type": "code",
      "metadata": {
        "id": "KTpyWuo1qEVl"
      },
      "source": [
        "#Leo's Code \n",
        "#(NlogK)\n",
        "from typing import List\n",
        "import heapq \n",
        "\n",
        "class Solution:\n",
        "    def maxSlidingWindow(self, nums: List[int], k: int) -> List[int]:\n",
        "        #Max_heap to find max in a sliding window \n",
        "        #window = [ -1* x for x in nums[0:k] ]\n",
        "        window = [] \n",
        "        #heapq.heapify(window)\n",
        "        #variable for storing answers \n",
        "        ans = [] \n",
        "        \n",
        "\n",
        "\n",
        "        #in the loop\n",
        "        for i in range(len(nums)):        \n",
        "            #pop the root = max element, if it is out bound of the we remove \n",
        "            while window and window[0][1] <= i-k:\n",
        "                heapq.heappop(window)\n",
        "            #push the new element / heapify \n",
        "            heapq.heappush(window, (-1*nums[i], i ) )\n",
        "            if i >= k-1:\n",
        "                ans.append(-1*window[0][0]) \n",
        "        \n",
        "        # \n",
        "        return ans"
      ],
      "execution_count": null,
      "outputs": []
    },
    {
      "cell_type": "code",
      "metadata": {
        "id": "XcBRZoobxOEj"
      },
      "source": [
        "#Minsu's Code\n",
        "import heapq\n",
        "class Solution:\n",
        "    def maxSlidingWindow(self, nums: List[int], k: int) -> List[int]:\n",
        "        pq = []\n",
        "        res = []\n",
        "        heapq.heapify(pq)\n",
        "        \n",
        "        for i in range(len(nums)):\n",
        "            \n",
        "            while pq and pq[0][1] < i - k:  # PriorityQueue 랑 완전 같지는 않다. pop을 했을경우 최대값이 next위치에 있지않다.\n",
        "                heapq.heappop(pq)               # Max의 i값을 트래킹하여 그 위치가 되면 그 아래까지 모두 제거\n",
        "                \n",
        "            heapq.heappush(pq, (-nums[i], i))\n",
        "            if i >= k - 1:\n",
        "                res.append(-pq[0][0])\n",
        "        return res"
      ],
      "execution_count": null,
      "outputs": []
    },
    {
      "cell_type": "code",
      "metadata": {
        "id": "zDCa2dHECVJu"
      },
      "source": [
        "# Joe's Code\n",
        "# Time: O(N), Space: O(N)\n",
        "\n",
        "from collections import deque\n",
        "\n",
        "\n",
        "class Solution:\n",
        "    def maxSlidingWindow(self, nums: List[int], k: int) -> List[int]:\n",
        "        if k == 0 or not nums:\n",
        "            return nums\n",
        "        if k == 1:\n",
        "            return nums\n",
        "        \n",
        "        def _clean(i):\n",
        "            if deq and deq[0] == i - k:\n",
        "                deq.popleft()\n",
        "            while deq and nums[i] > nums[deq[-1]]:\n",
        "                deq.pop()\n",
        "        \n",
        "        deq = deque()\n",
        "        res = []\n",
        "        \n",
        "        for i in range(k):\n",
        "            _clean(i)\n",
        "            deq.append(i)\n",
        "            \n",
        "            if not res:\n",
        "                res.append(nums[i])\n",
        "            elif nums[i] > res[0]:\n",
        "                res[0] = nums[i]\n",
        "                \n",
        "        for i in range(k, len(nums)):\n",
        "            _clean(i)\n",
        "            deq.append(i)\n",
        "            res.append(nums[deq[0]])\n",
        "        \n",
        "        return res\n"
      ],
      "execution_count": null,
      "outputs": []
    },
    {
      "cell_type": "code",
      "metadata": {
        "id": "SuGA9-4_HbAU"
      },
      "source": [
        "# YS\n",
        "class Solution:\n",
        "    def maxSlidingWindow(self, nums: List[int], k: int) -> List[int]:\n",
        "        ans = []\n",
        "        ans.append(max(nums[:k]))\n",
        "        que = collections.deque()        \n",
        "        \n",
        "        \n",
        "        def clean(i):\n",
        "            if que and que[0] == i-k:\n",
        "                que.popleft()\n",
        "            \n",
        "            while que and nums[i] > nums[que[-1]]:\n",
        "                que.pop()\n",
        "        \n",
        "        for i in range(k):\n",
        "            clean(i)\n",
        "            que.append(i)\n",
        "        \n",
        "        for i in range(k, len(nums)):          \n",
        "            clean(i)\n",
        "            que.append(i)\n",
        "            \n",
        "            ans.append(nums[que[0]])\n",
        "            \n",
        "            \n",
        "        return ans"
      ],
      "execution_count": null,
      "outputs": []
    },
    {
      "cell_type": "markdown",
      "metadata": {
        "id": "ACiJrsvXPTb3"
      },
      "source": [
        "# Nov. 29. 2021\n",
        "\n",
        "937 Reorder Data in Log files \n",
        "https://leetcode.com/problems/reorder-data-in-log-files/ \n",
        "\n",
        "1152. Analyze User Website visit pattern \n",
        "https://leetcode.com/problems/analyze-user-website-visit-pattern/\n",
        "\n"
      ]
    },
    {
      "cell_type": "code",
      "metadata": {
        "id": "4BrlKVKd6NLA"
      },
      "source": [
        "# Leo 937 \n",
        "\n",
        "from typing import List\n",
        "\n",
        "class Solution:\n",
        "    def reorderLogFiles(self, logs: List[str]) -> List[str]:\n",
        "        letter_logs = []\n",
        "        digit_logs = []\n",
        "\n",
        "        for log in logs:\n",
        "            # tmp = log.split();\n",
        "            #\n",
        "            if log.split()[1].isdigit():\n",
        "                digit_logs.append(log)\n",
        "            else:\n",
        "                letter_logs.append(log)\n",
        "\n",
        "        letter_logs.sort(key=lambda x: x.split()[0])\n",
        "        letter_logs.sort(key=lambda x: x.split()[1:])\n",
        "        res = letter_logs + digit_logs\n",
        "        return res\n",
        "\n",
        "sol = Solution()\n",
        "print(sol.reorderLogFiles([\"dig1 8 1 5 1\",\"let1 art can\",\"dig2 3 6\",\"let2 own kit dig\",\"let3 art zero\"]))"
      ],
      "execution_count": null,
      "outputs": []
    },
    {
      "cell_type": "code",
      "metadata": {
        "id": "ULOJX2If2Pw-"
      },
      "source": [
        "#Minsu's Code\n",
        "\n",
        "class Solution:\n",
        "    def reorderLogFiles(self, logs: List[str]) -> List[str]:\n",
        "       \tlet, dig = [], []\n",
        "        for log in logs:\n",
        "            index = log.find(' ')\n",
        "            iden = log[:index]\n",
        "            \n",
        "            words = log[index+1:]\n",
        "            if words[0].isdigit():\n",
        "                dig.append(log)\n",
        "            else:\n",
        "                let.append((iden, words))\n",
        "    \n",
        "        let = sorted(let, key=lambda x:(x[1], x[0]))\n",
        "        let = list(map(lambda x: x[0] + \" \" + x[1], let))\n",
        "        return let + dig"
      ],
      "execution_count": null,
      "outputs": []
    }
  ]
}