{
  "nbformat": 4,
  "nbformat_minor": 0,
  "metadata": {
    "colab": {
      "name": "2021_Dec_LeetCodeStudy",
      "provenance": [],
      "collapsed_sections": [],
      "toc_visible": true,
      "include_colab_link": true
    },
    "kernelspec": {
      "name": "python3",
      "display_name": "Python 3"
    },
    "language_info": {
      "name": "python"
    }
  },
  "cells": [
    {
      "cell_type": "markdown",
      "metadata": {
        "id": "view-in-github",
        "colab_type": "text"
      },
      "source": [
        "<a href=\"https://colab.research.google.com/github/minsuking/LeetCode_Practice/blob/master/2021_Dec_LeetCodeStudy.ipynb\" target=\"_parent\"><img src=\"https://colab.research.google.com/assets/colab-badge.svg\" alt=\"Open In Colab\"/></a>"
      ]
    },
    {
      "cell_type": "code",
      "metadata": {
        "id": "gIQpkYDDpnar"
      },
      "source": [
        ""
      ],
      "execution_count": null,
      "outputs": []
    },
    {
      "cell_type": "markdown",
      "metadata": {
        "id": "-DePXyFSp76S"
      },
      "source": [
        "# Nov. 24. 2024\n",
        "239. Sliding Window Maximum\n",
        "\n",
        "https://leetcode.com/problems/sliding-window-maximum/"
      ]
    },
    {
      "cell_type": "code",
      "metadata": {
        "id": "KTpyWuo1qEVl"
      },
      "source": [
        "#Leo's Code \n",
        "#(NlogK)\n",
        "from typing import List\n",
        "import heapq \n",
        "\n",
        "class Solution:\n",
        "    def maxSlidingWindow(self, nums: List[int], k: int) -> List[int]:\n",
        "        #Max_heap to find max in a sliding window \n",
        "        #window = [ -1* x for x in nums[0:k] ]\n",
        "        window = [] \n",
        "        heapq.heapify(window)\n",
        "        #variable for storing answers \n",
        "        ans = [] \n",
        "        \n",
        "        #in the loop\n",
        "        for i in range(len(nums)):        \n",
        "            #pop the root = max element, if it is out bound of the we remove \n",
        "            while window and window[0][1] <= i-k:\n",
        "                heapq.heappop(window)\n",
        "            #push the new element / heapify \n",
        "            heapq.heappush(window, (-1*nums[i], i ) )\n",
        "            if i >= k-1:\n",
        "                ans.append(-1*window[0][0]) \n",
        "        \n",
        "        # \n",
        "        return ans"
      ],
      "execution_count": null,
      "outputs": []
    },
    {
      "cell_type": "code",
      "metadata": {
        "id": "XcBRZoobxOEj"
      },
      "source": [
        "#Minsu's Code\n",
        "import heapq\n",
        "class Solution:\n",
        "    def maxSlidingWindow(self, nums: List[int], k: int) -> List[int]:\n",
        "        pq = []\n",
        "        res = []\n",
        "        heapq.heapify(pq)\n",
        "        \n",
        "        for i in range(len(nums)):\n",
        "            \n",
        "            while pq and pq[0][1] < i - k:  # PriorityQueue 랑 완전 같지는 않다. pop을 했을경우 최대값이 next위치에 있지않다.\n",
        "                heapq.heappop(pq)               # Max의 i값을 트래킹하여 그 위치가 되면 그 아래까지 모두 제거\n",
        "                \n",
        "            heapq.heappush(pq, (-nums[i], i))\n",
        "            if i >= k - 1:\n",
        "                res.append(-pq[0][0])\n",
        "        return res"
      ],
      "execution_count": null,
      "outputs": []
    }
  ]
}