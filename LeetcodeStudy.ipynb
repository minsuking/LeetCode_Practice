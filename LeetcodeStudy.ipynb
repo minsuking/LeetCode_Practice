{
  "nbformat": 4,
  "nbformat_minor": 0,
  "metadata": {
    "colab": {
      "provenance": [],
      "collapsed_sections": [
        "fL_NPalDQ2CF"
      ],
      "toc_visible": true,
      "include_colab_link": true
    },
    "kernelspec": {
      "name": "python3",
      "display_name": "Python 3"
    },
    "language_info": {
      "name": "python"
    }
  },
  "cells": [
    {
      "cell_type": "markdown",
      "metadata": {
        "id": "view-in-github",
        "colab_type": "text"
      },
      "source": [
        "<a href=\"https://colab.research.google.com/github/minsuking/LeetCode_Practice/blob/master/LeetcodeStudy.ipynb\" target=\"_parent\"><img src=\"https://colab.research.google.com/assets/colab-badge.svg\" alt=\"Open In Colab\"/></a>"
      ]
    },
    {
      "cell_type": "markdown",
      "source": [
        "#  LeetCode Study (Meta Past 30 days frequent Qs)\n",
        "\n",
        "## 📌 Link\n",
        "- [Video Call Link](https://meet.google.com/gxm-dwjo-wwz)\n",
        "- [LeetCode Problem Set](https://leetcode.com/problemset/)\n",
        "- [Facebook Problem Set](https://leetcode.com/company/facebook/?favoriteSlug=facebook-thirty-days)\n",
        "\n",
        "## 📒 이름과 이메일 주소를 적어주시기 바랍니다.\n",
        "\n",
        "* Donggun ryan.dev.2024@gmail.com\n",
        "* Minsu minsu.kim08@gmail.com\n",
        "* Youngsu terun707@gmail.com\n",
        "* Stella normalpig@gmail.com"
      ],
      "metadata": {
        "id": "j4EAzepnOz9h"
      }
    },
    {
      "cell_type": "markdown",
      "source": [
        "# Week 1\n"
      ],
      "metadata": {
        "id": "tIvptyrqQXZv"
      }
    },
    {
      "cell_type": "markdown",
      "source": [
        "## 09/08/2025\n",
        "1249. Minimum Remove to Make Valid Parentheses https://leetcode.com/problems/minimum-remove-to-make-valid-parentheses/description/"
      ],
      "metadata": {
        "id": "1tgno3OBQfU5"
      }
    },
    {
      "cell_type": "code",
      "source": [
        "# ys\n",
        "class Solution:\n",
        "    def minRemoveToMakeValid(self, s: str) -> str:\n",
        "        ans = []\n",
        "        opened = []\n",
        "        for i,c in enumerate(s):\n",
        "            if c == ')':\n",
        "                if not opened:\n",
        "                    ans.append('')\n",
        "                    continue\n",
        "                else:\n",
        "                    opened.pop()\n",
        "            elif c == '(':\n",
        "                opened.append(i)\n",
        "            ans.append(c)\n",
        "\n",
        "        for i in opened:\n",
        "            ans[i] = ''\n",
        "\n",
        "        return ''.join(ans)"
      ],
      "metadata": {
        "id": "27n-pTNKqc7m"
      },
      "execution_count": null,
      "outputs": []
    },
    {
      "cell_type": "code",
      "source": [
        "# Stella\n",
        "class Solution:\n",
        "    def minRemoveToMakeValid(self, s: str) -> str:\n",
        "        answer = []\n",
        "        count = 0\n",
        "        for letter in s:\n",
        "            if letter == \"(\":\n",
        "                count += 1\n",
        "                answer.append(\"(\")\n",
        "            elif letter == \")\":\n",
        "                count -= 1\n",
        "                if count < 0 :\n",
        "                    count = 0\n",
        "                else :\n",
        "                    answer.append(\")\")\n",
        "            else:\n",
        "                answer.append(letter)\n",
        "\n",
        "        i = len(answer)-1\n",
        "        while count != 0:\n",
        "            if answer[i] == \"(\":\n",
        "                answer.pop(i)\n",
        "                count -= 1\n",
        "            i -= 1\n",
        "\n",
        "        return \"\".join(answer)"
      ],
      "metadata": {
        "id": "jc7r7ViSyfGA"
      },
      "execution_count": null,
      "outputs": []
    },
    {
      "cell_type": "code",
      "source": [
        "#Minsu\n",
        "\n",
        "class Solution:\n",
        "    def minRemoveToMakeValid(self, s: str) -> str:\n",
        "        res = []\n",
        "        stack = []\n",
        "\n",
        "        for i, c in enumerate(s):\n",
        "            if c == \"(\":\n",
        "                stack.append(len(res))\n",
        "                res.append(\"(\")\n",
        "            elif c == \")\":\n",
        "                if stack:\n",
        "                    res.append(\")\")\n",
        "                    stack.pop()\n",
        "            else:\n",
        "                res.append(c)\n",
        "\n",
        "        while stack:\n",
        "            idx = stack.pop()\n",
        "            print(idx)\n",
        "            res[idx] = \"\"\n",
        "\n",
        "        return ''.join(res)"
      ],
      "metadata": {
        "id": "tpRYknVmBDNa"
      },
      "execution_count": null,
      "outputs": []
    },
    {
      "cell_type": "markdown",
      "source": [
        "## 09/09/2025\n",
        "560. Subarray Sum Equals K https://leetcode.com/problems/subarray-sum-equals-k/description/"
      ],
      "metadata": {
        "id": "jKlZLNE6QuCU"
      }
    },
    {
      "cell_type": "code",
      "source": [
        "# ys\n",
        "class Solution:\n",
        "    def subarraySum(self, nums: List[int], k: int) -> int:\n",
        "        prefix_sum = 0\n",
        "        dic = collections.defaultdict(int)\n",
        "        dic[0] = 1\n",
        "        ans = 0\n",
        "\n",
        "        for n in nums:\n",
        "            prefix_sum += n\n",
        "            if prefix_sum - k in dic:\n",
        "                ans += dic[prefix_sum - k]\n",
        "            dic[prefix_sum] += 1\n",
        "\n",
        "        return ans\n"
      ],
      "metadata": {
        "id": "UlZdVcsnHzOv"
      },
      "execution_count": null,
      "outputs": []
    },
    {
      "cell_type": "code",
      "source": [
        "#Minsu\n",
        "from collections import defaultdict\n",
        "class Solution:\n",
        "    def subarraySum(self, nums: List[int], k: int) -> int:\n",
        "        freq = defaultdict(int)\n",
        "        freq[0] = 1\n",
        "        p = 0\n",
        "        res = 0\n",
        "        for n in nums:\n",
        "            p += n\n",
        "            res += freq[p - k]\n",
        "            freq[p] += 1\n",
        "        return res\n"
      ],
      "metadata": {
        "id": "VqWc2GdtJpWW"
      },
      "execution_count": null,
      "outputs": []
    },
    {
      "cell_type": "markdown",
      "source": [
        "## 09/10/2025\n",
        "408. Valid Word Abbreviation https://leetcode.com/problems/valid-word-abbreviation/description/"
      ],
      "metadata": {
        "id": "ELse0-7fRO3D"
      }
    },
    {
      "cell_type": "markdown",
      "source": [
        "## 09/11/2025\n",
        "543. Diameter of Binary Tree https://leetcode.com/problems/lowest-common-ancestor-of-a-binary-tree/description/"
      ],
      "metadata": {
        "id": "9y5blKj9ROf3"
      }
    },
    {
      "cell_type": "markdown",
      "source": [
        "## 09/12/2025\n",
        "528. Random Pick with Weight https://leetcode.com/problems/random-pick-with-weight/description/"
      ],
      "metadata": {
        "id": "rvEYKo2pRSg9"
      }
    },
    {
      "cell_type": "markdown",
      "source": [
        "# Week 2"
      ],
      "metadata": {
        "id": "fL_NPalDQ2CF"
      }
    },
    {
      "cell_type": "markdown",
      "source": [
        "## 09/15/2025"
      ],
      "metadata": {
        "id": "cCJq7vSMRVEs"
      }
    },
    {
      "cell_type": "markdown",
      "source": [
        "## 09/16/2025"
      ],
      "metadata": {
        "id": "9IP9Bsm5RWyJ"
      }
    },
    {
      "cell_type": "markdown",
      "source": [
        "## 09/17/2025"
      ],
      "metadata": {
        "id": "26-Hw8a7RX9v"
      }
    },
    {
      "cell_type": "markdown",
      "source": [
        "## 09/18/2025"
      ],
      "metadata": {
        "id": "U79DSjrkRZF8"
      }
    },
    {
      "cell_type": "markdown",
      "source": [
        "## 09/19/2025"
      ],
      "metadata": {
        "id": "aoK47pTBRacD"
      }
    },
    {
      "cell_type": "markdown",
      "source": [
        "# Week 3"
      ],
      "metadata": {
        "id": "rDwPsy0YRIwt"
      }
    },
    {
      "cell_type": "markdown",
      "source": [
        "# Week 4"
      ],
      "metadata": {
        "id": "0CMGDPcVRJl6"
      }
    }
  ]
}