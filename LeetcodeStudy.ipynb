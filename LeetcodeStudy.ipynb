{
  "nbformat": 4,
  "nbformat_minor": 0,
  "metadata": {
    "colab": {
      "provenance": [],
      "toc_visible": true,
      "include_colab_link": true
    },
    "kernelspec": {
      "name": "python3",
      "display_name": "Python 3"
    },
    "language_info": {
      "name": "python"
    }
  },
  "cells": [
    {
      "cell_type": "markdown",
      "metadata": {
        "id": "view-in-github",
        "colab_type": "text"
      },
      "source": [
        "<a href=\"https://colab.research.google.com/github/minsuking/LeetCode_Practice/blob/master/LeetcodeStudy.ipynb\" target=\"_parent\"><img src=\"https://colab.research.google.com/assets/colab-badge.svg\" alt=\"Open In Colab\"/></a>"
      ]
    },
    {
      "cell_type": "markdown",
      "source": [
        "#  LeetCode Study (Meta Past 30 days frequent Qs)\n",
        "\n",
        "## 📌 Link\n",
        "- [Video Call Link](https://meet.google.com/gxm-dwjo-wwz)\n",
        "- [LeetCode Problem Set](https://leetcode.com/problemset/)\n",
        "- [Facebook Problem Set](https://leetcode.com/company/facebook/?favoriteSlug=facebook-thirty-days)\n",
        "\n",
        "## 📒 이름과 이메일 주소를 적어주시기 바랍니다.\n",
        "\n",
        "* Donggun ryan.dev.2024@gmail.com\n",
        "* Minsu minsu.kim08@gmail.com\n",
        "* Youngsu terun707@gmail.com\n",
        "* Stella normalpig@gmail.com"
      ],
      "metadata": {
        "id": "j4EAzepnOz9h"
      }
    },
    {
      "cell_type": "markdown",
      "source": [
        "# List (30 days sorted by freq - 09/12/2025)"
      ],
      "metadata": {
        "id": "D76VibjZyzcg"
      }
    },
    {
      "cell_type": "markdown",
      "source": [
        "| 순번 | 문제 (번호. 제목) | 난이도 |\n",
        "|------|------------------|---------|\n",
        "| 26 | 56. Merge Intervals | Med. |\n",
        "| 27 | 125. Valid Palindrome | Easy |\n",
        "| 28 | 133. Clone Graph | Med. |\n",
        "| 29 | 138. Copy List with Random Pointer | Med. |\n",
        "| 30 | 489. Robot Room Cleaner | Hard |\n",
        "| 31 | 498. Diagonal Traverse | Med. |\n",
        "| 32 | 1570. Dot Product of Two Sparse Vectors | Med. |\n",
        "| 33 | 15. 3Sum | Med. |\n",
        "| 34 | 146. LRU Cache | Med. |\n",
        "| 35 | 162. Find Peak Element | Med. |\n",
        "| 36 | 647. Palindromic Substrings | Med. |\n",
        "| 37 | 791. Custom Sort String | Med. |\n",
        "| 38 | 921. Minimum Add to Make Parentheses Valid | Med. |\n",
        "| 39 | 207. Course Schedule | Med. |\n",
        "| 40 | 987. Vertical Order Traversal of a Binary Tree | Hard |\n",
        "| 41 | 2265. Count Nodes Equal to Average of Subtree | Med. |\n",
        "| 42 | 19. Remove Nth Node From End of List | Med. |\n",
        "| 43 | 65. Valid Number | Hard |\n",
        "| 44 | 88. Merge Sorted Array | Easy |\n",
        "| 45 | 127. Word Ladder | Hard |\n",
        "| 46 | 346. Moving Average from Data Stream | Easy |\n",
        "| 47 | 415. Add Strings | Easy |\n",
        "| 48 | 636. Exclusive Time of Functions | Med. |\n",
        "| 49 | 863. All Nodes Distance K in Binary Tree | Med. |\n",
        "| 50 | 1539. Kth Missing Positive Number | Easy |\n",
        "| 51 | 5. Longest Palindromic Substring | Med. |\n",
        "| 52 | 73. Set Matrix Zeroes | Med. |\n",
        "| 53 | 75. Sort Colors | Med. |\n",
        "| 54 | 76. Minimum Window Substring | Hard |\n",
        "| 55 | 219. Contains Duplicate II | Easy |\n",
        "| 56 | 246. Strobogrammatic Number | Easy |\n",
        "| 57 | 270. Closest Binary Search Tree Value | Easy |\n",
        "| 58 | 938. Range Sum of BST | Easy |\n",
        "| 59 | 1004. Max Consecutive Ones III | Med. |\n",
        "| 60 | 8. String to Integer (atoi) | Med. |\n",
        "| 61 | 11. Container With Most Water | Med. |\n",
        "| 62 | 13. Roman to Integer | Easy |\n",
        "| 63 | 26. Remove Duplicates from Sorted Array | Easy |\n",
        "| 64 | 32. Longest Valid Parentheses | Hard |\n",
        "| 65 | 53. Maximum Subarray | Med. |\n",
        "| 66 | 116. Populating Next Right Pointers in Each Node | Med. |\n",
        "| 67 | 189. Rotate Array | Med. |\n",
        "| 68 | 231. Power of Two | Easy |\n",
        "| 69 | 269. Alien Dictionary | Hard |\n",
        "| 70 | 426. Convert Binary Search Tree to Sorted Doubly Linked List | Med. |\n",
        "| 71 | 451. Sort Characters By Frequency | Med. |\n",
        "| 72 | 480. Sliding Window Median | Hard |\n",
        "| 73 | 536. Construct Binary Tree from String | Med. |\n",
        "| 74 | 617. Merge Two Binary Trees | Easy |\n",
        "| 75 | 679. 24 Game | Hard |\n",
        "| 76 | 695. Max Area of Island | Med. |\n",
        "| 77 | 708. Insert into a Sorted Circular Linked List | Med. |\n",
        "| 78 | 2043. Simple Bank System | Med. |\n",
        "| 79 | 3. Longest Substring Without Repeating Characters | Med. |\n",
        "| 80 | 4. Median of Two Sorted Arrays | Hard |\n",
        "| 81 | 9. Palindrome Number | Easy |\n",
        "| 82 | 10. Regular Expression Matching | Hard |\n",
        "| 83 | 16. 3Sum Closest | Med. |\n",
        "| 84 | 42. Trapping Rain Water | Hard |\n",
        "| 85 | 46. Permutations | Med. |\n",
        "| 86 | 54. Spiral Matrix | Med. |\n",
        "| 87 | 62. Unique Paths | Med. |\n",
        "| 88 | 78. Subsets | Med. |\n",
        "| 89 | 98. Validate Binary Search Tree | Med. |\n",
        "| 90 | 118. Pascal's Triangle | Easy |\n",
        "| 91 | 122. Best Time to Buy and Sell Stock II | Med. |\n",
        "| 92 | 134. Gas Station | Med. |\n",
        "| 93 | 163. Missing Ranges | Easy |\n",
        "| 94 | 169. Majority Element | Easy |\n",
        "| 95 | 173. Binary Search Tree Iterator | Med. |\n",
        "| 96 | 197. Rising Temperature | Easy |\n",
        "| 97 | 198. House Robber | Med. |\n",
        "| 98 | 205. Isomorphic Strings | Easy |\n",
        "| 99 | 224. Basic Calculator | Hard |\n",
        "| 100 | 234. Palindrome Linked List | Easy |\n",
        "| 101 | 242. Valid Anagram | Easy |\n",
        "| 102 | 249. Group Shifted Strings | Med. |\n",
        "| 103 | 253. Meeting Rooms II | Med. |\n",
        "| 104 | 295. Find Median from Data Stream | Hard |\n",
        "| 105 | 297. Serialize and Deserialize Binary Tree | Hard |\n",
        "| 106 | 328. Odd Even Linked List | Med. |\n",
        "| 107 | 348. Design Tic-Tac-Toe | Med. |\n",
        "| 108 | 394. Decode String | Med. |\n",
        "| 109 | 443. String Compression | Med. |\n",
        "| 110 | 523. Continuous Subarray Sum | Med. |\n",
        "| 111 | 570. Managers with at Least 5 Direct Reports | Med. |\n",
        "| 112 | 602. Friend Requests II: Who Has the Most Friends | Med. |\n",
        "| 113 | 658. Find K Closest Elements | Med. |\n",
        "| 114 | 766. Toeplitz Matrix | Easy |\n",
        "| 115 | 825. Friends Of Appropriate Ages | Med. |\n",
        "| 116 | 827. Making A Large Island | Hard |\n",
        "| 117 | 852. Peak Index in a Mountain Array | Med. |\n",
        "| 118 | 875. Koko Eating Bananas | Med. |\n",
        "| 119 | 958. Check Completeness of a Binary Tree | Med. |\n",
        "| 120 | 986. Interval List Intersections | Med. |\n",
        "| 121 | 994. Rotting Oranges | Med. |\n",
        "| 122 | 1011. Capacity To Ship Packages Within D Days | Med. |\n",
        "| 123 | 1209. Remove All Adjacent Duplicates in String II | Med. |\n",
        "| 124 | 1781. Sum of Beauty of All Substrings | Med. |\n",
        "| 125 | 2235. Add Two Integers | Easy |\n",
        "| 126 | 2749. Minimum Operations to Make the Integer Zero | Med. |\n"
      ],
      "metadata": {
        "id": "fpsLjmELu2Zm"
      }
    },
    {
      "cell_type": "markdown",
      "source": [
        "# Week 1\n"
      ],
      "metadata": {
        "id": "tIvptyrqQXZv"
      }
    },
    {
      "cell_type": "markdown",
      "source": [
        "## 09/08/2025\n",
        "1249. Minimum Remove to Make Valid Parentheses https://leetcode.com/problems/minimum-remove-to-make-valid-parentheses/description/"
      ],
      "metadata": {
        "id": "1tgno3OBQfU5"
      }
    },
    {
      "cell_type": "code",
      "source": [
        "# ys\n",
        "class Solution:\n",
        "    def minRemoveToMakeValid(self, s: str) -> str:\n",
        "        ans = []\n",
        "        opened = []\n",
        "        for i,c in enumerate(s):\n",
        "            if c == ')':\n",
        "                if not opened:\n",
        "                    ans.append('')\n",
        "                    continue\n",
        "                else:\n",
        "                    opened.pop()\n",
        "            elif c == '(':\n",
        "                opened.append(i)\n",
        "            ans.append(c)\n",
        "\n",
        "        for i in opened:\n",
        "            ans[i] = ''\n",
        "\n",
        "        return ''.join(ans)"
      ],
      "metadata": {
        "id": "27n-pTNKqc7m"
      },
      "execution_count": null,
      "outputs": []
    },
    {
      "cell_type": "code",
      "source": [
        "# Stella\n",
        "class Solution:\n",
        "    def minRemoveToMakeValid(self, s: str) -> str:\n",
        "        answer = []\n",
        "        count = 0\n",
        "        for letter in s:\n",
        "            if letter == \"(\":\n",
        "                count += 1\n",
        "                answer.append(\"(\")\n",
        "            elif letter == \")\":\n",
        "                count -= 1\n",
        "                if count < 0 :\n",
        "                    count = 0\n",
        "                else :\n",
        "                    answer.append(\")\")\n",
        "            else:\n",
        "                answer.append(letter)\n",
        "\n",
        "        i = len(answer)-1\n",
        "        while count != 0:\n",
        "            if answer[i] == \"(\":\n",
        "                answer.pop(i)\n",
        "                count -= 1\n",
        "            i -= 1\n",
        "\n",
        "        return \"\".join(answer)"
      ],
      "metadata": {
        "id": "jc7r7ViSyfGA"
      },
      "execution_count": null,
      "outputs": []
    },
    {
      "cell_type": "code",
      "source": [
        "#Minsu\n",
        "\n",
        "class Solution:\n",
        "    def minRemoveToMakeValid(self, s: str) -> str:\n",
        "        res = []\n",
        "        stack = []\n",
        "\n",
        "        for i, c in enumerate(s):\n",
        "            if c == \"(\":\n",
        "                stack.append(len(res))\n",
        "                res.append(\"(\")\n",
        "            elif c == \")\":\n",
        "                if stack:\n",
        "                    res.append(\")\")\n",
        "                    stack.pop()\n",
        "            else:\n",
        "                res.append(c)\n",
        "\n",
        "        while stack:\n",
        "            idx = stack.pop()\n",
        "            print(idx)\n",
        "            res[idx] = \"\"\n",
        "\n",
        "        return ''.join(res)"
      ],
      "metadata": {
        "id": "tpRYknVmBDNa"
      },
      "execution_count": null,
      "outputs": []
    },
    {
      "cell_type": "markdown",
      "source": [
        "## 09/09/2025\n",
        "560. Subarray Sum Equals K https://leetcode.com/problems/subarray-sum-equals-k/description/"
      ],
      "metadata": {
        "id": "jKlZLNE6QuCU"
      }
    },
    {
      "cell_type": "code",
      "source": [
        "# ys\n",
        "class Solution:\n",
        "    def subarraySum(self, nums: List[int], k: int) -> int:\n",
        "        prefix_sum = 0\n",
        "        dic = collections.defaultdict(int)\n",
        "        dic[0] = 1\n",
        "        ans = 0\n",
        "\n",
        "        for n in nums:\n",
        "            prefix_sum += n\n",
        "            if prefix_sum - k in dic:\n",
        "                ans += dic[prefix_sum - k]\n",
        "            dic[prefix_sum] += 1\n",
        "\n",
        "        return ans\n"
      ],
      "metadata": {
        "id": "UlZdVcsnHzOv"
      },
      "execution_count": null,
      "outputs": []
    },
    {
      "cell_type": "code",
      "source": [
        "#Minsu\n",
        "from collections import defaultdict\n",
        "class Solution:\n",
        "    def subarraySum(self, nums: List[int], k: int) -> int:\n",
        "        freq = defaultdict(int)\n",
        "        freq[0] = 1\n",
        "        p = 0\n",
        "        res = 0\n",
        "        for n in nums:\n",
        "            p += n\n",
        "            res += freq[p - k]\n",
        "            freq[p] += 1\n",
        "        return res\n"
      ],
      "metadata": {
        "id": "VqWc2GdtJpWW"
      },
      "execution_count": null,
      "outputs": []
    },
    {
      "cell_type": "code",
      "source": [
        "# Stella\n",
        "# 시간초과\n",
        "# class Solution:\n",
        "#     def subarraySum(self, nums: List[int], k: int) -> int:\n",
        "#         temp = 0\n",
        "#         prefix_sum = []\n",
        "#         count = 0\n",
        "\n",
        "#         for num in range(0, len(nums)):\n",
        "#             temp += nums[num]\n",
        "#             prefix_sum.append(temp)\n",
        "\n",
        "#         prefix_sum.pop(0)\n",
        "#         for i in range(0, len(prefix_sum)):\n",
        "#             if prefix_sum[i] == k:\n",
        "#                 count += 1\n",
        "#             for j in range(i+1, len(prefix_sum)):\n",
        "#                 if prefix_sum[j] - prefix_sum[i] == k:\n",
        "#                     count += 1\n",
        "\n",
        "#         return count\n",
        "\n",
        "class Solution:\n",
        "    def subarraySum(self, nums: List[int], k: int) -> int:\n",
        "        prefix_sum = 0\n",
        "        cnt = collections.defaultdict(int)\n",
        "        cnt[0] = 1\n",
        "        ans = 0\n",
        "        for n in nums:\n",
        "            prefix_sum += n\n",
        "            if prefix_sum - k in cnt :\n",
        "                ans += cnt[prefix_sum - k]\n",
        "            cnt[prefix_sum] += 1\n",
        "        return ans"
      ],
      "metadata": {
        "id": "4TzPjOjrQAMQ"
      },
      "execution_count": null,
      "outputs": []
    },
    {
      "cell_type": "markdown",
      "source": [
        "## 09/10/2025\n",
        "408. Valid Word Abbreviation https://leetcode.com/problems/valid-word-abbreviation/description/"
      ],
      "metadata": {
        "id": "ELse0-7fRO3D"
      }
    },
    {
      "cell_type": "code",
      "source": [
        "# Stella\n",
        "class Solution:\n",
        "    def validWordAbbreviation(self, word: str, abbr: str) -> bool:\n",
        "        temp = \"\"\n",
        "        word += \" \"\n",
        "        abbr += \" \"\n",
        "\n",
        "        i = 0\n",
        "        for letter in abbr:\n",
        "            if letter.isdigit():\n",
        "                temp += letter\n",
        "            else:\n",
        "                if len(temp) != 0:\n",
        "                    if temp[0] == \"0\":\n",
        "                        return False\n",
        "                    i += int(temp)\n",
        "                    temp = \"\"\n",
        "                if i < len(word):\n",
        "                    if letter == word[i]:\n",
        "                        i += 1\n",
        "                    else:\n",
        "                        return False\n",
        "                else:\n",
        "                    return False\n",
        "        return True"
      ],
      "metadata": {
        "id": "R1YPEJTHTUn-"
      },
      "execution_count": null,
      "outputs": []
    },
    {
      "cell_type": "code",
      "source": [
        "# ys\n",
        "class Solution:\n",
        "    def validWordAbbreviation(self, word: str, abbr: str) -> bool:\n",
        "        num = []\n",
        "        i = 0\n",
        "        j = 0\n",
        "        while i < len(word) and j < len(abbr):\n",
        "            #print(i, j, word[i], abbr[j])\n",
        "            if abbr[j].isdigit():\n",
        "                if not num and abbr[j] == '0':\n",
        "                    return False\n",
        "                num.append(abbr[j])\n",
        "                j += 1\n",
        "                continue\n",
        "            elif num:\n",
        "                i += int(''.join(num))\n",
        "                num = []\n",
        "            if i >= len(word) or word[i] != abbr[j]:\n",
        "                return False\n",
        "            i += 1\n",
        "            j += 1\n",
        "        if num:\n",
        "            i += int(''.join(num))\n",
        "        return i == len(word) and j == len(abbr)"
      ],
      "metadata": {
        "id": "FkvcDNAVYld4"
      },
      "execution_count": null,
      "outputs": []
    },
    {
      "cell_type": "code",
      "source": [
        "#Donggun\n",
        "\n",
        "class Solution:\n",
        "    def validWordAbbreviation(self, word: str, abbr: str) -> bool:\n",
        "        i, j = 0, 0\n",
        "        wl, al = len(word), len(abbr)\n",
        "\n",
        "        while i < wl and j < al:\n",
        "            if abbr[j].isdigit():\n",
        "                if abbr[j] == '0':\n",
        "                    return False\n",
        "                num = 0\n",
        "                while j < al and abbr[j].isdigit():\n",
        "                    num = 10 * num + int(abbr[j])\n",
        "                    j += 1\n",
        "                i += num\n",
        "                if i > wl:\n",
        "                    return False\n",
        "            else:\n",
        "                if word[i] != abbr[j]:\n",
        "                    return False\n",
        "                i += 1\n",
        "                j += 1\n",
        "\n",
        "        return i == wl and j == al"
      ],
      "metadata": {
        "id": "N9iciO0sZSGM"
      },
      "execution_count": null,
      "outputs": []
    },
    {
      "cell_type": "code",
      "source": [
        "#Minsu\n",
        "\n",
        "class Solution:\n",
        "    def validWordAbbreviation(self, word: str, abbr: str) -> bool:\n",
        "        def tokenize(abbr: str):\n",
        "            tokens = []\n",
        "            i = 0\n",
        "            while i < len(abbr):\n",
        "                if abbr[i].isdigit():\n",
        "                    if abbr[i] == '0':\n",
        "                        return None\n",
        "                    j = i\n",
        "                    while j < len(abbr) and abbr[j].isdigit():\n",
        "                        j += 1\n",
        "                    tokens.append(('n', int(abbr[i:j])))\n",
        "                    i = j\n",
        "                else:\n",
        "                    tokens.append(('c', abbr[i]))\n",
        "                    i += 1\n",
        "            return tokens\n",
        "        tokens = tokenize(abbr)\n",
        "        if tokens is None:\n",
        "            return False\n",
        "\n",
        "        pos, n = 0, len(word)\n",
        "        for t, v in tokens:\n",
        "            if t == 'n':\n",
        "                pos += v\n",
        "                if pos > n:\n",
        "                    return False\n",
        "            else:\n",
        "                if pos >= n or word[pos] != v:\n",
        "                    return False\n",
        "                pos += 1\n",
        "        return pos == n\n"
      ],
      "metadata": {
        "id": "2-e9pXpKZyKs"
      },
      "execution_count": null,
      "outputs": []
    },
    {
      "cell_type": "markdown",
      "source": [
        "## 09/11/2025\n",
        "543. Diameter of Binary Tree https://leetcode.com/problems/diameter-of-binary-tree/description/"
      ],
      "metadata": {
        "id": "9y5blKj9ROf3"
      }
    },
    {
      "cell_type": "code",
      "source": [
        "# ys\n",
        "class Solution:\n",
        "    def diameterOfBinaryTree(self, root: Optional[TreeNode]) -> int:\n",
        "        def help(node) -> (int, int):\n",
        "            if not node:\n",
        "                return 0, 0\n",
        "\n",
        "            left_dep, left_ans = help(node.left)\n",
        "            right_dep, right_ans = help(node.right)\n",
        "\n",
        "            dep = max(left_dep, right_dep) + 1\n",
        "            ans = left_dep + right_dep\n",
        "\n",
        "            return dep, max(ans, left_ans, right_ans)\n",
        "\n",
        "        return help(root)[1]"
      ],
      "metadata": {
        "id": "9edar5TjPEpW"
      },
      "execution_count": null,
      "outputs": []
    },
    {
      "cell_type": "code",
      "source": [
        "# Stella\n",
        "class Solution:\n",
        "    def diameterOfBinaryTree(self, root: Optional[TreeNode]) -> int:\n",
        "        diameter = 0\n",
        "        def find_longest(node): # return longest diameter\n",
        "            if not node:\n",
        "                return -1\n",
        "            nonlocal diameter\n",
        "            left = find_longest(node.left)\n",
        "            right = find_longest(node.right)\n",
        "            diameter = max(diameter, left + right + 2)\n",
        "            return max(left, right) + 1\n",
        "\n",
        "        find_longest(root)\n",
        "        return diameter\n"
      ],
      "metadata": {
        "id": "LqjNAKd0ipd6"
      },
      "execution_count": null,
      "outputs": []
    },
    {
      "cell_type": "code",
      "source": [
        "#Minsu\n",
        "\n",
        "class Solution:\n",
        "    def diameterOfBinaryTree(self, root: Optional[TreeNode]) -> int:\n",
        "\n",
        "        def helper(node):\n",
        "            if node == None:\n",
        "                return 0, 0\n",
        "\n",
        "            l1, l2 = helper(node.left)\n",
        "            r1, r2 = helper(node.right)\n",
        "\n",
        "            return max(l1, r1) + 1, max(l2, r2, l1 + r1)\n",
        "\n",
        "        return helper(root)[1]"
      ],
      "metadata": {
        "id": "iv7fo1r5ko1f"
      },
      "execution_count": null,
      "outputs": []
    },
    {
      "cell_type": "markdown",
      "source": [
        "## 09/12/2025\n",
        "215. Kth Largest Element in an Array https://leetcode.com/problems/kth-largest-element-in-an-array/description/"
      ],
      "metadata": {
        "id": "rvEYKo2pRSg9"
      }
    },
    {
      "cell_type": "code",
      "source": [
        "# Stella\n",
        "import heapq as hp\n",
        "class Solution:\n",
        "    def findKthLargest(self, nums: List[int], k: int) -> int:\n",
        "        list = []\n",
        "        for n in nums:\n",
        "            if len(list) < k :\n",
        "                hp.heappush(list, n)\n",
        "            else :\n",
        "                hp.heappushpop(list, n)\n",
        "        return list[0]"
      ],
      "metadata": {
        "id": "sJvfwlpYbzKB"
      },
      "execution_count": null,
      "outputs": []
    },
    {
      "cell_type": "code",
      "source": [
        "#Donggun\n",
        "class Solution:\n",
        "    def findKthLargest(self, nums: List[int], k: int) -> int:\n",
        "        heap = []\n",
        "        for num in nums:\n",
        "            heapq.heappush(heap, num)\n",
        "            if len(heap) > k:\n",
        "                heapq.heappop(heap)\n",
        "\n",
        "        return heap[0]"
      ],
      "metadata": {
        "id": "sPhmQXZYrFJA"
      },
      "execution_count": null,
      "outputs": []
    },
    {
      "cell_type": "code",
      "source": [
        "# ys\n",
        "class Solution:\n",
        "    def findKthLargest(self, nums: List[int], k: int) -> int:\n",
        "        heap = []\n",
        "\n",
        "        for n in nums:\n",
        "            heapq.heappush(heap, n)\n",
        "            if len(heap) > k:\n",
        "                heapq.heappop(heap)\n",
        "\n",
        "        return heap[0]"
      ],
      "metadata": {
        "id": "CPueM611sXC8"
      },
      "execution_count": null,
      "outputs": []
    },
    {
      "cell_type": "code",
      "source": [
        "#Minsu\n",
        "\n",
        "import heapq\n",
        "class Solution:\n",
        "    def findKthLargest(self, nums: List[int], k: int) -> int:\n",
        "        hq = []\n",
        "        for n in nums:\n",
        "            heapq.heappush(hq, n)\n",
        "            if len(hq) > k:\n",
        "                heapq.heappop(hq)\n",
        "        return hq[0]"
      ],
      "metadata": {
        "id": "dPSpGeXftE6n"
      },
      "execution_count": null,
      "outputs": []
    },
    {
      "cell_type": "markdown",
      "source": [
        "# Week 2"
      ],
      "metadata": {
        "id": "fL_NPalDQ2CF"
      }
    },
    {
      "cell_type": "markdown",
      "source": [
        "## 09/15/2025\n",
        "680. Valid Palindrome II https://leetcode.com/problems/valid-palindrome-ii"
      ],
      "metadata": {
        "id": "cCJq7vSMRVEs"
      }
    },
    {
      "cell_type": "code",
      "source": [
        "# Stella\n",
        "class Solution:\n",
        "    def validPalindrome(self, s: str) -> bool:\n",
        "        i = 0\n",
        "        j = len(s)-1\n",
        "        count = 0\n",
        "        temp = None\n",
        "        while i < len(s)/2 :\n",
        "            if s[i] == s[j]:\n",
        "                i += 1\n",
        "                j -= 1\n",
        "            elif count == 0:\n",
        "                if s[i+1] == s[j]:\n",
        "                    temp = (i, j-1)\n",
        "                    i += 2\n",
        "                    j -= 1\n",
        "                    count += 1\n",
        "                elif s[i] == s[j-1]:\n",
        "                    i += 1\n",
        "                    j -= 2\n",
        "                    count += 1\n",
        "                else:\n",
        "                    return False\n",
        "            elif temp:\n",
        "                i = temp[0]\n",
        "                j = temp[1]\n",
        "                temp = None\n",
        "            else:\n",
        "                return False\n",
        "        return True"
      ],
      "metadata": {
        "id": "lS1Ged7QDqQZ"
      },
      "execution_count": null,
      "outputs": []
    },
    {
      "cell_type": "code",
      "source": [
        "# ys\n",
        "class Solution:\n",
        "    def validPalindrome(self, s: str) -> bool:\n",
        "        i = 0\n",
        "        j = len(s) - 1\n",
        "        delete = False\n",
        "\n",
        "        while i < j:\n",
        "            if s[i] != s[j]:\n",
        "                delete = True\n",
        "                break\n",
        "            i += 1\n",
        "            j -= 1\n",
        "        if not delete:\n",
        "            return True\n",
        "\n",
        "        temp_i = i\n",
        "        temp_j = j\n",
        "        i += 1\n",
        "        wrong = False\n",
        "        while i < j:\n",
        "            if s[i] != s[j]:\n",
        "                wrong = True\n",
        "                break\n",
        "            i += 1\n",
        "            j -= 1\n",
        "        #print(1, wrong)\n",
        "        if not wrong:\n",
        "            return True\n",
        "\n",
        "        i = temp_i\n",
        "        j = temp_j - 1\n",
        "\n",
        "        while i < j:\n",
        "            if s[i] != s[j]:\n",
        "                return False\n",
        "            i += 1\n",
        "            j -= 1\n",
        "        return True\n",
        "\n",
        "\n",
        "class Solution:\n",
        "    def compare(self, s, i, j) -> (bool, int, int):\n",
        "        while i < j:\n",
        "            if s[i] != s[j]:\n",
        "                return False, i, j\n",
        "            i += 1\n",
        "            j -= 1\n",
        "        return True, i, j\n",
        "\n",
        "    def validPalindrome(self, s: str) -> bool:\n",
        "        i = 0\n",
        "        j = len(s) - 1\n",
        "\n",
        "        r, i, j = self.compare(s,i,j)\n",
        "        if r:\n",
        "            return True\n",
        "\n",
        "        return self.compare(s, i, j-1)[0] or self.compare(s, i+1, j)[0]\n",
        "\n"
      ],
      "metadata": {
        "id": "-DPj_avkIkr_"
      },
      "execution_count": null,
      "outputs": []
    },
    {
      "cell_type": "code",
      "source": [
        "#Minsu\n",
        "\n",
        "class Solution:\n",
        "    def validPalindrome(self, s: str) -> bool:\n",
        "        def check(l, r):\n",
        "            while l < r:\n",
        "                if s[l] != s[r]:\n",
        "                    return False\n",
        "                l += 1\n",
        "                r -= 1\n",
        "            return True\n",
        "\n",
        "        l, r = 0, len(s) - 1\n",
        "        while l < r:\n",
        "            if s[l] != s[r]:\n",
        "                return check(l+1,r) or check(l, r-1)\n",
        "            l +=1\n",
        "            r -= 1\n",
        "        return True"
      ],
      "metadata": {
        "id": "VaZqUx0uPTpl"
      },
      "execution_count": null,
      "outputs": []
    },
    {
      "cell_type": "markdown",
      "source": [
        "## 09/16/2025\n",
        "236. Lowest Common Ancestor of a Binary Tree https://leetcode.com/problems/lowest-common-ancestor-of-a-binary-tree"
      ],
      "metadata": {
        "id": "9IP9Bsm5RWyJ"
      }
    },
    {
      "cell_type": "code",
      "source": [
        "#Minsu\n",
        "\n",
        "# Definition for a binary tree node.\n",
        "# class TreeNode:\n",
        "#     def __init__(self, x):\n",
        "#         self.val = x\n",
        "#         self.left = None\n",
        "#         self.right = None\n",
        "\n",
        "class Solution:\n",
        "    def lowestCommonAncestor(self, root: 'TreeNode', p: 'TreeNode', q: 'TreeNode') -> 'TreeNode':\n",
        "        def helper(node):\n",
        "            if node == None:\n",
        "                return None\n",
        "            if node == p or node == q:\n",
        "                return node\n",
        "            left = helper(node.left)\n",
        "            right = helper(node.right)\n",
        "\n",
        "            if left and right:\n",
        "                return node\n",
        "            elif left:\n",
        "                return left\n",
        "            elif right:\n",
        "                return right\n",
        "        return helper(root)"
      ],
      "metadata": {
        "id": "5T5y5-S548zP"
      },
      "execution_count": null,
      "outputs": []
    },
    {
      "cell_type": "code",
      "source": [
        "# ys\n",
        "class Solution:\n",
        "    def lowestCommonAncestor(self, root: 'TreeNode', p: 'TreeNode', q: 'TreeNode') -> 'TreeNode':\n",
        "        self.first = []\n",
        "\n",
        "        def help(node, arr):\n",
        "            arr.append(node)\n",
        "            if not node:\n",
        "                return None\n",
        "\n",
        "            if node == p or node == q:\n",
        "                if self.first:\n",
        "                    i = 0\n",
        "                    while i < min(len(self.first), len(arr)) and self.first[i] == arr[i]:\n",
        "                        i += 1\n",
        "                    return arr[i-1]\n",
        "                self.first = list(arr)\n",
        "\n",
        "            for n in [node.left, node.right]:\n",
        "                ans = help(n, arr)\n",
        "                if ans:\n",
        "                    return ans\n",
        "                arr.pop()\n",
        "\n",
        "        return help(root, [])\n"
      ],
      "metadata": {
        "id": "o5EJBwI3Yz0s"
      },
      "execution_count": null,
      "outputs": []
    },
    {
      "cell_type": "code",
      "source": [
        "# Stella\n",
        "\n",
        "import math\n",
        "\n",
        "class Solution:\n",
        "    def lowestCommonAncestor(self, root: 'TreeNode', p: 'TreeNode', q: 'TreeNode') -> 'TreeNode':\n",
        "        que = []\n",
        "        ans = (root, math.inf)\n",
        "        found = False\n",
        "        def find_node(node, t1, t2, lv):\n",
        "            nonlocal ans\n",
        "            nonlocal found\n",
        "            if node == t1 or node == t2:\n",
        "                if not found:\n",
        "                    if node == t1:\n",
        "                        t1 = t2\n",
        "                    else:\n",
        "                        t2 = t1\n",
        "                    if ans[1] > lv :\n",
        "                        ans = (node, lv)\n",
        "                    found = True\n",
        "                else:\n",
        "                    return ans[0]\n",
        "            elif node.left:\n",
        "                if node.right:\n",
        "                    que.append((node, lv))\n",
        "                node = node.left\n",
        "                lv += 1\n",
        "            elif node.right:\n",
        "                node = node.right\n",
        "                lv += 1\n",
        "            else:\n",
        "                temp = que.pop()\n",
        "                if ans[1] > temp[1] and found:\n",
        "                    ans = temp\n",
        "                node = temp[0].right\n",
        "                lv = temp[1]\n",
        "            return find_node(node, t1, t2, lv)\n",
        "\n",
        "        return find_node(root, p, q, 0)"
      ],
      "metadata": {
        "id": "Z3KWnWmEra1M"
      },
      "execution_count": null,
      "outputs": []
    },
    {
      "cell_type": "markdown",
      "source": [
        "## 09/17/2025\n",
        "\n",
        "314. Binary Tree Vertical Order Traversal https://leetcode.com/problems/binary-tree-vertical-order-traversal"
      ],
      "metadata": {
        "id": "26-Hw8a7RX9v"
      }
    },
    {
      "cell_type": "code",
      "source": [
        "# ys\n",
        "class Solution:\n",
        "    def verticalOrder(self, root: Optional[TreeNode]) -> List[List[int]]:\n",
        "        if not root:\n",
        "            return []\n",
        "        mn = 0\n",
        "        deq = deque([(root,0)])\n",
        "        dic = defaultdict(list)\n",
        "\n",
        "        while deq:\n",
        "            node, lv = deq.popleft()\n",
        "            dic[lv].append(node.val)\n",
        "\n",
        "            if node.left:\n",
        "                deq.append((node.left, lv-1))\n",
        "                mn = min(mn, lv-1)\n",
        "            if node.right:\n",
        "                deq.append((node.right, lv+1))\n",
        "\n",
        "        ans = []\n",
        "        while mn in dic:\n",
        "            ans.append(dic[mn])\n",
        "            mn += 1\n",
        "        return ans"
      ],
      "metadata": {
        "id": "jEcG1AZUQ4yk"
      },
      "execution_count": null,
      "outputs": []
    },
    {
      "cell_type": "code",
      "source": [
        "#Minsu\n",
        "\n",
        "# Definition for a binary tree node.\n",
        "# class TreeNode:\n",
        "#     def __init__(self, val=0, left=None, right=None):\n",
        "#         self.val = val\n",
        "#         self.left = left\n",
        "#         self.right = right\n",
        "from collections import defaultdict, deque\n",
        "class Solution:\n",
        "    def verticalOrder(self, root: Optional[TreeNode]) -> List[List[int]]:\n",
        "        if root == None:\n",
        "            return []\n",
        "        res = []\n",
        "        que = deque([(0,root)])\n",
        "        map_ = defaultdict(list)\n",
        "        min_, max_ = float('inf'),float('-inf')\n",
        "        while que:\n",
        "            ver, node = que.popleft()\n",
        "            map_[ver].append(node.val)\n",
        "            min_ = min(min_, ver)\n",
        "            max_ = max(max_, ver)\n",
        "            if node.left:\n",
        "                que.append((ver-1,node.left))\n",
        "            if node.right:\n",
        "                que.append((ver+1,node.right))\n",
        "\n",
        "        for i in range((max_ - min_)+1):\n",
        "            res.append(map_[min_+i])\n",
        "        return res\n",
        "\n"
      ],
      "metadata": {
        "id": "IyDWqOIJR43H"
      },
      "execution_count": null,
      "outputs": []
    },
    {
      "cell_type": "code",
      "source": [
        "# Stella\n",
        "\n",
        "from collections import deque\n",
        "class Solution:\n",
        "    def verticalOrder(self, root: Optional[TreeNode]) -> List[List[int]]:\n",
        "        ans = [[]]\n",
        "        q = deque([(root, 0)])\n",
        "        min_order = 0\n",
        "        max_order = 0\n",
        "\n",
        "        if not root:\n",
        "            return []\n",
        "\n",
        "        while q:\n",
        "            node, order = q.popleft()\n",
        "            if order < min_order:\n",
        "                min_order = order\n",
        "                ans = [[node.val]] + ans\n",
        "            elif order > max_order:\n",
        "                max_order = order\n",
        "                ans = ans + [[node.val]]\n",
        "            else:\n",
        "                ans[order-min_order].append(node.val)\n",
        "            if node.left:\n",
        "                q.append((node.left, order-1))\n",
        "            if node.right:\n",
        "                q.append((node.right, order+1))\n",
        "        return ans"
      ],
      "metadata": {
        "id": "9IAg-zZBTx3-"
      },
      "execution_count": null,
      "outputs": []
    },
    {
      "cell_type": "markdown",
      "source": [
        "## 09/18/2025\n",
        "\n",
        "528. Random Pick with Weight https://leetcode.com/problems/random-pick-with-weight"
      ],
      "metadata": {
        "id": "U79DSjrkRZF8"
      }
    },
    {
      "cell_type": "code",
      "source": [
        "# Stella\n",
        "\n",
        "import random\n",
        "import bisect\n",
        "\n",
        "class Solution:\n",
        "\n",
        "    def __init__(self, w: List[int]):\n",
        "        self.w = w\n",
        "        self.tot_sum = 0\n",
        "        self.pre_sum = []\n",
        "        for num in self.w:\n",
        "            self.tot_sum += num\n",
        "            self.pre_sum.append(self.tot_sum)\n",
        "\n",
        "    def pickIndex(self) -> int:\n",
        "        k = random.randrange(1, self.tot_sum+1)\n",
        "        idx = bisect.bisect_left(self.pre_sum, k)\n",
        "        return idx"
      ],
      "metadata": {
        "id": "fpTpoKXDcQtL"
      },
      "execution_count": null,
      "outputs": []
    },
    {
      "cell_type": "code",
      "source": [
        "# ys\n",
        "class Solution:\n",
        "\n",
        "    def __init__(self, w: List[int]):\n",
        "        self.w = []\n",
        "        prev = 0\n",
        "        for wei in w:\n",
        "            self.w.append(prev+wei)\n",
        "            prev = self.w[-1]\n",
        "\n",
        "    def pickIndex(self) -> int:\n",
        "        n = random.randint(1, self.w[-1])\n",
        "        i = bisect.bisect_left(self.w, n)\n",
        "        return i"
      ],
      "metadata": {
        "id": "ic1UYfhvmSwh"
      },
      "execution_count": null,
      "outputs": []
    },
    {
      "cell_type": "code",
      "source": [
        "#Donggun\n",
        "\n",
        "#비효율\n",
        "class Solution:\n",
        "\n",
        "    def __init__(self, w: List[int]):\n",
        "        self.prefix = []\n",
        "        total = 0\n",
        "        for i in w:\n",
        "            total += i\n",
        "            self.prefix.append(total)\n",
        "        self.total = total\n",
        "\n",
        "    def pickIndex(self) -> int:\n",
        "        ran = random.randint(1, self.total)\n",
        "        for i in range(len(self.prefix)):\n",
        "            if ran <= self.prefix[i]:\n",
        "                return i\n",
        "\n",
        "  #효율\n",
        "  class Solution:\n",
        "\n",
        "    def __init__(self, w: List[int]):\n",
        "        self.prefix = []\n",
        "        total = 0\n",
        "        for i in w:\n",
        "            total += i\n",
        "            self.prefix.append(total)\n",
        "        self.total = total\n",
        "\n",
        "    def pickIndex(self) -> int:\n",
        "        ran = random.randint(1, self.total)\n",
        "        idx = bisect.bisect_left(self.prefix, ran)\n",
        "        return idx"
      ],
      "metadata": {
        "id": "QPqFMLR9OLQs"
      },
      "execution_count": null,
      "outputs": []
    },
    {
      "cell_type": "markdown",
      "source": [
        "## 09/19/2025\n",
        "\n",
        "339. Nested List Weight Sum https://leetcode.com/problems/nested-list-weight-sum"
      ],
      "metadata": {
        "id": "aoK47pTBRacD"
      }
    },
    {
      "cell_type": "code",
      "source": [
        "# Stella\n",
        "class Solution:\n",
        "    def depthSum(self, nestedList: List[NestedInteger]) -> int:\n",
        "        ans = 0\n",
        "        depth = 0\n",
        "        def helper(list):\n",
        "            nonlocal ans\n",
        "            nonlocal depth\n",
        "            depth += 1\n",
        "            for k in list:\n",
        "                if k.isInteger():\n",
        "                    ans += depth * k.getInteger()\n",
        "                else:\n",
        "                    helper(k.getList())\n",
        "            depth -= 1\n",
        "        helper(nestedList)\n",
        "        return ans"
      ],
      "metadata": {
        "id": "3bR4b1CcB-Aa"
      },
      "execution_count": null,
      "outputs": []
    },
    {
      "cell_type": "code",
      "source": [
        "# ys\n",
        "class Solution:\n",
        "    def depthSum(self, nestedList: List[NestedInteger]) -> int:\n",
        "        def help(nestList, depth):\n",
        "            s = 0\n",
        "            for item in nestList:\n",
        "                if item.isInteger():\n",
        "                    s += item.getInteger() * depth\n",
        "                else:\n",
        "                    s += help(item.getList(), depth+1)\n",
        "            return s\n",
        "\n",
        "        return help(nestedList,1)\n"
      ],
      "metadata": {
        "id": "5IOtJ97XI1KG"
      },
      "execution_count": null,
      "outputs": []
    },
    {
      "cell_type": "markdown",
      "source": [
        "# Week 3"
      ],
      "metadata": {
        "id": "rDwPsy0YRIwt"
      }
    },
    {
      "cell_type": "markdown",
      "source": [
        "## 09/22/2025\n",
        "\n",
        "1. Two Sum https://leetcode.com/problems/two-sum/"
      ],
      "metadata": {
        "id": "3IArwP057jGk"
      }
    },
    {
      "cell_type": "code",
      "source": [
        "# Stella\n",
        "class Solution:\n",
        "    def twoSum(self, nums: List[int], target: int) -> List[int]:\n",
        "        dic = {}\n",
        "        for i in range(len(nums)):\n",
        "            comp = target-nums[i]\n",
        "            if comp in dic:\n",
        "                return [dic[comp], i]\n",
        "            else:\n",
        "                dic[nums[i]] = i"
      ],
      "metadata": {
        "id": "GGZJW_Xx8tHm"
      },
      "execution_count": null,
      "outputs": []
    },
    {
      "cell_type": "code",
      "source": [
        "# ys\n",
        "class Solution:\n",
        "    def twoSum(self, nums: List[int], target: int) -> List[int]:\n",
        "        dic = {}\n",
        "        for i,n in enumerate(nums):\n",
        "            if target - n in dic:\n",
        "                return [dic[target-n],i]\n",
        "            dic[n] = i"
      ],
      "metadata": {
        "id": "rqMGQRLMBvyp"
      },
      "execution_count": null,
      "outputs": []
    },
    {
      "cell_type": "code",
      "source": [
        "#Minsu\n",
        "\n",
        "class Solution:\n",
        "    def twoSum(self, nums: List[int], target: int) -> List[int]:\n",
        "        maps_ = dict()\n",
        "        for i, v in enumerate(nums):\n",
        "            if target-v in maps_:\n",
        "                return [maps_[target-v],i]\n",
        "            else:\n",
        "                maps_[v] = i"
      ],
      "metadata": {
        "id": "IqBAuVLePEhP"
      },
      "execution_count": null,
      "outputs": []
    },
    {
      "cell_type": "markdown",
      "source": [
        "##09/23/2025\n",
        "\n",
        "227. Basic Calculator II https://leetcode.com/problems/basic-calculator-ii/\n"
      ],
      "metadata": {
        "id": "JA7sw81T7tlJ"
      }
    },
    {
      "cell_type": "code",
      "source": [
        "#Minsu\n",
        "\n",
        "class Solution:\n",
        "    def calculate(self, s: str) -> int:\n",
        "        s = s.replace(' ','')\n",
        "        stack = []\n",
        "        priority ={ '*':3\n",
        "                   ,'/':3\n",
        "                   ,'+':2\n",
        "                   ,'-':2\n",
        "                   ,'(':1\n",
        "                   }\n",
        "        postfix = []\n",
        "        temp = \"\"\n",
        "        for c in s:\n",
        "            if c.isnumeric():\n",
        "                temp += c\n",
        "            else:\n",
        "                postfix.append(temp)\n",
        "                temp = \"\"\n",
        "                if c == \"(\":\n",
        "                    stack.append(c)\n",
        "                elif c == \")\":\n",
        "                    while stack[-1] != \"(\":\n",
        "                        op = stack.pop()\n",
        "                        postfix.append(op)\n",
        "                    stack.pop()\n",
        "                else:\n",
        "                    while stack and priority[c] <= priority[stack[-1]]:\n",
        "                        op = stack.pop()\n",
        "                        postfix.append(op)\n",
        "                    stack.append(c)\n",
        "        if temp != \"\":\n",
        "            postfix.append(temp)\n",
        "        while stack:\n",
        "            postfix.append(stack.pop())\n",
        "\n",
        "        numStack = []\n",
        "        for c in postfix:\n",
        "            if c.isnumeric():\n",
        "                numStack.append(int(c))\n",
        "            else:\n",
        "                n2 = numStack.pop()\n",
        "                n1 = numStack.pop()\n",
        "                if c == \"+\":\n",
        "                    numStack.append(n1 + n2)\n",
        "                elif c == \"-\":\n",
        "                    numStack.append(n1 - n2)\n",
        "                elif c == \"*\":\n",
        "                    numStack.append(n1 * n2)\n",
        "                elif c == \"/\":\n",
        "                    numStack.append(n1 // n2)\n",
        "        return numStack[-1]\n",
        "\n"
      ],
      "metadata": {
        "id": "XqAcF2xQVJSf"
      },
      "execution_count": null,
      "outputs": []
    },
    {
      "cell_type": "code",
      "source": [
        "# ys\n",
        "class Solution:\n",
        "    def calculate(self, s: str) -> int:\n",
        "        s += ' '\n",
        "        stack = []\n",
        "        priority = set(['*','/'])\n",
        "        oper = set(['+','-','*','/'])\n",
        "\n",
        "        for c in s:\n",
        "            if c.isdigit():\n",
        "                if stack and stack[-1] not in oper: # make int\n",
        "                    stack[-1] = stack[-1] * 10 + int(c)\n",
        "                else:\n",
        "                    stack.append(int(c))\n",
        "            else:\n",
        "                #print(stack)\n",
        "                if len(stack) >=2 and stack[-2] in priority:\n",
        "                    n1 = stack.pop()\n",
        "                    o = stack.pop()\n",
        "                    if o == '*':\n",
        "                        stack[-1] *= n1\n",
        "                    elif o == '/':\n",
        "                        stack[-1] //= n1\n",
        "                if c != ' ':\n",
        "                    stack.append(c)\n",
        "\n",
        "        #print(stack)\n",
        "        n1 = stack[0]\n",
        "        for i in range(1, len(stack)-1):\n",
        "            o = stack[i]\n",
        "            n2 = stack[i+1]\n",
        "            if o == '+':\n",
        "                n1 = n1+n2\n",
        "            elif o == '-':\n",
        "                n1 = n1-n2\n",
        "        return n1\n"
      ],
      "metadata": {
        "id": "4JmYNTTzZygs"
      },
      "execution_count": null,
      "outputs": []
    },
    {
      "cell_type": "code",
      "source": [
        "# Stella\n",
        "class Solution:\n",
        "    def calculate(self, s: str) -> int:\n",
        "\n",
        "        s += '%'\n",
        "        temp = 0\n",
        "        cal = ''\n",
        "        li = ['+']\n",
        "        ans = 0\n",
        "\n",
        "        for i in s:\n",
        "            if i.isdigit():\n",
        "                temp = temp*10 + int(i)\n",
        "            elif i == ' ':\n",
        "                continue\n",
        "            else:\n",
        "                cal = li.pop()\n",
        "                if cal == '-':\n",
        "                    temp = -temp\n",
        "                elif cal == '*':\n",
        "                    temp = temp*li.pop()\n",
        "                elif cal == '/':\n",
        "                    temp = int(li.pop()/temp)\n",
        "                li.append(temp)\n",
        "                li.append(i)\n",
        "                temp = 0\n",
        "\n",
        "        li.pop()\n",
        "\n",
        "        for j in li:\n",
        "            ans += j\n",
        "\n",
        "        return ans"
      ],
      "metadata": {
        "id": "Ml_lOo740K6f"
      },
      "execution_count": null,
      "outputs": []
    },
    {
      "cell_type": "markdown",
      "source": [
        "##09/24/2025\n",
        "\n",
        "1650. Lowest Common Ancestor of a Binary Tree III https://leetcode.com/problems/lowest-common-ancestor-of-a-binary-tree-iii/"
      ],
      "metadata": {
        "id": "vG7L7dVH7yk5"
      }
    },
    {
      "cell_type": "code",
      "source": [
        "# Stella\n",
        "class Solution:\n",
        "    def lowestCommonAncestor(self, p: 'Node', q: 'Node') -> 'Node':\n",
        "        anc = {}\n",
        "        while p:\n",
        "            anc[p] = 0\n",
        "            p = p.parent\n",
        "        while q:\n",
        "            if q in anc:\n",
        "                return q\n",
        "            q = q.parent"
      ],
      "metadata": {
        "id": "uCi1mGSRMLcZ"
      },
      "execution_count": null,
      "outputs": []
    },
    {
      "cell_type": "code",
      "source": [
        "# ys\n",
        "class Solution:\n",
        "    def lowestCommonAncestor(self, p: 'Node', q: 'Node') -> 'Node':\n",
        "        i = p\n",
        "        j = q\n",
        "\n",
        "        while i != j:\n",
        "            #print(i.val, j.val)\n",
        "            i = i.parent if i.parent else p\n",
        "            j = j.parent if j.parent else q\n",
        "\n",
        "        return i"
      ],
      "metadata": {
        "id": "8vgdwdRLMRLm"
      },
      "execution_count": null,
      "outputs": []
    },
    {
      "cell_type": "code",
      "source": [
        "#Minsu\n",
        "\n",
        "\n",
        "from collections import deque\n",
        "class Solution:\n",
        "    def lowestCommonAncestor(self, p: 'Node', q: 'Node') -> 'Node':\n",
        "        def helper(node):\n",
        "            if node:\n",
        "                if node in set_:\n",
        "                    return  node\n",
        "                set_.add(node)\n",
        "                res = helper(node.parent)\n",
        "                return res\n",
        "        set_ = set()\n",
        "        helper(p)\n",
        "        res = helper(q)\n",
        "        return res"
      ],
      "metadata": {
        "id": "ywqWJbQzmUqv"
      },
      "execution_count": null,
      "outputs": []
    },
    {
      "cell_type": "markdown",
      "source": [
        "##09/25/2025\n",
        "\n",
        "50. Pow(x, n) https://leetcode.com/problems/powx-n/"
      ],
      "metadata": {
        "id": "pHAox3ob73ik"
      }
    },
    {
      "cell_type": "code",
      "source": [
        "# Stella\n",
        "class Solution:\n",
        "    def myPow(self, x: float, n: int) -> float:\n",
        "        if n == 0:\n",
        "            return 1\n",
        "\n",
        "        m = abs(n)\n",
        "        remains = []\n",
        "        i = 0\n",
        "        while m > 0:\n",
        "            if m % 2 == 1:\n",
        "                remains.append(i)\n",
        "            m = m // 2\n",
        "            i += 1\n",
        "\n",
        "        j = 0\n",
        "        temp = x\n",
        "        divisor = []\n",
        "        while j <= remains[-1]:\n",
        "            if j in remains:\n",
        "                divisor.append(temp)\n",
        "            temp *= temp\n",
        "            j += 1\n",
        "            print(divisor)\n",
        "\n",
        "        ans = 1\n",
        "        for d in divisor:\n",
        "            ans *= d\n",
        "\n",
        "        return ans if n > 0 else 1/ans"
      ],
      "metadata": {
        "id": "At4yX6evWhmC"
      },
      "execution_count": null,
      "outputs": []
    },
    {
      "cell_type": "code",
      "source": [
        "#Minsu\n",
        "\n",
        "class Solution:\n",
        "    def myPow(self, x: float, n: int) -> float:\n",
        "        if n < 0:\n",
        "            x = 1 / x\n",
        "            n = -n\n",
        "        res = 1\n",
        "        while n:\n",
        "            if n % 2:\n",
        "                res *= x\n",
        "            x *= x\n",
        "            n //= 2\n",
        "        return res"
      ],
      "metadata": {
        "id": "Tv6qU-_0me3M"
      },
      "execution_count": null,
      "outputs": []
    },
    {
      "cell_type": "code",
      "source": [
        "# ys\n",
        "class Solution:\n",
        "    def myPow(self, x: float, n: int) -> float:\n",
        "        def help(x, n):\n",
        "            if x == 0:\n",
        "                return 0\n",
        "            if n == 0:\n",
        "                return 1\n",
        "\n",
        "            ans = help(x, n // 2)\n",
        "            ans = ans * ans\n",
        "\n",
        "            if n % 2:\n",
        "                ans *= x\n",
        "            return ans\n",
        "\n",
        "        ans = help(x, abs(n))\n",
        "        return ans if n > 0 else 1/ans"
      ],
      "metadata": {
        "id": "4o12m5hToKnN"
      },
      "execution_count": null,
      "outputs": []
    },
    {
      "cell_type": "markdown",
      "source": [
        "##09/26/2025\n",
        "\n",
        "71. Simplify Path https://leetcode.com/problems/simplify-path/"
      ],
      "metadata": {
        "id": "GG48-VRj780B"
      }
    },
    {
      "cell_type": "code",
      "source": [
        "#Minsu\n",
        "\n",
        "class Solution:\n",
        "    def simplifyPath(self, path: str) -> str:\n",
        "        temp = path.split(\"/\")\n",
        "        p = []\n",
        "\n",
        "        for t in temp:\n",
        "            if t == \"..\":\n",
        "                if p:\n",
        "                    p.pop()\n",
        "            elif t and t != \".\":\n",
        "                p.append(t)\n",
        "\n",
        "        return \"/\" + \"/\".join(p)\n"
      ],
      "metadata": {
        "id": "XRo7jQzJwn6l"
      },
      "execution_count": null,
      "outputs": []
    },
    {
      "cell_type": "code",
      "source": [
        "#Donggun\n",
        "\n",
        "class Solution:\n",
        "    def simplifyPath(self, path: str) -> str:\n",
        "        path_list = path.split(\"/\")\n",
        "        result_list = []\n",
        "        for i in path_list:\n",
        "            if(i == '..'):\n",
        "                if(result_list):\n",
        "                    result_list.pop()\n",
        "                continue\n",
        "            if(i and i != '.'):\n",
        "                result_list.append(i)\n",
        "        return '/'+'/'.join(result_list)"
      ],
      "metadata": {
        "id": "Yk874met1Z_i"
      },
      "execution_count": null,
      "outputs": []
    },
    {
      "cell_type": "code",
      "source": [
        "# Stella\n",
        "\n",
        "class Solution:\n",
        "    def simplifyPath(self, path: str) -> str:\n",
        "        path += \"/\"\n",
        "        stc = []\n",
        "        temp = \"\"\n",
        "        for s in path:\n",
        "            if s == \"/\":\n",
        "                if temp == \".\":\n",
        "                    temp = \"\"\n",
        "                elif temp == \"..\":\n",
        "                    if len(stc) != 0:\n",
        "                        stc.pop()\n",
        "                else:\n",
        "                    if len(temp) != 0:\n",
        "                        stc.append(temp)\n",
        "                temp = \"\"\n",
        "            else:\n",
        "                temp += s\n",
        "\n",
        "        return \"/\" +  \"/\".join(stc)"
      ],
      "metadata": {
        "id": "mU7Js7YBPVdr"
      },
      "execution_count": null,
      "outputs": []
    },
    {
      "cell_type": "markdown",
      "source": [
        "# Week 4"
      ],
      "metadata": {
        "id": "0CMGDPcVRJl6"
      }
    },
    {
      "cell_type": "markdown",
      "source": [
        "## 09/29/2025\n",
        "\n",
        "199. Binary Tree Right Side View https://leetcode.com/problems/binary-tree-right-side-view/"
      ],
      "metadata": {
        "id": "5NX_DKWfdOWK"
      }
    },
    {
      "cell_type": "code",
      "source": [
        "#Minsu\n",
        "\n",
        "from collections import deque\n",
        "class Solution:\n",
        "    def rightSideView(self, root: Optional[TreeNode]) -> List[int]:\n",
        "        if root == None:\n",
        "            return []\n",
        "        que = deque([(root, 0)])\n",
        "        res = []\n",
        "        while que:\n",
        "            node, level = que.popleft()\n",
        "            if len(res) == level:\n",
        "                res.append(0)\n",
        "            res[level] = node.val\n",
        "            if node.left:\n",
        "                que.append((node.left,level+1))\n",
        "            if node.right:\n",
        "                que.append((node.right,level+1))\n",
        "        return res\n"
      ],
      "metadata": {
        "id": "yQ9UEh7yB1cn"
      },
      "execution_count": null,
      "outputs": []
    },
    {
      "cell_type": "code",
      "source": [
        "# Stella\n",
        "\n",
        "class Solution:\n",
        "    def rightSideView(self, root: Optional[TreeNode]) -> List[int]:\n",
        "        if not root:\n",
        "            return []\n",
        "        q = []\n",
        "        ans = []\n",
        "        def find_right(node, lv, max_lv):\n",
        "            if lv > max_lv:\n",
        "                max_lv = lv\n",
        "                ans.append(node.val)\n",
        "            if node.right:\n",
        "                lv += 1\n",
        "                if node.left:\n",
        "                    q.append((node.left, lv))\n",
        "                node = node.right\n",
        "            elif node.left:\n",
        "                lv += 1\n",
        "                node = node.left\n",
        "            else:\n",
        "                if not q:\n",
        "                    return\n",
        "                node, lv = q.pop()\n",
        "            find_right(node, lv, max_lv)\n",
        "\n",
        "        find_right(root, 0, -1)\n",
        "        return ans"
      ],
      "metadata": {
        "id": "SEj3WE15I-R8"
      },
      "execution_count": null,
      "outputs": []
    },
    {
      "cell_type": "code",
      "source": [
        "#Donggun\n",
        "class Solution:\n",
        "    def rightSideView(self, root: Optional[TreeNode]) -> List[int]:\n",
        "        ans = []\n",
        "        def search(node, l):\n",
        "            if not node:\n",
        "                return\n",
        "            if l == len(ans):\n",
        "                ans.append(node.val)\n",
        "            search(node.right, l+1)\n",
        "            search(node.left, l+1)\n",
        "\n",
        "        search(root, 0)\n",
        "        return ans\n"
      ],
      "metadata": {
        "id": "oodH47auKyvF"
      },
      "execution_count": null,
      "outputs": []
    },
    {
      "cell_type": "code",
      "source": [
        "# ys\n",
        "class Solution:\n",
        "    def rightSideView(self, root: Optional[TreeNode]) -> List[int]:\n",
        "        dic = {}\n",
        "        def help(node, lv):\n",
        "            if not node:\n",
        "                return\n",
        "            if lv not in dic:\n",
        "                dic[lv] = node.val\n",
        "            help(node.right, lv+1)\n",
        "            help(node.left, lv+1)\n",
        "\n",
        "        help(root,0)\n",
        "        return [v for v in dic.values()]"
      ],
      "metadata": {
        "id": "UlTaoBEUMLAC"
      },
      "execution_count": null,
      "outputs": []
    },
    {
      "cell_type": "markdown",
      "source": [
        "## 09/30/2025\n",
        "\n",
        "1762. Buildings With an Ocean View https://leetcode.com/problems/buildings-with-an-ocean-view/"
      ],
      "metadata": {
        "id": "DG8ySvJPdbbA"
      }
    },
    {
      "cell_type": "code",
      "source": [
        "#Minsu\n",
        "\n",
        "class Solution:\n",
        "    def findBuildings(self, heights: List[int]) -> List[int]:\n",
        "        res = []\n",
        "        for i, h in enumerate(heights):\n",
        "            while res and heights[res[-1]] <= h:\n",
        "                res.pop()\n",
        "            res.append(i)\n",
        "        return res"
      ],
      "metadata": {
        "id": "Jh_mpnG2uezW"
      },
      "execution_count": null,
      "outputs": []
    },
    {
      "cell_type": "code",
      "source": [
        "#Donggun\n",
        "\n",
        "class Solution:\n",
        "    def findBuildings(self, heights: List[int]) -> List[int]:\n",
        "        right = len(heights)-1\n",
        "        max = 0\n",
        "        ans = []\n",
        "        while right >= 0:\n",
        "            if heights[right] > max :\n",
        "                max = heights[right]\n",
        "                ans.append(right)\n",
        "            right -= 1\n",
        "        return ans[::-1]"
      ],
      "metadata": {
        "id": "DRTyDmWjcAGP"
      },
      "execution_count": null,
      "outputs": []
    },
    {
      "cell_type": "code",
      "source": [
        "# Stella\n",
        "class Solution:\n",
        "    def findBuildings(self, heights: List[int]) -> List[int]:\n",
        "        ans = []\n",
        "        max_h = 0\n",
        "\n",
        "        for i in range(0, len(heights)):\n",
        "            j = len(heights)-1-i\n",
        "            if heights[j] > max_h :\n",
        "                ans.append(j)\n",
        "                max_h = heights[j]\n",
        "\n",
        "        ans.reverse()\n",
        "        return ans"
      ],
      "metadata": {
        "id": "cL62EMBEejvy"
      },
      "execution_count": null,
      "outputs": []
    },
    {
      "cell_type": "code",
      "source": [
        "# ys\n",
        "class Solution:\n",
        "    def findBuildings(self, heights: List[int]) -> List[int]:\n",
        "        mx = 0\n",
        "        ans = []\n",
        "\n",
        "        for i in range(len(heights)-1,-1,-1):\n",
        "            if heights[i] > mx:\n",
        "                ans.append(i)\n",
        "            mx = max(mx, heights[i])\n",
        "        return ans[::-1]"
      ],
      "metadata": {
        "id": "SUN2MzS7eyuR"
      },
      "execution_count": null,
      "outputs": []
    },
    {
      "cell_type": "markdown",
      "source": [
        "## 10/01/2025\n",
        "\n",
        "34. Find First and Last Position of Element in Sorted Array https://leetcode.com/problems/find-first-and-last-position-of-element-in-sorted-array/"
      ],
      "metadata": {
        "id": "mJX9I8Sjdbha"
      }
    },
    {
      "cell_type": "code",
      "source": [
        "#Minsu\n",
        "\n",
        "class Solution:\n",
        "    def searchRange(self, nums: List[int], target: int) -> List[int]:\n",
        "        l, r = 0, len(nums) - 1\n",
        "        while l <= r:\n",
        "            m = l + (r - l) // 2\n",
        "            if nums[m] == target:\n",
        "\n",
        "                ll, rr = 0, m\n",
        "                while ll <= rr:\n",
        "                    mm = ll + (rr - ll) // 2\n",
        "                    if nums[mm] == target:\n",
        "                        rr = mm - 1\n",
        "                    else:\n",
        "                        ll = mm + 1\n",
        "                start = ll\n",
        "\n",
        "\n",
        "                ll, rr = m, len(nums) - 1\n",
        "                while ll <= rr:\n",
        "                    mm = ll + (rr - ll) // 2\n",
        "                    if nums[mm] == target:\n",
        "                        ll = mm + 1\n",
        "                    else:\n",
        "                        rr = mm - 1\n",
        "                end = rr\n",
        "\n",
        "                return [start, end]\n",
        "\n",
        "            if nums[m] < target:\n",
        "                l = m + 1\n",
        "            else:\n",
        "                r = m - 1\n",
        "\n",
        "        return [-1, -1]\n"
      ],
      "metadata": {
        "id": "nFf7y149XKRR"
      },
      "execution_count": null,
      "outputs": []
    },
    {
      "cell_type": "markdown",
      "source": [
        "## 10/02/2025\n",
        "\n",
        "121. Best Time to Buy and Sell Stock https://leetcode.com/problems/best-time-to-buy-and-sell-stock/"
      ],
      "metadata": {
        "id": "AXW4UAlJdbm9"
      }
    },
    {
      "cell_type": "code",
      "source": [
        "#Minsu\n",
        "\n",
        "class Solution:\n",
        "    def maxProfit(self, prices: List[int]) -> int:\n",
        "        res = 0\n",
        "        max_, min_ = 0, 10**4+1\n",
        "        for p in prices:\n",
        "            if min_ > p:\n",
        "                min_ = p\n",
        "            else:\n",
        "                max_ = max(max_, p - min_)\n",
        "        return max_"
      ],
      "metadata": {
        "id": "axPNzBAEV6_o"
      },
      "execution_count": null,
      "outputs": []
    },
    {
      "cell_type": "markdown",
      "source": [
        "## 10/03/2025\n",
        "\n",
        "129. Sum Root to Leaf Numbers https://leetcode.com/problems/sum-root-to-leaf-numbers/"
      ],
      "metadata": {
        "id": "0KmxZPdida4V"
      }
    },
    {
      "cell_type": "markdown",
      "source": [
        "# Week 5"
      ],
      "metadata": {
        "id": "_1VjcsHTdu57"
      }
    },
    {
      "cell_type": "markdown",
      "source": [
        "## 10/13/2025\n",
        "\n",
        "347. Top K Frequent Elements https://leetcode.com/problems/top-k-frequent-elements/"
      ],
      "metadata": {
        "id": "ALd-0TEBd9Nk"
      }
    },
    {
      "cell_type": "markdown",
      "source": [
        "## 10/14/2025\n",
        "\n",
        "1091. Shortest Path in Binary Matrix https://leetcode.com/problems/shortest-path-in-binary-matrix/"
      ],
      "metadata": {
        "id": "18QajVPdd9VL"
      }
    },
    {
      "cell_type": "markdown",
      "source": [
        "## 10/15/2025\n",
        "\n",
        "973. K Closest Points to Origin https://leetcode.com/problems/k-closest-points-to-origin/"
      ],
      "metadata": {
        "id": "a7kD-pMpd9ZP"
      }
    },
    {
      "cell_type": "markdown",
      "source": [
        "## 10/16/2025\n",
        "\n",
        "20. Valid Parentheses https://leetcode.com/problems/valid-parentheses/"
      ],
      "metadata": {
        "id": "dtxwSz2sd9dx"
      }
    },
    {
      "cell_type": "markdown",
      "source": [
        "## 10/17/2025\n",
        "\n",
        "31. Next Permutation https://leetcode.com/problems/next-permutation/"
      ],
      "metadata": {
        "id": "gJ-XPqLSd9m-"
      }
    }
  ]
}