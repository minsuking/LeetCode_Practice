{
  "nbformat": 4,
  "nbformat_minor": 0,
  "metadata": {
    "colab": {
      "provenance": [],
      "toc_visible": true,
      "include_colab_link": true
    },
    "kernelspec": {
      "name": "python3",
      "display_name": "Python 3"
    },
    "language_info": {
      "name": "python"
    }
  },
  "cells": [
    {
      "cell_type": "markdown",
      "metadata": {
        "id": "view-in-github",
        "colab_type": "text"
      },
      "source": [
        "<a href=\"https://colab.research.google.com/github/minsuking/LeetCode_Practice/blob/master/LeetcodeStudy.ipynb\" target=\"_parent\"><img src=\"https://colab.research.google.com/assets/colab-badge.svg\" alt=\"Open In Colab\"/></a>"
      ]
    },
    {
      "cell_type": "markdown",
      "source": [
        "#  LeetCode Study (Meta Past 30 days frequent Qs)\n",
        "\n",
        "## 📌 Link\n",
        "- [Video Call Link](https://meet.google.com/gxm-dwjo-wwz)\n",
        "- [LeetCode Problem Set](https://leetcode.com/problemset/)\n",
        "- [Facebook Problem Set](https://leetcode.com/company/facebook/?favoriteSlug=facebook-thirty-days)\n",
        "\n",
        "## 📒 이름과 이메일 주소를 적어주시기 바랍니다.\n",
        "\n",
        "* Donggun ryan.dev.2024@gmail.com\n",
        "* Minsu minsu.kim08@gmail.com\n",
        "* Youngsu terun707@gmail.com\n",
        "* Stella normalpig@gmail.com"
      ],
      "metadata": {
        "id": "j4EAzepnOz9h"
      }
    },
    {
      "cell_type": "markdown",
      "source": [
        "# List (30 days sorted by freq - 09/12/2025)"
      ],
      "metadata": {
        "id": "D76VibjZyzcg"
      }
    },
    {
      "cell_type": "markdown",
      "source": [
        "| 순번 | 문제 (번호. 제목) | 난이도 |\n",
        "|------|------------------|---------|\n",
        "| 15 | 199. Binary Tree Right Side View | Med. |\n",
        "| 17 | 1762. Buildings With an Ocean View | Med. |\n",
        "| 18 | 34. Find First and Last Position of Element in Sorted Array | Med. |\n",
        "| 19 | 121. Best Time to Buy and Sell Stock | Easy |\n",
        "| 20 | 129. Sum Root to Leaf Numbers | Med. |\n",
        "| 21 | 347. Top K Frequent Elements | Med. |\n",
        "| 22 | 1091. Shortest Path in Binary Matrix | Med. |\n",
        "| 23 | 973. K Closest Points to Origin | Med. |\n",
        "| 24 | 20. Valid Parentheses | Easy |\n",
        "| 25 | 31. Next Permutation | Med. |\n",
        "| 26 | 56. Merge Intervals | Med. |\n",
        "| 27 | 125. Valid Palindrome | Easy |\n",
        "| 28 | 133. Clone Graph | Med. |\n",
        "| 29 | 138. Copy List with Random Pointer | Med. |\n",
        "| 30 | 489. Robot Room Cleaner | Hard |\n",
        "| 31 | 498. Diagonal Traverse | Med. |\n",
        "| 32 | 1570. Dot Product of Two Sparse Vectors | Med. |\n",
        "| 33 | 15. 3Sum | Med. |\n",
        "| 34 | 146. LRU Cache | Med. |\n",
        "| 35 | 162. Find Peak Element | Med. |\n",
        "| 36 | 647. Palindromic Substrings | Med. |\n",
        "| 37 | 791. Custom Sort String | Med. |\n",
        "| 38 | 921. Minimum Add to Make Parentheses Valid | Med. |\n",
        "| 39 | 207. Course Schedule | Med. |\n",
        "| 40 | 987. Vertical Order Traversal of a Binary Tree | Hard |\n",
        "| 41 | 2265. Count Nodes Equal to Average of Subtree | Med. |\n",
        "| 42 | 19. Remove Nth Node From End of List | Med. |\n",
        "| 43 | 65. Valid Number | Hard |\n",
        "| 44 | 88. Merge Sorted Array | Easy |\n",
        "| 45 | 127. Word Ladder | Hard |\n",
        "| 46 | 346. Moving Average from Data Stream | Easy |\n",
        "| 47 | 415. Add Strings | Easy |\n",
        "| 48 | 636. Exclusive Time of Functions | Med. |\n",
        "| 49 | 863. All Nodes Distance K in Binary Tree | Med. |\n",
        "| 50 | 1539. Kth Missing Positive Number | Easy |\n",
        "| 51 | 5. Longest Palindromic Substring | Med. |\n",
        "| 52 | 73. Set Matrix Zeroes | Med. |\n",
        "| 53 | 75. Sort Colors | Med. |\n",
        "| 54 | 76. Minimum Window Substring | Hard |\n",
        "| 55 | 219. Contains Duplicate II | Easy |\n",
        "| 56 | 246. Strobogrammatic Number | Easy |\n",
        "| 57 | 270. Closest Binary Search Tree Value | Easy |\n",
        "| 58 | 938. Range Sum of BST | Easy |\n",
        "| 59 | 1004. Max Consecutive Ones III | Med. |\n",
        "| 60 | 8. String to Integer (atoi) | Med. |\n",
        "| 61 | 11. Container With Most Water | Med. |\n",
        "| 62 | 13. Roman to Integer | Easy |\n",
        "| 63 | 26. Remove Duplicates from Sorted Array | Easy |\n",
        "| 64 | 32. Longest Valid Parentheses | Hard |\n",
        "| 65 | 53. Maximum Subarray | Med. |\n",
        "| 66 | 116. Populating Next Right Pointers in Each Node | Med. |\n",
        "| 67 | 189. Rotate Array | Med. |\n",
        "| 68 | 231. Power of Two | Easy |\n",
        "| 69 | 269. Alien Dictionary | Hard |\n",
        "| 70 | 426. Convert Binary Search Tree to Sorted Doubly Linked List | Med. |\n",
        "| 71 | 451. Sort Characters By Frequency | Med. |\n",
        "| 72 | 480. Sliding Window Median | Hard |\n",
        "| 73 | 536. Construct Binary Tree from String | Med. |\n",
        "| 74 | 617. Merge Two Binary Trees | Easy |\n",
        "| 75 | 679. 24 Game | Hard |\n",
        "| 76 | 695. Max Area of Island | Med. |\n",
        "| 77 | 708. Insert into a Sorted Circular Linked List | Med. |\n",
        "| 78 | 2043. Simple Bank System | Med. |\n",
        "| 79 | 3. Longest Substring Without Repeating Characters | Med. |\n",
        "| 80 | 4. Median of Two Sorted Arrays | Hard |\n",
        "| 81 | 9. Palindrome Number | Easy |\n",
        "| 82 | 10. Regular Expression Matching | Hard |\n",
        "| 83 | 16. 3Sum Closest | Med. |\n",
        "| 84 | 42. Trapping Rain Water | Hard |\n",
        "| 85 | 46. Permutations | Med. |\n",
        "| 86 | 54. Spiral Matrix | Med. |\n",
        "| 87 | 62. Unique Paths | Med. |\n",
        "| 88 | 78. Subsets | Med. |\n",
        "| 89 | 98. Validate Binary Search Tree | Med. |\n",
        "| 90 | 118. Pascal's Triangle | Easy |\n",
        "| 91 | 122. Best Time to Buy and Sell Stock II | Med. |\n",
        "| 92 | 134. Gas Station | Med. |\n",
        "| 93 | 163. Missing Ranges | Easy |\n",
        "| 94 | 169. Majority Element | Easy |\n",
        "| 95 | 173. Binary Search Tree Iterator | Med. |\n",
        "| 96 | 197. Rising Temperature | Easy |\n",
        "| 97 | 198. House Robber | Med. |\n",
        "| 98 | 205. Isomorphic Strings | Easy |\n",
        "| 99 | 224. Basic Calculator | Hard |\n",
        "| 100 | 234. Palindrome Linked List | Easy |\n",
        "| 101 | 242. Valid Anagram | Easy |\n",
        "| 102 | 249. Group Shifted Strings | Med. |\n",
        "| 103 | 253. Meeting Rooms II | Med. |\n",
        "| 104 | 295. Find Median from Data Stream | Hard |\n",
        "| 105 | 297. Serialize and Deserialize Binary Tree | Hard |\n",
        "| 106 | 328. Odd Even Linked List | Med. |\n",
        "| 107 | 348. Design Tic-Tac-Toe | Med. |\n",
        "| 108 | 394. Decode String | Med. |\n",
        "| 109 | 443. String Compression | Med. |\n",
        "| 110 | 523. Continuous Subarray Sum | Med. |\n",
        "| 111 | 570. Managers with at Least 5 Direct Reports | Med. |\n",
        "| 112 | 602. Friend Requests II: Who Has the Most Friends | Med. |\n",
        "| 113 | 658. Find K Closest Elements | Med. |\n",
        "| 114 | 766. Toeplitz Matrix | Easy |\n",
        "| 115 | 825. Friends Of Appropriate Ages | Med. |\n",
        "| 116 | 827. Making A Large Island | Hard |\n",
        "| 117 | 852. Peak Index in a Mountain Array | Med. |\n",
        "| 118 | 875. Koko Eating Bananas | Med. |\n",
        "| 119 | 958. Check Completeness of a Binary Tree | Med. |\n",
        "| 120 | 986. Interval List Intersections | Med. |\n",
        "| 121 | 994. Rotting Oranges | Med. |\n",
        "| 122 | 1011. Capacity To Ship Packages Within D Days | Med. |\n",
        "| 123 | 1209. Remove All Adjacent Duplicates in String II | Med. |\n",
        "| 124 | 1781. Sum of Beauty of All Substrings | Med. |\n",
        "| 125 | 2235. Add Two Integers | Easy |\n",
        "| 126 | 2749. Minimum Operations to Make the Integer Zero | Med. |\n"
      ],
      "metadata": {
        "id": "fpsLjmELu2Zm"
      }
    },
    {
      "cell_type": "markdown",
      "source": [
        "# Week 1\n"
      ],
      "metadata": {
        "id": "tIvptyrqQXZv"
      }
    },
    {
      "cell_type": "markdown",
      "source": [
        "## 09/08/2025\n",
        "1249. Minimum Remove to Make Valid Parentheses https://leetcode.com/problems/minimum-remove-to-make-valid-parentheses/description/"
      ],
      "metadata": {
        "id": "1tgno3OBQfU5"
      }
    },
    {
      "cell_type": "code",
      "source": [
        "# ys\n",
        "class Solution:\n",
        "    def minRemoveToMakeValid(self, s: str) -> str:\n",
        "        ans = []\n",
        "        opened = []\n",
        "        for i,c in enumerate(s):\n",
        "            if c == ')':\n",
        "                if not opened:\n",
        "                    ans.append('')\n",
        "                    continue\n",
        "                else:\n",
        "                    opened.pop()\n",
        "            elif c == '(':\n",
        "                opened.append(i)\n",
        "            ans.append(c)\n",
        "\n",
        "        for i in opened:\n",
        "            ans[i] = ''\n",
        "\n",
        "        return ''.join(ans)"
      ],
      "metadata": {
        "id": "27n-pTNKqc7m"
      },
      "execution_count": null,
      "outputs": []
    },
    {
      "cell_type": "code",
      "source": [
        "# Stella\n",
        "class Solution:\n",
        "    def minRemoveToMakeValid(self, s: str) -> str:\n",
        "        answer = []\n",
        "        count = 0\n",
        "        for letter in s:\n",
        "            if letter == \"(\":\n",
        "                count += 1\n",
        "                answer.append(\"(\")\n",
        "            elif letter == \")\":\n",
        "                count -= 1\n",
        "                if count < 0 :\n",
        "                    count = 0\n",
        "                else :\n",
        "                    answer.append(\")\")\n",
        "            else:\n",
        "                answer.append(letter)\n",
        "\n",
        "        i = len(answer)-1\n",
        "        while count != 0:\n",
        "            if answer[i] == \"(\":\n",
        "                answer.pop(i)\n",
        "                count -= 1\n",
        "            i -= 1\n",
        "\n",
        "        return \"\".join(answer)"
      ],
      "metadata": {
        "id": "jc7r7ViSyfGA"
      },
      "execution_count": null,
      "outputs": []
    },
    {
      "cell_type": "code",
      "source": [
        "#Minsu\n",
        "\n",
        "class Solution:\n",
        "    def minRemoveToMakeValid(self, s: str) -> str:\n",
        "        res = []\n",
        "        stack = []\n",
        "\n",
        "        for i, c in enumerate(s):\n",
        "            if c == \"(\":\n",
        "                stack.append(len(res))\n",
        "                res.append(\"(\")\n",
        "            elif c == \")\":\n",
        "                if stack:\n",
        "                    res.append(\")\")\n",
        "                    stack.pop()\n",
        "            else:\n",
        "                res.append(c)\n",
        "\n",
        "        while stack:\n",
        "            idx = stack.pop()\n",
        "            print(idx)\n",
        "            res[idx] = \"\"\n",
        "\n",
        "        return ''.join(res)"
      ],
      "metadata": {
        "id": "tpRYknVmBDNa"
      },
      "execution_count": null,
      "outputs": []
    },
    {
      "cell_type": "markdown",
      "source": [
        "## 09/09/2025\n",
        "560. Subarray Sum Equals K https://leetcode.com/problems/subarray-sum-equals-k/description/"
      ],
      "metadata": {
        "id": "jKlZLNE6QuCU"
      }
    },
    {
      "cell_type": "code",
      "source": [
        "# ys\n",
        "class Solution:\n",
        "    def subarraySum(self, nums: List[int], k: int) -> int:\n",
        "        prefix_sum = 0\n",
        "        dic = collections.defaultdict(int)\n",
        "        dic[0] = 1\n",
        "        ans = 0\n",
        "\n",
        "        for n in nums:\n",
        "            prefix_sum += n\n",
        "            if prefix_sum - k in dic:\n",
        "                ans += dic[prefix_sum - k]\n",
        "            dic[prefix_sum] += 1\n",
        "\n",
        "        return ans\n"
      ],
      "metadata": {
        "id": "UlZdVcsnHzOv"
      },
      "execution_count": null,
      "outputs": []
    },
    {
      "cell_type": "code",
      "source": [
        "#Minsu\n",
        "from collections import defaultdict\n",
        "class Solution:\n",
        "    def subarraySum(self, nums: List[int], k: int) -> int:\n",
        "        freq = defaultdict(int)\n",
        "        freq[0] = 1\n",
        "        p = 0\n",
        "        res = 0\n",
        "        for n in nums:\n",
        "            p += n\n",
        "            res += freq[p - k]\n",
        "            freq[p] += 1\n",
        "        return res\n"
      ],
      "metadata": {
        "id": "VqWc2GdtJpWW"
      },
      "execution_count": null,
      "outputs": []
    },
    {
      "cell_type": "code",
      "source": [
        "# Stella\n",
        "# 시간초과\n",
        "# class Solution:\n",
        "#     def subarraySum(self, nums: List[int], k: int) -> int:\n",
        "#         temp = 0\n",
        "#         prefix_sum = []\n",
        "#         count = 0\n",
        "\n",
        "#         for num in range(0, len(nums)):\n",
        "#             temp += nums[num]\n",
        "#             prefix_sum.append(temp)\n",
        "\n",
        "#         prefix_sum.pop(0)\n",
        "#         for i in range(0, len(prefix_sum)):\n",
        "#             if prefix_sum[i] == k:\n",
        "#                 count += 1\n",
        "#             for j in range(i+1, len(prefix_sum)):\n",
        "#                 if prefix_sum[j] - prefix_sum[i] == k:\n",
        "#                     count += 1\n",
        "\n",
        "#         return count\n",
        "\n",
        "class Solution:\n",
        "    def subarraySum(self, nums: List[int], k: int) -> int:\n",
        "        prefix_sum = 0\n",
        "        cnt = collections.defaultdict(int)\n",
        "        cnt[0] = 1\n",
        "        ans = 0\n",
        "        for n in nums:\n",
        "            prefix_sum += n\n",
        "            if prefix_sum - k in cnt :\n",
        "                ans += cnt[prefix_sum - k]\n",
        "            cnt[prefix_sum] += 1\n",
        "        return ans"
      ],
      "metadata": {
        "id": "4TzPjOjrQAMQ"
      },
      "execution_count": null,
      "outputs": []
    },
    {
      "cell_type": "markdown",
      "source": [
        "## 09/10/2025\n",
        "408. Valid Word Abbreviation https://leetcode.com/problems/valid-word-abbreviation/description/"
      ],
      "metadata": {
        "id": "ELse0-7fRO3D"
      }
    },
    {
      "cell_type": "code",
      "source": [
        "# Stella\n",
        "class Solution:\n",
        "    def validWordAbbreviation(self, word: str, abbr: str) -> bool:\n",
        "        temp = \"\"\n",
        "        word += \" \"\n",
        "        abbr += \" \"\n",
        "\n",
        "        i = 0\n",
        "        for letter in abbr:\n",
        "            if letter.isdigit():\n",
        "                temp += letter\n",
        "            else:\n",
        "                if len(temp) != 0:\n",
        "                    if temp[0] == \"0\":\n",
        "                        return False\n",
        "                    i += int(temp)\n",
        "                    temp = \"\"\n",
        "                if i < len(word):\n",
        "                    if letter == word[i]:\n",
        "                        i += 1\n",
        "                    else:\n",
        "                        return False\n",
        "                else:\n",
        "                    return False\n",
        "        return True"
      ],
      "metadata": {
        "id": "R1YPEJTHTUn-"
      },
      "execution_count": null,
      "outputs": []
    },
    {
      "cell_type": "code",
      "source": [
        "# ys\n",
        "class Solution:\n",
        "    def validWordAbbreviation(self, word: str, abbr: str) -> bool:\n",
        "        num = []\n",
        "        i = 0\n",
        "        j = 0\n",
        "        while i < len(word) and j < len(abbr):\n",
        "            #print(i, j, word[i], abbr[j])\n",
        "            if abbr[j].isdigit():\n",
        "                if not num and abbr[j] == '0':\n",
        "                    return False\n",
        "                num.append(abbr[j])\n",
        "                j += 1\n",
        "                continue\n",
        "            elif num:\n",
        "                i += int(''.join(num))\n",
        "                num = []\n",
        "            if i >= len(word) or word[i] != abbr[j]:\n",
        "                return False\n",
        "            i += 1\n",
        "            j += 1\n",
        "        if num:\n",
        "            i += int(''.join(num))\n",
        "        return i == len(word) and j == len(abbr)"
      ],
      "metadata": {
        "id": "FkvcDNAVYld4"
      },
      "execution_count": null,
      "outputs": []
    },
    {
      "cell_type": "code",
      "source": [
        "#Donggun\n",
        "\n",
        "class Solution:\n",
        "    def validWordAbbreviation(self, word: str, abbr: str) -> bool:\n",
        "        i, j = 0, 0\n",
        "        wl, al = len(word), len(abbr)\n",
        "\n",
        "        while i < wl and j < al:\n",
        "            if abbr[j].isdigit():\n",
        "                if abbr[j] == '0':\n",
        "                    return False\n",
        "                num = 0\n",
        "                while j < al and abbr[j].isdigit():\n",
        "                    num = 10 * num + int(abbr[j])\n",
        "                    j += 1\n",
        "                i += num\n",
        "                if i > wl:\n",
        "                    return False\n",
        "            else:\n",
        "                if word[i] != abbr[j]:\n",
        "                    return False\n",
        "                i += 1\n",
        "                j += 1\n",
        "\n",
        "        return i == wl and j == al"
      ],
      "metadata": {
        "id": "N9iciO0sZSGM"
      },
      "execution_count": null,
      "outputs": []
    },
    {
      "cell_type": "code",
      "source": [
        "#Minsu\n",
        "\n",
        "class Solution:\n",
        "    def validWordAbbreviation(self, word: str, abbr: str) -> bool:\n",
        "        def tokenize(abbr: str):\n",
        "            tokens = []\n",
        "            i = 0\n",
        "            while i < len(abbr):\n",
        "                if abbr[i].isdigit():\n",
        "                    if abbr[i] == '0':\n",
        "                        return None\n",
        "                    j = i\n",
        "                    while j < len(abbr) and abbr[j].isdigit():\n",
        "                        j += 1\n",
        "                    tokens.append(('n', int(abbr[i:j])))\n",
        "                    i = j\n",
        "                else:\n",
        "                    tokens.append(('c', abbr[i]))\n",
        "                    i += 1\n",
        "            return tokens\n",
        "        tokens = tokenize(abbr)\n",
        "        if tokens is None:\n",
        "            return False\n",
        "\n",
        "        pos, n = 0, len(word)\n",
        "        for t, v in tokens:\n",
        "            if t == 'n':\n",
        "                pos += v\n",
        "                if pos > n:\n",
        "                    return False\n",
        "            else:\n",
        "                if pos >= n or word[pos] != v:\n",
        "                    return False\n",
        "                pos += 1\n",
        "        return pos == n\n"
      ],
      "metadata": {
        "id": "2-e9pXpKZyKs"
      },
      "execution_count": null,
      "outputs": []
    },
    {
      "cell_type": "markdown",
      "source": [
        "## 09/11/2025\n",
        "543. Diameter of Binary Tree https://leetcode.com/problems/diameter-of-binary-tree/description/"
      ],
      "metadata": {
        "id": "9y5blKj9ROf3"
      }
    },
    {
      "cell_type": "code",
      "source": [
        "# ys\n",
        "class Solution:\n",
        "    def diameterOfBinaryTree(self, root: Optional[TreeNode]) -> int:\n",
        "        def help(node) -> (int, int):\n",
        "            if not node:\n",
        "                return 0, 0\n",
        "\n",
        "            left_dep, left_ans = help(node.left)\n",
        "            right_dep, right_ans = help(node.right)\n",
        "\n",
        "            dep = max(left_dep, right_dep) + 1\n",
        "            ans = left_dep + right_dep\n",
        "\n",
        "            return dep, max(ans, left_ans, right_ans)\n",
        "\n",
        "        return help(root)[1]"
      ],
      "metadata": {
        "id": "9edar5TjPEpW"
      },
      "execution_count": null,
      "outputs": []
    },
    {
      "cell_type": "code",
      "source": [
        "# Stella\n",
        "class Solution:\n",
        "    def diameterOfBinaryTree(self, root: Optional[TreeNode]) -> int:\n",
        "        diameter = 0\n",
        "        def find_longest(node): # return longest diameter\n",
        "            if not node:\n",
        "                return -1\n",
        "            nonlocal diameter\n",
        "            left = find_longest(node.left)\n",
        "            right = find_longest(node.right)\n",
        "            diameter = max(diameter, left + right + 2)\n",
        "            return max(left, right) + 1\n",
        "\n",
        "        find_longest(root)\n",
        "        return diameter\n"
      ],
      "metadata": {
        "id": "LqjNAKd0ipd6"
      },
      "execution_count": null,
      "outputs": []
    },
    {
      "cell_type": "code",
      "source": [
        "#Minsu\n",
        "\n",
        "class Solution:\n",
        "    def diameterOfBinaryTree(self, root: Optional[TreeNode]) -> int:\n",
        "\n",
        "        def helper(node):\n",
        "            if node == None:\n",
        "                return 0, 0\n",
        "\n",
        "            l1, l2 = helper(node.left)\n",
        "            r1, r2 = helper(node.right)\n",
        "\n",
        "            return max(l1, r1) + 1, max(l2, r2, l1 + r1)\n",
        "\n",
        "        return helper(root)[1]"
      ],
      "metadata": {
        "id": "iv7fo1r5ko1f"
      },
      "execution_count": null,
      "outputs": []
    },
    {
      "cell_type": "markdown",
      "source": [
        "## 09/12/2025\n",
        "215. Kth Largest Element in an Array https://leetcode.com/problems/kth-largest-element-in-an-array/description/"
      ],
      "metadata": {
        "id": "rvEYKo2pRSg9"
      }
    },
    {
      "cell_type": "code",
      "source": [
        "# Stella\n",
        "import heapq as hp\n",
        "class Solution:\n",
        "    def findKthLargest(self, nums: List[int], k: int) -> int:\n",
        "        list = []\n",
        "        for n in nums:\n",
        "            if len(list) < k :\n",
        "                hp.heappush(list, n)\n",
        "            else :\n",
        "                hp.heappushpop(list, n)\n",
        "        return list[0]"
      ],
      "metadata": {
        "id": "sJvfwlpYbzKB"
      },
      "execution_count": null,
      "outputs": []
    },
    {
      "cell_type": "code",
      "source": [
        "#Donggun\n",
        "class Solution:\n",
        "    def findKthLargest(self, nums: List[int], k: int) -> int:\n",
        "        heap = []\n",
        "        for num in nums:\n",
        "            heapq.heappush(heap, num)\n",
        "            if len(heap) > k:\n",
        "                heapq.heappop(heap)\n",
        "\n",
        "        return heap[0]"
      ],
      "metadata": {
        "id": "sPhmQXZYrFJA"
      },
      "execution_count": null,
      "outputs": []
    },
    {
      "cell_type": "code",
      "source": [
        "# ys\n",
        "class Solution:\n",
        "    def findKthLargest(self, nums: List[int], k: int) -> int:\n",
        "        heap = []\n",
        "\n",
        "        for n in nums:\n",
        "            heapq.heappush(heap, n)\n",
        "            if len(heap) > k:\n",
        "                heapq.heappop(heap)\n",
        "\n",
        "        return heap[0]"
      ],
      "metadata": {
        "id": "CPueM611sXC8"
      },
      "execution_count": null,
      "outputs": []
    },
    {
      "cell_type": "code",
      "source": [
        "#Minsu\n",
        "\n",
        "import heapq\n",
        "class Solution:\n",
        "    def findKthLargest(self, nums: List[int], k: int) -> int:\n",
        "        hq = []\n",
        "        for n in nums:\n",
        "            heapq.heappush(hq, n)\n",
        "            if len(hq) > k:\n",
        "                heapq.heappop(hq)\n",
        "        return hq[0]"
      ],
      "metadata": {
        "id": "dPSpGeXftE6n"
      },
      "execution_count": null,
      "outputs": []
    },
    {
      "cell_type": "markdown",
      "source": [
        "# Week 2"
      ],
      "metadata": {
        "id": "fL_NPalDQ2CF"
      }
    },
    {
      "cell_type": "markdown",
      "source": [
        "## 09/15/2025\n",
        "680. Valid Palindrome II https://leetcode.com/problems/valid-palindrome-ii"
      ],
      "metadata": {
        "id": "cCJq7vSMRVEs"
      }
    },
    {
      "cell_type": "code",
      "source": [
        "# Stella\n",
        "class Solution:\n",
        "    def validPalindrome(self, s: str) -> bool:\n",
        "        i = 0\n",
        "        j = len(s)-1\n",
        "        count = 0\n",
        "        temp = None\n",
        "        while i < len(s)/2 :\n",
        "            if s[i] == s[j]:\n",
        "                i += 1\n",
        "                j -= 1\n",
        "            elif count == 0:\n",
        "                if s[i+1] == s[j]:\n",
        "                    temp = (i, j-1)\n",
        "                    i += 2\n",
        "                    j -= 1\n",
        "                    count += 1\n",
        "                elif s[i] == s[j-1]:\n",
        "                    i += 1\n",
        "                    j -= 2\n",
        "                    count += 1\n",
        "                else:\n",
        "                    return False\n",
        "            elif temp:\n",
        "                i = temp[0]\n",
        "                j = temp[1]\n",
        "                temp = None\n",
        "            else:\n",
        "                return False\n",
        "        return True"
      ],
      "metadata": {
        "id": "lS1Ged7QDqQZ"
      },
      "execution_count": null,
      "outputs": []
    },
    {
      "cell_type": "code",
      "source": [
        "# ys\n",
        "class Solution:\n",
        "    def validPalindrome(self, s: str) -> bool:\n",
        "        i = 0\n",
        "        j = len(s) - 1\n",
        "        delete = False\n",
        "\n",
        "        while i < j:\n",
        "            if s[i] != s[j]:\n",
        "                delete = True\n",
        "                break\n",
        "            i += 1\n",
        "            j -= 1\n",
        "        if not delete:\n",
        "            return True\n",
        "\n",
        "        temp_i = i\n",
        "        temp_j = j\n",
        "        i += 1\n",
        "        wrong = False\n",
        "        while i < j:\n",
        "            if s[i] != s[j]:\n",
        "                wrong = True\n",
        "                break\n",
        "            i += 1\n",
        "            j -= 1\n",
        "        #print(1, wrong)\n",
        "        if not wrong:\n",
        "            return True\n",
        "\n",
        "        i = temp_i\n",
        "        j = temp_j - 1\n",
        "\n",
        "        while i < j:\n",
        "            if s[i] != s[j]:\n",
        "                return False\n",
        "            i += 1\n",
        "            j -= 1\n",
        "        return True\n",
        "\n",
        "\n",
        "class Solution:\n",
        "    def compare(self, s, i, j) -> (bool, int, int):\n",
        "        while i < j:\n",
        "            if s[i] != s[j]:\n",
        "                return False, i, j\n",
        "            i += 1\n",
        "            j -= 1\n",
        "        return True, i, j\n",
        "\n",
        "    def validPalindrome(self, s: str) -> bool:\n",
        "        i = 0\n",
        "        j = len(s) - 1\n",
        "\n",
        "        r, i, j = self.compare(s,i,j)\n",
        "        if r:\n",
        "            return True\n",
        "\n",
        "        return self.compare(s, i, j-1)[0] or self.compare(s, i+1, j)[0]\n",
        "\n"
      ],
      "metadata": {
        "id": "-DPj_avkIkr_"
      },
      "execution_count": null,
      "outputs": []
    },
    {
      "cell_type": "code",
      "source": [
        "#Minsu\n",
        "\n",
        "class Solution:\n",
        "    def validPalindrome(self, s: str) -> bool:\n",
        "        def check(l, r):\n",
        "            while l < r:\n",
        "                if s[l] != s[r]:\n",
        "                    return False\n",
        "                l += 1\n",
        "                r -= 1\n",
        "            return True\n",
        "\n",
        "        l, r = 0, len(s) - 1\n",
        "        while l < r:\n",
        "            if s[l] != s[r]:\n",
        "                return check(l+1,r) or check(l, r-1)\n",
        "            l +=1\n",
        "            r -= 1\n",
        "        return True"
      ],
      "metadata": {
        "id": "VaZqUx0uPTpl"
      },
      "execution_count": null,
      "outputs": []
    },
    {
      "cell_type": "markdown",
      "source": [
        "## 09/16/2025\n",
        "236. Lowest Common Ancestor of a Binary Tree https://leetcode.com/problems/lowest-common-ancestor-of-a-binary-tree"
      ],
      "metadata": {
        "id": "9IP9Bsm5RWyJ"
      }
    },
    {
      "cell_type": "code",
      "source": [
        "#Minsu\n",
        "\n",
        "# Definition for a binary tree node.\n",
        "# class TreeNode:\n",
        "#     def __init__(self, x):\n",
        "#         self.val = x\n",
        "#         self.left = None\n",
        "#         self.right = None\n",
        "\n",
        "class Solution:\n",
        "    def lowestCommonAncestor(self, root: 'TreeNode', p: 'TreeNode', q: 'TreeNode') -> 'TreeNode':\n",
        "        def helper(node):\n",
        "            if node == None:\n",
        "                return None\n",
        "            if node == p or node == q:\n",
        "                return node\n",
        "            left = helper(node.left)\n",
        "            right = helper(node.right)\n",
        "\n",
        "            if left and right:\n",
        "                return node\n",
        "            elif left:\n",
        "                return left\n",
        "            elif right:\n",
        "                return right\n",
        "        return helper(root)"
      ],
      "metadata": {
        "id": "5T5y5-S548zP"
      },
      "execution_count": null,
      "outputs": []
    },
    {
      "cell_type": "markdown",
      "source": [
        "## 09/17/2025\n",
        "\n",
        "314. Binary Tree Vertical Order Traversal https://leetcode.com/problems/binary-tree-vertical-order-traversal"
      ],
      "metadata": {
        "id": "26-Hw8a7RX9v"
      }
    },
    {
      "cell_type": "markdown",
      "source": [
        "## 09/18/2025\n",
        "\n",
        "528. Random Pick with Weight https://leetcode.com/problems/random-pick-with-weight"
      ],
      "metadata": {
        "id": "U79DSjrkRZF8"
      }
    },
    {
      "cell_type": "markdown",
      "source": [
        "## 09/19/2025\n",
        "\n",
        "339. Nested List Weight Sum https://leetcode.com/problems/nested-list-weight-sum"
      ],
      "metadata": {
        "id": "aoK47pTBRacD"
      }
    },
    {
      "cell_type": "markdown",
      "source": [
        "# Week 3"
      ],
      "metadata": {
        "id": "rDwPsy0YRIwt"
      }
    },
    {
      "cell_type": "markdown",
      "source": [
        "## 09/22/2025\n",
        "\n",
        "1. Two Sum"
      ],
      "metadata": {
        "id": "3IArwP057jGk"
      }
    },
    {
      "cell_type": "markdown",
      "source": [
        "##09/23/2025\n",
        "\n",
        "227. Basic Calculator II\n"
      ],
      "metadata": {
        "id": "JA7sw81T7tlJ"
      }
    },
    {
      "cell_type": "markdown",
      "source": [
        "##09/24/2025\n",
        "\n",
        "1650. Lowest Common Ancestor of a Binary Tree III"
      ],
      "metadata": {
        "id": "vG7L7dVH7yk5"
      }
    },
    {
      "cell_type": "markdown",
      "source": [
        "##09/25/2025\n",
        "\n",
        "50. Pow(x, n)"
      ],
      "metadata": {
        "id": "pHAox3ob73ik"
      }
    },
    {
      "cell_type": "markdown",
      "source": [
        "##09/06/2025\n",
        "\n",
        "71. Simplify Path"
      ],
      "metadata": {
        "id": "GG48-VRj780B"
      }
    },
    {
      "cell_type": "markdown",
      "source": [
        "# Week 4"
      ],
      "metadata": {
        "id": "0CMGDPcVRJl6"
      }
    }
  ]
}