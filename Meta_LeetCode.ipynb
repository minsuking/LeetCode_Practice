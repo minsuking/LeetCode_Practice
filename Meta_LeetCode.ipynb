{
  "nbformat": 4,
  "nbformat_minor": 0,
  "metadata": {
    "colab": {
      "provenance": [],
      "toc_visible": true,
      "include_colab_link": true
    },
    "kernelspec": {
      "name": "python3",
      "display_name": "Python 3"
    },
    "language_info": {
      "name": "python"
    }
  },
  "cells": [
    {
      "cell_type": "markdown",
      "metadata": {
        "id": "view-in-github",
        "colab_type": "text"
      },
      "source": [
        "<a href=\"https://colab.research.google.com/github/minsuking/LeetCode_Practice/blob/master/Meta_LeetCode.ipynb\" target=\"_parent\"><img src=\"https://colab.research.google.com/assets/colab-badge.svg\" alt=\"Open In Colab\"/></a>"
      ]
    },
    {
      "cell_type": "markdown",
      "source": [
        "# Meta LeetCode\n",
        "\n",
        "https://meet.google.com/vkr-kknk-oxj\n",
        "\n",
        "https://leetcode.com/problem-list/top-facebook-questions/?sorting=W3sic29ydE9yZGVyIjoiREVTQ0VORElORyIsIm9yZGVyQnkiOiJGUkVRVUVOQ1kifV0%3D\n",
        "\n",
        "- Joe : josephkim.dev@gmail.com\n",
        "- Leo : leokim2024@gmail.com\n",
        "- Minsu : minsu.kim08@gmail.com\n",
        "- Dongwook: kauvoi1011@gmail.com\n",
        "- Joe : devjoe872@gmail.*com*\n",
        "- Youngsu : terun707@gmail.com\n",
        "- Donggun : dgunlee01@gmail.com\n",
        "- Seoyoung : idellio77@gmail.com\n",
        "\n",
        "\n",
        "** 'Ctrl' + 'm' + '-' : 커서 있는 위치 기준으로 섹션 분리됩니다."
      ],
      "metadata": {
        "id": "RqsN2oQt5kFE"
      }
    },
    {
      "cell_type": "markdown",
      "source": [
        "56. Merge Intervals[Medium]\n",
        "25. Kth Largest Element in an Array[Medium]\n",
        "560. Subarray Sum Equals K[Medium]\n",
        "347. Top K Frequent Elements[Medium]\n",
        "50. Pow(x, n)[Medium]\n",
        "38. Copy List with Random Pointer[Medium]\n",
        "680. Valid Palindrome II[Easy]\n",
        "25. Valid Palindrome[Easy]\n",
        "7. Simplify Path[Medium]\n",
        "09. Shortest Path in Binary Matrix[Medium]\n",
        "528. Random Pick with Weight[Medium]\n",
        "34. Binary Tree Vertical Order Traversal[Medium]\n",
        "227. Basic Calculator II[Medium]\n",
        "62. Find Peak Element[Medium]\n",
        "249. Minimum Remove to Make Valid Parentheses[Medium]\n",
        "236. Lowest Common Ancestor of a Binary Tree[Medium]\n",
        "570. Dot Product of Two Sparse Vectors[Medium]\n",
        "762. Buildings With an Ocean View[Medium]\n",
        "408. Valid Word Abbreviation[Easy]\n",
        "45. Add Strings[Easy]\n",
        "99. Binary Tree Right Side View[Medium]\n",
        "92. Minimum Add to Make Parentheses Valid[Medium]\n",
        "650. Lowest Common Ancestor of a Binary Tree III[Medium]\n",
        "523. Continuous Subarray Sum[Medium]\n",
        "973. K Closest Points to Origin[Medium]\n",
        "938. Range Sum of BST[Easy]\n",
        "73. Binary Search Tree Iterator[Medium]\n",
        "339. Nested List Weight Sum[Medium]\n",
        "79. Custom Sort String[Medium]\n",
        "346. Moving Average from Data Stream[Easy]\n",
        "249. Group Shifted Strings[Medium]\n",
        "426. Convert Binary Search Tree to Sorted Doubly Linked List[Medium]\n",
        "498. Diagonal Traverse[Medium]\n",
        "670. Maximum Swap[Medium]\n",
        "766. Toeplitz Matrix[Easy]\n",
        "89. Cutting Ribbons[Medium]\n",
        "63. Missing Ranges[Easy]\n",
        "270. Closest Binary Search Tree Value[Easy]\n",
        "428. Leftmost Column with at Least a One[Medium]\n",
        "636. Exclusive Time of Functions[Medium]\n",
        "708. Insert into a Sorted Circular Linked List[Medium]\n",
        "398. Random Pick Index[Medium]\n",
        "\n"
      ],
      "metadata": {
        "id": "P7KxfWOs65Lw"
      }
    },
    {
      "cell_type": "markdown",
      "source": [
        "# 16/10/2023\n",
        "## 56. Merge Intervals[Medium]\n",
        "https://leetcode.com/problems/merge-intervals/"
      ],
      "metadata": {
        "id": "ypXV_WzLy7HJ"
      }
    },
    {
      "cell_type": "code",
      "source": [
        "# DW\n",
        "\n",
        "#include <vector>\n",
        "#include <algorithm>\n",
        "\n",
        "class Solution {\n",
        "public:\n",
        "    vector<vector<int>> merge(vector<vector<int>>& intervals) {\n",
        "        sort(intervals.begin(), intervals.end());\n",
        "\n",
        "        vector<vector<int>> res;\n",
        "        vector<int> cur = intervals.at(0);\n",
        "        for (int i=0; i<intervals.size(); i++) {\n",
        "            if (cur.at(1) < intervals.at(i).at(0)) {\n",
        "                res.push_back(cur);\n",
        "                cur = intervals.at(i);\n",
        "            } else {\n",
        "                cur.at(1) = max(cur.at(1), intervals.at(i).at(1));\n",
        "            }\n",
        "        }\n",
        "        res.push_back(cur);\n",
        "\n",
        "        return res;\n",
        "    }\n",
        "};"
      ],
      "metadata": {
        "id": "hQg0IElaotPz"
      },
      "execution_count": null,
      "outputs": []
    },
    {
      "cell_type": "code",
      "source": [
        "#Minsu's code\n",
        "\n",
        "class Solution:\n",
        "    def merge(self, intervals: List[List[int]]) -> List[List[int]]:\n",
        "        intervals.sort()\n",
        "        intervals.append([10**4+1,10**4+1])\n",
        "        res = []\n",
        "        ss, ee = -1, -1\n",
        "        for s, e in intervals:\n",
        "            if ss == -1 and ee == -1:\n",
        "                ss, ee = s, e\n",
        "            else:\n",
        "                if ee >= s:\n",
        "                    ee = max(e, ee)\n",
        "                else:\n",
        "                    res.append([ss, ee])\n",
        "                    ss, ee = s, e\n",
        "        return res"
      ],
      "metadata": {
        "id": "eWEUPJhgB86S"
      },
      "execution_count": null,
      "outputs": []
    },
    {
      "cell_type": "code",
      "source": [
        "# Joe\n",
        "# TC: O(nlogn+n)\n",
        "# SC: O(n)\n",
        "class Solution:\n",
        "    def merge(self, intervals: List[List[int]]) -> List[List[int]]:\n",
        "        intervals.sort()\n",
        "        s = []\n",
        "        for i in intervals:\n",
        "            if not s or s[-1][1] < i[0]:\n",
        "                s.append(i)\n",
        "            else:\n",
        "                s[-1] = [min(s[-1][0], i[0]), max(s[-1][1], i[1])]\n",
        "        return s"
      ],
      "metadata": {
        "id": "y-xHqfLJK3w4"
      },
      "execution_count": null,
      "outputs": []
    },
    {
      "cell_type": "code",
      "source": [
        "# ys\n",
        "class Solution:\n",
        "    def merge(self, intervals: List[List[int]]) -> List[List[int]]:\n",
        "        intervals.sort()\n",
        "        ans = []\n",
        "        for a,b in intervals:\n",
        "            if ans and a <= ans[-1][1]:\n",
        "                ans[-1][1] = max(ans[-1][1], b)\n",
        "            else:\n",
        "                ans.append([a,b])\n",
        "        return ans"
      ],
      "metadata": {
        "id": "dLw0xOVKN4hP"
      },
      "execution_count": null,
      "outputs": []
    },
    {
      "cell_type": "code",
      "source": [
        "#Leo\n",
        "class Solution:\n",
        "    def merge(self, intervals: List[List[int]]) -> List[List[int]]:\n",
        "        intervals.sort(key=lambda x : x[0])\n",
        "        merged_interval_list = []\n",
        "\n",
        "        for interval in intervals:\n",
        "            if not merged_interval_list:\n",
        "                merged_interval_list.append(interval)\n",
        "\n",
        "            else:\n",
        "                prev = merged_interval_list[-1] #last one look up\n",
        "                if prev[1] >= interval[0]:\n",
        "                    merged_interval_list[-1][1] = max ( prev[1], interval[1])\n",
        "                else:\n",
        "                    merged_interval_list.append(interval)\n",
        "\n",
        "\n",
        "        return merged_interval_list"
      ],
      "metadata": {
        "id": "a1YT6VDfQWyx"
      },
      "execution_count": null,
      "outputs": []
    },
    {
      "cell_type": "code",
      "source": [
        "# Joel\n",
        "class Solution:\n",
        "    def merge(self, intervals: List[List[int]]) -> List[List[int]]:\n",
        "        if not intervals: return\n",
        "\n",
        "        intervals.sort()\n",
        "        res = [intervals[0]]\n",
        "\n",
        "        for interval in intervals[1:]:\n",
        "            s1, e1 = res[-1]\n",
        "            s2, e2 = interval\n",
        "\n",
        "            if  s2 <= e1:\n",
        "                if e1 > e2:\n",
        "                    res[-1][1] = e1\n",
        "                else:\n",
        "                    res[-1][1] = e2\n",
        "            else:\n",
        "                res.append([s2, e2])\n",
        "\n",
        "        return res"
      ],
      "metadata": {
        "id": "7cLvrbq1US0k"
      },
      "execution_count": null,
      "outputs": []
    },
    {
      "cell_type": "markdown",
      "source": [
        "# 17/10/2023\n",
        "## 25. Kth Largest Element in an Array[Medium]\n",
        "https://leetcode.com/problems/kth-largest-element-in-an-array"
      ],
      "metadata": {
        "id": "Dl4MsuPC7tCc"
      }
    },
    {
      "cell_type": "code",
      "source": [
        "# DW\n",
        "\n",
        "#include <vector>\n",
        "#include <queue>\n",
        "\n",
        "class Solution {\n",
        "public:\n",
        "    int findKthLargest(vector<int>& nums, int k) {\n",
        "        std::priority_queue<int, vector<int>, std::greater<int>> minHeap;\n",
        "\n",
        "        for (int n : nums) {\n",
        "            if (minHeap.size() < k) {\n",
        "                minHeap.push(n);\n",
        "            } else if (n > minHeap.top()) {\n",
        "                minHeap.pop();\n",
        "                minHeap.push(n);\n",
        "            }\n",
        "        }\n",
        "\n",
        "        return minHeap.top();\n",
        "    }\n",
        "};"
      ],
      "metadata": {
        "id": "7uA2lzGx_8xu"
      },
      "execution_count": null,
      "outputs": []
    },
    {
      "cell_type": "code",
      "source": [
        "#Minsu's code\n",
        "\n",
        "import heapq\n",
        "class Solution:\n",
        "    def findKthLargest(self, nums: List[int], k: int) -> int:\n",
        "        hq = []\n",
        "        for num in nums:\n",
        "            heapq.heappush(hq,num)\n",
        "            if len(hq) > k:\n",
        "                heapq.heappop(hq)\n",
        "        return hq[0]"
      ],
      "metadata": {
        "id": "STS5XZ3cMhA8"
      },
      "execution_count": null,
      "outputs": []
    },
    {
      "cell_type": "code",
      "source": [
        "#ys\n",
        "class Solution:\n",
        "    def findKthLargest(self, nums: List[int], k: int) -> int:\n",
        "        return heapq.nlargest(k,nums)[-1]"
      ],
      "metadata": {
        "id": "3zC804R5VpHh"
      },
      "execution_count": null,
      "outputs": []
    },
    {
      "cell_type": "code",
      "source": [
        "# Joel\n",
        "class Solution:\n",
        "    def findKthLargest(self, nums: List[int], k: int) -> int:\n",
        "        res = 0\n",
        "        h = [-n for n in nums]\n",
        "\n",
        "        heapify(h)\n",
        "        for _ in range(k):\n",
        "            res = -heappop(h)\n",
        "\n",
        "        return res"
      ],
      "metadata": {
        "id": "7wKc5iDdYh2r"
      },
      "execution_count": null,
      "outputs": []
    },
    {
      "cell_type": "code",
      "source": [
        "# Leo\n",
        "\n",
        "import heapq\n",
        "\n",
        "#quick select : 평균적으로 O(n).. 검색 범위를 대략 2배씩 줄임\n",
        "class Solution:\n",
        "    def findKthLargest(self, nums: List[int], k: int) -> int:\n",
        "        if not nums:\n",
        "            return\n",
        "\n",
        "        #pick random #\n",
        "        pivot = random.choice(nums)\n",
        "\n",
        "        #세 부분으로 분할\n",
        "        left = [ x for x in nums if x > pivot ]\n",
        "        mid = [x for x in nums if x == pivot ]\n",
        "        right = [x for x in nums if x < pivot ]\n",
        "\n",
        "        left_size, mid_size = len(left), len(mid)\n",
        "\n",
        "        #왼쪽 그룹, kth 보다 작은 그룹을 나눠서 recursive call\n",
        "        if k <= left_size:\n",
        "            return self.findKthLargest(left, k)\n",
        "        #찾는 k번째가 left + mid 보다 크다면 나머지 오른쪽을 탐색\n",
        "        elif k > left_size + mid_size:\n",
        "            return self.findKthLargest(right, k - left_size - mid_size )\n",
        "        # 같다면 바로 리턴\n",
        "        else:\n",
        "            return mid[0]"
      ],
      "metadata": {
        "id": "Iu9pYshRZ1JN"
      },
      "execution_count": null,
      "outputs": []
    },
    {
      "cell_type": "code",
      "source": [
        "# Joe\n",
        "class Solution:\n",
        "    def findKthLargest(self, nums: List[int], k: int) -> int:\n",
        "        # quick select O(n) or O(nlongn)\n",
        "        # sort O(nlogn)\n",
        "        # Heat O(n+klongk), TC O(k)\n",
        "        h = []\n",
        "        for n in nums:\n",
        "            if len(h) < k:\n",
        "                heapq.heappush(h, n)\n",
        "                continue\n",
        "            if h[0] < n:\n",
        "                heapq.heappop(h)\n",
        "                heapq.heappush(h, n)\n",
        "        return h[0]\n",
        "# -------------------------------\n",
        "import random\n",
        "\n",
        "\n",
        "class Solution:\n",
        "    def findKthLargest(self, nums: List[int], k: int) -> int:\n",
        "        def find_pivot(l, r, p):\n",
        "            pv = nums[p]\n",
        "            nums[r], nums[p] = nums[p], nums[r]\n",
        "            cur = l\n",
        "            while l < r:\n",
        "                if nums[l] < pv:\n",
        "                    nums[l], nums[cur] = nums[cur], nums[l]\n",
        "                    cur += 1\n",
        "                l += 1\n",
        "            nums[cur], nums[r] = nums[r], nums[cur]\n",
        "            return cur\n",
        "\n",
        "        k = len(nums) - k\n",
        "        l = 0\n",
        "        r = len(nums) - 1\n",
        "\n",
        "        while l < r:\n",
        "            p = random.randint(l, r)\n",
        "            pivot = find_pivot(l, r, p)\n",
        "            if pivot == k:\n",
        "                return nums[k]\n",
        "            if k > pivot:\n",
        "                l = pivot + 1\n",
        "            else:\n",
        "                r = pivot - 1\n",
        "        return nums[k]"
      ],
      "metadata": {
        "id": "_zCuZjNTa6yC"
      },
      "execution_count": null,
      "outputs": []
    },
    {
      "cell_type": "markdown",
      "source": [
        "# 18/10/2023\n",
        "## 560. Subarray Sum Equals K[Medium]\n",
        "https://leetcode.com/problems/subarray-sum-equals-k"
      ],
      "metadata": {
        "id": "164w80bd7u8d"
      }
    },
    {
      "cell_type": "code",
      "source": [
        "#Minsu's code\n",
        "\n",
        "from collections import defaultdict\n",
        "class Solution:\n",
        "    def subarraySum(self, nums: List[int], k: int) -> int:\n",
        "        res = 0\n",
        "        map_ = defaultdict(int)\n",
        "        map_[0] = 1\n",
        "        sum_ = 0\n",
        "        for num in nums:\n",
        "            sum_ += num\n",
        "            if sum_ - k in map_:\n",
        "                res += map_[sum_ - k]\n",
        "            map_[sum_] += 1\n",
        "        return res"
      ],
      "metadata": {
        "id": "9wLZLMiKZMZ8"
      },
      "execution_count": null,
      "outputs": []
    },
    {
      "cell_type": "code",
      "source": [
        "# ys\n",
        "class Solution:\n",
        "    def subarraySum(self, nums: List[int], k: int) -> int:\n",
        "        ans = 0\n",
        "        cumul = 0\n",
        "        dic = collections.defaultdict(int)\n",
        "        dic[0] = 1\n",
        "\n",
        "        for n in nums:\n",
        "            cumul += n\n",
        "\n",
        "            if cumul - k in dic:\n",
        "                ans += dic[cumul - k]\n",
        "\n",
        "            dic[cumul] += 1\n",
        "\n",
        "        return ans"
      ],
      "metadata": {
        "id": "JRW9cxgdgSK3"
      },
      "execution_count": null,
      "outputs": []
    },
    {
      "cell_type": "code",
      "source": [
        "# Joe\n",
        "class Solution:\n",
        "    def subarraySum(self, nums: List[int], k: int) -> int:\n",
        "        # cumulative sum\n",
        "        # TC: O(n)\n",
        "        # SC: O(n)\n",
        "        cu_sum = 0\n",
        "        visited = defaultdict(int)\n",
        "        visited[0] = 1 # because cu_sum-k == 0\n",
        "        res = 0\n",
        "\n",
        "        for n in nums:\n",
        "            cu_sum += n\n",
        "            if cu_sum-k in visited:\n",
        "                res += visited[cu_sum-k]\n",
        "            visited[cu_sum] += 1\n",
        "        return res\n"
      ],
      "metadata": {
        "id": "fdyn5Oj4i_u7"
      },
      "execution_count": null,
      "outputs": []
    },
    {
      "cell_type": "code",
      "source": [
        "# Joel\n",
        "class Solution:\n",
        "    def subarraySum(self, nums: List[int], k: int) -> int:\n",
        "        d = defaultdict(int)\n",
        "        d[0] = 1\n",
        "        sum_ = 0\n",
        "        res = 0\n",
        "\n",
        "        for n in nums:\n",
        "            sum_ += n\n",
        "            diff = sum_ - k\n",
        "            d[sum_] += 1\n",
        "            res += d[diff]\n",
        "\n",
        "        return res"
      ],
      "metadata": {
        "id": "ADGRONUCrWtf"
      },
      "execution_count": null,
      "outputs": []
    },
    {
      "cell_type": "code",
      "source": [
        "# DW\n",
        "\n",
        "class Solution {\n",
        "public:\n",
        "    int subarraySum(vector<int>& nums, int k) {\n",
        "        unordered_map<int, int> cumSumMap;\n",
        "        cumSumMap[0] = 1;  // initial condition, cumulative sum is zero for empty array\n",
        "\n",
        "        int cumSum = 0;\n",
        "        int res = 0;\n",
        "\n",
        "        for (int num : nums) {\n",
        "            cumSum += num;\n",
        "            if (cumSumMap.find(cumSum - k) != cumSumMap.end()) {\n",
        "                res += cumSumMap[cumSum - k];\n",
        "            }\n",
        "            cumSumMap[cumSum]++;\n",
        "        }\n",
        "\n",
        "        return res;\n",
        "    }\n",
        "};\n"
      ],
      "metadata": {
        "id": "4UwqRx3ZtDeZ"
      },
      "execution_count": null,
      "outputs": []
    },
    {
      "cell_type": "markdown",
      "source": [
        "# 19/10/2023\n",
        "## 347. Top K Frequent Elements[Medium]\n",
        "https://leetcode.com/problems/top-k-frequent-elements"
      ],
      "metadata": {
        "id": "wKXH3z-O7v5V"
      }
    },
    {
      "cell_type": "code",
      "source": [
        "# SK\n",
        "class Solution:\n",
        "    def topKFrequent(self, nums: List[int], k: int) -> List[int]:\n",
        "        if len(nums) == 0: return []\n",
        "\n",
        "        hash = {}\n",
        "\n",
        "        for num in nums:\n",
        "            hash[num] = 1 + hash.get(num, 0)\n",
        "\n",
        "        return [key for key, val in sorted(hash.items(), key=lambda item: item[1], reverse = True)][0:k]\n",
        "\n",
        "\n",
        "'''\n",
        "        uniq = set(nums)\n",
        "\n",
        "        from collections import defaultdict\n",
        "        count_nums = defaultdict()\n",
        "\n",
        "        for i in nums:\n",
        "            if i in count_nums:\n",
        "                count_nums[i] += 1\n",
        "            else:\n",
        "                count_nums[i] = 1\n",
        "\n",
        "        return [key for key, val in sorted(hash.items(), key=lambda item: item[1], reverse = True)][0:k]\n",
        "'''"
      ],
      "metadata": {
        "id": "9-UZAJAJca7x"
      },
      "execution_count": null,
      "outputs": []
    },
    {
      "cell_type": "code",
      "source": [
        "# Joe\n",
        "class Solution:\n",
        "    def topKFrequent(self, nums: List[int], k: int) -> List[int]:\n",
        "        # TC: O(n + klogk + k)\n",
        "        # SC: O(n)\n",
        "        nums = Counter(nums)\n",
        "        h = []\n",
        "        for n, c in nums.items():\n",
        "            heapq.heappush(h, (c, n))\n",
        "            if len(h) > k:\n",
        "                heapq.heappop(h)\n",
        "        return [i[1] for i in h]"
      ],
      "metadata": {
        "id": "EnvgP3pAnyhy"
      },
      "execution_count": null,
      "outputs": []
    },
    {
      "cell_type": "code",
      "source": [
        "#Minsu's code\n",
        "\n",
        "from collections import defaultdict\n",
        "class Solution:\n",
        "    def topKFrequent(self, nums: List[int], k: int) -> List[int]:\n",
        "        map_ = defaultdict(int)\n",
        "        for num in nums:\n",
        "            map_[num] += 1\n",
        "\n",
        "        newList = list(map_.keys())\n",
        "\n",
        "        def partition(l, r):\n",
        "            val = map_[newList[r]]\n",
        "            i = l - 1\n",
        "            for j in range(l, r):\n",
        "                if map_[newList[j]] >= val:\n",
        "                    i += 1\n",
        "                    newList[i], newList[j] = newList[j], newList[i]\n",
        "            newList[i + 1], newList[r] = newList[r], newList[i + 1]\n",
        "            return i + 1\n",
        "\n",
        "        def quickselect(l, r, k):\n",
        "            p = partition(l, r)\n",
        "            if k == p:\n",
        "                return newList[k]\n",
        "            elif k < p:\n",
        "                return quickselect(l, p - 1, k)\n",
        "            else:\n",
        "                return quickselect(p + 1, r, k)\n",
        "\n",
        "        p = quickselect(0, len(newList) - 1, k - 1)\n",
        "\n",
        "        res = []\n",
        "        for num in newList:\n",
        "            if map_[num] >= map_[p]:\n",
        "                res.append(num)\n",
        "\n",
        "        return res"
      ],
      "metadata": {
        "id": "rNa3xlRQrwou"
      },
      "execution_count": null,
      "outputs": []
    },
    {
      "cell_type": "code",
      "source": [
        "# Joel\n",
        "class Solution:\n",
        "    def topKFrequent(self, nums: List[int], k: int) -> List[int]:\n",
        "        d = defaultdict(int)\n",
        "\n",
        "        for n in nums:\n",
        "            d[n] += 1\n",
        "\n",
        "        h = []\n",
        "        for key, v in d.items():\n",
        "            h.append((-v, key))\n",
        "\n",
        "        heapq.heapify(h)\n",
        "        res = []\n",
        "        for _ in range(k):\n",
        "            f, n = (heapq.heappop(h))\n",
        "            res.append(n)\n",
        "\n",
        "        return res"
      ],
      "metadata": {
        "id": "U_u0KvZUtOoa"
      },
      "execution_count": null,
      "outputs": []
    },
    {
      "cell_type": "code",
      "source": [
        "# DW\n",
        "from collections import defaultdict\n",
        "\n",
        "class Solution:\n",
        "    def topKFrequent(self, nums: List[int], k: int) -> List[int]:\n",
        "        res = []\n",
        "        dic = defaultdict(int)\n",
        "\n",
        "        for n in nums:\n",
        "            dic[n] += 1\n",
        "\n",
        "        sorted_ = list(sorted(dic.items(), key=lambda item: item[1]))\n",
        "        for i in range(k):\n",
        "            res.append(sorted_[len(sorted_)-1-i][0])\n",
        "\n",
        "        return res"
      ],
      "metadata": {
        "id": "SewPu-tExL2O"
      },
      "execution_count": null,
      "outputs": []
    },
    {
      "cell_type": "code",
      "source": [
        "#Leo\n",
        "from collections import defaultdict\n",
        "import heapq\n",
        "\n",
        "class Solution:\n",
        "    def topKFrequent(self, nums: List[int], k: int) -> List[int]:\n",
        "        #make dic ->\n",
        "        freq_dict = defaultdict(int)\n",
        "        for num in nums:\n",
        "            if freq_dict.get(num):\n",
        "                freq_dict[num] += 1\n",
        "            else:\n",
        "                freq_dict[num] = 1\n",
        "         #sort based on\n",
        "        items = [ (-value, key) for key, value in freq_dict.items() ]\n",
        "\n",
        "        items = sorted(items, key = lambda x : x[0]) #n log n\n",
        "        #k 번째 까지 리턴\n",
        "        return [sublist[1] for sublist in items[:k]]\n"
      ],
      "metadata": {
        "id": "CQ-4sZ3I5CNJ"
      },
      "execution_count": null,
      "outputs": []
    },
    {
      "cell_type": "code",
      "source": [
        "# ys\n",
        "class Solution:\n",
        "    def topKFrequent(self, nums: List[int], k: int) -> List[int]:\n",
        "        dic = Counter(nums)\n",
        "        arr = []\n",
        "        for key in dic.keys():\n",
        "            arr.append( (dic[key],key) )\n",
        "\n",
        "        return [key for _,key in heapq.nlargest(k, arr)]"
      ],
      "metadata": {
        "id": "M0c1rr3KrcK4"
      },
      "execution_count": null,
      "outputs": []
    },
    {
      "cell_type": "markdown",
      "source": [
        "# 20/10/2023\n",
        "## 50. Pow(x, n)[Medium]\n",
        "https://leetcode.com/problems/powx-n"
      ],
      "metadata": {
        "id": "AHYamay_7wzi"
      }
    },
    {
      "cell_type": "code",
      "source": [
        "# SK\n",
        "class Solution:\n",
        "    def myPow(self, x: float, n: int) -> float:\n",
        "        #return x ** n\n",
        "        if n == 0: return 1.0\n",
        "        if n == 1: return x\n",
        "\n",
        "        new_n = abs(n)\n",
        "        new_x = x if n > 0 else 1/x\n",
        "        mul_x = 1\n",
        "\n",
        "        while new_n != 0:\n",
        "            if new_n % 2 == 1:\n",
        "                mul_x *= new_x\n",
        "                new_n -= 1\n",
        "            new_x *= new_x\n",
        "            new_n //= 2\n",
        "\n",
        "        return mul_x"
      ],
      "metadata": {
        "id": "EBaPSQp0rmaj"
      },
      "execution_count": null,
      "outputs": []
    },
    {
      "cell_type": "code",
      "source": [
        "# Joe\n",
        "class Solution:\n",
        "    def myPow(self, x: float, n: int) -> float:\n",
        "        def pow(x, n):\n",
        "            if n == 0:\n",
        "                return 1\n",
        "            if n < 0:\n",
        "                return 1.0 / pow(x, -n)\n",
        "            if n & 1:\n",
        "                return x * pow(x*x, (n-1)//2)\n",
        "            else:\n",
        "                return pow(x*x, n//2)\n",
        "        return pow(x, n)"
      ],
      "metadata": {
        "id": "WSOm0SLevbdd"
      },
      "execution_count": null,
      "outputs": []
    },
    {
      "cell_type": "code",
      "source": [
        "# ys\n",
        "class Solution:\n",
        "    def myPow(self, x: float, n: int) -> float:\n",
        "        if x == 0:\n",
        "            return 0\n",
        "        dic = {}\n",
        "\n",
        "        def help(curr, x, n):\n",
        "            #print(curr, x,n)\n",
        "            if n == 1:\n",
        "                return x\n",
        "            elif n == 0:\n",
        "                return curr\n",
        "            elif n == -1:\n",
        "                return 1/x\n",
        "\n",
        "            if (x,n) not in dic:\n",
        "                if n > 1:\n",
        "\n",
        "                    if n % 2 == 1:\n",
        "                        dic[(x,n)] = dic[(x,n)] = help(curr*x, x, n//2) * help(curr*x, x, n//2) * x\n",
        "                    else:\n",
        "                        dic[(x,n)] = dic[(x,n)] = help(curr*x, x, n//2) * help(curr*x, x, n//2)\n",
        "                else:\n",
        "                    if n % 2 == 1:\n",
        "                        dic[(x,n)] = help(curr/x, x, n//2 + 1) * help(curr/x, x, n//2  + 1) / x\n",
        "                    else:\n",
        "                        dic[(x,n)] = help(curr/x, x, n//2 ) * help(curr/x, x, n//2  )\n",
        "            return dic[(x,n)]\n",
        "\n",
        "        dd = help(1, x, n)\n",
        "       # print(dic)\n",
        "        return dd"
      ],
      "metadata": {
        "id": "1EKNukzXwRV3"
      },
      "execution_count": null,
      "outputs": []
    },
    {
      "cell_type": "code",
      "source": [
        "#Minsu's code\n",
        "#TC : O(log N)\n",
        "#SC : O(1)\n",
        "class Solution:\n",
        "    def myPow(self, x: float, n: int) -> float:\n",
        "        if n < 0:\n",
        "            x = 1 / x\n",
        "            n = -n\n",
        "        res = 1\n",
        "        while n:\n",
        "            if n % 2:\n",
        "                res *= x\n",
        "            x *= x\n",
        "            n //= 2\n",
        "        return res"
      ],
      "metadata": {
        "id": "hV8J1FPyy9pO"
      },
      "execution_count": null,
      "outputs": []
    },
    {
      "cell_type": "code",
      "source": [
        "# DW\n",
        "class Solution {\n",
        "public:\n",
        "    double myPow(double x, int n) {\n",
        "        if (n == 0) return 1;\n",
        "\n",
        "        long long nn = n;  // Convert n to long long type for computations\n",
        "\n",
        "        if (nn < 0) {\n",
        "            x = 1 / x;\n",
        "            nn = -nn;\n",
        "        }\n",
        "\n",
        "        double result = 1.0;\n",
        "        while (nn) {\n",
        "            if (nn % 2) {\n",
        "                result *= x;\n",
        "            }\n",
        "            x *= x;\n",
        "            nn /= 2;\n",
        "        }\n",
        "\n",
        "        return result;\n",
        "    }\n",
        "};"
      ],
      "metadata": {
        "id": "Y_Q27hkb1Vxe"
      },
      "execution_count": null,
      "outputs": []
    },
    {
      "cell_type": "markdown",
      "source": [
        "# 23/10/2023\n",
        "## 138. Copy List with Random Pointer\n",
        "[ 138. Copy List with Random Pointer ]( https://leetcode.com/problems/copy-list-with-random-pointer?envType=featured-list&envId=top-facebook-questions?envType=featured-list&envId=top-facebook-questions )"
      ],
      "metadata": {
        "id": "ghcx7OQg9eBG"
      }
    },
    {
      "cell_type": "code",
      "source": [
        "# DW\n",
        "#include <unordered_map>\n",
        "\n",
        "class Solution {\n",
        "public:\n",
        "    Node* copyRandomList(Node* head) {\n",
        "        if (!head) {\n",
        "            return head;\n",
        "        }\n",
        "\n",
        "        std::unordered_map<Node*, Node*> um;\n",
        "\n",
        "        Node* node = head;\n",
        "        while (node) {\n",
        "            Node* newNode = new Node(node->val);\n",
        "            um[node] = newNode;\n",
        "            node = node->next;\n",
        "        }\n",
        "\n",
        "        node = head;\n",
        "        while (node) {\n",
        "            Node* newNode = um[node];\n",
        "            newNode->next = um[node->next];\n",
        "            newNode->random = um[node->random];\n",
        "            node = node->next;\n",
        "        }\n",
        "\n",
        "        return um[head];\n",
        "    }\n",
        "};"
      ],
      "metadata": {
        "id": "c55377G86UOV"
      },
      "execution_count": null,
      "outputs": []
    },
    {
      "cell_type": "code",
      "source": [
        "# Leo\n",
        "class Solution:\n",
        "    def copyRandomList(self, head: 'Optional[Node]') -> 'Optional[Node]':\n",
        "        #create all nodes in HaspMAp when we add them\n",
        "        hash_map = {}\n",
        "        hash_map[None] = None #must\n",
        "        cur = head\n",
        "\n",
        "        #loop traverse until we meet null\n",
        "        while cur:\n",
        "            # Node : Node = Key : value\n",
        "            hash_map[cur] = Node(cur.val)\n",
        "            cur = cur.next\n",
        "\n",
        "        #end loop -> reset the head\n",
        "        cur = head\n",
        "\n",
        "        #loop again\n",
        "        while cur:\n",
        "            copied_node = hash_map[cur]\n",
        "            copied_node.next = hash_map[cur.next]\n",
        "            copied_node.random = hash_map[cur.random]\n",
        "            cur = cur.next\n",
        "\n",
        "        return hash_map[head]"
      ],
      "metadata": {
        "id": "7zyxGkQl56kN"
      },
      "execution_count": null,
      "outputs": []
    },
    {
      "cell_type": "code",
      "source": [
        "#Minsu's code\n",
        "\n",
        "class Solution:\n",
        "    def copyRandomList(self, head: 'Optional[Node]') -> 'Optional[Node]':\n",
        "        map_ = {}\n",
        "        def helper(past):\n",
        "            if past == None:\n",
        "                return None\n",
        "            if past in map_: #이미 처리했을경우\n",
        "                return map_[past]\n",
        "\n",
        "            copy = Node(past.val)\n",
        "            map_[past] = copy\n",
        "            copy.next = helper(past.next)\n",
        "            copy.random = helper(past.random)\n",
        "\n",
        "            return copy\n",
        "\n",
        "\n",
        "        return helper(head)"
      ],
      "metadata": {
        "id": "dlIgDGYOPepa"
      },
      "execution_count": null,
      "outputs": []
    },
    {
      "cell_type": "code",
      "source": [
        "# Joe\n",
        "class Solution:\n",
        "    def copyRandomList(self, head: 'Optional[Node]') -> 'Optional[Node]':\n",
        "        # TC: O(n)\n",
        "        # TS: O(n) -> O(1)\n",
        "        if not head:\n",
        "            return\n",
        "\n",
        "        self.visited = {}\n",
        "\n",
        "        h = head\n",
        "        c = Node(head.val)\n",
        "        self.visited[h] = c\n",
        "\n",
        "        def get_clone(node):\n",
        "            if not node:\n",
        "                return\n",
        "            if node not in self.visited:\n",
        "                self.visited[node] = Node(node.val)\n",
        "            return self.visited[node]\n",
        "\n",
        "        while h:\n",
        "            c.random = get_clone(h.random)\n",
        "            c.next = get_clone(h.next)\n",
        "            c = c.next\n",
        "            h = h.next\n",
        "        return self.visited[head]"
      ],
      "metadata": {
        "id": "1uZMDQ1iQIB4"
      },
      "execution_count": null,
      "outputs": []
    },
    {
      "cell_type": "code",
      "source": [
        "# ys\n",
        "class Solution:\n",
        "    def copyRandomList(self, head: 'Optional[Node]') -> 'Optional[Node]':\n",
        "        if head is None:\n",
        "            return None\n",
        "        dic = {} # key: origin, value: new\n",
        "        node = head\n",
        "        prev = None\n",
        "        while node:\n",
        "            if node not in dic:\n",
        "                dic[node] = Node(node.val)\n",
        "            if prev:\n",
        "                dic[prev].next = dic[node]\n",
        "\n",
        "            if node.random:\n",
        "                if node.random not in dic:\n",
        "                    dic[node.random] = Node(node.random.val)\n",
        "                dic[node].random = dic[node.random]\n",
        "            prev = node\n",
        "            node = node.next\n",
        "        return dic[head]"
      ],
      "metadata": {
        "id": "5kSdsNa1fdIj"
      },
      "execution_count": null,
      "outputs": []
    },
    {
      "cell_type": "code",
      "source": [
        "# JL\n",
        "\"\"\"\n",
        "# Definition for a Node.\n",
        "class Node:\n",
        "    def __init__(self, x: int, next: 'Node' = None, random: 'Node' = None):\n",
        "        self.val = int(x)\n",
        "        self.next = next\n",
        "        self.random = random\n",
        "\"\"\"\n",
        "\n",
        "class Solution:\n",
        "    def copyRandomList(self, head: 'Optional[Node]') -> 'Optional[Node]':\n",
        "        if not head:\n",
        "            return\n",
        "\n",
        "        d = {}\n",
        "        newHead = Node(-1)\n",
        "\n",
        "        copyNode = newHead\n",
        "        node = head\n",
        "        while node:\n",
        "            tempNode = Node(node.val, node.next)\n",
        "            copyNode.next = tempNode\n",
        "            d[node] = tempNode\n",
        "\n",
        "            node = node.next\n",
        "            copyNode = copyNode.next\n",
        "\n",
        "        node = head\n",
        "        copyNode = newHead.next\n",
        "        while node:\n",
        "            if node.random:\n",
        "                copyNode.random = d[node.random]\n",
        "\n",
        "            node = node.next\n",
        "            copyNode = copyNode.next\n",
        "\n",
        "        return newHead.next"
      ],
      "metadata": {
        "id": "X5qb1eK_Amqh"
      },
      "execution_count": null,
      "outputs": []
    },
    {
      "cell_type": "code",
      "source": [
        "# SK\n",
        "\n",
        "class Solution:\n",
        "    def copyRandomList(self, head: 'Optional[Node]') -> 'Optional[Node]':\n",
        "\n",
        "        if head == None: return None\n",
        "        out = {}\n",
        "\n",
        "        def new_head(node):\n",
        "            if node == None: return None\n",
        "            if node in out: return out[node]\n",
        "\n",
        "            out[node] = Node(node.val)\n",
        "            out[node].next = new_head(node.next)\n",
        "            out[node].random = new_head(node.random)\n",
        "            return out[node]\n",
        "\n",
        "        return new_head(head)"
      ],
      "metadata": {
        "id": "bK7BLxZBCdoj"
      },
      "execution_count": null,
      "outputs": []
    },
    {
      "cell_type": "markdown",
      "source": [
        "# 24/10/2023\n",
        "## 125. Valid Palindrome\n",
        "[ 125. Valid Palindrome ]( https://leetcode.com/problems/valid-palindrome?envType=featured-list&envId=top-facebook-questions?envType=featured-list&envId=top-facebook-questions )\n"
      ],
      "metadata": {
        "id": "7C_U6uzD-Djn"
      }
    },
    {
      "cell_type": "code",
      "source": [
        "# DW\n",
        "#include <string>\n",
        "#include <cctype>\n",
        "\n",
        "class Solution {\n",
        "\n",
        "public:\n",
        "    bool isPalindrome(string s) {\n",
        "        int l = 0;\n",
        "        int r = s.length() - 1;\n",
        "\n",
        "        while (l < r) {\n",
        "            while (l < r && !std::isalnum(s[l])) {\n",
        "                l++;\n",
        "            }\n",
        "            while (l < r && !std::isalnum(s[r])) {\n",
        "                r--;\n",
        "            }\n",
        "            if (std::tolower(s[l]) != std::tolower(s[r])) {\n",
        "                return false;\n",
        "            }\n",
        "            l++;\n",
        "            r--;\n",
        "        }\n",
        "\n",
        "        return true;\n",
        "    }\n",
        "};"
      ],
      "metadata": {
        "id": "Tl5Zz_xA9_Gf"
      },
      "execution_count": null,
      "outputs": []
    },
    {
      "cell_type": "code",
      "source": [
        "#Minsu's code\n",
        "\n",
        "import re\n",
        "class Solution:\n",
        "    def isPalindrome(self, s: str) -> bool:\n",
        "        s = s.lower().replace(' ','')\n",
        "        n = re.sub(\"[^0-9a-zA-Z]\",'',s)\n",
        "        l, r = 0, len(n) - 1\n",
        "        while l <= r:\n",
        "            if n[l] != n[r]:\n",
        "                return False\n",
        "            l += 1\n",
        "            r -= 1\n",
        "        return True"
      ],
      "metadata": {
        "id": "_vIZ4BEZyAdv"
      },
      "execution_count": null,
      "outputs": []
    },
    {
      "cell_type": "code",
      "source": [
        "# JL\n",
        "class Solution:\n",
        "    def isPalindrome(self, s: str) -> bool:\n",
        "        l, r = 0, len(s) - 1\n",
        "\n",
        "        while l < r:\n",
        "            while not s[l].isalnum() and l < r:\n",
        "                l += 1\n",
        "            while not s[r].isalnum() and l < r:\n",
        "                r -= 1\n",
        "\n",
        "            if s[l].lower() != s[r].lower():\n",
        "                return False\n",
        "\n",
        "            l += 1\n",
        "            r -= 1\n",
        "\n",
        "        return True"
      ],
      "metadata": {
        "id": "KC1c9OnCGedy"
      },
      "execution_count": null,
      "outputs": []
    },
    {
      "cell_type": "code",
      "source": [
        "# Joe\n",
        "class Solution:\n",
        "    def isPalindrome(self, s: str) -> bool:\n",
        "        l = 0\n",
        "        r = len(s) - 1\n",
        "\n",
        "        while l < r:\n",
        "            if not s[l].isalnum():\n",
        "                l += 1\n",
        "                continue\n",
        "            if not s[r].isalnum():\n",
        "                r -= 1\n",
        "                continue\n",
        "            if s[l].lower() != s[r].lower():\n",
        "                return False\n",
        "            l += 1\n",
        "            r -= 1\n",
        "        return True"
      ],
      "metadata": {
        "id": "GFNJctj-I_RC"
      },
      "execution_count": null,
      "outputs": []
    },
    {
      "cell_type": "code",
      "source": [
        "# SK\n",
        "class Solution:\n",
        "    def isPalindrome(self, s: str) -> bool:\n",
        "        if len(s) == 0: return True\n",
        "\n",
        "        s = \"\".join(re.split(\"[^a-zA-Z0-9]*\", s.lower()))\n",
        "        return s == s[::-1]\n",
        "\n",
        "        # s = [char.lower() for char in s if char.isalpha() == True or char.isdigit() == True]\n",
        "        # A = ''.join(s)\n",
        "        # s.reverse()\n",
        "        # return A == ''.join(s)"
      ],
      "metadata": {
        "id": "u1_qXRG0YJy2"
      },
      "execution_count": null,
      "outputs": []
    },
    {
      "cell_type": "code",
      "source": [
        "# ys\n",
        "class Solution:\n",
        "    def isPalindrome(self, s: str) -> bool:\n",
        "        l, r = 0, len(s)-1\n",
        "\n",
        "        def check(c):\n",
        "            if 'a' <= c <= 'z' or 'A' <= c <= 'Z' or '0' <= c <= '9':\n",
        "                return True\n",
        "\n",
        "        while l < r:\n",
        "            if not check(s[l]):\n",
        "                l += 1\n",
        "                continue\n",
        "            if not check(s[r]):\n",
        "                r -= 1\n",
        "                continue\n",
        "            if s[l].upper() != s[r].upper():\n",
        "                return False\n",
        "            l += 1\n",
        "            r -= 1\n",
        "\n",
        "        return True"
      ],
      "metadata": {
        "id": "ie_eD6MscDvS"
      },
      "execution_count": null,
      "outputs": []
    },
    {
      "cell_type": "markdown",
      "source": [
        "# 25/10/2023\n",
        "## 680. Valid Palindrome II\n",
        "[ 680. Valid Palindrome II ]( https://leetcode.com/problems/valid-palindrome-ii?envType=featured-list&envId=top-facebook-questions?envType=featured-list&envId=top-facebook-questions )"
      ],
      "metadata": {
        "id": "w-gNjLvO-EuQ"
      }
    },
    {
      "cell_type": "code",
      "source": [
        "# DW\n",
        "class Solution {\n",
        "public:\n",
        "    bool isPalindrome(string s) {\n",
        "        int l = 0;\n",
        "        int r = s.length() - 1;\n",
        "        while (l < r) {\n",
        "            if (s[l] != s[r]) {\n",
        "                return false;\n",
        "            }\n",
        "            l++;\n",
        "            r--;\n",
        "        }\n",
        "        return true;\n",
        "    }\n",
        "    bool validPalindrome(string s) {\n",
        "        int l = 0;\n",
        "        int r = s.length() - 1;\n",
        "        while (l < r) {\n",
        "            if (s[l] != s[r]) {\n",
        "                return isPalindrome(s.substr(0, l) + s.substr(l+1)) || isPalindrome(s.substr(0, r) + s.substr(r+1));\n",
        "            }\n",
        "            l++;\n",
        "            r--;\n",
        "        }\n",
        "        return true;\n",
        "    }\n",
        "};"
      ],
      "metadata": {
        "id": "-k25HdF4O-8R"
      },
      "execution_count": null,
      "outputs": []
    },
    {
      "cell_type": "code",
      "source": [
        "# Leo\n",
        "# O(N)\n",
        "class Solution:\n",
        "    def validPalindrome(self, s: str) -> bool:\n",
        "        left, right = 0, len(s)-1\n",
        "\n",
        "        while left < right:\n",
        "            #matched\n",
        "            if s[left] == s[right]:\n",
        "                left +=1\n",
        "                right -=1\n",
        "            else:\n",
        "                #slice the original string into two part\n",
        "                right_deleted = s[left : right]\n",
        "                left_deleted = s[left + 1 : right +1]\n",
        "\n",
        "                return left_deleted == left_deleted[::-1] or right_deleted == right_deleted[::-1]\n",
        "        return True"
      ],
      "metadata": {
        "id": "gZYEk7iEhJxk"
      },
      "execution_count": null,
      "outputs": []
    },
    {
      "cell_type": "code",
      "source": [
        "#Minsu\n",
        "\n",
        "class Solution:\n",
        "    def validPalindrome(self, s: str) -> bool:\n",
        "        def check(l, r):\n",
        "            while l< r:\n",
        "                if s[l] != s[r]:\n",
        "                    return False\n",
        "                l+=1\n",
        "                r-=1\n",
        "            return True\n",
        "\n",
        "        l, r = 0, len(s)-1\n",
        "        while l < r:\n",
        "            if s[l] != s[r]:\n",
        "                return check(l+1,r) or check(l, r-1)\n",
        "            l+=1\n",
        "            r-=1\n",
        "        return True"
      ],
      "metadata": {
        "id": "NJqHa7bpjdgo"
      },
      "execution_count": null,
      "outputs": []
    },
    {
      "cell_type": "code",
      "source": [
        "# Joe\n",
        "class Solution:\n",
        "    def validPalindrome(self, s: str) -> bool:\n",
        "        def helper(l, r, can_delete):\n",
        "            if r-l < 1:\n",
        "                return True\n",
        "\n",
        "            if s[l] != s[r]:\n",
        "                if not can_delete:\n",
        "                    return False\n",
        "                return helper(l+1, r, False) or helper(l, r-1, False)\n",
        "            return helper(l+1, r-1, can_delete)\n",
        "\n",
        "        return helper(0, len(s)-1, True)\n",
        "\n"
      ],
      "metadata": {
        "id": "rmEsGU5rH5W1"
      },
      "execution_count": null,
      "outputs": []
    },
    {
      "cell_type": "markdown",
      "source": [
        "# 26/10/2023\n",
        "## 71. Simplify Path\n",
        "[ 71. Simplify Path ]( https://leetcode.com/problems/simplify-path?envType=featured-list&envId=top-facebook-questions?envType=featured-list&envId=top-facebook-questions )\n",
        "\n"
      ],
      "metadata": {
        "id": "7ZHn54wn-GLg"
      }
    },
    {
      "cell_type": "code",
      "source": [
        "# DW\n",
        "#include <vector>\n",
        "#include <string>\n",
        "#include <iostream>\n",
        "#include <sstream>\n",
        "\n",
        "class Solution {\n",
        "public:\n",
        "    string simplifyPath(string path) {\n",
        "        std::string res;\n",
        "\n",
        "        std::vector<std::string> tokens = split(path, '/');\n",
        "        std::vector<std::string> refined;\n",
        "\n",
        "        for (auto& t : tokens) {\n",
        "            if (t == \"\" || t == \".\") {\n",
        "                continue;\n",
        "            } else if (t == \"..\") {\n",
        "                if (refined.size() > 0) {\n",
        "                    refined.pop_back();\n",
        "                }\n",
        "            } else {\n",
        "                refined.push_back(t);\n",
        "            }\n",
        "        }\n",
        "\n",
        "        for (auto& r : refined) {\n",
        "            res += \"/\" + r;\n",
        "        }\n",
        "\n",
        "        if (res.empty()) {\n",
        "            return \"/\";\n",
        "        }\n",
        "        return res;\n",
        "    }\n",
        "\n",
        "private:\n",
        "    std::vector<std::string> split(const std:: string &s, char delimiter) {\n",
        "        std::vector<std::string> tokens;\n",
        "        std::string token;\n",
        "        std::stringstream ss(s);\n",
        "\n",
        "        while (std::getline(ss, token, delimiter)) {\n",
        "            tokens.push_back(token);\n",
        "        }\n",
        "\n",
        "        return tokens;\n",
        "    }\n",
        "};"
      ],
      "metadata": {
        "id": "17YYLUVzIh7N"
      },
      "execution_count": null,
      "outputs": []
    },
    {
      "cell_type": "code",
      "source": [
        "#Minsu\n",
        "\n",
        "class Solution:\n",
        "    def simplifyPath(self, path: str) -> str:\n",
        "        temp = path.split('/')\n",
        "        res = \"\"\n",
        "        stack = []\n",
        "        for path in temp:\n",
        "            if path == \"..\":\n",
        "                if stack:\n",
        "                    stack.pop()\n",
        "            elif path == '.' or path == \"\":\n",
        "                continue\n",
        "            else:\n",
        "                stack.append(path)\n",
        "\n",
        "        while stack:\n",
        "            path = stack.pop()\n",
        "            if res != \"\":\n",
        "                res = \"/\" + res\n",
        "            res = path + res\n",
        "        return \"/\" + res\n"
      ],
      "metadata": {
        "id": "WGr2cYjfg6b2"
      },
      "execution_count": null,
      "outputs": []
    },
    {
      "cell_type": "code",
      "source": [
        "# Joe\n",
        "class Solution:\n",
        "    def simplifyPath(self, path: str) -> str:\n",
        "        stack = []\n",
        "        for p in path.split(\"/\"):\n",
        "            if not p or p in (\".\", \"/\"):\n",
        "                continue\n",
        "            if p == \"..\":\n",
        "                if stack:\n",
        "                    stack.pop()\n",
        "                continue\n",
        "            stack.append(p)\n",
        "        return \"/\" + \"/\".join(stack)"
      ],
      "metadata": {
        "id": "cDyty19Oma-P"
      },
      "execution_count": null,
      "outputs": []
    },
    {
      "cell_type": "markdown",
      "source": [
        "# 27/10/2023\n",
        "## 1091. Shortest Path in Binary Matrix\n",
        "[ 1091. Shortest Path in Binary Matrix ]( https://leetcode.com/problems/shortest-path-in-binary-matrix?envType=featured-list&envId=top-facebook-questions?envType=featured-list&envId=top-facebook-questions )\n"
      ],
      "metadata": {
        "id": "7g6Y5oCV-N5A"
      }
    },
    {
      "cell_type": "code",
      "source": [
        "# DW\n",
        "\n",
        "#include <vector>\n",
        "#include <deque>\n",
        "\n",
        "class Solution {\n",
        "public:\n",
        "    int shortestPathBinaryMatrix(vector<vector<int>>& grid) {\n",
        "        int n = grid.size();\n",
        "        if (grid[0][0] != 0 || grid[n-1][n-1] != 0) {\n",
        "            return -1;\n",
        "        }\n",
        "\n",
        "        std::vector<std::pair<int, int>> dir = {{1, 1}, {1, 0}, {0, 1}, {-1, 1}, {-1, -1}, {-1, 0}, {0, -1}, {1, -1}};\n",
        "        std::deque<std::pair<int,int>> dq;\n",
        "        std::deque<int> cnt;\n",
        "        dq.push_back({0, 0});\n",
        "        cnt.push_back(1);\n",
        "        while (!dq.empty()) {\n",
        "            std::pair<int, int> p = dq.front();\n",
        "            dq.pop_front();\n",
        "            int res = cnt.front();\n",
        "            cnt.pop_front();\n",
        "            if (p == std::make_pair(n-1, n-1)) {\n",
        "                return res;\n",
        "            }\n",
        "\n",
        "            for (int i=0; i<8; i++) {\n",
        "                int nr = p.first + dir[i].first;\n",
        "                int nc = p.second + dir[i].second;\n",
        "                if (0 <= nr && nr < n && 0 <= nc && nc < n && grid[nr][nc] == 0) {\n",
        "                    grid[nr][nc] = 1;\n",
        "                    dq.push_back(std::make_pair(nr, nc));\n",
        "                    cnt.push_back(res + 1);\n",
        "                }\n",
        "            }\n",
        "        }\n",
        "\n",
        "        return -1;\n",
        "    }\n",
        "};"
      ],
      "metadata": {
        "id": "_qOKC5vkpi_k"
      },
      "execution_count": null,
      "outputs": []
    },
    {
      "cell_type": "code",
      "source": [
        "# ys\n",
        "class Solution:\n",
        "    def shortestPathBinaryMatrix(self, grid: List[List[int]]) -> int:\n",
        "        if grid[0][0] == 1:\n",
        "            return -1\n",
        "\n",
        "        m = len(grid)\n",
        "        n = len(grid[0])\n",
        "\n",
        "        d = [[-1,-1],[-1,0],[-1,1],[0,1],[0,-1],[1,-1],[1,0],[1,1]]\n",
        "        if grid[0][0] == 1:\n",
        "            return -1\n",
        "\n",
        "        deq = deque([(0,0,1)])\n",
        "\n",
        "        while deq:\n",
        "            x, y, c = deq.popleft()\n",
        "\n",
        "            if x == m - 1 and y == n - 1:\n",
        "                return c\n",
        "\n",
        "            for i,j in d:\n",
        "                new_x = x+i\n",
        "                new_y = y+j\n",
        "\n",
        "                if 0<=new_x<m and 0<=new_y<n and grid[new_x][new_y] == 0:\n",
        "                    grid[new_x][new_y] = 1\n",
        "                    deq.append((new_x, new_y, c + 1))\n",
        "\n",
        "\n",
        "        return -1\n"
      ],
      "metadata": {
        "id": "96pjFVEuud_K"
      },
      "execution_count": null,
      "outputs": []
    },
    {
      "cell_type": "code",
      "source": [
        "#Minsu\n",
        "\n",
        "import heapq\n",
        "class Solution:\n",
        "    def shortestPathBinaryMatrix(self, grid: List[List[int]]) -> int:\n",
        "        if grid[0][0]==1:\n",
        "            return -1\n",
        "        dirs = [(0,1),(0,-1),(1,0),(-1,0),(-1,1),(1,1),(1,-1),(-1,-1)]\n",
        "        visited = set()\n",
        "        visited.add((0,0))\n",
        "        hq = []\n",
        "        heapq.heappush(hq,(1,0,0))\n",
        "        n, m = len(grid)-1, len(grid[0])-1\n",
        "        while hq:\n",
        "            step, x, y = heapq.heappop(hq)\n",
        "            if x==n and y == m:\n",
        "                return step\n",
        "            for d in dirs:\n",
        "                dx = d[0] + x\n",
        "                dy = d[1] + y\n",
        "                if dx >= 0 and dx <= n and dy >= 0 and dy <= m and grid[dx][dy] == 0 and (dx,dy) not in visited:\n",
        "                    heapq.heappush(hq,(step+1, dx, dy))\n",
        "                    visited.add((dx,dy))\n",
        "        return -1\n"
      ],
      "metadata": {
        "id": "9nurtjX74Ack"
      },
      "execution_count": null,
      "outputs": []
    },
    {
      "cell_type": "code",
      "source": [
        "\n",
        "#Leo\n",
        "\n",
        "class Solution:\n",
        "    def shortestPathBinaryMatrix(self, grid: List[List[int]]) -> int:\n",
        "        ans=0\n",
        "        m,n=len(grid), len(grid[0])\n",
        "\n",
        "        movements = [[-1,0], [1,0], [0,-1],[0,1],[-1,-1],[-1,1], [1,-1],[1,1]]\n",
        "        if grid[0][0]==1 or grid[m-1][n-1]==1:\n",
        "            return -1\n",
        "\n",
        "        #starting point\n",
        "        q=[(0,0)]\n",
        "        while q:\n",
        "            tmp_q=[]\n",
        "            ans+=1\n",
        "\n",
        "            while q:\n",
        "                x,y=q.pop()\n",
        "                if(x,y)==(m-1,n-1):\n",
        "                    return ans\n",
        "\n",
        "                for dx,dy in movements:\n",
        "                    xx,yy=x+dx,y+dy\n",
        "                    if 0<=xx<m and 0<=yy<n and not grid[xx][yy]:\n",
        "                        grid[xx][yy]=1\n",
        "                        tmp_q.append((xx,yy))\n",
        "\n",
        "            q=tmp_q\n",
        "\n",
        "        return -1"
      ],
      "metadata": {
        "id": "gFr1bSKThYT_"
      },
      "execution_count": null,
      "outputs": []
    },
    {
      "cell_type": "code",
      "source": [
        "# Joe\n",
        "class Solution:\n",
        "    def shortestPathBinaryMatrix(self, grid: List[List[int]]) -> int:\n",
        "        ROW = len(grid) - 1\n",
        "        COL = len(grid[0]) - 1\n",
        "        directions = [\n",
        "            (-1, 0),\n",
        "            (-1, 1),\n",
        "            (0, 1),\n",
        "            (1, 1),\n",
        "            (1, 0),\n",
        "            (1, -1),\n",
        "            (0, -1),\n",
        "            (-1, -1)\n",
        "        ]\n",
        "        q = deque()\n",
        "        visited = set()\n",
        "        min_path = float('inf')\n",
        "        if grid[0][0] != 0:\n",
        "            return -1\n",
        "        q.append((0, 0, 1))\n",
        "        visited.add((0, 0))\n",
        "        while q:\n",
        "            r, c, path = q.popleft()\n",
        "            if r == ROW and c == COL:\n",
        "                min_path = min(min_path, path)\n",
        "                continue\n",
        "            for d in directions:\n",
        "                nr = r + d[0]\n",
        "                nc = c + d[1]\n",
        "                if nr < 0 or nc < 0 or nr > ROW or nc > COL:\n",
        "                    continue\n",
        "                if grid[nr][nc] == 0 and (nr, nc) not in visited:\n",
        "                    visited.add((nr, nc))\n",
        "                    q.append((nr, nc, path+1))\n",
        "        return min_path if min_path != float('inf') else -1"
      ],
      "metadata": {
        "id": "8rB1560yzey1"
      },
      "execution_count": null,
      "outputs": []
    },
    {
      "cell_type": "markdown",
      "source": [
        "\n",
        "# 30/10/2023\n",
        "## 528. Random Pick with Weight\n",
        "[ 528. Random Pick with Weight ]( https://leetcode.com/problems/random-pick-with-weight?envType=featured-list&envId=top-facebook-questions?envType=featured-list&envId=top-facebook-questions )\n"
      ],
      "metadata": {
        "id": "YlqJJGZH-BxX"
      }
    },
    {
      "cell_type": "code",
      "source": [
        "#ys\n",
        "class Solution:\n",
        "\n",
        "    def __init__(self, w: List[int]):\n",
        "        self.w = []\n",
        "        prev = 0\n",
        "        for item in w:\n",
        "            self.w.append(item + prev)\n",
        "            prev = self.w[-1]\n",
        "\n",
        "    def pickIndex(self) -> int:\n",
        "        r = random.randint(0, self.w[-1]-1)\n",
        "        index = bisect.bisect(self.w, r)\n",
        "        return index"
      ],
      "metadata": {
        "id": "5o86jYOO2N0K"
      },
      "execution_count": null,
      "outputs": []
    },
    {
      "cell_type": "code",
      "source": [
        "#Minsu\n",
        "\n",
        "import random\n",
        "class Solution:\n",
        "    def __init__(self, w: List[int]):\n",
        "        self.w = []\n",
        "        self.w.append(w[0])\n",
        "        for i in range(1, len(w)):\n",
        "            self.w.append(self.w[i - 1] + w[i])\n",
        "\n",
        "    def pickIndex(self) -> int:\n",
        "        preSum = self.w[-1]\n",
        "        p = random.randint(0, preSum - 1)\n",
        "        l, r = 0, len(self.w) - 1\n",
        "        while l <= r:\n",
        "            m = l + (r - l) // 2\n",
        "            if self.w[m] > p:\n",
        "                r = m - 1\n",
        "            else:\n",
        "                l = m + 1\n",
        "        return l"
      ],
      "metadata": {
        "id": "dKTRfdp8SrNw"
      },
      "execution_count": null,
      "outputs": []
    },
    {
      "cell_type": "code",
      "source": [
        "# Joe\n",
        "class Solution:\n",
        "\n",
        "    def __init__(self, w: List[int]):\n",
        "        self.w = []\n",
        "        cu = 0\n",
        "        for i in w:\n",
        "            cu += i\n",
        "            self.w.append(cu)\n",
        "\n",
        "    def pickIndex(self) -> int:\n",
        "        target = random.random() * self.w[-1]\n",
        "        return bisect.bisect_left(self.w, target)"
      ],
      "metadata": {
        "id": "PoIlKNZ4TPi9"
      },
      "execution_count": null,
      "outputs": []
    },
    {
      "cell_type": "code",
      "source": [
        "# DW - Memory Limit Exceeded\n",
        "\n",
        "#include <iostream>\n",
        "#include <vector>\n",
        "#include <numeric>\n",
        "\n",
        "class Solution {\n",
        "private:\n",
        "    vector<int> indices;\n",
        "    int cur = 0;\n",
        "public:\n",
        "    Solution(vector<int>& w) {\n",
        "        for (int i=0; i<w.size(); i++) {\n",
        "            for (int j=0; j<w[i]; j++) {\n",
        "                indices.push_back(i);\n",
        "            }\n",
        "        }\n",
        "        random_shuffle(indices.begin(), indices.end());\n",
        "    }\n",
        "\n",
        "    int pickIndex() {\n",
        "        cur = cur % indices.size();\n",
        "        return indices[cur++];\n",
        "    }\n",
        "};"
      ],
      "metadata": {
        "id": "bDrpqYWVV63C"
      },
      "execution_count": null,
      "outputs": []
    },
    {
      "cell_type": "markdown",
      "source": [
        "\n",
        "# 31/10/2023\n",
        "## 314. Binary Tree Vertical Order Traversal\n",
        "[ 314. Binary Tree Vertical Order Traversal ]( https://leetcode.com/problems/binary-tree-vertical-order-traversal?envType=featured-list&envId=top-facebook-questions?envType=featured-list&envId=top-facebook-questions )\n"
      ],
      "metadata": {
        "id": "SD49j-Ni2Ptj"
      }
    },
    {
      "cell_type": "code",
      "source": [
        "#Minsu\n",
        "\n",
        "from collections import defaultdict\n",
        "class Solution:\n",
        "    def verticalOrder(self, root: Optional[TreeNode]) -> List[List[int]]:\n",
        "        if root == None:\n",
        "            return []\n",
        "        map_ = defaultdict(list)\n",
        "        que = deque()\n",
        "        que.append((0,root))\n",
        "        min_, max_ = 0, 0\n",
        "        while que:\n",
        "            ver, node = que.popleft()\n",
        "            map_[ver].append(node.val)\n",
        "            if node.left:\n",
        "                que.append((ver-1,node.left))\n",
        "                min_ = min(min_, ver-1)\n",
        "            if node.right:\n",
        "                que.append((ver+1,node.right))\n",
        "                max_ = max(max_, ver+1)\n",
        "        res = []\n",
        "        for key in range(min_,max_+1):\n",
        "            res.append(map_[key])\n",
        "        return res"
      ],
      "metadata": {
        "id": "B_-rk1KipwlO"
      },
      "execution_count": null,
      "outputs": []
    },
    {
      "cell_type": "code",
      "source": [
        "# Joe\n",
        "class Solution:\n",
        "    def verticalOrder(self, root: Optional[TreeNode]) -> List[List[int]]:\n",
        "        queue = deque([(root, 0)])\n",
        "        minus = []\n",
        "        plus = []\n",
        "        while queue:\n",
        "            node, col = queue.popleft()\n",
        "            if not node:\n",
        "                continue\n",
        "            if col >= 0:\n",
        "                if len(plus) <= col:\n",
        "                    plus.append([])\n",
        "                plus[col].append(node.val)\n",
        "            else:\n",
        "                if len(minus) < abs(col):\n",
        "                    minus.append([])\n",
        "                minus[abs(col)-1].append(node.val)\n",
        "\n",
        "            queue.append((node.left, col-1))\n",
        "            queue.append((node.right, col+1))\n",
        "        return minus[::-1]+plus"
      ],
      "metadata": {
        "id": "dzA8d21BVR0C"
      },
      "execution_count": null,
      "outputs": []
    },
    {
      "cell_type": "code",
      "source": [
        "# ys\n",
        "class Solution:\n",
        "    def verticalOrder(self, root: Optional[TreeNode]) -> List[List[int]]:\n",
        "        if not root:\n",
        "            return root\n",
        "        dic = collections.defaultdict(list)\n",
        "        deq = deque([(root,0)])\n",
        "        mn = 0\n",
        "\n",
        "        while deq:\n",
        "            node, i = deq.popleft()\n",
        "            dic[i].append(node.val)\n",
        "\n",
        "            mn = min(mn,i)\n",
        "\n",
        "            if node.left:\n",
        "                deq.append((node.left, i-1))\n",
        "            if node.right:\n",
        "                deq.append((node.right, i+1))\n",
        "        ans = []\n",
        "        while mn in dic:\n",
        "            ans.append(dic[mn])\n",
        "            mn += 1\n",
        "        return ans"
      ],
      "metadata": {
        "id": "PO2FUnb4YxyX"
      },
      "execution_count": null,
      "outputs": []
    },
    {
      "cell_type": "code",
      "source": [
        "# JL\n",
        "class Solution:\n",
        "    def verticalOrder(self, root: Optional[TreeNode]) -> List[List[int]]:\n",
        "        if not root: return []\n",
        "\n",
        "        q = deque()\n",
        "        q.append((root, 0))\n",
        "        d = defaultdict(list)\n",
        "        minPos = maxPos = 0\n",
        "\n",
        "        while q:\n",
        "            node, col = q.popleft()\n",
        "            if not node:\n",
        "                continue\n",
        "\n",
        "            d[col].append(node.val)\n",
        "\n",
        "            if node.left:\n",
        "                q.append((node.left, col - 1))\n",
        "                minPos = min(minPos, col - 1)\n",
        "            if node.right:\n",
        "                q.append((node.right, col + 1))\n",
        "                maxPos = max(maxPos, col + 1)\n",
        "\n",
        "        res = [[] for _ in range(-minPos + maxPos + 1)]\n",
        "        for key, val in d.items():\n",
        "            res[key + -minPos] += val\n",
        "\n",
        "        returnres"
      ],
      "metadata": {
        "id": "tNlynRyMj7IF"
      },
      "execution_count": null,
      "outputs": []
    },
    {
      "cell_type": "markdown",
      "source": [
        "\n",
        "# 01/11/2023\n",
        "## 227. Basic Calculator II\n",
        "[ 227. Basic Calculator II ]( https://leetcode.com/problems/basic-calculator-ii?envType=featured-list&envId=top-facebook-questions?envType=featured-list&envId=top-facebook-questions )\n"
      ],
      "metadata": {
        "id": "fCzk3gcp2W_1"
      }
    },
    {
      "cell_type": "code",
      "source": [
        "#Minsu\n",
        "\n",
        "class Solution:\n",
        "    def calculate(self, s: str) -> int:\n",
        "        s = s.replace(' ','')\n",
        "        stack = []\n",
        "        priority ={ '*':3\n",
        "                   ,'/':3\n",
        "                   ,'+':2\n",
        "                   ,'-':2\n",
        "                   ,'(':1\n",
        "                   }\n",
        "        postfix = []\n",
        "        temp = \"\"\n",
        "        for c in s:\n",
        "            if c.isnumeric():\n",
        "                temp += c\n",
        "            else:\n",
        "                postfix.append(temp)\n",
        "                temp = \"\"\n",
        "                if c == '(':\n",
        "                    stack.append(c)\n",
        "                elif c == ')':\n",
        "                    while stack[-1] != '(':\n",
        "                        postfix.append(stack.pop())\n",
        "                    stack.pop()\n",
        "                else:\n",
        "                    while stack and priority[c] <= priority[stack[-1]]:\n",
        "                        postfix.append(stack.pop())\n",
        "                    stack.append(c)\n",
        "        if temp != \"\":\n",
        "            postfix.append(temp)\n",
        "        while stack:\n",
        "            postfix.append(stack.pop())\n",
        "\n",
        "        numStack = []\n",
        "        for c in postfix:\n",
        "            if c.isnumeric():\n",
        "                numStack.append(int(c))\n",
        "            elif c == '+':\n",
        "                n2 = numStack.pop()\n",
        "                n1 = numStack.pop()\n",
        "                numStack.append(n1 + n2)\n",
        "            elif c == '-':\n",
        "                n2 = numStack.pop()\n",
        "                n1 = numStack.pop()\n",
        "                numStack.append(n1 - n2)\n",
        "            elif c == '*':\n",
        "                n2 = numStack.pop()\n",
        "                n1 = numStack.pop()\n",
        "                numStack.append(n1 * n2)\n",
        "            elif c == '/':\n",
        "                n2 = numStack.pop()\n",
        "                n1 = numStack.pop()\n",
        "                numStack.append(n1 // n2)\n",
        "        return numStack[-1]"
      ],
      "metadata": {
        "id": "PwcKmBmD2j-7"
      },
      "execution_count": null,
      "outputs": []
    },
    {
      "cell_type": "code",
      "source": [
        "# SK\n",
        "class Solution:\n",
        "    def calculate(self, s: str) -> int:\n",
        "        oper = []\n",
        "        numb = []\n",
        "        pre_idx = 0\n",
        "\n",
        "        #s = s.replace(\" \", '')\n",
        "        calc = {'+': lambda i, j: i + j, '-': lambda i, j: i - j, '*': lambda i, j: i * j, '/': lambda i, j: i / j}\n",
        "\n",
        "        for idx, val in enumerate(s):\n",
        "            if val and val in ['+', '-', '*', '/']:\n",
        "                numb.append(s[pre_idx: idx])\n",
        "                oper.append(val)\n",
        "                pre_idx = idx+1\n",
        "            else: pass\n",
        "\n",
        "            if idx == len(s)-1:\n",
        "                numb.append(s[pre_idx::])\n",
        "\n",
        "            if len(oper) >= 2 and len(numb) == 3:\n",
        "                if oper[1] in ['+', '-'] or oper[0] == '/':\n",
        "                    tmp = calc[oper[0]](int(numb[0]), int(numb[1]))\n",
        "                    oper.pop(0)\n",
        "                    numb.pop(0)\n",
        "                    numb[0] = int(tmp)\n",
        "                else:\n",
        "                    tmp = calc[oper[1]](int(numb[1]), int(numb[2]))\n",
        "                    oper.pop(1)\n",
        "                    numb.pop(1)\n",
        "                    numb[1] = int(tmp)\n",
        "            #print(numb)\n",
        "        if len(oper) == 1:\n",
        "            return int(calc[oper[0]](int(numb[0]), int(numb[1])))\n",
        "        return int(numb[0])"
      ],
      "metadata": {
        "id": "ItcSB1zLDbjv"
      },
      "execution_count": null,
      "outputs": []
    },
    {
      "cell_type": "markdown",
      "source": [
        "\n",
        "# 02/11/2023\n",
        "## 162. Find Peak Element\n",
        "[ 162. Find Peak Element ]( https://leetcode.com/problems/find-peak-element?envType=featured-list&envId=top-facebook-questions?envType=featured-list&envId=top-facebook-questions )\n"
      ],
      "metadata": {
        "id": "8POUh1BQ2ZAQ"
      }
    },
    {
      "cell_type": "code",
      "source": [
        "#Minsu\n",
        "\n",
        "class Solution:\n",
        "    def findPeakElement(self, nums: List[int]) -> int:\n",
        "\n",
        "        l, r = 0, len(nums) - 1\n",
        "\n",
        "        while l < r:\n",
        "            m = l + (r - l) // 2\n",
        "            if nums[m] > nums[m + 1] and nums[m] > nums[m - 1]:\n",
        "                return m\n",
        "            elif nums[m] < nums[m + 1]:\n",
        "                l = m + 1\n",
        "            else:\n",
        "                r = m\n",
        "        return l"
      ],
      "metadata": {
        "id": "yyLUNZ2hUObT"
      },
      "execution_count": null,
      "outputs": []
    },
    {
      "cell_type": "code",
      "source": [
        "# Joe\n",
        "class Solution:\n",
        "    def findPeakElement(self, nums: List[int]) -> int:\n",
        "        l = 0\n",
        "        r = len(nums) - 1\n",
        "\n",
        "        while l < r:\n",
        "            mid = (l+r)//2\n",
        "            if nums[mid] > nums[mid+1]:\n",
        "                r = mid\n",
        "            else:\n",
        "                l = mid + 1\n",
        "        return l"
      ],
      "metadata": {
        "id": "XHi5kzySsZCB"
      },
      "execution_count": null,
      "outputs": []
    },
    {
      "cell_type": "markdown",
      "source": [
        "\n",
        "# 03/11/2023\n",
        "## 1249. Minimum Remove to Make Valid Parentheses\n",
        "[ 1249. Minimum Remove to Make Valid Parentheses ]( https://leetcode.com/problems/minimum-remove-to-make-valid-parentheses?envType=featured-list&envId=top-facebook-questions?envType=featured-list&envId=top-facebook-questions )\n"
      ],
      "metadata": {
        "id": "ygrXlNJ02aWJ"
      }
    },
    {
      "cell_type": "code",
      "source": [
        "# Joe\n",
        "class Solution:\n",
        "    def minRemoveToMakeValid(self, s: str) -> str:\n",
        "        _candidate = set()\n",
        "        _open = []\n",
        "        for i, c in enumerate(s):\n",
        "            if c not in ['(', ')']:\n",
        "                continue\n",
        "            if c == ')':\n",
        "                if _open:\n",
        "                    _candidate.remove(_open.pop())\n",
        "                else:\n",
        "                    _candidate.add(i)\n",
        "            else:\n",
        "                _open.append(i)\n",
        "                _candidate.add(i)\n",
        "        return \"\".join([c for i, c in enumerate(s) if i not in _candidate])\n"
      ],
      "metadata": {
        "id": "e4GnFLSg5QM2"
      },
      "execution_count": null,
      "outputs": []
    },
    {
      "cell_type": "code",
      "source": [
        "#Minsu\n",
        "\n",
        "class Solution:\n",
        "    def minRemoveToMakeValid(self, s: str) -> str:\n",
        "        stack = []\n",
        "        delIdx = set()\n",
        "        res = \"\"\n",
        "        for i,c in enumerate(s):\n",
        "            if c == '(':\n",
        "                stack.append(i)\n",
        "            elif c ==')':\n",
        "                if stack:\n",
        "                    stack.pop()\n",
        "                else:\n",
        "                    delIdx.add(i)\n",
        "\n",
        "        if stack:\n",
        "            delIdx.update(stack)\n",
        "\n",
        "\n",
        "        for i,c in enumerate(s):\n",
        "            if i not in delIdx:\n",
        "                res += c\n",
        "        return res"
      ],
      "metadata": {
        "id": "HrGePTbK6yFd"
      },
      "execution_count": null,
      "outputs": []
    },
    {
      "cell_type": "markdown",
      "source": [
        "\n",
        "# 06/11/2023\n",
        "## 236. Lowest Common Ancestor of a Binary Tree\n",
        "[ 236. Lowest Common Ancestor of a Binary Tree ]( https://leetcode.com/problems/lowest-common-ancestor-of-a-binary-tree?envType=featured-list&envId=top-facebook-questions?envType=featured-list&envId=top-facebook-questions )\n",
        "\n"
      ],
      "metadata": {
        "id": "MztYslib9_JI"
      }
    },
    {
      "cell_type": "code",
      "source": [
        "# SK\n",
        "## 솔루션에서 카피했습니다.. ㅠ 다른분들 설명 들을께요,,\n",
        "\n",
        "class Solution:\n",
        "    def lowestCommonAncestor(self, root: 'TreeNode', p: 'TreeNode', q: 'TreeNode') -> 'TreeNode':\n",
        "        if root == p or root == q:\n",
        "            return root\n",
        "\n",
        "        left = right = None\n",
        "        if root.left:\n",
        "            left = self.lowestCommonAncestor(root.left, p, q)\n",
        "        if root.right:\n",
        "            right = self.lowestCommonAncestor(root.right, p, q)\n",
        "\n",
        "        if left and right:\n",
        "            return root\n",
        "        elif left:\n",
        "            return left\n",
        "        else:\n",
        "            return right"
      ],
      "metadata": {
        "id": "8b8Vbh1W3eWS"
      },
      "execution_count": null,
      "outputs": []
    },
    {
      "cell_type": "code",
      "source": [
        "#Minsu\n",
        "\n",
        "class Solution:\n",
        "    def lowestCommonAncestor(self, root: 'TreeNode', p: 'TreeNode', q: 'TreeNode') -> 'TreeNode':\n",
        "        if root == None:\n",
        "            return None\n",
        "        if root == p or root == q:\n",
        "            return root\n",
        "\n",
        "        left = self.lowestCommonAncestor(root.left, p, q)\n",
        "        right =self.lowestCommonAncestor(root.right, p, q)\n",
        "\n",
        "        if left and right:\n",
        "            return root\n",
        "        if left:\n",
        "            return left\n",
        "        else:\n",
        "            return right"
      ],
      "metadata": {
        "id": "glM00dm8E_m1"
      },
      "execution_count": null,
      "outputs": []
    },
    {
      "cell_type": "code",
      "source": [
        "# ys\n",
        "class Solution:\n",
        "    def lowestCommonAncestor(self, root: 'TreeNode', p: 'TreeNode', q: 'TreeNode') -> 'TreeNode':\n",
        "        self.pl, self.ql = None,None\n",
        "        arr = [root]\n",
        "\n",
        "        def help(arr):\n",
        "            if arr[-1] == p:\n",
        "                self.pl = list(arr)\n",
        "            if arr[-1] == q:\n",
        "                self.ql = list(arr)\n",
        "            if self.pl and self.ql:\n",
        "                return\n",
        "\n",
        "            if arr[-1].left:\n",
        "                arr.append(arr[-1].left)\n",
        "                help(arr)\n",
        "                arr.pop()\n",
        "            if arr[-1].right:\n",
        "                arr.append(arr[-1].right)\n",
        "                help(arr)\n",
        "                arr.pop()\n",
        "        help(arr)\n",
        "\n",
        "        while self.pl[-1] != self.ql[-1]:\n",
        "            if len(self.pl) > len(self.ql):\n",
        "                self.pl.pop()\n",
        "            else:\n",
        "                self.ql.pop()\n",
        "\n",
        "        return self.ql[-1]"
      ],
      "metadata": {
        "id": "-FPdwCKaxiul"
      },
      "execution_count": null,
      "outputs": []
    },
    {
      "cell_type": "markdown",
      "source": [
        "# 07/11/2023\n",
        "## 1570. Dot Product of Two Sparse Vectors\n",
        "[ 1570. Dot Product of Two Sparse Vectors ]( https://leetcode.com/problems/dot-product-of-two-sparse-vectors?envType=featured-list&envId=top-facebook-questions?envType=featured-list&envId=top-facebook-questions )\n",
        "\n"
      ],
      "metadata": {
        "id": "A7kft77uivnE"
      }
    },
    {
      "cell_type": "code",
      "source": [
        "# SK\n",
        "class SparseVector:\n",
        "    def __init__(self, nums):\n",
        "        #self.sv = nums\n",
        "        #self.sv = {idx:val for idx, val in enumerate(nums) if val != 0}\n",
        "        self.sv = [(idx, val) for idx, val in enumerate(nums) if val != 0]\n",
        "\n",
        "    def dotProduct(self, vec):\n",
        "        output = 0\n",
        "\n",
        "        # if len(self.sv) == len(vec.sv):\n",
        "        #     for i in range(len(vec.sv)):\n",
        "        #         output += self.sv[i] * vec.sv[i]\n",
        "        # else: return None\n",
        "\n",
        "        # if len(self.sv) > len(vec.sv):\n",
        "        #     for key in vec.sv.keys():\n",
        "        #         if key in self.sv:\n",
        "        #             output += self.sv[key] * vec.sv[key]\n",
        "        # else:\n",
        "        #      for key in self.sv.keys():\n",
        "        #         if key in vec.sv:\n",
        "        #             output += self.sv[key] * vec.sv[key]\n",
        "\n",
        "        # shared_key = set(self.sv.keys()).intersection(set(vec.sv.keys()))\n",
        "\n",
        "        # for key in shared_key:\n",
        "        #     output += self.sv[key] * vec.sv[key]\n",
        "\n",
        "        output = 0\n",
        "        shared_key = set([key for key,_ in self.sv]).intersection(set([key for key,_ in vec.sv]))\n",
        "        self.idx, vec.idx = 0, 0\n",
        "\n",
        "        while len(shared_key) != 0:\n",
        "            if self.sv[self.idx][0] in shared_key and vec.sv[vec.idx][0] in shared_key:\n",
        "                output += self.sv[self.idx][1] * vec.sv[vec.idx][1]\n",
        "                shared_key.remove(self.sv[self.idx][0])\n",
        "            elif self.sv[self.idx][0] not in shared_key:\n",
        "                self.idx += 1\n",
        "            elif vec.sv[vec.idx][0] not in shared_key:\n",
        "                vec.idx += 1\n",
        "\n",
        "        return output"
      ],
      "metadata": {
        "id": "yBPgFAAXv8h6"
      },
      "execution_count": null,
      "outputs": []
    },
    {
      "cell_type": "code",
      "source": [
        "# DW\n",
        "class SparseVector {\n",
        "public:\n",
        "    vector<int> numss;\n",
        "\n",
        "    SparseVector(vector<int> &nums) {\n",
        "        numss = nums;\n",
        "    }\n",
        "\n",
        "    // Return the dotProduct of two sparse vectors\n",
        "    int dotProduct(SparseVector& vec) {\n",
        "        int res = 0;\n",
        "\n",
        "        for (int i=0; i<vec.numss.size(); i++) {\n",
        "            res += numss[i] * vec.numss[i];\n",
        "        }\n",
        "\n",
        "        return res;\n",
        "    }\n",
        "};"
      ],
      "metadata": {
        "id": "izNKsCPaOfYg"
      },
      "execution_count": null,
      "outputs": []
    },
    {
      "cell_type": "code",
      "source": [
        "#Minsu\n",
        "\n",
        "class SparseVector:\n",
        "    def __init__(self, nums: List[int]):\n",
        "        self.nums = nums\n",
        "\n",
        "    # Return the dotProduct of two sparse vectors\n",
        "    def dotProduct(self, vec: 'SparseVector') -> int:\n",
        "        sum_ = 0\n",
        "        for i in range(len(self.nums)):\n",
        "            sum_ += (self.nums[i] * vec.nums[i])\n",
        "        return sum_"
      ],
      "metadata": {
        "id": "wls92W88Ta4E"
      },
      "execution_count": null,
      "outputs": []
    },
    {
      "cell_type": "code",
      "source": [
        "# ys\n",
        "class SparseVector:\n",
        "    def __init__(self, nums: List[int]):\n",
        "        self.dic = {}\n",
        "        for i,n in enumerate(nums):\n",
        "            if n != 0:\n",
        "                self.dic[i] = n\n",
        "\n",
        "    # Return the dotProduct of two sparse vectors\n",
        "    def dotProduct(self, vec: 'SparseVector') -> int:\n",
        "        ans = 0\n",
        "        if len(vec.dic) > len(self.dic):\n",
        "            non_sparse = vec.dic\n",
        "            sparse = self.dic\n",
        "        else:\n",
        "            non_sparse = self.dic\n",
        "            sparse = vec.dic\n",
        "\n",
        "        for k in sparse:\n",
        "            if k in non_sparse:\n",
        "                ans += sparse[k] * non_sparse[k]\n",
        "        return ans"
      ],
      "metadata": {
        "id": "xNR-1_3Lf3p_"
      },
      "execution_count": null,
      "outputs": []
    },
    {
      "cell_type": "code",
      "source": [
        "# Joe\n",
        "class SparseVector:\n",
        "    def __init__(self, nums: List[int]):\n",
        "        self.q = [(i, n) for i, n in enumerate(nums) if n != 0]\n",
        "\n",
        "    # Return the dotProduct of two sparse vectors\n",
        "    def dotProduct(self, vec: 'SparseVector') -> int:\n",
        "        res = 0\n",
        "        p1, p2 = 0, 0\n",
        "        while p1 < len(self.q) and p2 < len(vec.q):\n",
        "            i1, v1 = self.q[p1]\n",
        "            i2, v2 = vec.q[p2]\n",
        "            if i1 == i2:\n",
        "                res += v1 * v2\n",
        "                p1 += 1\n",
        "                p2 += 1\n",
        "            elif i1 > i2:\n",
        "                p2 += 1\n",
        "            else:\n",
        "                p1 += 1\n",
        "        return res\n"
      ],
      "metadata": {
        "id": "wz9J_-qs38Nl"
      },
      "execution_count": null,
      "outputs": []
    },
    {
      "cell_type": "markdown",
      "source": [
        "# 08/11/2023\n",
        "## 1762. Buildings With an Ocean View\n",
        "[ 1762. Buildings With an Ocean View ]( https://leetcode.com/problems/buildings-with-an-ocean-view?envType=featured-list&envId=top-facebook-questions?envType=featured-list&envId=top-facebook-questions )\n",
        "\n"
      ],
      "metadata": {
        "id": "OoH0mFMIixJi"
      }
    },
    {
      "cell_type": "code",
      "source": [
        "# jl\n",
        "class Solution:\n",
        "    def findBuildings(self, heights: List[int]) -> List[int]:\n",
        "        currMax = -1\n",
        "        res = []\n",
        "        for h in range(len(heights) - 1, -1, -1):\n",
        "            if heights[h] > currMax:\n",
        "                res.append(h)\n",
        "            currMax = max(heights[h], currMax)\n",
        "\n",
        "        res.sort()\n",
        "        return res"
      ],
      "metadata": {
        "id": "7zKR5KprwYEg"
      },
      "execution_count": null,
      "outputs": []
    },
    {
      "cell_type": "code",
      "source": [
        "#Minsu's code\n",
        "\n",
        "class Solution:\n",
        "    def findBuildings(self, heights: List[int]) -> List[int]:\n",
        "        stack = []\n",
        "        res = []\n",
        "        for i, h in enumerate(heights):\n",
        "            while stack and stack[-1] <= h:\n",
        "                stack.pop()\n",
        "                res.pop()\n",
        "            stack.append(h)\n",
        "            res.append(i)\n",
        "\n",
        "        return res"
      ],
      "metadata": {
        "id": "1hvahOOydHZa"
      },
      "execution_count": null,
      "outputs": []
    },
    {
      "cell_type": "code",
      "source": [
        "# ys\n",
        "class Solution:\n",
        "    def findBuildings(self, heights: List[int]) -> List[int]:\n",
        "        mx = 0\n",
        "        ans = []\n",
        "\n",
        "        for i,h in enumerate(heights[::-1]):\n",
        "            if h > mx:\n",
        "                ans.append(len(heights)-i-1)\n",
        "            mx = max(mx,h)\n",
        "            #print(ans)\n",
        "        return ans[::-1]"
      ],
      "metadata": {
        "id": "pYyjMt3w68GP"
      },
      "execution_count": null,
      "outputs": []
    },
    {
      "cell_type": "code",
      "source": [
        "# Joe\n",
        "class Solution:\n",
        "    def findBuildings(self, heights: List[int]) -> List[int]:\n",
        "        stack = []\n",
        "        for i, h in enumerate(heights):\n",
        "            while stack and heights[stack[-1]] <= h:\n",
        "                stack.pop()\n",
        "            stack.append(i)\n",
        "        return stack\n"
      ],
      "metadata": {
        "id": "4yHjq47Tfqjn"
      },
      "execution_count": null,
      "outputs": []
    },
    {
      "cell_type": "code",
      "source": [
        "# SK\n",
        "class Solution:\n",
        "    def findBuildings(self, heights: List[int]) -> List[int]:\n",
        "        highest = 0\n",
        "        ocean_view = deque()\n",
        "        count = len(heights) -1\n",
        "\n",
        "        while count != -1:\n",
        "            if highest < heights[count]:\n",
        "                ocean_view.appendleft(count)\n",
        "                highest = heights[count]\n",
        "            count -= 1\n",
        "        return ocean_view"
      ],
      "metadata": {
        "id": "QF4yUZxcsXPF"
      },
      "execution_count": null,
      "outputs": []
    },
    {
      "cell_type": "markdown",
      "source": [
        "# 09/11/2023\n",
        "## 408. Valid Word Abbreviation\n",
        "[ 408. Valid Word Abbreviation ]( https://leetcode.com/problems/valid-word-abbreviation?envType=featured-list&envId=top-facebook-questions?envType=featured-list&envId=top-facebook-questions )\n",
        "\n"
      ],
      "metadata": {
        "id": "kgt4Fi70iyaz"
      }
    },
    {
      "cell_type": "code",
      "source": [
        "# DW\n",
        "class Solution:\n",
        "    def validWordAbbreviation(self, word: str, abbr: str) -> bool:\n",
        "        l = len(word)\n",
        "        i = cnt = 0\n",
        "        while i < len(abbr):\n",
        "            num = \"\"\n",
        "            if abbr[i].isalpha():\n",
        "                if cnt < len(word) and word[cnt] != abbr[i]:\n",
        "                    return False\n",
        "                cnt += 1\n",
        "                i += 1\n",
        "            else:\n",
        "                while i < len(abbr) and '0' <= abbr[i] <= '9':\n",
        "                    num += abbr[i]\n",
        "                    i += 1\n",
        "                if num[0] == '0':\n",
        "                    return False\n",
        "                num = int(num)\n",
        "                cnt += num\n",
        "\n",
        "        return True if l == cnt else False"
      ],
      "metadata": {
        "id": "qQ6sfOcOVea8"
      },
      "execution_count": null,
      "outputs": []
    },
    {
      "cell_type": "code",
      "source": [
        "# ys\n",
        "class Solution:\n",
        "    def validWordAbbreviation(self, word: str, abbr: str) -> bool:\n",
        "        arr = []\n",
        "        i = 0 # index for next check\n",
        "\n",
        "        for c in abbr:\n",
        "            if c.isdigit():\n",
        "                arr.append(c)\n",
        "                continue\n",
        "            elif arr:\n",
        "                if arr[0] == '0':\n",
        "                    return False\n",
        "                i += int(''.join(arr))\n",
        "                arr = []\n",
        "            if i >= len(word):\n",
        "                return False\n",
        "            if c != word[i]:\n",
        "                return False\n",
        "            i += 1\n",
        "\n",
        "        if arr:\n",
        "            if arr[0] == '0':\n",
        "                return False\n",
        "            i += int(''.join(arr))\n",
        "            if i > len(word):\n",
        "                return False\n",
        "        if i < len(word):\n",
        "            return False\n",
        "        return True"
      ],
      "metadata": {
        "id": "xfWrvvwyi0NH"
      },
      "execution_count": null,
      "outputs": []
    },
    {
      "cell_type": "code",
      "source": [
        "#Minsu\n",
        "\n",
        "class Solution:\n",
        "    def validWordAbbreviation(self, word: str, abbr: str) -> bool:\n",
        "        l, r = 0, 0\n",
        "        while l < len(word) and r < len(abbr):\n",
        "            if abbr[r].isnumeric():\n",
        "                if abbr[r] == '0':\n",
        "                    return False\n",
        "                t = \"\"\n",
        "                while r < len(abbr) and abbr[r].isnumeric():\n",
        "                    t += abbr[r]\n",
        "                    r += 1\n",
        "                l += int(t)\n",
        "            else:\n",
        "                if word[l] != abbr[r]:\n",
        "                    return False\n",
        "                l += 1\n",
        "                r += 1\n",
        "\n",
        "        return l == len(word) and r == len(abbr)"
      ],
      "metadata": {
        "id": "Lub7zhFRmQ_L"
      },
      "execution_count": null,
      "outputs": []
    },
    {
      "cell_type": "code",
      "source": [
        "# Joe\n",
        "class Solution:\n",
        "    def validWordAbbreviation(self, word: str, abbr: str) -> bool:\n",
        "        wp = 0\n",
        "        ap = 0\n",
        "        wl = len(word)\n",
        "        al = len(abbr)\n",
        "        while wp < wl and ap < al:\n",
        "            if word[wp] == abbr[ap]:\n",
        "                wp += 1\n",
        "                ap += 1\n",
        "            elif abbr[ap] == \"0\":\n",
        "                return False\n",
        "            elif abbr[ap].isnumeric():\n",
        "                n = 0\n",
        "                while ap < al and abbr[ap].isnumeric():\n",
        "                    n = (n*10) + int(abbr[ap])\n",
        "                    ap += 1\n",
        "                wp += n\n",
        "            else:\n",
        "                return False\n",
        "        return wp == wl and ap == al"
      ],
      "metadata": {
        "id": "Cw6iUByK5HaO"
      },
      "execution_count": null,
      "outputs": []
    },
    {
      "cell_type": "markdown",
      "source": [
        "# 10/11/2023\n",
        "## 415. Add Strings\n",
        "[ 415. Add Strings ]( https://leetcode.com/problems/add-strings?envType=featured-list&envId=top-facebook-questions?envType=featured-list&envId=top-facebook-questions )\n"
      ],
      "metadata": {
        "id": "kBvQok0Dizo6"
      }
    },
    {
      "cell_type": "code",
      "source": [
        "# DW\n",
        "class Solution:\n",
        "    def addStrings(self, num1: str, num2: str) -> str:\n",
        "        l1, l2 = list(num1), list(num2)\n",
        "        l1, l2 = l1[::-1], l2[::-1]\n",
        "        if len(l1) > len(l2):\n",
        "            l1, l2 = l2, l1\n",
        "\n",
        "        res = []\n",
        "        i = c = 0\n",
        "        while i < len(l1):\n",
        "            sum_ = int(l1[i]) + int(l2[i]) + c\n",
        "            if sum_ >= 10:\n",
        "                c = 1\n",
        "            else:\n",
        "                c = 0\n",
        "            sum_ %= 10\n",
        "            res.append(str(sum_))\n",
        "            i += 1\n",
        "\n",
        "        while i < len(l2):\n",
        "            sum_ = int(l2[i]) + c\n",
        "            if sum_ >= 10:\n",
        "                c = 1\n",
        "            else:\n",
        "                c = 0\n",
        "            sum_ %= 10\n",
        "            res.append(str(sum_))\n",
        "            i += 1\n",
        "\n",
        "        if c == 1:\n",
        "            res.append(\"1\")\n",
        "        res = res[::-1]\n",
        "        res = \"\".join(res)\n",
        "\n",
        "        return res"
      ],
      "metadata": {
        "id": "qfMEM_vibDdH"
      },
      "execution_count": null,
      "outputs": []
    },
    {
      "cell_type": "code",
      "source": [
        "# Joe\n",
        "class Solution:\n",
        "    def addStrings(self, num1: str, num2: str) -> str:\n",
        "        p1 = len(num1) - 1\n",
        "        p2 = len(num2) - 1\n",
        "        res = \"\"\n",
        "        carry = 0\n",
        "\n",
        "        while p1 >= 0 or p2 >= 0 or carry:\n",
        "            n1 = num1[p1] if p1 >= 0 else \"0\"\n",
        "            n2 = num2[p2] if p2 >= 0 else \"0\"\n",
        "            carry, n = divmod(int(n1) + int(n2) + carry, 10)\n",
        "            res = str(n) + res\n",
        "            p1 -= 1\n",
        "            p2 -= 1\n",
        "        return res"
      ],
      "metadata": {
        "id": "FQXOllwW5DQp"
      },
      "execution_count": null,
      "outputs": []
    },
    {
      "cell_type": "code",
      "source": [
        "# SK\n",
        "class Solution:\n",
        "    def addStrings(self, num1: str, num2: str) -> str:\n",
        "\n",
        "        add_Char = 0\n",
        "        lst_Char = []\n",
        "        ord_0 = ord('0')\n",
        "\n",
        "        while num1 != '' or num2 != '' or add_Char < 0:\n",
        "            if len(num1) > 0:\n",
        "                add_Char += ord(num1[-1]) - ord_0\n",
        "                num1 = num1[:-1]\n",
        "\n",
        "            if len(num2) > 0:\n",
        "                add_Char += ord(num2[-1]) - ord_0\n",
        "                num2 = num2[:-1]\n",
        "\n",
        "            lst_Char.append(chr(add_Char % 10 + ord_0))\n",
        "            add_Char = add_Char // 10\n",
        "\n",
        "            if num1 == '' and num2 == '' and add_Char != 0:\n",
        "                lst_Char.append(chr(add_Char + ord_0))\n",
        "\n",
        "        return \"\".join(lst_Char)[::-1]"
      ],
      "metadata": {
        "id": "asbFQaJGAGCM"
      },
      "execution_count": null,
      "outputs": []
    },
    {
      "cell_type": "markdown",
      "source": [
        "\n",
        "# 13/11/2023\n",
        "## 199. Binary Tree Right Side View\n",
        "[ 199. Binary Tree Right Side View ]( https://leetcode.com/problems/binary-tree-right-side-view?envType=featured-list&envId=top-facebook-questions?envType=featured-list&envId=top-facebook-questions )\n",
        "\n"
      ],
      "metadata": {
        "id": "hrYNAu4497Zy"
      }
    },
    {
      "cell_type": "code",
      "source": [
        "# DW\n",
        "class Solution:\n",
        "    def rightSideView(self, root: Optional[TreeNode]) -> List[int]:\n",
        "        if root is None:\n",
        "            return []\n",
        "\n",
        "        dic = defaultdict(int)\n",
        "        dq = deque([[0, root]])\n",
        "        while dq:\n",
        "            height, node = dq.popleft()\n",
        "            dic[height] = node.val\n",
        "            if node.left:\n",
        "                dq.append([height+1, node.left])\n",
        "            if node.right:\n",
        "                dq.append([height+1, node.right])\n",
        "\n",
        "        res = [-1] * len(dic)\n",
        "        for k, v in dic.items():\n",
        "            res[k] = v\n",
        "\n",
        "        return res"
      ],
      "metadata": {
        "id": "uWnbGeYO4g7V"
      },
      "execution_count": null,
      "outputs": []
    },
    {
      "cell_type": "code",
      "source": [
        "#Minsu\n",
        "\n",
        "from collections import deque\n",
        "class Solution:\n",
        "    def rightSideView(self, root: Optional[TreeNode]) -> List[int]:\n",
        "        if root == None:\n",
        "            return []\n",
        "        que = deque()\n",
        "        que.append((1, root))\n",
        "        res = []\n",
        "        while que:\n",
        "            size, node = que.popleft()\n",
        "            if len(res) < size:\n",
        "                res.append(node.val)\n",
        "            if node.right:\n",
        "                que.append((size+1, node.right))\n",
        "            if node.left:\n",
        "                que.append((size+1, node.left))\n",
        "        return res"
      ],
      "metadata": {
        "id": "hogu8I1W_DV2"
      },
      "execution_count": null,
      "outputs": []
    },
    {
      "cell_type": "code",
      "source": [
        "# Joe\n",
        "class Solution:\n",
        "    def rightSideView(self, root: Optional[TreeNode]) -> List[int]:\n",
        "        def helper(node, dep, res):\n",
        "            if not node:\n",
        "                return\n",
        "            if dep >= len(res):\n",
        "                res.append(0)\n",
        "            res[dep] = node.val\n",
        "            helper(node.left, dep+1, res)\n",
        "            helper(node.right, dep+1, res)\n",
        "        res = []\n",
        "        helper(root, 0, res)\n",
        "        return res"
      ],
      "metadata": {
        "id": "uaZJmV3uXLSm"
      },
      "execution_count": null,
      "outputs": []
    },
    {
      "cell_type": "code",
      "source": [
        "# SK\n",
        "class Solution:\n",
        "    def rightSideView(self, root: Optional[TreeNode]) -> List[int]:\n",
        "        if root is None: return []\n",
        "#         self.out = []\n",
        "#         level = 0\n",
        "#         def recur_right(root, level):\n",
        "#             if level == len(self.out):\n",
        "#                 self.out.append(root.val)\n",
        "\n",
        "#             for i in [root.right, root.left]:\n",
        "#                 if i: recur_right(i, level+1)\n",
        "\n",
        "#         recur_right(root, level)\n",
        "#         return self.out\n",
        "\n",
        "        out = []\n",
        "        tmp = [root]\n",
        "        while tmp:\n",
        "            out.append(tmp[-1].val) # if left and right: right is tmp[-1],\n",
        "                                    # if just left: left is tem[-1]\n",
        "            children = []\n",
        "            for next_node in tmp: # next level\n",
        "                if next_node.left:\n",
        "                    children.append(next_node.left)\n",
        "                if next_node.right:\n",
        "                    children.append(next_node.right)\n",
        "            tmp = children\n",
        "        return out"
      ],
      "metadata": {
        "id": "38e-YSRGr8VJ"
      },
      "execution_count": null,
      "outputs": []
    },
    {
      "cell_type": "markdown",
      "source": [
        "# 14/11/2023\n",
        "## 921. Minimum Add to Make Parentheses Valid\n",
        "[ 921. Minimum Add to Make Parentheses Valid ]( https://leetcode.com/problems/minimum-add-to-make-parentheses-valid?envType=featured-list&envId=top-facebook-questions?envType=featured-list&envId=top-facebook-questions )\n",
        "\n"
      ],
      "metadata": {
        "id": "VQSY8Eyli7cY"
      }
    },
    {
      "cell_type": "code",
      "source": [
        "# DW\n",
        "class Solution:\n",
        "    def minAddToMakeValid(self, s: str) -> int:\n",
        "        i = res = 0\n",
        "        while i < len(s):\n",
        "            l = r = 0\n",
        "            j = i\n",
        "            while j < len(s) and l >= r:\n",
        "                if s[j] == '(':\n",
        "                    l += 1\n",
        "                elif s[j] == ')':\n",
        "                    r += 1\n",
        "                j += 1\n",
        "            i = j\n",
        "            res += abs(l - r)\n",
        "        return res"
      ],
      "metadata": {
        "id": "w6K3suIz-Xj8"
      },
      "execution_count": null,
      "outputs": []
    },
    {
      "cell_type": "code",
      "source": [
        "# SK\n",
        "class Solution:\n",
        "    def minAddToMakeValid(self, s: str) -> int:\n",
        "#         stack = []\n",
        "#         count = 0\n",
        "#         for par in s:\n",
        "#             if par == '(':\n",
        "#                 stack.append(par)\n",
        "#             elif stack and par == ')':\n",
        "#                 stack.pop()\n",
        "#             elif not stack and par == ')':\n",
        "#                 count += 1\n",
        "\n",
        "#         return len(stack) + count\n",
        "\n",
        "        count = 0\n",
        "        curr = 0\n",
        "        for par in s:\n",
        "            if par == '(':\n",
        "                count += 1\n",
        "                curr += 1\n",
        "            elif curr != 0 and par == ')':\n",
        "                count -= 1\n",
        "                curr -= 1\n",
        "            elif curr == 0 and par == ')':\n",
        "                count += 1\n",
        "        return abs(count)"
      ],
      "metadata": {
        "id": "ubOFHlib4LOR"
      },
      "execution_count": null,
      "outputs": []
    },
    {
      "cell_type": "code",
      "source": [
        "#Minsu\n",
        "\n",
        "def minAddToMakeValid(self, s: str) -> int:\n",
        "        point = 0\n",
        "        res = 0\n",
        "        for c in s:\n",
        "            if c == \"(\":\n",
        "                if point < 0:\n",
        "                    res += abs(point)\n",
        "                    point = 0\n",
        "                point += 1\n",
        "            else:\n",
        "                point -= 1\n",
        "        if point < 0:\n",
        "            res += abs(point)\n",
        "            point = 0\n",
        "        return res + point"
      ],
      "metadata": {
        "id": "nsTggcQUFmVF"
      },
      "execution_count": null,
      "outputs": []
    },
    {
      "cell_type": "code",
      "source": [
        "# Joe\n",
        "class Solution:\n",
        "    def minAddToMakeValid(self, s: str) -> int:\n",
        "        res = 0\n",
        "        balance = 0\n",
        "        for i in s:\n",
        "            if i == '(':\n",
        "                balance += 1\n",
        "            else:\n",
        "                balance -= 1\n",
        "            if balance == -1:\n",
        "                res += 1\n",
        "                balance = 0\n",
        "        return res + balance"
      ],
      "metadata": {
        "id": "-Owx6EssqRNk"
      },
      "execution_count": null,
      "outputs": []
    },
    {
      "cell_type": "code",
      "source": [
        "# JL\n",
        "class Solution:\n",
        "    def minAddToMakeValid(self, s: str) -> int:\n",
        "        l = r = 0\n",
        "        for p in s:\n",
        "            if p == '(':\n",
        "                l += 1\n",
        "            else:\n",
        "                if l > 0:\n",
        "                    l -= 1\n",
        "                else:\n",
        "                    r += 1\n",
        "        return r + l"
      ],
      "metadata": {
        "id": "d2AWIa9ouqpY"
      },
      "execution_count": null,
      "outputs": []
    },
    {
      "cell_type": "markdown",
      "source": [
        "# 15/11/2023\n",
        "## 1650. Lowest Common Ancestor of a Binary Tree III\n",
        "[ 1650. Lowest Common Ancestor of a Binary Tree III ]( https://leetcode.com/problems/lowest-common-ancestor-of-a-binary-tree-iii?envType=featured-list&envId=top-facebook-questions?envType=featured-list&envId=top-facebook-questions )\n",
        "\n"
      ],
      "metadata": {
        "id": "l5ctm8wji9Nm"
      }
    },
    {
      "cell_type": "code",
      "source": [
        "# DW\n",
        "class Solution:\n",
        "    def lowestCommonAncestor(self, p: 'Node', q: 'Node') -> 'Node':\n",
        "        def ancestors(n):\n",
        "            list_ = []\n",
        "            while n:\n",
        "                list_.append(n)\n",
        "                n = n.parent\n",
        "            return list_\n",
        "\n",
        "        pA = ancestors(p)\n",
        "        qA = ancestors(q)\n",
        "        if len(pA) > len(qA):\n",
        "            pA, qA = qA, pA\n",
        "\n",
        "        diff = abs(len(pA) - len(qA))\n",
        "        i = 0\n",
        "        while pA[i] != qA[i+diff]:\n",
        "            i += 1\n",
        "\n",
        "        return pA[i]"
      ],
      "metadata": {
        "id": "igRE1Et6AAKl"
      },
      "execution_count": null,
      "outputs": []
    },
    {
      "cell_type": "code",
      "source": [
        "# SK\n",
        "class Solution:\n",
        "    def lowestCommonAncestor(self, p: 'Node', q: 'Node') -> 'Node':\n",
        "        seen = set()\n",
        "\n",
        "        target = p\n",
        "        while target:\n",
        "            seen.add(target)\n",
        "            target = target.parent\n",
        "\n",
        "        target = q\n",
        "        while not target in seen:\n",
        "            target = target.parent\n",
        "\n",
        "        return target\n",
        "\n",
        "#         left, right = p, q\n",
        "#         while left != right:\n",
        "#             if left.parent:\n",
        "#                 left = left.parent\n",
        "#             else: left = q\n",
        "\n",
        "#             if right.parent:\n",
        "#                 right = right.parent\n",
        "#             else: right = p\n",
        "\n",
        "#         return left"
      ],
      "metadata": {
        "id": "iUUcxYyu1x3f"
      },
      "execution_count": null,
      "outputs": []
    },
    {
      "cell_type": "code",
      "source": [
        "#Minsu\n",
        "\n",
        "from collections import deque\n",
        "class Solution:\n",
        "    def lowestCommonAncestor(self, p: 'Node', q: 'Node') -> 'Node':\n",
        "        que = deque()\n",
        "        que.append(q)\n",
        "        root = None\n",
        "        while que:\n",
        "            node = que.popleft()\n",
        "            if node.parent:\n",
        "                que.append(node.parent)\n",
        "            else:\n",
        "                root = node\n",
        "\n",
        "        def helper(root, p, q):\n",
        "            if root == None:\n",
        "                return None\n",
        "            if root == p or root == q:\n",
        "                return root\n",
        "            left = helper(root.left, p, q)\n",
        "            right = helper(root.right, p, q)\n",
        "\n",
        "            if left and right:\n",
        "                return root\n",
        "            if left:\n",
        "                return left\n",
        "            else:\n",
        "                return right\n",
        "\n",
        "        return helper(root, p, q)\n"
      ],
      "metadata": {
        "id": "Iw4A4LDo81Hu"
      },
      "execution_count": null,
      "outputs": []
    },
    {
      "cell_type": "code",
      "source": [
        "# Joe\n",
        "class Solution:\n",
        "    def lowestCommonAncestor(self, p: 'Node', q: 'Node') -> 'Node':\n",
        "        visited = set()\n",
        "        while p:\n",
        "            visited.add(p)\n",
        "            p = p.parent\n",
        "        while q:\n",
        "            if q in visited:\n",
        "                return q\n",
        "            q = q.parent\n"
      ],
      "metadata": {
        "id": "LkFS1rJy-Xj_"
      },
      "execution_count": null,
      "outputs": []
    },
    {
      "cell_type": "markdown",
      "source": [
        "# 16/11/2023\n",
        "## 523. Continuous Subarray Sum\n",
        "[ 523. Continuous Subarray Sum ]( https://leetcode.com/problems/continuous-subarray-sum?envType=featured-list&envId=top-facebook-questions?envType=featured-list&envId=top-facebook-questions )\n",
        "\n"
      ],
      "metadata": {
        "id": "NMQmAs8ji_SA"
      }
    },
    {
      "cell_type": "code",
      "source": [
        "# SK\n",
        "class Solution:\n",
        "    def checkSubarraySum(self, nums: List[int], k: int) -> bool:\n",
        "        ## Time: O(N), Space: O(K)\n",
        "\n",
        "        hash_map = {0: 0}\n",
        "        summa = 0\n",
        "        # for idx, val in enumerate(nums):\n",
        "        for idx in range(len(nums)):\n",
        "            summa += nums[idx]\n",
        "            if summa % k in hash_map and (idx+1) - hash_map[summa % k] >= 2:\n",
        "                    return True\n",
        "            elif summa % k not in hash_map:\n",
        "                hash_map[summa % k] = idx+1\n",
        "\n",
        "        return False"
      ],
      "metadata": {
        "id": "YQZIN7Bjfwon"
      },
      "execution_count": null,
      "outputs": []
    },
    {
      "cell_type": "code",
      "source": [
        "#Minsu\n",
        "\n"
      ],
      "metadata": {
        "id": "T58wAUKGEibl"
      },
      "execution_count": null,
      "outputs": []
    },
    {
      "cell_type": "code",
      "source": [
        "# DW - ChatGPT..\n",
        "class Solution:\n",
        "    def checkSubarraySum(self, nums: List[int], k: int) -> bool:\n",
        "        cumulative_sum = 0\n",
        "        remainder_dict = {0: -1}\n",
        "\n",
        "        for i, num in enumerate(nums):\n",
        "            cumulative_sum += num\n",
        "            remainder = cumulative_sum % k\n",
        "\n",
        "            if remainder in remainder_dict:\n",
        "                if i - remainder_dict[remainder] > 1:\n",
        "                    return True\n",
        "            else:\n",
        "                remainder_dict[remainder] = i\n",
        "\n",
        "        return False"
      ],
      "metadata": {
        "id": "ylfH3reCbRrq"
      },
      "execution_count": null,
      "outputs": []
    },
    {
      "cell_type": "markdown",
      "source": [
        "# 17/11/2023\n",
        "## 973. K Closest Points to Origin\n",
        "[ 973. K Closest Points to Origin ]( https://leetcode.com/problems/k-closest-points-to-origin?envType=featured-list&envId=top-facebook-questions?envType=featured-list&envId=top-facebook-questions )\n"
      ],
      "metadata": {
        "id": "SOzc_K0EjAxs"
      }
    },
    {
      "cell_type": "code",
      "source": [
        "# SK\n",
        "class Solution:\n",
        "    def kClosest(self, points: List[List[int]], k: int) -> List[List[int]]:\n",
        "        return sorted(points, key=lambda point: sqrt(point[0]**2 + point[1]**2))[:k]"
      ],
      "metadata": {
        "id": "lOZIa-5jnyqo"
      },
      "execution_count": null,
      "outputs": []
    },
    {
      "cell_type": "code",
      "source": [
        "# DW\n",
        "from heapq import heappop, heappush\n",
        "\n",
        "class Solution:\n",
        "    def kClosest(self, points: List[List[int]], k: int) -> List[List[int]]:\n",
        "        hq = []\n",
        "        for x, y in points:\n",
        "            dist = x**2 + y**2\n",
        "            heappush(hq, [dist, [x, y]])\n",
        "\n",
        "        res = []\n",
        "        while hq and len(res) < k:\n",
        "            _, coor = heappop(hq)\n",
        "            res.append(coor)\n",
        "\n",
        "        return res"
      ],
      "metadata": {
        "id": "OoaNopunyNH1"
      },
      "execution_count": null,
      "outputs": []
    },
    {
      "cell_type": "code",
      "source": [
        "# Joe\n",
        "\n",
        "class Solution:\n",
        "    def kClosest(self, points: List[List[int]], k: int) -> List[List[int]]:\n",
        "        # Heap nLogk\n",
        "        # sort nLogn\n",
        "        # quick select O(n) in most case. worst O(n**2)\n",
        "        h = []\n",
        "\n",
        "        for p in points:\n",
        "            dis = p[0]**2 + p[1]**2\n",
        "            heapq.heappush(h, (-dis, p))\n",
        "            if len(h) > k:\n",
        "                heapq.heappop(h)\n",
        "        return [i[1] for i in h]\n",
        "\n",
        "# ---------------------------------------\n",
        "class Solution:\n",
        "    def kClosest(self, points: List[List[int]], k: int) -> List[List[int]]:\n",
        "        def partition(left, right):\n",
        "            pidx = left+(right-left)//2\n",
        "            pivot = points[pidx][0] ** 2 + points[pidx][1] ** 2\n",
        "            points[pidx], points[right] = points[right], points[pidx]\n",
        "            cur = left\n",
        "            for i in range(left, right):\n",
        "                if points[i][0] ** 2 +  points[i][1] ** 2 < pivot:\n",
        "                    points[cur], points[i] = points[i], points[cur]\n",
        "                    cur += 1\n",
        "            points[cur], points[right] = points[right], points[cur]\n",
        "            return cur\n",
        "\n",
        "\n",
        "        pivot_index = len(points)\n",
        "        left, right = 0, len(points)-1\n",
        "\n",
        "        while pivot_index != k:\n",
        "            pivot_index = partition(left, right)\n",
        "            if pivot_index < k:\n",
        "                left = pivot_index + 1\n",
        "            else:\n",
        "                right = pivot_index - 1\n",
        "        return points[:pivot_index]"
      ],
      "metadata": {
        "id": "1LrrgNXkFjYl"
      },
      "execution_count": null,
      "outputs": []
    },
    {
      "cell_type": "code",
      "source": [
        "# JL\n",
        "class Solution:\n",
        "    def kClosest(self, points: List[List[int]], k: int) -> List[List[int]]:\n",
        "\n",
        "        heap = []\n",
        "        for i, coor in enumerate(points):\n",
        "            x, y = coor\n",
        "            dist = x ** 2 + y ** 2\n",
        "            heapq.heappush(heap, (dist, i))\n",
        "\n",
        "        res = []\n",
        "        for h in range(k):\n",
        "            res.append(points[heapq.heappop(heap)[1]])\n",
        "\n",
        "        return res"
      ],
      "metadata": {
        "id": "7K0sR2kzM__I"
      },
      "execution_count": null,
      "outputs": []
    },
    {
      "cell_type": "code",
      "source": [
        "#Minsu\n",
        "\n",
        "import heapq\n",
        "class Solution:\n",
        "    def kClosest(self, points: List[List[int]], k: int) -> List[List[int]]:\n",
        "        hq = []\n",
        "        for x, y in points:\n",
        "            heapq.heappush(hq,(-(x**2 + y**2),[x,y]))\n",
        "            if len(hq) > k:\n",
        "                heapq.heappop(hq)\n",
        "        res = []\n",
        "        for v, ele in hq:\n",
        "            res.append(ele)\n",
        "        return res"
      ],
      "metadata": {
        "id": "cmlOoH8sQ5ZD"
      },
      "execution_count": null,
      "outputs": []
    },
    {
      "cell_type": "code",
      "source": [],
      "metadata": {
        "id": "hXaBLwOJcYby"
      },
      "execution_count": null,
      "outputs": []
    },
    {
      "cell_type": "markdown",
      "source": [
        "\n",
        "# 27/11/2023\n",
        "## 791. Custom Sort String\n",
        "[ 791. Custom Sort String ]( https://leetcode.com/problems/custom-sort-string?envType=featured-list&envId=top-facebook-questions?envType=featured-list&envId=top-facebook-questions )\n",
        "\n"
      ],
      "metadata": {
        "id": "3rszYqNE9y6X"
      }
    },
    {
      "cell_type": "code",
      "source": [
        "#Minsu\n",
        "\n",
        "from collections import defaultdict\n",
        "class Solution:\n",
        "    def customSortString(self, order: str, s: str) -> str:\n",
        "        check = defaultdict(int)\n",
        "        for c in s:\n",
        "            check[c] += 1\n",
        "        res = \"\"\n",
        "        for c in order:\n",
        "            if c in check:\n",
        "                res += c * check[c]\n",
        "                del check[c]\n",
        "        if check:\n",
        "            for i in range(26):\n",
        "                c = chr(ord('a') + i)\n",
        "                if c in check:\n",
        "                    res += c * check[c]\n",
        "                    del check[c]\n",
        "        return res"
      ],
      "metadata": {
        "id": "NgHLbEh7OqsX"
      },
      "execution_count": null,
      "outputs": []
    },
    {
      "cell_type": "code",
      "source": [
        "# DW\n",
        "class Solution:\n",
        "    def customSortString(self, order: str, s: str) -> str:\n",
        "        oOrder = []\n",
        "        for o in order:\n",
        "            oOrder.append(o)\n",
        "\n",
        "        sDic = defaultdict(int)\n",
        "        for c in s:\n",
        "            sDic[c] += 1\n",
        "\n",
        "        sKeys = set(sDic.keys())\n",
        "\n",
        "        res = \"\"\n",
        "        for o in oOrder:\n",
        "            if o in sKeys:\n",
        "                res += o * sDic[o]\n",
        "                sKeys.remove(o)\n",
        "\n",
        "        for k in sKeys:\n",
        "            res += k * sDic[k]\n",
        "\n",
        "        return res"
      ],
      "metadata": {
        "id": "kNiN9pQyezYQ"
      },
      "execution_count": null,
      "outputs": []
    },
    {
      "cell_type": "code",
      "source": [
        "# SK\n",
        "class Solution:\n",
        "    def customSortString(self, order: str, s: str) -> str:\n",
        "        ## TC O(n) + 2*O(k)   ??\n",
        "        ## SC O(n) + O(1)     ??\n",
        "\n",
        "        counting = {} ## SC O(n)\n",
        "        for i in s:  ## TC O(n)\n",
        "            if i not in counting: counting[i] = 1\n",
        "            else: counting[i] += 1\n",
        "\n",
        "        new = '' ## SC O(1)\n",
        "        in_s = [i for i in order if i in s]  ## TC O(k)\n",
        "\n",
        "        for j in in_s: ## TC O(k)\n",
        "            new += j * counting[j]\n",
        "            s = s.replace(j, '')\n",
        "\n",
        "        return new + s"
      ],
      "metadata": {
        "id": "0ru3xRrfcdIE"
      },
      "execution_count": null,
      "outputs": []
    },
    {
      "cell_type": "code",
      "source": [
        "# Joe\n",
        "class Solution:\n",
        "    def customSortString(self, order: str, s: str) -> str:\n",
        "        # custom sort: O(NlongN)\n",
        "        # count: O(n)\n",
        "\n",
        "        _count = Counter(s)\n",
        "        res = []\n",
        "\n",
        "        for i in order:\n",
        "            res.append(i * _count[i])\n",
        "            _count[i] = 0\n",
        "\n",
        "        for i in _count:\n",
        "            res.append(i * _count[i])\n",
        "\n",
        "        return \"\".join(res)"
      ],
      "metadata": {
        "id": "8x61iNpIiKFT"
      },
      "execution_count": null,
      "outputs": []
    },
    {
      "cell_type": "markdown",
      "source": [
        "# 28/11/2023\n",
        "## 346. Moving Average from Data Stream\n",
        "[ 346. Moving Average from Data Stream ]( https://leetcode.com/problems/moving-average-from-data-stream?envType=featured-list&envId=top-facebook-questions?envType=featured-list&envId=top-facebook-questions )\n",
        "\n"
      ],
      "metadata": {
        "id": "U-vEk7ml4w3A"
      }
    },
    {
      "cell_type": "code",
      "source": [
        "# DW\n",
        "class MovingAverage:\n",
        "    def __init__(self, size: int):\n",
        "        self.ws = size\n",
        "        self.pivot = 0\n",
        "        self.sum = 0\n",
        "        self.vals = []\n",
        "\n",
        "    def next(self, val: int) -> float:\n",
        "        self.vals.append(val)\n",
        "        self.sum += val\n",
        "        self.pivot += 1\n",
        "        if self.pivot > self.ws:\n",
        "            self.sum -= self.vals[self.pivot - self.ws - 1]\n",
        "        else:\n",
        "            return self.sum / self.pivot\n",
        "        return self.sum / self.ws"
      ],
      "metadata": {
        "id": "faXAz7yvh1SW"
      },
      "execution_count": null,
      "outputs": []
    },
    {
      "cell_type": "code",
      "source": [
        "# SK\n",
        "class MovingAverage:\n",
        "\n",
        "    def __init__(self, size: int):\n",
        "        self.size = size\n",
        "        self.int_lst = []\n",
        "\n",
        "    def next(self, val: int) -> float:\n",
        "        self.int_lst.append(val)\n",
        "\n",
        "        if len(self.int_lst) <= self.size:\n",
        "            return sum(self.int_lst) / len(self.int_lst)\n",
        "        else:\n",
        "            self.int_lst.pop(0)\n",
        "            return sum(self.int_lst) / self.size"
      ],
      "metadata": {
        "id": "88RaDz74V4En"
      },
      "execution_count": null,
      "outputs": []
    },
    {
      "cell_type": "code",
      "source": [
        "# Joe\n",
        "class MovingAverage:\n",
        "\n",
        "    def __init__(self, size: int):\n",
        "        self.data = deque()\n",
        "        self.size = size\n",
        "        self.sum = 0\n",
        "\n",
        "    def next(self, val: int) -> float:\n",
        "        self.data.append(val)\n",
        "        self.sum += val\n",
        "        if len(self.data) > self.size:\n",
        "            self.sum -= self.data.popleft()\n",
        "        return self.sum / len(self.data)"
      ],
      "metadata": {
        "id": "UR2w6HUk6GtS"
      },
      "execution_count": null,
      "outputs": []
    },
    {
      "cell_type": "code",
      "source": [
        "#Minsu\n",
        "\n",
        "from collections import deque\n",
        "class MovingAverage:\n",
        "\n",
        "    def __init__(self, size: int):\n",
        "        self.size = size\n",
        "        self.que = deque()\n",
        "\n",
        "    def next(self, val: int) -> float:\n",
        "        if len(self.que) == self.size:\n",
        "            self.que.popleft()\n",
        "        self.que.append(val)\n",
        "        return sum(self.que)/len(self.que)"
      ],
      "metadata": {
        "id": "vEIlnYXj6LUc"
      },
      "execution_count": null,
      "outputs": []
    },
    {
      "cell_type": "markdown",
      "source": [
        "# 29/11/2023\n",
        "## 249. Group Shifted Strings\n",
        "[ 249. Group Shifted Strings ]( https://leetcode.com/problems/group-shifted-strings?envType=featured-list&envId=top-facebook-questions?envType=featured-list&envId=top-facebook-questions )\n",
        "\n"
      ],
      "metadata": {
        "id": "KJ84gLXM4y8Y"
      }
    },
    {
      "cell_type": "code",
      "source": [
        "# DW\n",
        "class Solution:\n",
        "    def groupStrings(self, strings: List[str]) -> List[List[str]]:\n",
        "        dic = defaultdict(list)\n",
        "        for s in strings:\n",
        "            vec = []\n",
        "            for i in range(len(s)-1):\n",
        "                diff = ord(s[i]) - ord(s[i+1])\n",
        "                if diff < 0:\n",
        "                    diff += 26\n",
        "                vec.append(diff)\n",
        "            tuple_ = tuple(vec)\n",
        "            dic[tuple_].append(s)\n",
        "\n",
        "        return list(dic.values())"
      ],
      "metadata": {
        "id": "VP57lFHGoy2K"
      },
      "execution_count": null,
      "outputs": []
    },
    {
      "cell_type": "code",
      "source": [
        "#Minsu\n",
        "\n",
        "from collections import defaultdict\n",
        "class Solution:\n",
        "    def groupStrings(self, strings: List[str]) -> List[List[str]]:\n",
        "        graph = defaultdict(list)\n",
        "        for s in strings:\n",
        "            key = []\n",
        "            for i in range(len(s)-1):\n",
        "                v = ord(s[i+1]) - ord(s[i])\n",
        "                v = v if v >=0 else v + 26\n",
        "                key.append(v)\n",
        "            graph[tuple(key)].append(s)\n",
        "\n",
        "        res = []\n",
        "        for k, v in graph.items():\n",
        "            res.append(v)\n",
        "        return res"
      ],
      "metadata": {
        "id": "E7rAk_U_6G76"
      },
      "execution_count": null,
      "outputs": []
    },
    {
      "cell_type": "code",
      "source": [
        "# Joe\n",
        "class Solution:\n",
        "    def groupStrings(self, strings: List[str]) -> List[List[str]]:\n",
        "        d = defaultdict(list)\n",
        "\n",
        "        def get_diff(a, b):\n",
        "            return str((ord(b) - ord(a))%26)\n",
        "\n",
        "        def get_key(chars):\n",
        "            tmp = \"\"\n",
        "            if len(chars) == 1:\n",
        "                return 0\n",
        "            tmp = get_diff(chars[0], chars[-1])\n",
        "            for i in range(1, len(chars)):\n",
        "                tmp += get_diff(chars[i-1], chars[i])\n",
        "            return tmp\n",
        "\n",
        "        for char in strings:\n",
        "            d[get_key(char)].append(char)\n",
        "        return d.values()"
      ],
      "metadata": {
        "id": "McG9FAXOCEJR"
      },
      "execution_count": null,
      "outputs": []
    },
    {
      "cell_type": "code",
      "source": [
        "# SK\n",
        "class Solution:\n",
        "    def groupStrings(self, strings: List[str]) -> List[List[str]]:\n",
        "        group = defaultdict()\n",
        "        convert = []\n",
        "\n",
        "        for i in strings:\n",
        "            for j in i:\n",
        "                    convert.append((ord(j) - ord(i[0])) % 26)\n",
        "\n",
        "            if tuple(convert) in group:\n",
        "                group[tuple(convert)].append(i)\n",
        "            else:\n",
        "                group[tuple(convert)] = [i]\n",
        "            convert = []\n",
        "\n",
        "        return group.values()"
      ],
      "metadata": {
        "id": "tKA9robUIf_p"
      },
      "execution_count": null,
      "outputs": []
    },
    {
      "cell_type": "markdown",
      "source": [
        "# 30/11/2023\n",
        "## 426. Convert Binary Search Tree to Sorted Doubly Linked List\n",
        "[ 426. Convert Binary Search Tree to Sorted Doubly Linked List ]( https://leetcode.com/problems/convert-binary-search-tree-to-sorted-doubly-linked-list?envType=featured-list&envId=top-facebook-questions?envType=featured-list&envId=top-facebook-questions )\n",
        "\n"
      ],
      "metadata": {
        "id": "Ph3CBgnx40CB"
      }
    },
    {
      "cell_type": "code",
      "source": [
        "# DW\n",
        "class Solution:\n",
        "    def treeToDoublyList(self, root: 'Optional[Node]') -> 'Optional[Node]':\n",
        "        if root is None:\n",
        "            return None\n",
        "\n",
        "        def inorder(node):\n",
        "            if node.left:\n",
        "                inorder(node.left)\n",
        "            new = Node(node.val)\n",
        "            self.node.right = new\n",
        "            new.left = self.node\n",
        "            self.node = new\n",
        "            if node.right:\n",
        "                inorder(node.right)\n",
        "\n",
        "        head = Node(0)\n",
        "        self.node = head\n",
        "        inorder(root)\n",
        "        head = head.right\n",
        "        self.node.right = head\n",
        "        head.left = self.node\n",
        "\n",
        "        return head"
      ],
      "metadata": {
        "id": "1isfRhrTuRGK"
      },
      "execution_count": null,
      "outputs": []
    },
    {
      "cell_type": "code",
      "source": [
        "# Joe\n",
        "class Solution:\n",
        "    def treeToDoublyList(self, root: 'Optional[Node]') -> 'Optional[Node]':\n",
        "        def inorder(node):\n",
        "            nonlocal head, tail\n",
        "            if not node:\n",
        "                return\n",
        "            inorder(node.left)\n",
        "            if tail:\n",
        "                tail.right, node.left = node, tail\n",
        "            else:\n",
        "                head = node\n",
        "            tail = node\n",
        "            inorder(node.right)\n",
        "\n",
        "        head, tail = None, None\n",
        "\n",
        "        if not root:\n",
        "            return\n",
        "\n",
        "        inorder(root)\n",
        "        head.left, tail.right = tail, head\n",
        "\n",
        "        return head"
      ],
      "metadata": {
        "id": "7mlNAHV-Tyrz"
      },
      "execution_count": null,
      "outputs": []
    },
    {
      "cell_type": "markdown",
      "source": [
        "# 01/12/2023\n",
        "## 498. Diagonal Traverse\n",
        "[ 498. Diagonal Traverse ]( https://leetcode.com/problems/diagonal-traverse?envType=featured-list&envId=top-facebook-questions?envType=featured-list&envId=top-facebook-questions )\n"
      ],
      "metadata": {
        "id": "Dx3GO0mB411m"
      }
    },
    {
      "cell_type": "code",
      "source": [
        "# DW\n",
        "class Solution:\n",
        "    def findDiagonalOrder(self, mat: List[List[int]]) -> List[int]:\n",
        "        n, m = len(mat), len(mat[0])\n",
        "        res = []\n",
        "        for i in range(n + m - 1):\n",
        "            if i % 2 == 0:\n",
        "                for j in range(i+1):\n",
        "                    if i-j < n and j < m:\n",
        "                        res.append(mat[i-j][j])\n",
        "                    elif i-j < 0:\n",
        "                        break\n",
        "            else:\n",
        "                for j in range(i+1):\n",
        "                    if j < n and i-j < m:\n",
        "                        res.append(mat[j][i-j])\n",
        "                    elif j >= n:\n",
        "                        break\n",
        "\n",
        "        return res"
      ],
      "metadata": {
        "id": "tQemIYdYz53D"
      },
      "execution_count": null,
      "outputs": []
    },
    {
      "cell_type": "code",
      "source": [
        "# Joe\n",
        "class Solution:\n",
        "    def findDiagonalOrder(self, mat: List[List[int]]) -> List[int]:\n",
        "        next_row = 0\n",
        "        next_col = 0\n",
        "        R = len(mat)\n",
        "        C = len(mat[0])\n",
        "        is_right = True\n",
        "        right = (-1, 1)\n",
        "        left = (1, -1)\n",
        "        res = []\n",
        "        while next_row >= 0 and next_row < R and next_col >= 0 and next_col < C:\n",
        "            res.append(mat[next_row][next_col])\n",
        "            d = right if is_right else left\n",
        "            nr, nc = next_row + d[0], next_col + d[1]\n",
        "            if nr < 0 or nr >= R or nc < 0 or nc >= C:\n",
        "                if (is_right and next_row == 0 and next_col != C-1) or (not is_right and next_row == R-1):\n",
        "                    next_col += 1\n",
        "                else:\n",
        "                    next_row += 1\n",
        "                is_right = not is_right\n",
        "                continue\n",
        "            next_row, next_col = nr, nc\n",
        "        return res"
      ],
      "metadata": {
        "id": "1tCf7oa5U65S"
      },
      "execution_count": null,
      "outputs": []
    },
    {
      "cell_type": "markdown",
      "source": [
        "# 04/12/2023\n",
        "## 670. Maximum Swap\n",
        "[ 670. Maximum Swap ]( https://leetcode.com/problems/maximum-swap?envType=featured-list&envId=top-facebook-questions?envType=featured-list&envId=top-facebook-questions )\n",
        "\n"
      ],
      "metadata": {
        "id": "ZHBldQ739weX"
      }
    },
    {
      "cell_type": "code",
      "source": [
        "## SK 디스커션에 있는 솔루션 참고,,, ㅜㅜ\n",
        "class Solution:\n",
        "    def maximumSwap(self, num: int) -> int:\n",
        "        tmp = [int(i) for i in str(num)]\n",
        "        n_idx, nn_idx, max_idx = -1, -1, len(tmp) - 1\n",
        "\n",
        "        for i in range(len(tmp)-1, -1, -1):\n",
        "            if tmp[max_idx] < tmp[i]:\n",
        "                max_idx = i\n",
        "            elif tmp[i] < tmp[max_idx]:\n",
        "                n_idx = i\n",
        "                nn_idx = max_idx\n",
        "            print(n_idx, nn_idx, max_idx)\n",
        "\n",
        "        if n_idx == -1: return num\n",
        "        else:\n",
        "            # print(n_idx, nn_idx, max_idx)\n",
        "            max_num = tmp[nn_idx]\n",
        "            tmp[nn_idx] = tmp[n_idx]\n",
        "            tmp[n_idx] = max_num\n",
        "            return int(''.join(str(i) for i in tmp))"
      ],
      "metadata": {
        "id": "IcK8Zm1eJvgh"
      },
      "execution_count": null,
      "outputs": []
    },
    {
      "cell_type": "code",
      "source": [
        "#Minsu\n",
        "\n",
        "import heapq\n",
        "class Solution:\n",
        "    def maximumSwap(self, num: int) -> int:\n",
        "        n = list(str(num))\n",
        "        hq = [(-int(v), -idx) for idx, v in enumerate(n)]\n",
        "        heapq.heapify(hq)\n",
        "\n",
        "        for i in range(len(n)):\n",
        "            while -hq[0][1] < i:\n",
        "                heapq.heappop(hq)\n",
        "\n",
        "            if -hq[0][0] > int(n[i]):\n",
        "                sIdx = -hq[0][1]\n",
        "                n[i], n[sIdx] = n[sIdx], n[i]\n",
        "                break\n",
        "\n",
        "        return int(''.join(n))"
      ],
      "metadata": {
        "id": "R3Y_rbjzn2nr"
      },
      "execution_count": null,
      "outputs": []
    },
    {
      "cell_type": "code",
      "source": [
        "# Joe\n",
        "arr = list(str(num))\n",
        "        arr = list(str(num))\n",
        "        swap = (0, 0)\n",
        "        max_value = (int(arr[-1]), len(arr)-1)\n",
        "\n",
        "        for i in range(len(arr)-2, -1, -1):\n",
        "            digit = int(arr[i])\n",
        "            if digit < max_value[0]:\n",
        "                swap = (max_value[1], i)\n",
        "            elif digit > max_value[0]:\n",
        "                max_value = (digit, i)\n",
        "\n",
        "        arr[swap[0]], arr[swap[1]] = arr[swap[1]], arr[swap[0]]\n",
        "\n",
        "        return int(\"\".join(arr))"
      ],
      "metadata": {
        "id": "1rq6aFGwueBU"
      },
      "execution_count": null,
      "outputs": []
    },
    {
      "cell_type": "markdown",
      "source": [
        "# 05/12/2023\n",
        "## 766. Toeplitz Matrix\n",
        "[ 766. Toeplitz Matrix ]( https://leetcode.com/problems/toeplitz-matrix?envType=featured-list&envId=top-facebook-questions?envType=featured-list&envId=top-facebook-questions )\n",
        "\n"
      ],
      "metadata": {
        "id": "OtTOuAPS43re"
      }
    },
    {
      "cell_type": "code",
      "source": [
        "# Joe\n",
        "class Solution:\n",
        "    def isToeplitzMatrix(self, matrix: List[List[int]]) -> bool:\n",
        "        rows = len(matrix)\n",
        "        cols = len(matrix[0])\n",
        "        def helper(mr, mc, r, c):\n",
        "            val = matrix[r][c]\n",
        "            while r < mr and c < mc:\n",
        "                if matrix[r][c] != val:\n",
        "                    return False\n",
        "                r += 1\n",
        "                c += 1\n",
        "            return True\n",
        "\n",
        "        for r in range(rows):\n",
        "            if not helper(rows, cols, r, 0):\n",
        "                return False\n",
        "        for c in range(1, cols):\n",
        "            if not helper(rows, cols, 0, c):\n",
        "                return False\n",
        "        return True"
      ],
      "metadata": {
        "id": "p_w3ivsLGyag"
      },
      "execution_count": null,
      "outputs": []
    },
    {
      "cell_type": "code",
      "source": [
        "## SK\n",
        "class Solution:\n",
        "    def isToeplitzMatrix(self, matrix: List[List[int]]) -> bool:\n",
        "        de = deque(matrix[0])\n",
        "\n",
        "        for i in range(len(matrix)-1):\n",
        "            de.pop()\n",
        "\n",
        "            if list(de) == matrix[i+1][1::]:\n",
        "                de.extendleft([matrix[i+1][0]])\n",
        "            else:\n",
        "                return False\n",
        "\n",
        "        return True\n",
        "\n",
        "        # for i in range(len(matrix)-1):\n",
        "        #     if matrix[i][0:len(matrix[i])-1] != matrix[i+1][1::]:\n",
        "        #         return False\n",
        "        # else:\n",
        "        #     return True"
      ],
      "metadata": {
        "id": "98TnEj-rbO56"
      },
      "execution_count": null,
      "outputs": []
    },
    {
      "cell_type": "code",
      "source": [
        "#Minsu\n",
        "\n",
        "class Solution:\n",
        "    def isToeplitzMatrix(self, matrix: List[List[int]]) -> bool:\n",
        "        rows = len(matrix)\n",
        "        cols = len(matrix[0])\n",
        "\n",
        "        for i in range(rows-1):\n",
        "            if matrix[i][0:cols-1] != matrix[i+1][1:cols]:\n",
        "                return False\n",
        "        return True"
      ],
      "metadata": {
        "id": "l1GuJbqA0QO_"
      },
      "execution_count": null,
      "outputs": []
    },
    {
      "cell_type": "markdown",
      "source": [
        "# 06/12/2023\n",
        "## 1891. Cutting Ribbons\n",
        "[ 1891. Cutting Ribbons ]( https://leetcode.com/problems/cutting-ribbons?envType=featured-list&envId=top-facebook-questions?envType=featured-list&envId=top-facebook-questions )\n",
        "\n"
      ],
      "metadata": {
        "id": "JqsuZmrJ44s6"
      }
    },
    {
      "cell_type": "code",
      "source": [
        "#Minsu\n",
        "\n",
        "class Solution:\n",
        "    def maxLength(self, ribbons: List[int], k: int) -> int:\n",
        "        l, r = 1, max(ribbons)\n",
        "        res = 0\n",
        "        while l <= r:\n",
        "            m = l + (r - l) //2\n",
        "            s = 0\n",
        "            if m > 0 :\n",
        "              for rb in ribbons:\n",
        "                  s += (rb // m )\n",
        "            if s >= k:\n",
        "                res = m\n",
        "                l = m + 1\n",
        "            else:\n",
        "                r = m - 1\n",
        "        return res"
      ],
      "metadata": {
        "id": "JmZdMYXpB4Pa"
      },
      "execution_count": null,
      "outputs": []
    },
    {
      "cell_type": "markdown",
      "source": [
        "# 07/12/2023\n",
        "## 163. Missing Ranges\n",
        "[ 163. Missing Ranges ]( https://leetcode.com/problems/missing-ranges?envType=featured-list&envId=top-facebook-questions?envType=featured-list&envId=top-facebook-questions )\n",
        "\n"
      ],
      "metadata": {
        "id": "LurKXJEp45t3"
      }
    },
    {
      "cell_type": "markdown",
      "source": [
        "# 08/12/2023\n",
        "## 270. Closest Binary Search Tree Value\n",
        "[ 270. Closest Binary Search Tree Value ]( https://leetcode.com/problems/closest-binary-search-tree-value?envType=featured-list&envId=top-facebook-questions?envType=featured-list&envId=top-facebook-questions )\n"
      ],
      "metadata": {
        "id": "PrKm77S_46ub"
      }
    },
    {
      "cell_type": "markdown",
      "source": [
        "\n",
        "# 11/12/2023\n",
        "## 1428. Leftmost Column with at Least a One\n",
        "[ 1428. Leftmost Column with at Least a One ]( https://leetcode.com/problems/leftmost-column-with-at-least-a-one?envType=featured-list&envId=top-facebook-questions?envType=featured-list&envId=top-facebook-questions )\n",
        "\n"
      ],
      "metadata": {
        "id": "axOG3nQC9tkb"
      }
    },
    {
      "cell_type": "markdown",
      "source": [
        "# 12/12/2023\n",
        "## 636. Exclusive Time of Functions\n",
        "[ 636. Exclusive Time of Functions ]( https://leetcode.com/problems/exclusive-time-of-functions?envType=featured-list&envId=top-facebook-questions?envType=featured-list&envId=top-facebook-questions )\n",
        "\n"
      ],
      "metadata": {
        "id": "jFjYVgJ448Ji"
      }
    },
    {
      "cell_type": "markdown",
      "source": [
        "# 13/12/2023\n",
        "## 708. Insert into a Sorted Circular Linked List\n",
        "[ 708. Insert into a Sorted Circular Linked List ]( https://leetcode.com/problems/insert-into-a-sorted-circular-linked-list?envType=featured-list&envId=top-facebook-questions?envType=featured-list&envId=top-facebook-questions )\n",
        "\n"
      ],
      "metadata": {
        "id": "w0bmGFCo4-Ux"
      }
    },
    {
      "cell_type": "markdown",
      "source": [
        "# 14/12/2023\n",
        "## 398. Random Pick Index\n",
        "[ 398. Random Pick Index ]( https://leetcode.com/problems/random-pick-index?envType=featured-list&envId=top-facebook-questions?envType=featured-list&envId=top-facebook-questions )\n",
        "\n"
      ],
      "metadata": {
        "id": "l4ooNrxJ4_j2"
      }
    },
    {
      "cell_type": "markdown",
      "source": [
        "# 15/12/2023\n",
        "## 938. Range Sum of BST\n",
        "[ 938. Range Sum of BST ]( https://leetcode.com/problems/range-sum-of-bst?envType=featured-list&envId=top-facebook-questions?envType=featured-list&envId=top-facebook-questions )\n",
        "\n"
      ],
      "metadata": {
        "id": "4MeAxI075AnF"
      }
    },
    {
      "cell_type": "markdown",
      "source": [
        "# 18/12/2023\n",
        "## 173. Binary Search Tree Iterator\n",
        "[ 173. Binary Search Tree Iterator ]( https://leetcode.com/problems/binary-search-tree-iterator?envType=featured-list&envId=top-facebook-questions?envType=featured-list&envId=top-facebook-questions )\n",
        "\n"
      ],
      "metadata": {
        "id": "EBtLTD4-5ByS"
      }
    },
    {
      "cell_type": "markdown",
      "source": [
        "# 19/12/2023\n",
        "## 339. Nested List Weight Sum\n",
        "[ 339. Nested List Weight Sum ]( https://leetcode.com/problems/nested-list-weight-sum?envType=featured-list&envId=top-facebook-questions?envType=featured-list&envId=top-facebook-questions )\n"
      ],
      "metadata": {
        "id": "6urlnf6z5C5s"
      }
    }
  ]
}