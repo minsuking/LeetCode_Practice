{
  "nbformat": 4,
  "nbformat_minor": 0,
  "metadata": {
    "colab": {
      "name": "2022_Mar_APR_LeetCode.ipynb",
      "provenance": [],
      "collapsed_sections": [],
      "toc_visible": true,
      "include_colab_link": true
    },
    "kernelspec": {
      "name": "python3",
      "display_name": "Python 3"
    },
    "language_info": {
      "name": "python"
    }
  },
  "cells": [
    {
      "cell_type": "markdown",
      "metadata": {
        "id": "view-in-github",
        "colab_type": "text"
      },
      "source": [
        "<a href=\"https://colab.research.google.com/github/minsuking/LeetCode_Practice/blob/master/2022_Mar_APR_LeetCode.ipynb\" target=\"_parent\"><img src=\"https://colab.research.google.com/assets/colab-badge.svg\" alt=\"Open In Colab\"/></a>"
      ]
    },
    {
      "cell_type": "markdown",
      "source": [
        "# Introduction\n",
        "MeetUp Link\n",
        "\n",
        "https://meet.google.com/vku-dnyp-aen\n",
        "\n",
        "문제 출제 순서\n",
        "\n",
        "Joseph -> Leo -> Minsu -> Youngsu -> (Jinjoo) -> Hanbit -> jooho\n",
        "\n",
        "leokim2024@gmail.com\n",
        "\n",
        "terun707@gmail.com\n",
        "\n",
        "minsu.kim08@gmail.com\n",
        "\n",
        "jinson355@gmail.com\n",
        "\n",
        "(seongholee4@gmail.com)\n",
        "\n",
        "maran0119@gmail.com \n",
        "\n",
        "appleice4591@gmail.com\n",
        "\n",
        "2021 Amazon OA (SDE 1 105 Mins):\n",
        "Two Sum Variation: https://leetcode.com/discuss/interview-question/938809/amazon-oa-amazon-music-runtime#:~:text=Amazon%20music%20is%20working%20on,the%20songs%20from%20a%20list. *Lots of edge cases handling required to pass all test cases\n",
        "\n",
        "https://leetcode.com/discuss/interview-question/1488281/amazon-oa\n",
        "\n",
        "\n",
        "https://interviewing.io/recordings\n",
        "\n",
        "https://wiki.python.org/moin/TimeComplexity (Shared by Leo, TimeComplexity)\n",
        "\n",
        "https://seanprashad.com/leetcode-patterns/\n",
        "\n",
        "##. Amazon OA Solutions\n",
        "\n",
        "https://colab.research.google.com/drive/1n7AWBbPc9r9zF5qkMlCdaKZreoFz-M5Z?usp=sharing\n"
      ],
      "metadata": {
        "id": "v7RNp-CUvUos"
      }
    },
    {
      "cell_type": "markdown",
      "source": [
        "# Mar. 02 2022\n",
        "\n",
        "17. Letter Combinations of a Phone Number\n",
        "\n",
        "https://leetcode.com/problems/letter-combinations-of-a-phone-number/\n"
      ],
      "metadata": {
        "id": "ADsm2Az4KoSd"
      }
    },
    {
      "cell_type": "code",
      "source": [
        "#Minsu's code\n",
        "\n",
        "# Category : Backtracking\n",
        "# TC : O(4^N)\n",
        "class Solution:\n",
        "    def letterCombinations(self, digits: str) -> List[str]:\n",
        "        if len(digits)==0:\n",
        "            return []\n",
        "        map_ = {\"2\":\"abc\", \"3\":\"def\", \"4\":\"ghi\", \"5\":\"jkl\", \"6\":\"mno\", \"7\":\"pqrs\", \"8\":\"tuv\", \"9\":\"wxyz\"}\n",
        "        \n",
        "        def dfs(x, com):\n",
        "            if x == len(digits):\n",
        "                res.append(com)\n",
        "                return \n",
        "            for i in range(len(map_[digits[x]])):\n",
        "                com = com+map_[digits[x]][i]\n",
        "                dfs(x+1, com)\n",
        "                com = com[:-1]\n",
        "        res = []\n",
        "        dfs(0, \"\")\n",
        "        return res"
      ],
      "metadata": {
        "id": "bXalodvNrP4f"
      },
      "execution_count": null,
      "outputs": []
    },
    {
      "cell_type": "code",
      "source": [
        "# YS\n",
        "class Solution:\n",
        "    def letterCombinations(self, digits: str) -> List[str]:\n",
        "        if not digits:\n",
        "            return []\n",
        "        dic = {}\n",
        "        dic['2'] = 'abc'\n",
        "        dic['3'] = 'def'\n",
        "        dic['4'] = 'ghi'\n",
        "        dic['5'] = 'jkl'\n",
        "        dic['6'] = 'mno'\n",
        "        dic['7'] = 'pqrs'\n",
        "        dic['8'] = 'tuv'\n",
        "        dic['9'] = 'wxyz'\n",
        "        \n",
        "        ans = []\n",
        "        def help(i, arr):\n",
        "            if i == len(digits):\n",
        "                ans.append(''.join(arr))\n",
        "                return\n",
        "            \n",
        "            for c in dic[digits[i]]:\n",
        "                arr.append(c)\n",
        "                help(i+1, arr)\n",
        "                arr.pop()\n",
        "        help(0,[])\n",
        "        return ans"
      ],
      "metadata": {
        "id": "MlqxhGtyrFlG"
      },
      "execution_count": null,
      "outputs": []
    },
    {
      "cell_type": "code",
      "source": [
        "# Joe\n",
        "\n",
        "class Solution:\n",
        "    def letterCombinations(self, digits: str) -> List[str]:\n",
        "        _map = {\n",
        "            \"2\": [\"a\", \"b\", \"c\"],\n",
        "            \"3\": [\"d\", \"e\", \"f\"],\n",
        "            \"4\": [\"g\", \"h\", \"i\"],\n",
        "            \"5\": [\"j\", \"k\", \"l\"],\n",
        "            \"6\": [\"m\", \"n\", \"o\"],\n",
        "            \"7\": [\"p\", \"q\", \"r\", \"s\"],\n",
        "            \"8\": [\"t\", \"u\", \"v\"],\n",
        "            \"9\": [\"w\", \"x\", \"y\", \"z\"],\n",
        "        }\n",
        "        res = []\n",
        "        \n",
        "        def helper(arry, cur):\n",
        "            if cur and len(cur) == len(digits):\n",
        "                res.append(cur)\n",
        "                return\n",
        "            \n",
        "            for i, d in enumerate(arry):\n",
        "                for c in _map[d]:\n",
        "                    helper(arry[i+1:], cur+c)\n",
        "        \n",
        "        if digits:\n",
        "            helper(digits, \"\")\n",
        "                \n",
        "        return res"
      ],
      "metadata": {
        "id": "gi8VuYrkrqQV"
      },
      "execution_count": null,
      "outputs": []
    },
    {
      "cell_type": "code",
      "source": [
        "# Hanbit\n",
        "class Solution:\n",
        "    def letterCombinations(self, digits: str) -> List[str]:   \n",
        "        m = {\n",
        "            \"2\" : \"abc\",\n",
        "            \"3\" : \"def\",\n",
        "            \"4\" : \"ghi\",\n",
        "            \"5\" : \"jkl\",\n",
        "            \"6\" : \"mno\",\n",
        "            \"7\" : \"pqrs\",\n",
        "            \"8\" : \"tuv\",\n",
        "            \"9\" : \"wxyz\"\n",
        "        }\n",
        "             \n",
        "# Brute force  O(N^3)    \n",
        "#         res = [\"\"]\n",
        "        \n",
        "#         for i in digits:\n",
        "#             temp = []\n",
        "#             for j in m[i]:\n",
        "#                 for o in res:\n",
        "#                     temp.append(o+j)\n",
        "#             res = temp\n",
        "#         return res\n",
        "       \n",
        "        if digits == \"\":\n",
        "            return []\n",
        "        \n",
        "        words = []\n",
        "        def recursion(self, word, i):\n",
        "            if i >= len(digits):\n",
        "                words.append(word)\n",
        "                return word\n",
        "            \n",
        "            for digit in m[digits[i]]:\n",
        "                recursion(self, word + digit, i + 1)        \n",
        "        \n",
        "        recursion(self, \"\", 0)\n",
        "        return words"
      ],
      "metadata": {
        "id": "eMe1mTzWxX0O"
      },
      "execution_count": null,
      "outputs": []
    },
    {
      "cell_type": "code",
      "source": [
        "#JH\n",
        "\n",
        "class Solution:\n",
        "    def letterCombinations(self, digits: str) -> List[str]:\n",
        "        \n",
        "        def dfs(index, path):\n",
        "            \n",
        "            if len(path) == len(digits):\n",
        "                result.append(path)\n",
        "                return\n",
        "            \n",
        "            for i in range(index, len(digits)):\n",
        "                for j in letter[digits[i]]:\n",
        "                    dfs(i+1, path+j)\n",
        "        \n",
        "        if not digits:\n",
        "            return []\n",
        "        \n",
        "        letter = {'2':'abc', '3':'def', '4':'ghi', '5':'jkl', '6':'mno', '7':'pqrs', '8':'tuv', '9':'wxyz'}\n",
        "        result = []\n",
        "        \n",
        "        dfs(0,\"\")\n",
        "        \n",
        "        return result\n",
        "        "
      ],
      "metadata": {
        "id": "qcGTj1HOxw7g"
      },
      "execution_count": null,
      "outputs": []
    },
    {
      "cell_type": "markdown",
      "source": [
        "# Mar. 03 2022\n",
        "\n",
        "1146. Snapshot Array\n",
        "\n",
        "https://leetcode.com/problems/snapshot-array/\n"
      ],
      "metadata": {
        "id": "Zj63Amu81wo4"
      }
    },
    {
      "cell_type": "code",
      "source": [
        "#Minsu's code\n",
        "\n",
        "#Category : design, binary search\n",
        "#idea : \n",
        "# init : Definition of 2d list\n",
        "# set : After tying snap_id and val, append to array\n",
        "# snap : Increase the number of snap_id\n",
        "# get : Search for snap_id using binary search. Important Point: When finding, it can also be found when snap_id is larger than the stored snap_id.\n",
        "#       Case [\"SnapshotArray\",\"set\",\"snap\",\"snap\",\"snap\",\"get\",\"snap\",\"snap\",\"get\"] [[1],[0,15],[],[],[],[0,2],[],[],[0,0]]\n",
        "from collections import defaultdict\n",
        "class SnapshotArray:\n",
        "\n",
        "    def __init__(self, length: int):\n",
        "        self.snapsArray = []\n",
        "        self.snap_id = 0\n",
        "        for i in range(length):\n",
        "            self.snapsArray.append([])\n",
        "        \n",
        "    def set(self, index: int, val: int) -> None:\n",
        "        self.snapsArray[index].append([self.snap_id, val])\n",
        "        \n",
        "    def snap(self) -> int:\n",
        "        self.snap_id += 1\n",
        "        return self.snap_id -1\n",
        "\n",
        "    def get(self, index: int, snap_id: int) -> int:\n",
        "        l, r = 0, len(self.snapsArray[index])\n",
        "        #print(self.snapsArray[index])\n",
        "        while l < r:\n",
        "            mid = (l + r) // 2\n",
        "            if self.snapsArray[index][mid][0] > snap_id:\n",
        "                r = mid\n",
        "            else:\n",
        "                l = mid + 1\n",
        "        idx = l - 1\n",
        "        if idx < 0:\n",
        "            return 0\n",
        "        return self.snapsArray[index][idx][1]\n",
        "        \n",
        "\n",
        "\n",
        "# Your SnapshotArray object will be instantiated and called as such:\n",
        "# obj = SnapshotArray(length)\n",
        "# obj.set(index,val)\n",
        "# param_2 = obj.snap()\n",
        "# param_3 = obj.get(index,snap_id)"
      ],
      "metadata": {
        "id": "R_5r5zLKvXfW"
      },
      "execution_count": null,
      "outputs": []
    }
  ]
}