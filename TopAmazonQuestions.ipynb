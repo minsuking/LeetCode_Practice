{
  "nbformat": 4,
  "nbformat_minor": 0,
  "metadata": {
    "colab": {
      "name": "TopAmazonQuestions.ipynb",
      "provenance": [],
      "collapsed_sections": [],
      "toc_visible": true,
      "include_colab_link": true
    },
    "kernelspec": {
      "name": "python3",
      "display_name": "Python 3"
    },
    "language_info": {
      "name": "python"
    }
  },
  "cells": [
    {
      "cell_type": "markdown",
      "metadata": {
        "id": "view-in-github",
        "colab_type": "text"
      },
      "source": [
        "<a href=\"https://colab.research.google.com/github/minsuking/LeetCode_Practice/blob/master/TopAmazonQuestions.ipynb\" target=\"_parent\"><img src=\"https://colab.research.google.com/assets/colab-badge.svg\" alt=\"Open In Colab\"/></a>"
      ]
    },
    {
      "cell_type": "markdown",
      "source": [
        "# Top Amazon Questions \n",
        "[Meet Up](https://meet.google.com/gaw-ijuz-siz)\n",
        "\n",
        "[Questions](https://leetcode.com/problem-list/top-amazon-questions/?sorting=W3sic29ydE9yZGVyIjoiREVTQ0VORElORyIsIm9yZGVyQnkiOiJGUkVRVUVOQ1kifV0%3D)\n",
        "\n",
        "\n",
        "1. Two Sum [Easy]\n",
        "146. LRU Cache [Medium]\n",
        "56. Merge Intervals [Medium]\n",
        "200. Number of Islands [Medium]\n",
        "42. Trapping Rain Water [Hard]\n",
        "588. Design In-Memory File System [Hard]\n",
        "253. Meeting Rooms II [Medium]\n",
        "273. Integer to English Words [Hard]\n",
        "23. Merge k Sorted Lists [Hard]\n",
        "973. K Closest Points to Origin [Medium]\n",
        "49. Group Anagrams [Medium]\n",
        "1152. Analyze User Website Visit Pattern [Medium]\n",
        "127. Word Ladder [Hard]\n",
        "2104. Sum of Subarray Ranges [Medium]\n",
        "212. Word Search II [Hard]\n",
        "937. Reorder Data in Log Files [Easy]\n",
        "828. Count Unique Characters of All Substrings of a Given String [Hard]\n",
        "1268. Search Suggestions System [Medium]\n",
        "239. Sliding Window Maximum [Hard]\n",
        "12. Integer to Roman [Medium]\n",
        "696. Count Binary Substrings [Easy]\n",
        "735. Asteroid Collision [Medium]\n",
        "139. Word Break [Medium]\n",
        "863. All Nodes Distance K in Binary Tree [Medium]\n",
        "772. Basic Calculator III [Hard]\n",
        "210. Course Schedule II [Medium]\n",
        "348. Design Tic-Tac-Toe [Medium]\n",
        "926. Flip String to Monotone Increasing [Medium]\n",
        "295. Find Median from Data Stream [Hard]\n",
        "767. Reorganize String [Medium]\n",
        "472. Concatenated Words [Hard]\n",
        "103. Binary Tree Zigzag Level Order Traversal [Medium]\n",
        "545. Boundary of Binary Tree [Medium]\n",
        "994. Rotting Oranges [Medium]\n",
        "1710. Maximum Units on a Truck [Easy]\n",
        "909. Snakes and Ladders [Medium]\n",
        "370. Range Addition [Medium]\n",
        "1567. Maximum Length of Subarray With Positive Product [Medium]\n",
        "1044. Longest Duplicate Substring [Hard]\n",
        "1438. Longest Continuous Subarray With Absolute Diff Less Than or Equal to Limit [Medium]\n",
        "907. Sum of Subarray Minimums [Medium]\n",
        "2130. Maximum Twin Sum of a Linked List [Medium]\n",
        "1492. The kth Factor of n [Medium]\n",
        "1730. Shortest Path to Get Food [Medium]\n",
        "1151. Minimum Swaps to Group All 1's Together [Medium]\n",
        "1597. Build Binary Expression Tree From Infix Expression [Hard]\n",
        "1628. Design an Expression Tree With Evaluate Function [Medium]\n",
        "2102. Sequentially Ordinal Rank Tracker [Hard]\n",
        "582. Kill Process [Medium]\n",
        "2214. Minimum Health to Beat Game [Medium]\n"
      ],
      "metadata": {
        "id": "1BAzuoVD0hva"
      }
    },
    {
      "cell_type": "markdown",
      "source": [
        "# 06/01/2022 \n",
        "## 1. Two Sum\n",
        "https://leetcode.com/problems/two-sum/"
      ],
      "metadata": {
        "id": "DYCMNkak1j4B"
      }
    },
    {
      "cell_type": "code",
      "source": [
        "#Leo \n",
        "class Solution:\n",
        "    def twoSum(self, nums: List[int], target: int) -> List[int]:\n",
        "        d= {}\n",
        "        '''\n",
        "        value : index \n",
        "        d= {\n",
        "         2 : 0 \n",
        "        }\n",
        "        '''\n",
        "        for i in range(len(nums)):    \n",
        "            if d.get(target - nums[i]) != None:\n",
        "                return [d[target-nums[i]] , i]\n",
        "            else:\n",
        "                d[nums[i]] = i "
      ],
      "metadata": {
        "id": "SQCDn8dSUv79"
      },
      "execution_count": null,
      "outputs": []
    },
    {
      "cell_type": "code",
      "source": [
        "#Minsu's code\n",
        "#TC : O(n)\n",
        "class Solution:\n",
        "    def twoSum(self, nums: List[int], target: int) -> List[int]:\n",
        "        map_ = dict()\n",
        "        for i, v in enumerate(nums):\n",
        "            if target-v in map_:\n",
        "                return [map_[target-v],i]\n",
        "            else:\n",
        "                map_[v] = i"
      ],
      "metadata": {
        "id": "Prf-uTS9w2yw"
      },
      "execution_count": null,
      "outputs": []
    },
    {
      "cell_type": "code",
      "source": [
        "#JH\n",
        "class Solution:\n",
        "    def twoSum(self, nums: List[int], target: int) -> List[int]:\n",
        "        \n",
        "        map_ =  {}\n",
        "        \n",
        "        for i,n in enumerate(nums):\n",
        "            if (target-n) in map_:\n",
        "                return [map_[target-n], i]\n",
        "            else:\n",
        "                map_[n] = i"
      ],
      "metadata": {
        "id": "3xGzeops90zB"
      },
      "execution_count": null,
      "outputs": []
    },
    {
      "cell_type": "code",
      "source": [
        "# Dana \n",
        "class Solution:\n",
        "    def twoSum(self, nums: List[int], target: int) -> List[int]:\n",
        "        prev = {}\n",
        "        for index, value in enumerate(nums): \n",
        "          if (target-value) in prev: \n",
        "            return [prev[target-value], index]\n",
        "          prev[value] = index "
      ],
      "metadata": {
        "id": "Quy3agqc-8_f"
      },
      "execution_count": null,
      "outputs": []
    },
    {
      "cell_type": "code",
      "source": [
        "# YS\n",
        "class Solution:\n",
        "    def twoSum(self, nums: List[int], target: int) -> List[int]:\n",
        "        dic = {}\n",
        "        for i,n in enumerate(nums):\n",
        "            if -n in dic:\n",
        "                return [dic[-n], i]\n",
        "            dic[n-target] = i"
      ],
      "metadata": {
        "id": "8S8TnsRQDkQb"
      },
      "execution_count": null,
      "outputs": []
    },
    {
      "cell_type": "code",
      "source": [
        "# Joe\n",
        "class Solution:\n",
        "    def twoSum(self, nums: List[int], target: int) -> List[int]:\n",
        "        _map = {}\n",
        "        for i, n in enumerate(nums):\n",
        "            if target - n in _map:\n",
        "                return [_map[target-n], i]\n",
        "            _map[n] = i"
      ],
      "metadata": {
        "id": "aZrQqKdsFPSe"
      },
      "execution_count": null,
      "outputs": []
    },
    {
      "cell_type": "code",
      "source": [
        "#Iris\n",
        "\n",
        "class Solution:\n",
        "    def twoSum(self, nums: List[int], target: int) -> List[int]:\n",
        "        for i in range(0, len(nums)-1):\n",
        "            for j in range(i+1, len(nums)):\n",
        "                if (nums[i] + nums[j]) == target:\n",
        "                    return [i, j]\n"
      ],
      "metadata": {
        "id": "nHiK8q09MQlS"
      },
      "execution_count": null,
      "outputs": []
    },
    {
      "cell_type": "markdown",
      "source": [
        "# 06/02/2022\n",
        "LRU Cache [Medium]\n",
        "https://leetcode.com/problems/lru-cache/"
      ],
      "metadata": {
        "id": "QKsF6nKsOhI4"
      }
    },
    {
      "cell_type": "code",
      "source": [
        "#Minsu's code\n",
        "#Idea : Double Linked List + Hash Map\n",
        "#TC : O(1)\n",
        "class Node:\n",
        "    def __init__(self, key, val):\n",
        "        self.key = key\n",
        "        self.val = val\n",
        "        self.next = None\n",
        "        self.prev = None\n",
        "        \n",
        "class LinkedList:\n",
        "    def __init__(self):\n",
        "        self.head = None\n",
        "        self.tail = None\n",
        "\n",
        "    def insert(self, node):\n",
        "        if self.head:\n",
        "            self.tail.next = node\n",
        "            node.prev = self.tail\n",
        "        else:\n",
        "            self.head = node\n",
        "        self.tail = node\n",
        "\n",
        "    def delete(self, node):\n",
        "        if node.next:\n",
        "            node.next.prev = node.prev\n",
        "        else:\n",
        "            self.tail = node.prev\n",
        "        if node.prev:\n",
        "            node.prev.next = node.next\n",
        "        else:\n",
        "            self.head = node.next\n",
        "            \n",
        "class LRUCache:\n",
        "    def __init__(self, capacity: int):\n",
        "        self.linkedList = LinkedList()\n",
        "        self.map_ = dict()\n",
        "        self.capacity = capacity\n",
        "\n",
        "    def get(self, key: int) -> int:\n",
        "        if key in self.map_:\n",
        "            val = self.map_[key].val\n",
        "            \n",
        "            self.linkedList.delete(self.map_[key])\n",
        "            \n",
        "            node = Node(key, val)\n",
        "            self.linkedList.insert(node)\n",
        "            self.map_[key] = node\n",
        "            print (\"val == \",val,sep=\" \")\n",
        "            return val\n",
        "        return -1\n",
        "\n",
        "    def put(self, key: int, value: int) -> None:\n",
        "        if key in self.map_:\n",
        "            self.linkedList.delete(self.map_[key])\n",
        "        elif len(self.map_) == self.capacity:\n",
        "            print(\"head.key == \",self.linkedList.head.key,sep=\" \")\n",
        "            del self.map_[self.linkedList.head.key]\n",
        "            self.linkedList.delete(self.linkedList.head)\n",
        "        node = Node(key, value)\n",
        "        self.linkedList.insert(node)\n",
        "        self.map_[key] = node"
      ],
      "metadata": {
        "id": "0TQt1Fn_BIYV"
      },
      "execution_count": null,
      "outputs": []
    },
    {
      "cell_type": "code",
      "source": [
        "# YS\n",
        "class Node:\n",
        "    def __init__(self, key, val):\n",
        "        self.key = key\n",
        "        self.val = val\n",
        "        self.next = None\n",
        "        self.prev = None\n",
        "\n",
        "class LRUCache:\n",
        "    def __init__(self, capacity: int):\n",
        "        self.cap = capacity\n",
        "        self.dic = {} # key: key, val: node\n",
        "        self.head = Node(None,None)\n",
        "        self.tail = Node(None,None)    \n",
        "        \n",
        "        self.head.next = self.tail\n",
        "        self.tail.prev = self.head\n",
        "    \n",
        "    def get(self, key: int) -> int:\n",
        "        if key not in self.dic:\n",
        "            return -1\n",
        "        \n",
        "        node = self.dic[key]\n",
        "        # remove from linkedlist\n",
        "        node.prev.next = node.next\n",
        "        node.next.prev = node.prev\n",
        "        # add\n",
        "        node.next = self.head.next\n",
        "        node.prev = self.head\n",
        "        self.head.next.prev = node\n",
        "        self.head.next = node\n",
        "        \n",
        "        return node.val\n",
        "    \n",
        "\n",
        "    def put(self, key: int, value: int) -> None:\n",
        "        if key in self.dic:\n",
        "            # update value\n",
        "            node = self.dic[key]\n",
        "            node.val = value\n",
        "            # remove from linkedlist\n",
        "            node.prev.next = node.next\n",
        "            node.next.prev = node.prev\n",
        "        else:\n",
        "            node = Node(key, value)\n",
        "            self.dic[key] = node\n",
        "        # add\n",
        "        node.next = self.head.next\n",
        "        node.prev = self.head\n",
        "        self.head.next.prev = node\n",
        "        self.head.next = node\n",
        "            \n",
        "        if len(self.dic) > self.cap:\n",
        "            node = self.tail.prev\n",
        "            # remove\n",
        "            node.prev.next = node.next\n",
        "            node.next.prev = node.prev\n",
        "            # remove from dic\n",
        "            del self.dic[node.key]"
      ],
      "metadata": {
        "id": "bUJvNvC7M44B"
      },
      "execution_count": null,
      "outputs": []
    },
    {
      "cell_type": "code",
      "source": [
        "#JH\n",
        "class dNode:\n",
        "    def __init__(self, key, val):\n",
        "        self.key = key\n",
        "        self.val = val\n",
        "        self.prev = None\n",
        "        self.next = None\n",
        "        \n",
        "class LRUCache:\n",
        "\n",
        "    def __init__(self, capacity: int):\n",
        "        self.capacity = capacity\n",
        "        self.cache = {}\n",
        "        \n",
        "        self.left, self.right = dNode(0, 0), dNode(0, 0)\n",
        "        self.left.next = self.right\n",
        "        self.right.prev = self.left\n",
        "    \n",
        "    def remove(self, node):\n",
        "        prev, next_ = node.prev, node.next\n",
        "        prev.next , next_.prev = next_, prev\n",
        "    \n",
        "    def insert_right(self, node):\n",
        "        prev, next_ = self.right.prev, self.right\n",
        "        prev.next = next_.prev = node\n",
        "        node.prev, node.next = prev, next_ \n",
        "    \n",
        "    def get(self, key: int) -> int:\n",
        "        if key in self.cache:\n",
        "            self.remove(self.cache[key])\n",
        "            self.insert_right(self.cache[key])\n",
        "            return self.cache[key].val\n",
        "        else:\n",
        "            return -1\n",
        "        \n",
        "    def put(self, key: int, value: int) -> None:\n",
        "        if len(self.cache) == self.capacity:\n",
        "            node = self.left.next\n",
        "            self.remove(node)\n",
        "            del self.cache[node.key]\n",
        "\n",
        "        if key in self.cache:\n",
        "            self.remove(self.cache[key])\n",
        "        self.cache[key] = dNode(key, value)\n",
        "        self.insert_right(self.cache[key])\n",
        "        \n",
        "        "
      ],
      "metadata": {
        "id": "dZIEXeqFQRje"
      },
      "execution_count": null,
      "outputs": []
    },
    {
      "cell_type": "code",
      "source": [
        "# Joe\n",
        "\n",
        "class Node:\n",
        "    def __init__(self, val, key):\n",
        "        self.key = key\n",
        "        self.val = val\n",
        "        self.next = None\n",
        "        self.prev = None\n",
        "\n",
        "class LRUCache:\n",
        "\n",
        "    def __init__(self, capacity: int):\n",
        "        self.capa = capacity\n",
        "        self.key = {}\n",
        "        self.head = Node('#', '__Head__')\n",
        "        self.tail = Node('#', '__Tail__')\n",
        "        self.head.next = self.tail\n",
        "        self.tail.prev = self.head\n",
        "        \n",
        "\n",
        "    def get(self, key: int) -> int:\n",
        "        if key not in self.key:\n",
        "            return -1\n",
        "        node = self.key[key]\n",
        "        self._del(node)\n",
        "        self._add(node)\n",
        "        return node.val\n",
        "    \n",
        "    def _del(self, node):\n",
        "        node.prev.next, node.next.prev = node.next, node.prev\n",
        "        del self.key[node.key]\n",
        "    \n",
        "    def _add(self, node):\n",
        "        node.prev = self.head\n",
        "        node.next = self.head.next\n",
        "        self.head.next.prev = node\n",
        "        self.head.next = node\n",
        "        self.key[node.key] = node\n",
        "\n",
        "    def put(self, key: int, value: int) -> None:\n",
        "        node = Node(value, key)\n",
        "        if key in self.key:\n",
        "            self._del(self.key[key])\n",
        "        elif len(self.key) >= self.capa:\n",
        "            d = self.tail.prev\n",
        "            self._del(d)\n",
        "        self._add(node)"
      ],
      "metadata": {
        "id": "ovYnJW0SSME-"
      },
      "execution_count": null,
      "outputs": []
    },
    {
      "cell_type": "markdown",
      "source": [
        "# 06/03/2022\n",
        "56. Merge Intervals [Medium]\n",
        "https://leetcode.com/problems/merge-intervals/"
      ],
      "metadata": {
        "id": "uTRFJrefJ-JX"
      }
    },
    {
      "cell_type": "code",
      "source": [
        "#Minsu's code\n",
        "#Idea : sorting\n",
        "#TC : O(n log n)\n",
        "class Solution:\n",
        "    def merge(self, intervals: List[List[int]]) -> List[List[int]]:\n",
        "        start, end = -1, -1\n",
        "        intervals.sort()\n",
        "        res = []\n",
        "        for interval in intervals:\n",
        "            if start==-1:\n",
        "                start = interval[0]\n",
        "            elif end < interval[0]:\n",
        "                res.append([start,end])\n",
        "                start = interval[0]\n",
        "            end = max(end, interval[1])\n",
        "        res.append([start,end])\n",
        "        return res"
      ],
      "metadata": {
        "id": "PmPZQEe07tsB"
      },
      "execution_count": null,
      "outputs": []
    },
    {
      "cell_type": "code",
      "source": [
        "# Dana \n",
        "class Solution:\n",
        "    # O(n log n)\n",
        "    def merge(self, intervals: List[List[int]]) -> List[List[int]]:\n",
        "        intervals.sort(key = lambda x : x[0])\n",
        "        output = []\n",
        "        \n",
        "        for interval in intervals: \n",
        "            if len(output) == 0 or output[-1][1] < interval[0]: \n",
        "                output.append(interval) \n",
        "            else:\n",
        "                output[-1][1] = max(output[-1][1], interval[1])\n",
        "                \n",
        "        return output "
      ],
      "metadata": {
        "id": "XI5On7AlrJ4t"
      },
      "execution_count": null,
      "outputs": []
    },
    {
      "cell_type": "code",
      "source": [
        "# Joe\n",
        "# TC: O(NLogN)\n",
        "# SC: O(N)\n",
        "class Solution:\n",
        "    def merge(self, intervals: List[List[int]]) -> List[List[int]]:\n",
        "        intervals.sort()\n",
        "        stack = []\n",
        "        for start, end in intervals:\n",
        "            if stack and stack[-1][1] >= start:\n",
        "                tmp = stack.pop()\n",
        "                start = min(start, tmp[0])\n",
        "                end = max(end, tmp[1])\n",
        "            stack.append([start, end])\n",
        "        return stack"
      ],
      "metadata": {
        "id": "bezrnXsptIF3"
      },
      "execution_count": null,
      "outputs": []
    },
    {
      "cell_type": "code",
      "source": [
        "#JH\n",
        "class Solution:\n",
        "    def merge(self, intervals: List[List[int]]) -> List[List[int]]:\n",
        "        \n",
        "        intervals.sort(key = lambda x : x[0])\n",
        "        res = []\n",
        "        \n",
        "        for interval in intervals:\n",
        "            if res and res[-1][1] >= interval[0]:        \n",
        "                res[-1][1] = max(res[-1][1], interval[1])\n",
        "            else:\n",
        "                res.append(interval)\n",
        "                   \n",
        "        return res"
      ],
      "metadata": {
        "id": "EL4ieMi2LU49"
      },
      "execution_count": null,
      "outputs": []
    },
    {
      "cell_type": "code",
      "source": [
        "#YS\n",
        "class Solution:\n",
        "    def merge(self, intervals: List[List[int]]) -> List[List[int]]:\n",
        "        intervals.sort(key = lambda x:x[0])\n",
        "        ans = [intervals[0]]\n",
        "        for s,e in intervals[1:]:\n",
        "            if ans[-1][1] >= s:  # 1 5   3 6\n",
        "                ans[-1][0] = min(s,ans[-1][0])\n",
        "                ans[-1][1] = max(e,ans[-1][1])\n",
        "            else:\n",
        "                ans.append([s,e])\n",
        "        return ans"
      ],
      "metadata": {
        "id": "bc48YUglOwc_"
      },
      "execution_count": null,
      "outputs": []
    },
    {
      "cell_type": "code",
      "source": [
        "#Iris\n",
        "class Solution:\n",
        "    def merge(self, intervals: List[List[int]]) -> List[List[int]]:\n",
        "        intervals.sort(key = lambda i:i[0])\n",
        "        sol = [intervals[0]]\n",
        "\n",
        "        for start, end in intervals[1:]:\n",
        "            recent = sol[-1][1] \n",
        "            if start <= recent: \n",
        "                sol[-1][1] = max(recent, end) \n",
        "            else:\n",
        "                sol.append([start, end]) \n",
        "        return sol"
      ],
      "metadata": {
        "id": "xNe_rQ6xcjwA"
      },
      "execution_count": null,
      "outputs": []
    },
    {
      "cell_type": "markdown",
      "source": [
        "# 06/06/2022\n",
        "200. Number of Islands [Medium]"
      ],
      "metadata": {
        "id": "aiY1ELA-KKKk"
      }
    },
    {
      "cell_type": "code",
      "source": [
        "#Minsu's code (ㅋㅋ 제 리스트에선 이게 3번째라...)\n",
        "#Idea : flood fill & bfs\n",
        "#TC : O(n*m) n, m = row, col\n",
        "from collections import deque\n",
        "class Solution:\n",
        "    def numIslands(self, grid: List[List[str]]) -> int:\n",
        "        row, col = len(grid), len(grid[0])\n",
        "        que = deque()\n",
        "        visited = set()\n",
        "        dirs = ((0,1),(0,-1),(1,0),(-1,0))\n",
        "        res = 0\n",
        "        for i in range(row):\n",
        "            for j in range(col):\n",
        "                if grid[i][j]==\"1\" and (i,j) not in visited:\n",
        "                    que.append((i,j))\n",
        "                    visited.add((i,j))\n",
        "                    while que:\n",
        "                        x, y = que.popleft()\n",
        "                        for d in dirs:\n",
        "                            dx = x + d[0]\n",
        "                            dy = y + d[1]\n",
        "                            if dx >= 0 and dx<row and dy >=0 and dy<col and grid[dx][dy]==\"1\" and (dx,dy) not in visited:\n",
        "                                que.append((dx,dy))\n",
        "                                visited.add((dx,dy))\n",
        "                    res += 1\n",
        "        return res  "
      ],
      "metadata": {
        "id": "Hao-EOHa2sHP"
      },
      "execution_count": null,
      "outputs": []
    },
    {
      "cell_type": "code",
      "source": [
        "# Dana \n",
        "class Solution(object):\n",
        "    \n",
        "    # DFS \n",
        "    # 1. Init: count = 0 \n",
        "    # 2. Iterate through entire grid \n",
        "        # 2.1. If current = \"0\": continue \n",
        "        # 2.2. If current = \"1\": \n",
        "            # 2.2.1. count += 1, mark all \"1\" in same island as \".\" \n",
        "    # 3. Return count \n",
        "                \n",
        "    def numIslands(self, grid):\n",
        "        \"\"\"\n",
        "        :type grid: List[List[str]]\n",
        "        :rtype: int\n",
        "        \"\"\"\n",
        "        count = 0\n",
        "        \n",
        "        for i in range(len(grid)): \n",
        "            for j in range(len(grid[0])): \n",
        "                if grid[i][j] == '1': \n",
        "                    count += 1 \n",
        "                    self.dfs(grid, i, j)  \n",
        "                    \n",
        "        return count \n",
        "    \n",
        "    def dfs(self, grid, i, j): \n",
        "        if i < 0 or j < 0 or i == len(grid) or j == len(grid[0]) or grid[i][j] != \"1\": \n",
        "            return \n",
        "            \n",
        "        grid[i][j] = \".\"\n",
        "        self.dfs(grid, i-1, j)\n",
        "        self.dfs(grid, i, j-1)\n",
        "        self.dfs(grid, i+1, j)\n",
        "        self.dfs(grid, i, j+1)"
      ],
      "metadata": {
        "id": "tUCtVx6lQHVX"
      },
      "execution_count": null,
      "outputs": []
    },
    {
      "cell_type": "code",
      "source": [
        "# Joe\n",
        "class Solution:\n",
        "    def numIslands(self, grid: List[List[str]]) -> int:\n",
        "        ret = 0\n",
        "        \n",
        "        def bfs(r, c):\n",
        "            if r < 0 or c < 0 or r >= len(grid) or c >= len(grid[0]):\n",
        "                return\n",
        "            if grid[r][c] == '1':\n",
        "                grid[r][c] = \"#\"\n",
        "                for nr, nc in [(-1, 0), (1, 0), (0, -1), (0, 1)]:\n",
        "                    bfs(r+nr, c+nc)\n",
        "            \n",
        "        \n",
        "        for row in range(len(grid)):\n",
        "            for col in range(len(grid[0])):\n",
        "                if grid[row][col] == '1':\n",
        "                    ret += 1\n",
        "                    bfs(row, col)\n",
        "        \n",
        "        return ret"
      ],
      "metadata": {
        "id": "wKwveO2gtVo_"
      },
      "execution_count": null,
      "outputs": []
    },
    {
      "cell_type": "code",
      "source": [
        "# Leo \n",
        "from collections import deque\n",
        "\n",
        "class Solution:\n",
        "    def numIslands(self, grid: List[List[str]]) -> int:\n",
        "        m,n = len(grid), len(grid[0])\n",
        "        visited = [ [False for _ in range(n)] for _ in range(m)]\n",
        "        num_of_island= 0 \n",
        "        \n",
        "        def bfs(x,y):\n",
        "            q = deque()\n",
        "            q.append((x,y))\n",
        "            visited[x][y] = True\n",
        "            movements = [(1,0),(-1,0),(0,1),(0,-1)] \n",
        "            \n",
        "            while q:\n",
        "                cur_x,cur_y = q.popleft() \n",
        "                \n",
        "                for dx,dy in movements:\n",
        "                    nx = cur_x + dx\n",
        "                    ny = cur_y + dy \n",
        "                    \n",
        "                    if 0 <= nx < m and 0 <= ny < n and grid[nx][ny] == \"1\" and visited[nx][ny] != True:\n",
        "                        visited[nx][ny] = True\n",
        "                        q.append((nx,ny))\n",
        "                        \n",
        "                        \n",
        "        for i in range(m):\n",
        "            for j in range(n):\n",
        "                if grid[i][j] == \"1\" and visited[i][j] != True:\n",
        "                    num_of_island +=1\n",
        "                    bfs(i,j)\n",
        "                    \n",
        "                    \n",
        "        return num_of_island "
      ],
      "metadata": {
        "id": "M6BSnNIQgo5m"
      },
      "execution_count": null,
      "outputs": []
    },
    {
      "cell_type": "code",
      "source": [
        "# YS\n",
        "class Solution:\n",
        "    def numIslands(self, grid: List[List[str]]) -> int:\n",
        "        m = len(grid)\n",
        "        n = len(grid[0])\n",
        "        \n",
        "        cnt = 0\n",
        "        \n",
        "        for i in range(m):\n",
        "            for j in range(n):\n",
        "                if grid[i][j] == '1':\n",
        "                    deq = deque([(i,j)])\n",
        "                    cnt += 1\n",
        "                    while deq:\n",
        "                        x,y = deq.popleft()\n",
        "                        \n",
        "                        if grid[x][y] != '1':\n",
        "                            continue\n",
        "                        grid[x][y] = '-1'\n",
        "                        \n",
        "                        for a,b in [ [-1,0],[0,-1],[1,0],[0,1] ]:\n",
        "                            new_x = x+a\n",
        "                            new_y = y+b\n",
        "                            if new_x >= 0 and new_x < m  and new_y >= 0 and new_y < n and grid[new_x][new_y]=='1':\n",
        "                                deq.append([new_x,new_y])\n",
        "                                \n",
        "        return cnt "
      ],
      "metadata": {
        "id": "RdYMp_dlXWGl"
      },
      "execution_count": null,
      "outputs": []
    },
    {
      "cell_type": "code",
      "source": [
        "#JH\n",
        "class Solution:\n",
        "    def numIslands(self, grid: List[List[str]]) -> int:\n",
        "        \n",
        "        def dfs(m, n, grid):\n",
        "            if  0 > m or 0 > n or m >= len(grid) or n >= len(grid[0]) or grid[m][n] != '1':\n",
        "                return\n",
        "            \n",
        "            grid[m][n] = '0'\n",
        "            dfs(m+1, n, grid)\n",
        "            dfs(m-1, n, grid)\n",
        "            dfs(m, n+1, grid)\n",
        "            dfs(m, n-1, grid)\n",
        "\n",
        "        res = 0\n",
        "        for m in range(len(grid)):\n",
        "            for n in range(len(grid[0])):\n",
        "                if grid[m][n] == '1':\n",
        "                    res += 1\n",
        "                    dfs(m,n,grid)\n",
        "        \n",
        "        return res"
      ],
      "metadata": {
        "id": "iWPgYgwJ1RyR"
      },
      "execution_count": null,
      "outputs": []
    },
    {
      "cell_type": "markdown",
      "source": [
        "# 06/07/2022\n",
        "42. Trapping Rain Water [Hard]\n"
      ],
      "metadata": {
        "id": "dpKiJhowKNny"
      }
    },
    {
      "cell_type": "code",
      "source": [
        "# Dana \n",
        "\n",
        "class Solution:\n",
        "    \n",
        "    # Can be trapped only if both edges are blocked \n",
        "    \n",
        "    def trap(self, height: List[int]) -> int:\n",
        "        \n",
        "        max_height_from_left = [0] * len(height) \n",
        "        max_height_from_right = [0] * len(height) \n",
        "        \n",
        "        # Max Height from Left\n",
        "        max_height = 0\n",
        "        for index, h in enumerate(height): \n",
        "            max_height_from_left[index] = max_height \n",
        "            max_height = max(max_height, h) \n",
        "            \n",
        "        # Max Height from Right\n",
        "        max_height = 0\n",
        "        for index, h in reversed(list(enumerate(height))): \n",
        "            max_height_from_right[index] = max_height \n",
        "            max_height = max(max_height, h) \n",
        "            \n",
        "        # Get total water \n",
        "        total_water = 0 \n",
        "        for index, h in enumerate(height): \n",
        "            total_water += max(min(max_height_from_left[index], max_height_from_right[index]) - h, 0)\n",
        "            \n",
        "        return total_water"
      ],
      "metadata": {
        "id": "T7qNOoJQDQTM"
      },
      "execution_count": null,
      "outputs": []
    },
    {
      "cell_type": "code",
      "source": [
        "#Minsu's code\n",
        "#Idea : DP, 1. 0 to n까지의 max 높이 구하고, n to 0 까지의 max 높이를 구한다. \n",
        "#           2. 각 구한 dp 테이블의 위치를 비교하여 min값(더 작은값까지만 물을 채울수있으니)에 bar의 높이를 빼주고 더하기 \n",
        "#           min(left, right) - height\n",
        "#TC : O(n)\n",
        "class Solution:\n",
        "    def trap(self, height: List[int]) -> int:\n",
        "        length = len(height)\n",
        "        dp_left = [0] * length\n",
        "        dp_right = [0] * length\n",
        "        \n",
        "        dp_left[0] = height[0]\n",
        "        dp_right[length-1] = height[length-1]\n",
        "        \n",
        "        for i in range(1, length):\n",
        "            dp_left[i] = max(dp_left[i-1], height[i])\n",
        "            ri = length-1-i\n",
        "            dp_right[ri] = max(dp_right[ri+1], height[ri])\n",
        "        \n",
        "        res = 0\n",
        "        for i in range(length):\n",
        "            res += min(dp_left[i],dp_right[i]) - height[i]\n",
        "        \n",
        "        return res\n",
        "#idea : two pointers, l, r 각각 최대높이를 구해서 해당 pointer가 max보다 낮은경우 그 차만큼 더하는 방식\n",
        "#TC : O(n)\n",
        "class Solution:\n",
        "    def trap(self, height: List[int]) -> int:\n",
        "        l, r = 0, len(height)-1\n",
        "        lMax, rMax = 0, 0\n",
        "        res = 0\n",
        "        while l < r:\n",
        "            if height[l] < height[r]:\n",
        "                if height[l] >= lMax:\n",
        "                    lMax = height[l]\n",
        "                else:\n",
        "                    res += lMax - height[l]\n",
        "                l+= 1\n",
        "            else:\n",
        "                if height[r] >= rMax:\n",
        "                    rMax = height[r]\n",
        "                else:\n",
        "                    res += rMax - height[r]\n",
        "                r-=1\n",
        "        return res"
      ],
      "metadata": {
        "id": "IoRDtrioOmDX"
      },
      "execution_count": null,
      "outputs": []
    },
    {
      "cell_type": "code",
      "source": [
        "#JH\n",
        "class Solution:\n",
        "    def trap(self, height: List[int]) -> int:\n",
        "        \n",
        "        left, right = 0, len(height)-1\n",
        "        left_max, right_max = 0, 0\n",
        "        res = 0\n",
        "        \n",
        "        while left < right:           \n",
        "            if height[left] < height[right]:\n",
        "                \n",
        "                if left_max > height[left]:\n",
        "                    res += (left_max - height[left])\n",
        "                else:\n",
        "                    left_max = height[left]\n",
        "                left += 1            \n",
        "            else:\n",
        "                if right_max > height[right]:\n",
        "                    res += (right_max - height[right])\n",
        "                else:\n",
        "                    right_max = height[right]\n",
        "                right -= 1\n",
        "        \n",
        "        return res"
      ],
      "metadata": {
        "id": "j0p72crU8xzW"
      },
      "execution_count": null,
      "outputs": []
    },
    {
      "cell_type": "code",
      "source": [
        "#Leo \n",
        "class Solution:\n",
        "    def trap(self, height: List[int]) -> int:\n",
        "        #left = 0\n",
        "        #right = len(height) -1 \n",
        "        \n",
        "        #max_left_ptr = 0 , max_right_ptr = len(height)-1\n",
        "        \n",
        "        max_left = [0] * (len(height)) \n",
        "        max_right = [0] * (len(height))\n",
        "        '''\n",
        "              \n",
        "        [ 0 2 1 1 ] = left \n",
        "        [ 100 3 3 0 ] = right \n",
        "        '''\n",
        "        #max_left[0] = height[0]\n",
        "        #max_right[-1] = height[-1]\n",
        "        \n",
        "        for i in range(1, len(height)):\n",
        "            max_left[i] = max(height[i-1], max_left[i-1])\n",
        "\n",
        "        for j in range(len(height)-2, -1, -1):\n",
        "            max_right[j] = max(height[j+1], max_right[j+1])\n",
        "                \n",
        "        #max_right = max_right[::-1]\n",
        "        print(max_left)\n",
        "        print(max_right)\n",
        "        # [ 0 0 1 1 2 2 2 2 3 3 3 3]\n",
        "        # [ 3 3 3 3 3 3 3 2 2 2 1 0]\n",
        "        ans = 0 \n",
        "        for k in range(len(max_left)):\n",
        "            ans += max( min(max_left[k], max_right[k]) - height[k], 0 )\n",
        "            \n",
        "        return ans"
      ],
      "metadata": {
        "id": "fJFqDauZ84JM"
      },
      "execution_count": null,
      "outputs": []
    },
    {
      "cell_type": "code",
      "source": [
        "# Iris\n",
        "class Solution:\n",
        "    def trap(self, height: List[int]) -> int:\n",
        "        # O(N)\n",
        "        if not height:\n",
        "            return 0\n",
        "        left, right = 0, len(height)-1\n",
        "        leftMax, rightMax = height[left], height[right]\n",
        "        result = 0\n",
        "        \n",
        "        while left < right: \n",
        "            if leftMax < rightMax:\n",
        "                left += 1\n",
        "                leftMax = max(leftMax, height[left])\n",
        "                result += leftMax - height[left]\n",
        "            else: \n",
        "                right -= 1\n",
        "                rightMax = max(rightMax, height[right])\n",
        "                result += rightMax - height[right]\n",
        "        return result"
      ],
      "metadata": {
        "id": "hYsDmU2xApfc"
      },
      "execution_count": null,
      "outputs": []
    },
    {
      "cell_type": "code",
      "source": [
        "# Joe\n",
        "# TC: O(N)\n",
        "# SC: O(1)\n",
        "\n",
        "class Solution:\n",
        "    def trap(self, height: List[int]) -> int:\n",
        "        l = 0\n",
        "        r = len(height) - 1\n",
        "        lmax = 0\n",
        "        rmax = 0\n",
        "        res = 0\n",
        "        \n",
        "        while l < r:\n",
        "            if height[l] < height[r]:\n",
        "                if height[l] >= lmax:\n",
        "                    lmax = height[l]\n",
        "                else:\n",
        "                    res += lmax - height[l]\n",
        "                l += 1\n",
        "            else:\n",
        "                if height[r] >= rmax:\n",
        "                    rmax = height[r]\n",
        "                else:\n",
        "                    res += rmax - height[r]\n",
        "                r -= 1\n",
        "        return res"
      ],
      "metadata": {
        "id": "Cu6v4HUTBErL"
      },
      "execution_count": null,
      "outputs": []
    },
    {
      "cell_type": "markdown",
      "source": [
        "# 06/08/2022\n",
        "588. Design In-Memory File System [Hard]\n"
      ],
      "metadata": {
        "id": "8Irdk5lrKQk_"
      }
    },
    {
      "cell_type": "code",
      "source": [
        "#Minsu's code\n",
        "#Idea : Trie, directory와 file을 trie node로 만들어서 search 하는 방식\n",
        "#       - node에 attribute를 추가하여, 해당 node가 file인지 directory인지 구분\n",
        "# TC : O(nm) n = depth of directory, m = numbers of files and directory\n",
        "\n",
        "class Node:\n",
        "    def __init__(self, key, attr):\n",
        "        self.key = key\n",
        "        self.data = \"\"\n",
        "        self.attr = attr # d : 디렉토리, f : 파일\n",
        "        self.children = dict()\n",
        "\n",
        "class Trie:\n",
        "    def __init__(self):\n",
        "        self.node = Node(\"/\",\"d\")\n",
        "    \n",
        "    def insert(self, path, content, attr):\n",
        "        node = self.node\n",
        "        \n",
        "        dirs = path.split(\"/\")\n",
        "        \n",
        "        for d in dirs:\n",
        "            if d not in node.children:\n",
        "                node.children[d] = Node(d, \"d\")\n",
        "            node = node.children[d]\n",
        "        node.data = node.data + content\n",
        "        node.attr = attr\n",
        "\n",
        "    def search(self, path):\n",
        "        dirs = path.split(\"/\")\n",
        "        node = self.node\n",
        "        \n",
        "        for d in dirs:\n",
        "            if d in node.children:\n",
        "                node = node.children[d]\n",
        "            else:\n",
        "                break\n",
        "        \n",
        "        return node\n",
        "            \n",
        "        \n",
        "class FileSystem:\n",
        "        \n",
        "    def __init__(self):\n",
        "        self.trie = Trie()\n",
        "\n",
        "    def ls(self, path: str) -> List[str]:\n",
        "        node = self.trie.search(path)\n",
        "        list_ = []\n",
        "        if node.attr == \"d\":\n",
        "            print(node.children.keys())\n",
        "            list_ = list(node.children.keys())\n",
        "        else:\n",
        "            list_.append(node.key)\n",
        "        \n",
        "        list_.sort() #lexicographic order\n",
        "        return list_\n",
        "        \n",
        "    def mkdir(self, path: str) -> None:\n",
        "        self.trie.insert(path, \"\", \"d\")\n",
        "\n",
        "    def addContentToFile(self, filePath: str, content: str) -> None:\n",
        "        self.trie.insert(filePath, content, \"f\")\n",
        "\n",
        "    def readContentFromFile(self, filePath: str) -> str:\n",
        "        node = self.trie.search(filePath)\n",
        "        \n",
        "        return node.data\n",
        "\n",
        "\n",
        "# Your FileSystem object will be instantiated and called as such:\n",
        "# obj = FileSystem()\n",
        "# param_1 = obj.ls(path)\n",
        "# obj.mkdir(path)\n",
        "# obj.addContentToFile(filePath,content)\n",
        "# param_4 = obj.readContentFromFile(filePath)"
      ],
      "metadata": {
        "id": "uriv2GtOUl5e"
      },
      "execution_count": null,
      "outputs": []
    },
    {
      "cell_type": "markdown",
      "source": [
        "# 06/09/2022\n",
        "253. Meeting Rooms II [Medium]\n"
      ],
      "metadata": {
        "id": "9ES4LRtqKTHN"
      }
    },
    {
      "cell_type": "markdown",
      "source": [
        "# 06/10/2022\n",
        "273. Integer to English Words [Hard]"
      ],
      "metadata": {
        "id": "GxhqzOJqWQz1"
      }
    },
    {
      "cell_type": "markdown",
      "source": [
        "# 23. Merge k Sorted Lists [Hard]\n"
      ],
      "metadata": {
        "id": "xyYHglykqnRN"
      }
    },
    {
      "cell_type": "markdown",
      "source": [
        "# 973. K Closest Points to Origin [Medium]\n"
      ],
      "metadata": {
        "id": "08jPZAfBqqHp"
      }
    },
    {
      "cell_type": "markdown",
      "source": [
        "# 49. Group Anagrams [Medium]\n"
      ],
      "metadata": {
        "id": "vtSG5_uSqta2"
      }
    },
    {
      "cell_type": "markdown",
      "source": [
        "# 1152. Analyze User Website Visit Pattern [Medium]\n"
      ],
      "metadata": {
        "id": "SO8W3dj5q4LS"
      }
    },
    {
      "cell_type": "markdown",
      "source": [
        "# 127. Word Ladder [Hard]\n"
      ],
      "metadata": {
        "id": "TpTb1oCrq6d9"
      }
    },
    {
      "cell_type": "markdown",
      "source": [
        "# 2104. Sum of Subarray Ranges [Medium]\n"
      ],
      "metadata": {
        "id": "x9bNbcnWq-1H"
      }
    },
    {
      "cell_type": "markdown",
      "source": [
        "# 212. Word Search II [Hard]\n"
      ],
      "metadata": {
        "id": "uPlntXqJrAT4"
      }
    },
    {
      "cell_type": "markdown",
      "source": [
        "# 937. Reorder Data in Log Files [Easy]\n"
      ],
      "metadata": {
        "id": "7B72lHSArCAw"
      }
    },
    {
      "cell_type": "markdown",
      "source": [
        "# 828. Count Unique Characters of All Substrings of a Given String [Hard]\n"
      ],
      "metadata": {
        "id": "BtiifYVorDVB"
      }
    },
    {
      "cell_type": "markdown",
      "source": [
        "# 1268. Search Suggestions System [Medium]\n"
      ],
      "metadata": {
        "id": "wXGzk-jkrE5t"
      }
    },
    {
      "cell_type": "markdown",
      "source": [
        "# 239. Sliding Window Maximum [Hard]\n"
      ],
      "metadata": {
        "id": "yODHEev7rGLq"
      }
    },
    {
      "cell_type": "markdown",
      "source": [
        "# 12. Integer to Roman [Medium]\n"
      ],
      "metadata": {
        "id": "KYH32pL3rHXO"
      }
    },
    {
      "cell_type": "markdown",
      "source": [
        "# 696. Count Binary Substrings [Easy]\n"
      ],
      "metadata": {
        "id": "y5xmHLWorIl_"
      }
    },
    {
      "cell_type": "markdown",
      "source": [
        "# 735. Asteroid Collision [Medium]\n"
      ],
      "metadata": {
        "id": "K4p23hY8rJ8K"
      }
    },
    {
      "cell_type": "markdown",
      "source": [
        "# 139. Word Break [Medium]\n"
      ],
      "metadata": {
        "id": "rEHK-peBrLFB"
      }
    },
    {
      "cell_type": "markdown",
      "source": [
        "# 863. All Nodes Distance K in Binary Tree [Medium]\n"
      ],
      "metadata": {
        "id": "k24R7ts6rMRx"
      }
    },
    {
      "cell_type": "markdown",
      "source": [
        "# 772. Basic Calculator III [Hard]\n"
      ],
      "metadata": {
        "id": "uyyWugParN92"
      }
    },
    {
      "cell_type": "markdown",
      "source": [
        "# 210. Course Schedule II [Medium]\n"
      ],
      "metadata": {
        "id": "W7UY6Gi3rPPu"
      }
    },
    {
      "cell_type": "markdown",
      "source": [
        "# 348. Design Tic-Tac-Toe [Medium]\n"
      ],
      "metadata": {
        "id": "brIJ7v81rQWQ"
      }
    },
    {
      "cell_type": "markdown",
      "source": [
        "# 926. Flip String to Monotone Increasing [Medium]\n"
      ],
      "metadata": {
        "id": "0NmBAhAJrRei"
      }
    },
    {
      "cell_type": "markdown",
      "source": [
        "# 295. Find Median from Data Stream [Hard]\n"
      ],
      "metadata": {
        "id": "3-NlKSABrSlu"
      }
    },
    {
      "cell_type": "markdown",
      "source": [
        "# 767. Reorganize String [Medium]\n"
      ],
      "metadata": {
        "id": "hzLZLzwYrTsG"
      }
    },
    {
      "cell_type": "markdown",
      "source": [
        "# 472. Concatenated Words [Hard]\n"
      ],
      "metadata": {
        "id": "7iGb6CDCrUqZ"
      }
    },
    {
      "cell_type": "markdown",
      "source": [
        "# 103. Binary Tree Zigzag Level Order Traversal [Medium]\n"
      ],
      "metadata": {
        "id": "eQupUVs1rVtW"
      }
    },
    {
      "cell_type": "markdown",
      "source": [
        "# 545. Boundary of Binary Tree [Medium]\n"
      ],
      "metadata": {
        "id": "8Ysph9JBrWvf"
      }
    },
    {
      "cell_type": "markdown",
      "source": [
        "# 994. Rotting Oranges [Medium]\n"
      ],
      "metadata": {
        "id": "J0ai_ZJXrX9I"
      }
    },
    {
      "cell_type": "markdown",
      "source": [
        "# 1710. Maximum Units on a Truck [Easy]\n"
      ],
      "metadata": {
        "id": "0Z1YDIfXrY9m"
      }
    },
    {
      "cell_type": "markdown",
      "source": [
        "# 909. Snakes and Ladders [Medium]\n"
      ],
      "metadata": {
        "id": "Ewnsudi1raHA"
      }
    },
    {
      "cell_type": "markdown",
      "source": [
        "# 370. Range Addition [Medium]\n"
      ],
      "metadata": {
        "id": "R6yeRqTDrbOK"
      }
    },
    {
      "cell_type": "markdown",
      "source": [
        "# 1567. Maximum Length of Subarray With Positive Product [Medium]\n"
      ],
      "metadata": {
        "id": "cOgmaMyLrcJa"
      }
    },
    {
      "cell_type": "markdown",
      "source": [
        "# 1044. Longest Duplicate Substring [Hard]\n"
      ],
      "metadata": {
        "id": "-u8tR7h2rdIc"
      }
    },
    {
      "cell_type": "markdown",
      "source": [
        "# 1438. Longest Continuous Subarray With Absolute Diff Less Than or Equal to Limit [Medium]\n"
      ],
      "metadata": {
        "id": "mU0xG4bdreGx"
      }
    },
    {
      "cell_type": "markdown",
      "source": [
        "# 907. Sum of Subarray Minimums [Medium]\n"
      ],
      "metadata": {
        "id": "9kXpg6FirfJe"
      }
    },
    {
      "cell_type": "markdown",
      "source": [
        "# 2130. Maximum Twin Sum of a Linked List [Medium]\n"
      ],
      "metadata": {
        "id": "rtg_12igrgI3"
      }
    },
    {
      "cell_type": "markdown",
      "source": [
        "# 1492. The kth Factor of n [Medium]\n"
      ],
      "metadata": {
        "id": "W-LoU-OprhBs"
      }
    },
    {
      "cell_type": "markdown",
      "source": [
        "# 1730. Shortest Path to Get Food [Medium]\n"
      ],
      "metadata": {
        "id": "iBthG8N2riDI"
      }
    },
    {
      "cell_type": "markdown",
      "source": [
        "# 1151. Minimum Swaps to Group All 1's Together [Medium]\n"
      ],
      "metadata": {
        "id": "iOG63AS4ri98"
      }
    },
    {
      "cell_type": "markdown",
      "source": [
        "# 1597. Build Binary Expression Tree From Infix Expression [Hard]\n"
      ],
      "metadata": {
        "id": "UwamtZxtrj2o"
      }
    },
    {
      "cell_type": "markdown",
      "source": [
        "# 1628. Design an Expression Tree With Evaluate Function [Medium]\n"
      ],
      "metadata": {
        "id": "6SvTLd8trkwa"
      }
    },
    {
      "cell_type": "markdown",
      "source": [
        "# 2102. Sequentially Ordinal Rank Tracker [Hard]\n"
      ],
      "metadata": {
        "id": "zV0n0suJrlj7"
      }
    },
    {
      "cell_type": "markdown",
      "source": [
        "# 582. Kill Process [Medium]\n"
      ],
      "metadata": {
        "id": "l22Wed-krmSm"
      }
    },
    {
      "cell_type": "markdown",
      "source": [
        "# 2214. Minimum Health to Beat Game [Medium]\n"
      ],
      "metadata": {
        "id": "_Sep4ypWrnVH"
      }
    }
  ]
}