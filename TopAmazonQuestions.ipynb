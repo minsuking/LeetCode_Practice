{
  "nbformat": 4,
  "nbformat_minor": 0,
  "metadata": {
    "colab": {
      "name": "TopAmazonQuestions.ipynb",
      "provenance": [],
      "collapsed_sections": [],
      "toc_visible": true,
      "include_colab_link": true
    },
    "kernelspec": {
      "name": "python3",
      "display_name": "Python 3"
    },
    "language_info": {
      "name": "python"
    }
  },
  "cells": [
    {
      "cell_type": "markdown",
      "metadata": {
        "id": "view-in-github",
        "colab_type": "text"
      },
      "source": [
        "<a href=\"https://colab.research.google.com/github/minsuking/LeetCode_Practice/blob/master/TopAmazonQuestions.ipynb\" target=\"_parent\"><img src=\"https://colab.research.google.com/assets/colab-badge.svg\" alt=\"Open In Colab\"/></a>"
      ]
    },
    {
      "cell_type": "markdown",
      "source": [
        "\n",
        "\n",
        "\n",
        "\n",
        "\n",
        "\n",
        "\n",
        "\n",
        "\n",
        "\n",
        "\n",
        "\n",
        "\n",
        "\n",
        "\n",
        "\n",
        "\n",
        "\n",
        "\n",
        "\n",
        "\n",
        "\n",
        "\n",
        "\n",
        "\n",
        "\n",
        "\n",
        "\n",
        "\n",
        "\n",
        "\n",
        "\n",
        "\n",
        "\n",
        "\n",
        "\n",
        "\n",
        "\n",
        "\n",
        "\n",
        "\n",
        "\n",
        "\n",
        "\n",
        "\n",
        "\n",
        "\n",
        "\n",
        "\n",
        "\n",
        "\n",
        "\n",
        "\n",
        "\n",
        "\n",
        "\n",
        "\n",
        "\n",
        "\n",
        "# Top Amazon Questions \n",
        "[Meet Up](https://meet.google.com/gaw-ijuz-siz)\n",
        "\n",
        "[Questions](https://leetcode.com/problem-list/top-amazon-questions/?sorting=W3sic29ydE9yZGVyIjoiREVTQ0VORElORyIsIm9yZGVyQnkiOiJGUkVRVUVOQ1kifV0%3D)\n",
        "\n",
        "\n",
        "1. Two Sum [Easy]\n",
        "146. LRU Cache [Medium]\n",
        "56. Merge Intervals [Medium]\n",
        "200. Number of Islands [Medium]\n",
        "42. Trapping Rain Water [Hard]\n",
        "588. Design In-Memory File System [Hard]\n",
        "253. Meeting Rooms II [Medium]\n",
        "273. Integer to English Words [Hard]\n",
        "23. Merge k Sorted Lists [Hard]\n",
        "973. K Closest Points to Origin [Medium]\n",
        "49. Group Anagrams [Medium]\n",
        "1152. Analyze User Website Visit Pattern [Medium]\n",
        "127. Word Ladder [Hard]\n",
        "2104. Sum of Subarray Ranges [Medium]\n",
        "212. Word Search II [Hard]\n",
        "937. Reorder Data in Log Files [Easy]\n",
        "828. Count Unique Characters of All Substrings of a Given String [Hard]\n",
        "1268. Search Suggestions System [Medium]\n",
        "239. Sliding Window Maximum [Hard]\n",
        "12. Integer to Roman [Medium]\n",
        "696. Count Binary Substrings [Easy]\n",
        "735. Asteroid Collision [Medium]\n",
        "139. Word Break [Medium]\n",
        "863. All Nodes Distance K in Binary Tree [Medium]\n",
        "772. Basic Calculator III [Hard]\n",
        "210. Course Schedule II [Medium]\n",
        "348. Design Tic-Tac-Toe [Medium]\n",
        "926. Flip String to Monotone Increasing [Medium]\n",
        "295. Find Median from Data Stream [Hard]\n",
        "767. Reorganize String [Medium]\n",
        "472. Concatenated Words [Hard]\n",
        "103. Binary Tree Zigzag Level Order Traversal [Medium]\n",
        "545. Boundary of Binary Tree [Medium]\n",
        "994. Rotting Oranges [Medium]\n",
        "1710. Maximum Units on a Truck [Easy]\n",
        "909. Snakes and Ladders [Medium]\n",
        "370. Range Addition [Medium]\n",
        "1567. Maximum Length of Subarray With Positive Product [Medium]\n",
        "1044. Longest Duplicate Substring [Hard]\n",
        "1438. Longest Continuous Subarray With Absolute Diff Less Than or Equal to Limit [Medium]\n",
        "907. Sum of Subarray Minimums [Medium]\n",
        "2130. Maximum Twin Sum of a Linked List [Medium]\n",
        "1492. The kth Factor of n [Medium]\n",
        "1730. Shortest Path to Get Food [Medium]\n",
        "1151. Minimum Swaps to Group All 1's Together [Medium]\n",
        "1597. Build Binary Expression Tree From Infix Expression [Hard]\n",
        "1628. Design an Expression Tree With Evaluate Function [Medium]\n",
        "2102. Sequentially Ordinal Rank Tracker [Hard]\n",
        "582. Kill Process [Medium]\n",
        "2214. Minimum Health to Beat Game [Medium]\n"
      ],
      "metadata": {
        "id": "1BAzuoVD0hva"
      }
    },
    {
      "cell_type": "markdown",
      "source": [
        "# 06/01/2022 \n",
        "## 1. Two Sum\n",
        "https://leetcode.com/problems/two-sum/"
      ],
      "metadata": {
        "id": "DYCMNkak1j4B"
      }
    },
    {
      "cell_type": "code",
      "source": [
        "#Leo \n",
        "class Solution:\n",
        "    def twoSum(self, nums: List[int], target: int) -> List[int]:\n",
        "        d= {}\n",
        "        '''\n",
        "        value : index \n",
        "        d= {\n",
        "         2 : 0 \n",
        "        }\n",
        "        '''\n",
        "        for i in range(len(nums)):    \n",
        "            if d.get(target - nums[i]) != None:\n",
        "                return [d[target-nums[i]] , i]\n",
        "            else:\n",
        "                d[nums[i]] = i "
      ],
      "metadata": {
        "id": "SQCDn8dSUv79"
      },
      "execution_count": null,
      "outputs": []
    },
    {
      "cell_type": "code",
      "source": [
        "#Minsu's code\n",
        "#TC : O(n)\n",
        "class Solution:\n",
        "    def twoSum(self, nums: List[int], target: int) -> List[int]:\n",
        "        map_ = dict()\n",
        "        for i, v in enumerate(nums):\n",
        "            if target-v in map_:\n",
        "                return [map_[target-v],i]\n",
        "            else:\n",
        "                map_[v] = i"
      ],
      "metadata": {
        "id": "Prf-uTS9w2yw"
      },
      "execution_count": null,
      "outputs": []
    },
    {
      "cell_type": "code",
      "source": [
        "#JH\n",
        "class Solution:\n",
        "    def twoSum(self, nums: List[int], target: int) -> List[int]:\n",
        "        \n",
        "        map_ =  {}\n",
        "        \n",
        "        for i,n in enumerate(nums):\n",
        "            if (target-n) in map_:\n",
        "                return [map_[target-n], i]\n",
        "            else:\n",
        "                map_[n] = i"
      ],
      "metadata": {
        "id": "3xGzeops90zB"
      },
      "execution_count": null,
      "outputs": []
    },
    {
      "cell_type": "code",
      "source": [
        "# Dana \n",
        "class Solution:\n",
        "    def twoSum(self, nums: List[int], target: int) -> List[int]:\n",
        "        prev = {}\n",
        "        for index, value in enumerate(nums): \n",
        "          if (target-value) in prev: \n",
        "            return [prev[target-value], index]\n",
        "          prev[value] = index "
      ],
      "metadata": {
        "id": "Quy3agqc-8_f"
      },
      "execution_count": null,
      "outputs": []
    },
    {
      "cell_type": "code",
      "source": [
        "# YS\n",
        "class Solution:\n",
        "    def twoSum(self, nums: List[int], target: int) -> List[int]:\n",
        "        dic = {}\n",
        "        for i,n in enumerate(nums):\n",
        "            if -n in dic:\n",
        "                return [dic[-n], i]\n",
        "            dic[n-target] = i"
      ],
      "metadata": {
        "id": "8S8TnsRQDkQb"
      },
      "execution_count": null,
      "outputs": []
    },
    {
      "cell_type": "code",
      "source": [
        "# Joe\n",
        "class Solution:\n",
        "    def twoSum(self, nums: List[int], target: int) -> List[int]:\n",
        "        _map = {}\n",
        "        for i, n in enumerate(nums):\n",
        "            if target - n in _map:\n",
        "                return [_map[target-n], i]\n",
        "            _map[n] = i"
      ],
      "metadata": {
        "id": "aZrQqKdsFPSe"
      },
      "execution_count": null,
      "outputs": []
    },
    {
      "cell_type": "code",
      "source": [
        "#Iris\n",
        "\n",
        "class Solution:\n",
        "    def twoSum(self, nums: List[int], target: int) -> List[int]:\n",
        "        for i in range(0, len(nums)-1):\n",
        "            for j in range(i+1, len(nums)):\n",
        "                if (nums[i] + nums[j]) == target:\n",
        "                    return [i, j]\n"
      ],
      "metadata": {
        "id": "nHiK8q09MQlS"
      },
      "execution_count": null,
      "outputs": []
    },
    {
      "cell_type": "markdown",
      "source": [
        "# 06/02/2022\n",
        "LRU Cache [Medium]\n",
        "https://leetcode.com/problems/lru-cache/"
      ],
      "metadata": {
        "id": "QKsF6nKsOhI4"
      }
    },
    {
      "cell_type": "code",
      "source": [
        "#Minsu's code\n",
        "#Idea : Double Linked List + Hash Map\n",
        "#TC : O(1)\n",
        "class Node:\n",
        "    def __init__(self, key, val):\n",
        "        self.key = key\n",
        "        self.val = val\n",
        "        self.next = None\n",
        "        self.prev = None\n",
        "        \n",
        "class LinkedList:\n",
        "    def __init__(self):\n",
        "        self.head = None\n",
        "        self.tail = None\n",
        "\n",
        "    def insert(self, node):\n",
        "        if self.head:\n",
        "            self.tail.next = node\n",
        "            node.prev = self.tail\n",
        "        else:\n",
        "            self.head = node\n",
        "        self.tail = node\n",
        "\n",
        "    def delete(self, node):\n",
        "        if node.next:\n",
        "            node.next.prev = node.prev\n",
        "        else:\n",
        "            self.tail = node.prev\n",
        "        if node.prev:\n",
        "            node.prev.next = node.next\n",
        "        else:\n",
        "            self.head = node.next\n",
        "            \n",
        "class LRUCache:\n",
        "    def __init__(self, capacity: int):\n",
        "        self.linkedList = LinkedList()\n",
        "        self.map_ = dict()\n",
        "        self.capacity = capacity\n",
        "\n",
        "    def get(self, key: int) -> int:\n",
        "        if key in self.map_:\n",
        "            val = self.map_[key].val\n",
        "            \n",
        "            self.linkedList.delete(self.map_[key])\n",
        "            \n",
        "            node = Node(key, val)\n",
        "            self.linkedList.insert(node)\n",
        "            self.map_[key] = node\n",
        "            print (\"val == \",val,sep=\" \")\n",
        "            return val\n",
        "        return -1\n",
        "\n",
        "    def put(self, key: int, value: int) -> None:\n",
        "        if key in self.map_:\n",
        "            self.linkedList.delete(self.map_[key])\n",
        "        elif len(self.map_) == self.capacity:\n",
        "            print(\"head.key == \",self.linkedList.head.key,sep=\" \")\n",
        "            del self.map_[self.linkedList.head.key]\n",
        "            self.linkedList.delete(self.linkedList.head)\n",
        "        node = Node(key, value)\n",
        "        self.linkedList.insert(node)\n",
        "        self.map_[key] = node"
      ],
      "metadata": {
        "id": "0TQt1Fn_BIYV"
      },
      "execution_count": null,
      "outputs": []
    },
    {
      "cell_type": "code",
      "source": [
        "# YS\n",
        "class Node:\n",
        "    def __init__(self, key, val):\n",
        "        self.key = key\n",
        "        self.val = val\n",
        "        self.next = None\n",
        "        self.prev = None\n",
        "\n",
        "class LRUCache:\n",
        "    def __init__(self, capacity: int):\n",
        "        self.cap = capacity\n",
        "        self.dic = {} # key: key, val: node\n",
        "        self.head = Node(None,None)\n",
        "        self.tail = Node(None,None)    \n",
        "        \n",
        "        self.head.next = self.tail\n",
        "        self.tail.prev = self.head\n",
        "    \n",
        "    def get(self, key: int) -> int:\n",
        "        if key not in self.dic:\n",
        "            return -1\n",
        "        \n",
        "        node = self.dic[key]\n",
        "        # remove from linkedlist\n",
        "        node.prev.next = node.next\n",
        "        node.next.prev = node.prev\n",
        "        # add\n",
        "        node.next = self.head.next\n",
        "        node.prev = self.head\n",
        "        self.head.next.prev = node\n",
        "        self.head.next = node\n",
        "        \n",
        "        return node.val\n",
        "    \n",
        "\n",
        "    def put(self, key: int, value: int) -> None:\n",
        "        if key in self.dic:\n",
        "            # update value\n",
        "            node = self.dic[key]\n",
        "            node.val = value\n",
        "            # remove from linkedlist\n",
        "            node.prev.next = node.next\n",
        "            node.next.prev = node.prev\n",
        "        else:\n",
        "            node = Node(key, value)\n",
        "            self.dic[key] = node\n",
        "        # add\n",
        "        node.next = self.head.next\n",
        "        node.prev = self.head\n",
        "        self.head.next.prev = node\n",
        "        self.head.next = node\n",
        "            \n",
        "        if len(self.dic) > self.cap:\n",
        "            node = self.tail.prev\n",
        "            # remove\n",
        "            node.prev.next = node.next\n",
        "            node.next.prev = node.prev\n",
        "            # remove from dic\n",
        "            del self.dic[node.key]"
      ],
      "metadata": {
        "id": "bUJvNvC7M44B"
      },
      "execution_count": null,
      "outputs": []
    },
    {
      "cell_type": "code",
      "source": [
        "#JH\n",
        "class dNode:\n",
        "    def __init__(self, key, val):\n",
        "        self.key = key\n",
        "        self.val = val\n",
        "        self.prev = None\n",
        "        self.next = None\n",
        "        \n",
        "class LRUCache:\n",
        "\n",
        "    def __init__(self, capacity: int):\n",
        "        self.capacity = capacity\n",
        "        self.cache = {}\n",
        "        \n",
        "        self.left, self.right = dNode(0, 0), dNode(0, 0)\n",
        "        self.left.next = self.right\n",
        "        self.right.prev = self.left\n",
        "    \n",
        "    def remove(self, node):\n",
        "        prev, next_ = node.prev, node.next\n",
        "        prev.next , next_.prev = next_, prev\n",
        "    \n",
        "    def insert_right(self, node):\n",
        "        prev, next_ = self.right.prev, self.right\n",
        "        prev.next = next_.prev = node\n",
        "        node.prev, node.next = prev, next_ \n",
        "    \n",
        "    def get(self, key: int) -> int:\n",
        "        if key in self.cache:\n",
        "            self.remove(self.cache[key])\n",
        "            self.insert_right(self.cache[key])\n",
        "            return self.cache[key].val\n",
        "        else:\n",
        "            return -1\n",
        "        \n",
        "    def put(self, key: int, value: int) -> None:\n",
        "        if len(self.cache) == self.capacity:\n",
        "            node = self.left.next\n",
        "            self.remove(node)\n",
        "            del self.cache[node.key]\n",
        "\n",
        "        if key in self.cache:\n",
        "            self.remove(self.cache[key])\n",
        "        self.cache[key] = dNode(key, value)\n",
        "        self.insert_right(self.cache[key])\n",
        "        \n",
        "        "
      ],
      "metadata": {
        "id": "dZIEXeqFQRje"
      },
      "execution_count": null,
      "outputs": []
    },
    {
      "cell_type": "code",
      "source": [
        "# Joe\n",
        "\n",
        "class Node:\n",
        "    def __init__(self, val, key):\n",
        "        self.key = key\n",
        "        self.val = val\n",
        "        self.next = None\n",
        "        self.prev = None\n",
        "\n",
        "class LRUCache:\n",
        "\n",
        "    def __init__(self, capacity: int):\n",
        "        self.capa = capacity\n",
        "        self.key = {}\n",
        "        self.head = Node('#', '__Head__')\n",
        "        self.tail = Node('#', '__Tail__')\n",
        "        self.head.next = self.tail\n",
        "        self.tail.prev = self.head\n",
        "        \n",
        "\n",
        "    def get(self, key: int) -> int:\n",
        "        if key not in self.key:\n",
        "            return -1\n",
        "        node = self.key[key]\n",
        "        self._del(node)\n",
        "        self._add(node)\n",
        "        return node.val\n",
        "    \n",
        "    def _del(self, node):\n",
        "        node.prev.next, node.next.prev = node.next, node.prev\n",
        "        del self.key[node.key]\n",
        "    \n",
        "    def _add(self, node):\n",
        "        node.prev = self.head\n",
        "        node.next = self.head.next\n",
        "        self.head.next.prev = node\n",
        "        self.head.next = node\n",
        "        self.key[node.key] = node\n",
        "\n",
        "    def put(self, key: int, value: int) -> None:\n",
        "        node = Node(value, key)\n",
        "        if key in self.key:\n",
        "            self._del(self.key[key])\n",
        "        elif len(self.key) >= self.capa:\n",
        "            d = self.tail.prev\n",
        "            self._del(d)\n",
        "        self._add(node)"
      ],
      "metadata": {
        "id": "ovYnJW0SSME-"
      },
      "execution_count": null,
      "outputs": []
    },
    {
      "cell_type": "markdown",
      "source": [
        "# 06/03/2022\n",
        "56. Merge Intervals [Medium]\n",
        "https://leetcode.com/problems/merge-intervals/"
      ],
      "metadata": {
        "id": "uTRFJrefJ-JX"
      }
    },
    {
      "cell_type": "code",
      "source": [
        "#Minsu's code\n",
        "#Idea : sorting\n",
        "#TC : O(n log n)\n",
        "class Solution:\n",
        "    def merge(self, intervals: List[List[int]]) -> List[List[int]]:\n",
        "        start, end = -1, -1\n",
        "        intervals.sort()\n",
        "        res = []\n",
        "        for interval in intervals:\n",
        "            if start==-1:\n",
        "                start = interval[0]\n",
        "            elif end < interval[0]:\n",
        "                res.append([start,end])\n",
        "                start = interval[0]\n",
        "            end = max(end, interval[1])\n",
        "        res.append([start,end])\n",
        "        return res"
      ],
      "metadata": {
        "id": "PmPZQEe07tsB"
      },
      "execution_count": null,
      "outputs": []
    },
    {
      "cell_type": "code",
      "source": [
        "# Dana \n",
        "class Solution:\n",
        "    # O(n log n)\n",
        "    def merge(self, intervals: List[List[int]]) -> List[List[int]]:\n",
        "        intervals.sort(key = lambda x : x[0])\n",
        "        output = []\n",
        "        \n",
        "        for interval in intervals: \n",
        "            if len(output) == 0 or output[-1][1] < interval[0]: \n",
        "                output.append(interval) \n",
        "            else:\n",
        "                output[-1][1] = max(output[-1][1], interval[1])\n",
        "                \n",
        "        return output "
      ],
      "metadata": {
        "id": "XI5On7AlrJ4t"
      },
      "execution_count": null,
      "outputs": []
    },
    {
      "cell_type": "code",
      "source": [
        "# Joe\n",
        "# TC: O(NLogN)\n",
        "# SC: O(N)\n",
        "class Solution:\n",
        "    def merge(self, intervals: List[List[int]]) -> List[List[int]]:\n",
        "        intervals.sort()\n",
        "        stack = []\n",
        "        for start, end in intervals:\n",
        "            if stack and stack[-1][1] >= start:\n",
        "                tmp = stack.pop()\n",
        "                start = min(start, tmp[0])\n",
        "                end = max(end, tmp[1])\n",
        "            stack.append([start, end])\n",
        "        return stack"
      ],
      "metadata": {
        "id": "bezrnXsptIF3"
      },
      "execution_count": null,
      "outputs": []
    },
    {
      "cell_type": "code",
      "source": [
        "#JH\n",
        "class Solution:\n",
        "    def merge(self, intervals: List[List[int]]) -> List[List[int]]:\n",
        "        \n",
        "        intervals.sort(key = lambda x : x[0])\n",
        "        res = []\n",
        "        \n",
        "        for interval in intervals:\n",
        "            if res and res[-1][1] >= interval[0]:        \n",
        "                res[-1][1] = max(res[-1][1], interval[1])\n",
        "            else:\n",
        "                res.append(interval)\n",
        "                   \n",
        "        return res"
      ],
      "metadata": {
        "id": "EL4ieMi2LU49"
      },
      "execution_count": null,
      "outputs": []
    },
    {
      "cell_type": "code",
      "source": [
        "#YS\n",
        "class Solution:\n",
        "    def merge(self, intervals: List[List[int]]) -> List[List[int]]:\n",
        "        intervals.sort(key = lambda x:x[0])\n",
        "        ans = [intervals[0]]\n",
        "        for s,e in intervals[1:]:\n",
        "            if ans[-1][1] >= s:  # 1 5   3 6\n",
        "                ans[-1][0] = min(s,ans[-1][0])\n",
        "                ans[-1][1] = max(e,ans[-1][1])\n",
        "            else:\n",
        "                ans.append([s,e])\n",
        "        return ans"
      ],
      "metadata": {
        "id": "bc48YUglOwc_"
      },
      "execution_count": null,
      "outputs": []
    },
    {
      "cell_type": "code",
      "source": [
        "#Iris\n",
        "class Solution:\n",
        "    def merge(self, intervals: List[List[int]]) -> List[List[int]]:\n",
        "        intervals.sort(key = lambda i:i[0])\n",
        "        sol = [intervals[0]]\n",
        "\n",
        "        for start, end in intervals[1:]:\n",
        "            recent = sol[-1][1] \n",
        "            if start <= recent: \n",
        "                sol[-1][1] = max(recent, end) \n",
        "            else:\n",
        "                sol.append([start, end]) \n",
        "        return sol"
      ],
      "metadata": {
        "id": "xNe_rQ6xcjwA"
      },
      "execution_count": null,
      "outputs": []
    },
    {
      "cell_type": "markdown",
      "source": [
        "# 06/06/2022\n",
        "200. Number of Islands [Medium]"
      ],
      "metadata": {
        "id": "aiY1ELA-KKKk"
      }
    },
    {
      "cell_type": "code",
      "source": [
        "#Minsu's code (ㅋㅋ 제 리스트에선 이게 3번째라...)\n",
        "#Idea : flood fill & bfs\n",
        "#TC : O(n*m) n, m = row, col\n",
        "from collections import deque\n",
        "class Solution:\n",
        "    def numIslands(self, grid: List[List[str]]) -> int:\n",
        "        row, col = len(grid), len(grid[0])\n",
        "        que = deque()\n",
        "        visited = set()\n",
        "        dirs = ((0,1),(0,-1),(1,0),(-1,0))\n",
        "        res = 0\n",
        "        for i in range(row):\n",
        "            for j in range(col):\n",
        "                if grid[i][j]==\"1\" and (i,j) not in visited:\n",
        "                    que.append((i,j))\n",
        "                    visited.add((i,j))\n",
        "                    while que:\n",
        "                        x, y = que.popleft()\n",
        "                        for d in dirs:\n",
        "                            dx = x + d[0]\n",
        "                            dy = y + d[1]\n",
        "                            if dx >= 0 and dx<row and dy >=0 and dy<col and grid[dx][dy]==\"1\" and (dx,dy) not in visited:\n",
        "                                que.append((dx,dy))\n",
        "                                visited.add((dx,dy))\n",
        "                    res += 1\n",
        "        return res  "
      ],
      "metadata": {
        "id": "Hao-EOHa2sHP"
      },
      "execution_count": null,
      "outputs": []
    },
    {
      "cell_type": "code",
      "source": [
        "# Dana \n",
        "class Solution(object):\n",
        "    \n",
        "    # DFS \n",
        "    # 1. Init: count = 0 \n",
        "    # 2. Iterate through entire grid \n",
        "        # 2.1. If current = \"0\": continue \n",
        "        # 2.2. If current = \"1\": \n",
        "            # 2.2.1. count += 1, mark all \"1\" in same island as \".\" \n",
        "    # 3. Return count \n",
        "                \n",
        "    def numIslands(self, grid):\n",
        "        \"\"\"\n",
        "        :type grid: List[List[str]]\n",
        "        :rtype: int\n",
        "        \"\"\"\n",
        "        count = 0\n",
        "        \n",
        "        for i in range(len(grid)): \n",
        "            for j in range(len(grid[0])): \n",
        "                if grid[i][j] == '1': \n",
        "                    count += 1 \n",
        "                    self.dfs(grid, i, j)  \n",
        "                    \n",
        "        return count \n",
        "    \n",
        "    def dfs(self, grid, i, j): \n",
        "        if i < 0 or j < 0 or i == len(grid) or j == len(grid[0]) or grid[i][j] != \"1\": \n",
        "            return \n",
        "            \n",
        "        grid[i][j] = \".\"\n",
        "        self.dfs(grid, i-1, j)\n",
        "        self.dfs(grid, i, j-1)\n",
        "        self.dfs(grid, i+1, j)\n",
        "        self.dfs(grid, i, j+1)"
      ],
      "metadata": {
        "id": "tUCtVx6lQHVX"
      },
      "execution_count": null,
      "outputs": []
    },
    {
      "cell_type": "code",
      "source": [
        "# Joe\n",
        "class Solution:\n",
        "    def numIslands(self, grid: List[List[str]]) -> int:\n",
        "        ret = 0\n",
        "        \n",
        "        def bfs(r, c):\n",
        "            if r < 0 or c < 0 or r >= len(grid) or c >= len(grid[0]):\n",
        "                return\n",
        "            if grid[r][c] == '1':\n",
        "                grid[r][c] = \"#\"\n",
        "                for nr, nc in [(-1, 0), (1, 0), (0, -1), (0, 1)]:\n",
        "                    bfs(r+nr, c+nc)\n",
        "            \n",
        "        \n",
        "        for row in range(len(grid)):\n",
        "            for col in range(len(grid[0])):\n",
        "                if grid[row][col] == '1':\n",
        "                    ret += 1\n",
        "                    bfs(row, col)\n",
        "        \n",
        "        return ret"
      ],
      "metadata": {
        "id": "wKwveO2gtVo_"
      },
      "execution_count": null,
      "outputs": []
    },
    {
      "cell_type": "code",
      "source": [
        "# Leo \n",
        "from collections import deque\n",
        "\n",
        "class Solution:\n",
        "    def numIslands(self, grid: List[List[str]]) -> int:\n",
        "        m,n = len(grid), len(grid[0])\n",
        "        visited = [ [False for _ in range(n)] for _ in range(m)]\n",
        "        num_of_island= 0 \n",
        "        \n",
        "        def bfs(x,y):\n",
        "            q = deque()\n",
        "            q.append((x,y))\n",
        "            visited[x][y] = True\n",
        "            movements = [(1,0),(-1,0),(0,1),(0,-1)] \n",
        "            \n",
        "            while q:\n",
        "                cur_x,cur_y = q.popleft() \n",
        "                \n",
        "                for dx,dy in movements:\n",
        "                    nx = cur_x + dx\n",
        "                    ny = cur_y + dy \n",
        "                    \n",
        "                    if 0 <= nx < m and 0 <= ny < n and grid[nx][ny] == \"1\" and visited[nx][ny] != True:\n",
        "                        visited[nx][ny] = True\n",
        "                        q.append((nx,ny))\n",
        "                        \n",
        "                        \n",
        "        for i in range(m):\n",
        "            for j in range(n):\n",
        "                if grid[i][j] == \"1\" and visited[i][j] != True:\n",
        "                    num_of_island +=1\n",
        "                    bfs(i,j)\n",
        "                    \n",
        "                    \n",
        "        return num_of_island "
      ],
      "metadata": {
        "id": "M6BSnNIQgo5m"
      },
      "execution_count": null,
      "outputs": []
    },
    {
      "cell_type": "code",
      "source": [
        "# YS\n",
        "class Solution:\n",
        "    def numIslands(self, grid: List[List[str]]) -> int:\n",
        "        m = len(grid)\n",
        "        n = len(grid[0])\n",
        "        \n",
        "        cnt = 0\n",
        "        \n",
        "        for i in range(m):\n",
        "            for j in range(n):\n",
        "                if grid[i][j] == '1':\n",
        "                    deq = deque([(i,j)])\n",
        "                    cnt += 1\n",
        "                    while deq:\n",
        "                        x,y = deq.popleft()\n",
        "                        \n",
        "                        if grid[x][y] != '1':\n",
        "                            continue\n",
        "                        grid[x][y] = '-1'\n",
        "                        \n",
        "                        for a,b in [ [-1,0],[0,-1],[1,0],[0,1] ]:\n",
        "                            new_x = x+a\n",
        "                            new_y = y+b\n",
        "                            if new_x >= 0 and new_x < m  and new_y >= 0 and new_y < n and grid[new_x][new_y]=='1':\n",
        "                                deq.append([new_x,new_y])\n",
        "                                \n",
        "        return cnt "
      ],
      "metadata": {
        "id": "RdYMp_dlXWGl"
      },
      "execution_count": null,
      "outputs": []
    },
    {
      "cell_type": "code",
      "source": [
        "#JH\n",
        "class Solution:\n",
        "    def numIslands(self, grid: List[List[str]]) -> int:\n",
        "        \n",
        "        def dfs(m, n, grid):\n",
        "            if  0 > m or 0 > n or m >= len(grid) or n >= len(grid[0]) or grid[m][n] != '1':\n",
        "                return\n",
        "            \n",
        "            grid[m][n] = '0'\n",
        "            dfs(m+1, n, grid)\n",
        "            dfs(m-1, n, grid)\n",
        "            dfs(m, n+1, grid)\n",
        "            dfs(m, n-1, grid)\n",
        "\n",
        "        res = 0\n",
        "        for m in range(len(grid)):\n",
        "            for n in range(len(grid[0])):\n",
        "                if grid[m][n] == '1':\n",
        "                    res += 1\n",
        "                    dfs(m,n,grid)\n",
        "        \n",
        "        return res"
      ],
      "metadata": {
        "id": "iWPgYgwJ1RyR"
      },
      "execution_count": null,
      "outputs": []
    },
    {
      "cell_type": "markdown",
      "source": [
        "# 06/07/2022\n",
        "42. Trapping Rain Water [Hard]\n"
      ],
      "metadata": {
        "id": "dpKiJhowKNny"
      }
    },
    {
      "cell_type": "code",
      "source": [
        "# Dana \n",
        "\n",
        "class Solution:\n",
        "    \n",
        "    # Can be trapped only if both edges are blocked \n",
        "    \n",
        "    def trap(self, height: List[int]) -> int:\n",
        "        \n",
        "        max_height_from_left = [0] * len(height) \n",
        "        max_height_from_right = [0] * len(height) \n",
        "        \n",
        "        # Max Height from Left\n",
        "        max_height = 0\n",
        "        for index, h in enumerate(height): \n",
        "            max_height_from_left[index] = max_height \n",
        "            max_height = max(max_height, h) \n",
        "            \n",
        "        # Max Height from Right\n",
        "        max_height = 0\n",
        "        for index, h in reversed(list(enumerate(height))): \n",
        "            max_height_from_right[index] = max_height \n",
        "            max_height = max(max_height, h) \n",
        "            \n",
        "        # Get total water \n",
        "        total_water = 0 \n",
        "        for index, h in enumerate(height): \n",
        "            total_water += max(min(max_height_from_left[index], max_height_from_right[index]) - h, 0)\n",
        "            \n",
        "        return total_water"
      ],
      "metadata": {
        "id": "T7qNOoJQDQTM"
      },
      "execution_count": null,
      "outputs": []
    },
    {
      "cell_type": "code",
      "source": [
        "#Minsu's code\n",
        "#Idea : DP, 1. 0 to n까지의 max 높이 구하고, n to 0 까지의 max 높이를 구한다. \n",
        "#           2. 각 구한 dp 테이블의 위치를 비교하여 min값(더 작은값까지만 물을 채울수있으니)에 bar의 높이를 빼주고 더하기 \n",
        "#           min(left, right) - height\n",
        "#TC : O(n)\n",
        "class Solution:\n",
        "    def trap(self, height: List[int]) -> int:\n",
        "        length = len(height)\n",
        "        dp_left = [0] * length\n",
        "        dp_right = [0] * length\n",
        "        \n",
        "        dp_left[0] = height[0]\n",
        "        dp_right[length-1] = height[length-1]\n",
        "        \n",
        "        for i in range(1, length):\n",
        "            dp_left[i] = max(dp_left[i-1], height[i])\n",
        "            ri = length-1-i\n",
        "            dp_right[ri] = max(dp_right[ri+1], height[ri])\n",
        "        \n",
        "        res = 0\n",
        "        for i in range(length):\n",
        "            res += min(dp_left[i],dp_right[i]) - height[i]\n",
        "        \n",
        "        return res\n",
        "#idea : two pointers, l, r 각각 최대높이를 구해서 해당 pointer가 max보다 낮은경우 그 차만큼 더하는 방식\n",
        "#TC : O(n)\n",
        "class Solution:\n",
        "    def trap(self, height: List[int]) -> int:\n",
        "        l, r = 0, len(height)-1\n",
        "        lMax, rMax = 0, 0\n",
        "        res = 0\n",
        "        while l < r:\n",
        "            if height[l] < height[r]:\n",
        "                if height[l] >= lMax:\n",
        "                    lMax = height[l]\n",
        "                else:\n",
        "                    res += lMax - height[l]\n",
        "                l+= 1\n",
        "            else:\n",
        "                if height[r] >= rMax:\n",
        "                    rMax = height[r]\n",
        "                else:\n",
        "                    res += rMax - height[r]\n",
        "                r-=1\n",
        "        return res"
      ],
      "metadata": {
        "id": "IoRDtrioOmDX"
      },
      "execution_count": null,
      "outputs": []
    },
    {
      "cell_type": "code",
      "source": [
        "#JH\n",
        "class Solution:\n",
        "    def trap(self, height: List[int]) -> int:\n",
        "        \n",
        "        left, right = 0, len(height)-1\n",
        "        left_max, right_max = 0, 0\n",
        "        res = 0\n",
        "        \n",
        "        while left < right:           \n",
        "            if height[left] < height[right]:\n",
        "                \n",
        "                if left_max > height[left]:\n",
        "                    res += (left_max - height[left])\n",
        "                else:\n",
        "                    left_max = height[left]\n",
        "                left += 1            \n",
        "            else:\n",
        "                if right_max > height[right]:\n",
        "                    res += (right_max - height[right])\n",
        "                else:\n",
        "                    right_max = height[right]\n",
        "                right -= 1\n",
        "        \n",
        "        return res"
      ],
      "metadata": {
        "id": "j0p72crU8xzW"
      },
      "execution_count": null,
      "outputs": []
    },
    {
      "cell_type": "code",
      "source": [
        "#Leo \n",
        "class Solution:\n",
        "    def trap(self, height: List[int]) -> int:\n",
        "        #left = 0\n",
        "        #right = len(height) -1 \n",
        "        \n",
        "        #max_left_ptr = 0 , max_right_ptr = len(height)-1\n",
        "        \n",
        "        max_left = [0] * (len(height)) \n",
        "        max_right = [0] * (len(height))\n",
        "        '''\n",
        "              \n",
        "        [ 0 2 1 1 ] = left \n",
        "        [ 100 3 3 0 ] = right \n",
        "        '''\n",
        "        #max_left[0] = height[0]\n",
        "        #max_right[-1] = height[-1]\n",
        "        \n",
        "        for i in range(1, len(height)):\n",
        "            max_left[i] = max(height[i-1], max_left[i-1])\n",
        "\n",
        "        for j in range(len(height)-2, -1, -1):\n",
        "            max_right[j] = max(height[j+1], max_right[j+1])\n",
        "                \n",
        "        #max_right = max_right[::-1]\n",
        "        print(max_left)\n",
        "        print(max_right)\n",
        "        # [ 0 0 1 1 2 2 2 2 3 3 3 3]\n",
        "        # [ 3 3 3 3 3 3 3 2 2 2 1 0]\n",
        "        ans = 0 \n",
        "        for k in range(len(max_left)):\n",
        "            ans += max( min(max_left[k], max_right[k]) - height[k], 0 )\n",
        "            \n",
        "        return ans"
      ],
      "metadata": {
        "id": "fJFqDauZ84JM"
      },
      "execution_count": null,
      "outputs": []
    },
    {
      "cell_type": "code",
      "source": [
        "# Iris\n",
        "class Solution:\n",
        "    def trap(self, height: List[int]) -> int:\n",
        "        # O(N)\n",
        "        if not height:\n",
        "            return 0\n",
        "        left, right = 0, len(height)-1\n",
        "        leftMax, rightMax = height[left], height[right]\n",
        "        result = 0\n",
        "        \n",
        "        while left < right: \n",
        "            if leftMax < rightMax:\n",
        "                left += 1\n",
        "                leftMax = max(leftMax, height[left])\n",
        "                result += leftMax - height[left]\n",
        "            else: \n",
        "                right -= 1\n",
        "                rightMax = max(rightMax, height[right])\n",
        "                result += rightMax - height[right]\n",
        "        return result"
      ],
      "metadata": {
        "id": "hYsDmU2xApfc"
      },
      "execution_count": null,
      "outputs": []
    },
    {
      "cell_type": "code",
      "source": [
        "# Joe\n",
        "# TC: O(N)\n",
        "# SC: O(1)\n",
        "\n",
        "class Solution:\n",
        "    def trap(self, height: List[int]) -> int:\n",
        "        l = 0\n",
        "        r = len(height) - 1\n",
        "        lmax = 0\n",
        "        rmax = 0\n",
        "        res = 0\n",
        "        \n",
        "        while l < r:\n",
        "            if height[l] < height[r]:\n",
        "                if height[l] >= lmax:\n",
        "                    lmax = height[l]\n",
        "                else:\n",
        "                    res += lmax - height[l]\n",
        "                l += 1\n",
        "            else:\n",
        "                if height[r] >= rmax:\n",
        "                    rmax = height[r]\n",
        "                else:\n",
        "                    res += rmax - height[r]\n",
        "                r -= 1\n",
        "        return res"
      ],
      "metadata": {
        "id": "Cu6v4HUTBErL"
      },
      "execution_count": null,
      "outputs": []
    },
    {
      "cell_type": "code",
      "source": [
        "# YS\n",
        "class Solution:\n",
        "    def trap(self, height: List[int]) -> int:\n",
        "        l = 0\n",
        "        r = len(height) - 1\n",
        "        \n",
        "        l_max = height[l]\n",
        "        r_max = height[r]\n",
        "        \n",
        "        ans = 0\n",
        "        while l < r:\n",
        "            if height[l] < height[r]:\n",
        "                if height[l] > l_max:\n",
        "                    l_max = height[l]\n",
        "                else:\n",
        "                    ans += l_max - height[l]\n",
        "                l += 1\n",
        "            else:\n",
        "                if height[r] > r_max:\n",
        "                    r_max = height[r]\n",
        "                else:\n",
        "                    ans += r_max - height[r]\n",
        "                r -= 1\n",
        "        \n",
        "        return ans\n",
        "                "
      ],
      "metadata": {
        "id": "gOsqu1y5ue0p"
      },
      "execution_count": null,
      "outputs": []
    },
    {
      "cell_type": "markdown",
      "source": [
        "# 06/08/2022\n",
        "588. Design In-Memory File System [Hard]\n"
      ],
      "metadata": {
        "id": "8Irdk5lrKQk_"
      }
    },
    {
      "cell_type": "code",
      "source": [
        "#Minsu's code\n",
        "#Idea : - Trie\n",
        "#       - directory와 file을 trie node로 만들어서 search 하는 방식\n",
        "#       - node에 attribute를 추가하여, 해당 node가 file인지 directory인지 구분\n",
        "# TC : O(nm) n = depth of directory, m = numbers of files and directorys\n",
        "\n",
        "class Node:\n",
        "    def __init__(self, key, attr):\n",
        "        self.key = key\n",
        "        self.data = \"\"\n",
        "        self.attr = attr # d : 디렉토리, f : 파일\n",
        "        self.children = dict()\n",
        "\n",
        "class Trie:\n",
        "    def __init__(self):\n",
        "        self.node = Node(\"/\",\"d\")\n",
        "    \n",
        "    def insert(self, path, content, attr):\n",
        "        node = self.node\n",
        "        \n",
        "        dirs = path.split(\"/\")\n",
        "        \n",
        "        for d in dirs:\n",
        "            if d not in node.children:\n",
        "                node.children[d] = Node(d, \"d\")\n",
        "            node = node.children[d]\n",
        "        node.data = node.data + content\n",
        "        node.attr = attr\n",
        "\n",
        "    def search(self, path):\n",
        "        dirs = path.split(\"/\")\n",
        "        node = self.node\n",
        "        \n",
        "        for d in dirs:\n",
        "            if d in node.children:\n",
        "                node = node.children[d]\n",
        "            else:\n",
        "                break\n",
        "        \n",
        "        return node\n",
        "            \n",
        "        \n",
        "class FileSystem:\n",
        "        \n",
        "    def __init__(self):\n",
        "        self.trie = Trie()\n",
        "\n",
        "    def ls(self, path: str) -> List[str]:\n",
        "        node = self.trie.search(path)\n",
        "        list_ = []\n",
        "        if node.attr == \"d\":\n",
        "            print(node.children.keys())\n",
        "            list_ = list(node.children.keys())\n",
        "        else:\n",
        "            list_.append(node.key)\n",
        "        \n",
        "        list_.sort() #lexicographic order\n",
        "        return list_\n",
        "        \n",
        "    def mkdir(self, path: str) -> None:\n",
        "        self.trie.insert(path, \"\", \"d\")\n",
        "\n",
        "    def addContentToFile(self, filePath: str, content: str) -> None:\n",
        "        self.trie.insert(filePath, content, \"f\")\n",
        "\n",
        "    def readContentFromFile(self, filePath: str) -> str:\n",
        "        node = self.trie.search(filePath)\n",
        "        \n",
        "        return node.data\n",
        "\n",
        "\n",
        "# Your FileSystem object will be instantiated and called as such:\n",
        "# obj = FileSystem()\n",
        "# param_1 = obj.ls(path)\n",
        "# obj.mkdir(path)\n",
        "# obj.addContentToFile(filePath,content)\n",
        "# param_4 = obj.readContentFromFile(filePath)"
      ],
      "metadata": {
        "id": "uriv2GtOUl5e"
      },
      "execution_count": null,
      "outputs": []
    },
    {
      "cell_type": "code",
      "source": [
        "# Joe\n",
        "\n",
        "from collections import defaultdict\n",
        "\n",
        "\n",
        "class Trie:\n",
        "    def __init__(self):\n",
        "        self.is_file = False\n",
        "        self.file_name = \"\"\n",
        "        self.content = \"\"\n",
        "        self.children = defaultdict(Trie)\n",
        "\n",
        "\n",
        "class FileSystem:\n",
        "\n",
        "    def __init__(self):\n",
        "        self.root = Trie()\n",
        "        \n",
        "    def cd(self, path, is_file=False):\n",
        "        path = [\"/\"] + [p for p in path.split('/') if p]\n",
        "        cur = self.root\n",
        "        for p in path:\n",
        "            cur = cur.children[p]\n",
        "        if is_file:\n",
        "            cur.file_name = path[-1]\n",
        "        return cur\n",
        "    \n",
        "    def ls(self, path: str) -> List[str]:\n",
        "        cur = self.cd(path)\n",
        "        if cur.is_file:\n",
        "            return [cur.file_name]\n",
        "        return sorted(cur.children.keys())\n",
        "\n",
        "    def mkdir(self, path: str) -> None:\n",
        "        self.cd(path)\n",
        "\n",
        "    def addContentToFile(self, filePath: str, content: str) -> None:\n",
        "        cur = self.cd(filePath, True)\n",
        "        cur.content += content\n",
        "        cur.is_file = True\n",
        "\n",
        "    def readContentFromFile(self, filePath: str) -> str:\n",
        "        cur = self.cd(filePath, True)\n",
        "        if cur.is_file:\n",
        "            return cur.content"
      ],
      "metadata": {
        "id": "0bNxOuSL79CC"
      },
      "execution_count": null,
      "outputs": []
    },
    {
      "cell_type": "code",
      "source": [
        "#JH\n",
        "class FileSystem:\n",
        "    def __init__(self):\n",
        "        self.paths = collections.defaultdict(set)\n",
        "        self.files = collections.defaultdict(str)\n",
        "\n",
        "    def ls(self, path: str) -> List[str]:\n",
        "        if path in self.files:\n",
        "            return [path.split(\"/\")[-1]]\n",
        "        else:\n",
        "            return sorted(list(self.paths[path]))\n",
        "\n",
        "    def mkdir(self, path: str) -> None:\n",
        "        directories = path.split(\"/\")\n",
        "        \n",
        "        for i in range(1, len(directories)):\n",
        "            if \"/\".join(directories[:i]):\n",
        "                curr = \"/\".join(directories[:i])  \n",
        "            else:\n",
        "                curr = \"/\"\n",
        "            \n",
        "            self.paths[curr].add(directories[i])\n",
        "            \n",
        "            \n",
        "    def addContentToFile(self, filePath: str, content: str) -> None:\n",
        "        if filePath not in self.files:\n",
        "            self.mkdir(filePath)\n",
        "\n",
        "        self.files[filePath] += content\n",
        "\n",
        "    def readContentFromFile(self, filePath: str) -> str:\n",
        "        return self.files[filePath]\n"
      ],
      "metadata": {
        "id": "shtJhXvlI7bG"
      },
      "execution_count": null,
      "outputs": []
    },
    {
      "cell_type": "code",
      "source": [
        "## YS\n",
        "class FileSystem:\n",
        "\n",
        "    def __init__(self):\n",
        "        self.dic = {}\n",
        "\n",
        "    def ls(self, path: str) -> List[str]:\n",
        "        path = path.split('/')[::-1] # /a/b/c -> '' a b c ->\n",
        "        path.pop()# c b a '' => c b a\n",
        "        current = self.dic\n",
        "        if path[-1] != '':# '/' -> '' ''\n",
        "            while path: # c\n",
        "                name  = path.pop()\n",
        "                current = current[name]\n",
        "        \n",
        "        if type(current) is list: # =file\n",
        "            return [name]\n",
        "        return sorted(current.keys())# =folder\n",
        "\n",
        "    def mkdir(self, path: str) -> None:\n",
        "        path = path.split('/')[::-1]\n",
        "        path.pop()\n",
        "        current = self.dic\n",
        "        while path:\n",
        "            if path[-1] not in current:\n",
        "                current[path[-1]] = {}\n",
        "            current = current[path.pop()]\n",
        "        return\n",
        "\n",
        "    def addContentToFile(self, filePath: str, content: str) -> None:\n",
        "        path = filePath.split('/')[::-1]\n",
        "        path.pop()\n",
        "        current = self.dic\n",
        "        while len(path) != 1:\n",
        "            current = current[path.pop()]\n",
        "        filename = path.pop()\n",
        "        \n",
        "        if filename not in current:\n",
        "            current[filename] = []\n",
        "        current[filename].append(content)\n",
        "        \n",
        "\n",
        "    def readContentFromFile(self, filePath: str) -> str:\n",
        "        path = filePath.split('/')[::-1]\n",
        "        path.pop()\n",
        "        current = self.dic\n",
        "        while len(path) != 1:\n",
        "            if path[-1] not in current:\n",
        "                current[path[-1]] = {}\n",
        "            current = current[path.pop()]\n",
        "        filename = path.pop()\n",
        "        \n",
        "        return ''.join(current[filename])"
      ],
      "metadata": {
        "id": "yaZFqd-xMcDT"
      },
      "execution_count": null,
      "outputs": []
    },
    {
      "cell_type": "markdown",
      "source": [
        "# 06/09/2022\n",
        "253. Meeting Rooms II [Medium]\n"
      ],
      "metadata": {
        "id": "9ES4LRtqKTHN"
      }
    },
    {
      "cell_type": "code",
      "source": [
        "# Dana \n",
        "\n",
        "class Solution:\n",
        "    def minMeetingRooms(self, intervals: List[List[int]]) -> int:\n",
        "        \n",
        "        intervals.sort(key = lambda x : x[0])\n",
        "        rooms = [] \n",
        "        \n",
        "        for start, end in intervals: \n",
        "            if rooms and rooms[0] <= start: \n",
        "                heapq.heappop(rooms)\n",
        "            heapq.heappush(rooms, end)\n",
        "                \n",
        "        return len(rooms)"
      ],
      "metadata": {
        "id": "c7QjBi2Ynt9j"
      },
      "execution_count": null,
      "outputs": []
    },
    {
      "cell_type": "code",
      "source": [
        "#Leo \n",
        "\n",
        "'''\n",
        "meeting 1[0,30] : [                       ]\n",
        "meeting 2[5,10] :       [    ]\n",
        "meeting 3[15,20]:                 [  ]\n",
        "\n",
        "\n",
        " > 0 , 5 , 15 \n",
        " \n",
        " > 10, 20 , 30  \n",
        "\n",
        "'''\n",
        "\n",
        "class Solution:\n",
        "    def minMeetingRooms(self, intervals: List[List[int]]) -> int:\n",
        "        rooms_needed = 0\n",
        "        available = 0 \n",
        "        \n",
        "        #logic -> sort based on starting time, \n",
        "        #\n",
        "        if len(intervals) < 1 :\n",
        "            return 0 \n",
        "        \n",
        "        starts = sorted(i[0] for i in intervals)\n",
        "        ends = sorted(i[1] for i in intervals) \n",
        "        \n",
        "        e = 0 \n",
        "        for s in starts:\n",
        "            while ends[e] <= s:\n",
        "                available += 1\n",
        "                e +=1 \n",
        "            \n",
        "            if available > 0:\n",
        "                available -=1 \n",
        "            else:\n",
        "                rooms_needed+=1 \n",
        "        \n",
        "        return rooms_needed"
      ],
      "metadata": {
        "id": "Jwfk45pZh9Eo"
      },
      "execution_count": null,
      "outputs": []
    },
    {
      "cell_type": "code",
      "source": [
        "#Minsu's code\n",
        "#idea : open, close를 구분 후 (열릴때마다 증가, 닫힐때 마다 감소), 누적합 중 max값을 구하기\n",
        "#TC : O(n log n)\n",
        "from collections import defaultdict\n",
        "class Solution:\n",
        "    def minMeetingRooms(self, intervals: List[List[int]]) -> int:\n",
        "        rooms = defaultdict(int)\n",
        "        for interval in intervals:\n",
        "            rooms[interval[0]] += 1\n",
        "            rooms[interval[1]] -= 1\n",
        "        \n",
        "        res = 0\n",
        "        curr = 0\n",
        "        for i in sorted(rooms.keys()):\n",
        "            curr += rooms[i]\n",
        "            res = max(curr,res)\n",
        "        \n",
        "        return res"
      ],
      "metadata": {
        "id": "n-LlVBGrDZ7F"
      },
      "execution_count": null,
      "outputs": []
    },
    {
      "cell_type": "code",
      "source": [
        "#JH\n",
        "class Solution:\n",
        "    def minMeetingRooms(self, intervals: List[List[int]]) -> int:  \n",
        "        intervals.sort(key=lambda x:x[0])\n",
        "        \n",
        "        rooms = []\n",
        "        heapq.heappush(rooms, intervals[0][-1])\n",
        "        \n",
        "        for interval in intervals[1:]: \n",
        "            if interval[0] < rooms[0]:\n",
        "                heapq.heappush(rooms, interval[1])\n",
        "            else:\n",
        "                heapq.heappop(rooms)\n",
        "                heapq.heappush(rooms, interval[1])\n",
        "                \n",
        "        return len(rooms)"
      ],
      "metadata": {
        "id": "4-a3OBfuP3g4"
      },
      "execution_count": null,
      "outputs": []
    },
    {
      "cell_type": "code",
      "source": [
        "# Joe\n",
        "# TC: O(NlogN)\n",
        "# SC: O(N)\n",
        "import heapq\n",
        "\n",
        "\n",
        "class Solution:\n",
        "    def minMeetingRooms(self, intervals: List[List[int]]) -> int:\n",
        "        rooms = []\n",
        "        intervals.sort()\n",
        "        for start, end in intervals:\n",
        "            if rooms and start >= rooms[0]:\n",
        "                heapq.heappop(rooms)\n",
        "            heapq.heappush(rooms, end)\n",
        "        return len(rooms)\n",
        "\n",
        "\n",
        "# ---------------------------------------------------------\n",
        "\n",
        "class Solution:\n",
        "    def minMeetingRooms(self, intervals: List[List[int]]) -> int:\n",
        "        room = 0\n",
        "        start = []\n",
        "        end = []\n",
        "        \n",
        "        for i in intervals:\n",
        "            start.append(i[0])\n",
        "            end.append(i[1])\n",
        "            \n",
        "        start.sort()\n",
        "        end.sort()\n",
        "        \n",
        "        e = 0\n",
        "        \n",
        "        for s in range(len(start)):\n",
        "            while end[e] <= start[s]:\n",
        "                e += 1\n",
        "            room = max(room, s-e+1)\n",
        "        \n",
        "        return room"
      ],
      "metadata": {
        "id": "rrG4Sv7yTMGQ"
      },
      "execution_count": null,
      "outputs": []
    },
    {
      "cell_type": "code",
      "source": [
        "#Iris\n",
        "class Solution:\n",
        "\tdef minMeetingRooms(self, intervals: List[List[int]]) -> int:\n",
        "\t\tstart = sorted([i.start for i in intervals])\n",
        "\t\tend = sorted([i.end for i in intervals])\n",
        "\t\t\n",
        "\t\tresult = 0\n",
        "\t\tcount = 0\n",
        "\t\tsp = 0\n",
        "\t\tep = 0\n",
        "\t\twhile sp < len(intervals):\n",
        "\t\t\tif start[sp] < end[ep]:\n",
        "\t\t\t\tsp += 1\n",
        "\t\t\t\tcount += 1\n",
        "\t\t\telse:\n",
        "\t\t\t\tep += 1\n",
        "\t\t\t\tcount -= 1\n",
        "\t\t\tresult = max(result, count)\n",
        "\t\treturn result"
      ],
      "metadata": {
        "id": "5P7t9g6cVlr2"
      },
      "execution_count": null,
      "outputs": []
    },
    {
      "cell_type": "markdown",
      "source": [
        "# 06/10/2022\n",
        "273. Integer to English Words [Hard]"
      ],
      "metadata": {
        "id": "GxhqzOJqWQz1"
      }
    },
    {
      "cell_type": "code",
      "source": [
        "# Dana \n",
        "\n",
        "class Solution:\n",
        "    def numberToWords(self, num: int) -> str:\n",
        "        num_to_string = {\n",
        "            1: \"One\", 2: \"Two\", 3: \"Three\", 4: \"Four\", 5: \"Five\", \n",
        "            6: \"Six\", 7: \"Seven\",  8: \"Eight\",  9: \"Nine\", 10: \"Ten\", \n",
        "            11: \"Eleven\", 12: \"Twelve\", 13: \"Thirteen\", 14: \"Fourteen\", 15: \"Fifteen\", \n",
        "            16: \"Sixteen\", 17: \"Seventeen\", 18: \"Eighteen\", 19: \"Nineteen\", \n",
        "            20: \"Twenty\", 30: \"Thirty\", 40: \"Forty\", 50: \"Fifty\", \n",
        "            60: \"Sixty\", 70: \"Seventy\", 80: \"Eighty\", 90: \"Ninety\"\n",
        "        }\n",
        "        \n",
        "        if num == 0: \n",
        "            return \"Zero\"\n",
        "        \n",
        "        over_billion = num // 1000000000 \n",
        "        over_million = (num - 1000000000 * over_billion) // 1000000\n",
        "        over_thousand = (num - 1000000000 * over_billion - 1000000 * over_million) // 1000\n",
        "        over_zero = num - 1000000000 * over_billion - 1000000 * over_million - 1000 * over_thousand \n",
        "        \n",
        "        output = \"\" \n",
        "        \n",
        "        def change_to_string(num, level, space, output): \n",
        "            num_hundred = num // 100 \n",
        "            num_hundred_remain = num - 100 * num_hundred\n",
        "            if num_hundred != 0: \n",
        "                output += num_to_string[num_hundred]\n",
        "                output += \" Hundred\" \n",
        "                if num_hundred_remain: \n",
        "                    output += \" \"\n",
        "                else: \n",
        "                    output += level\n",
        "            if num_hundred_remain: \n",
        "                num_ten = num_hundred_remain // 10 \n",
        "                num_one = num_hundred_remain % 10\n",
        "                if num_ten > 1: \n",
        "                    output += num_to_string[num_ten*10]\n",
        "                    if num_one: \n",
        "                        output += \" \"\n",
        "                        output += num_to_string[num_one]\n",
        "                    output += level\n",
        "                elif num_ten == 1: \n",
        "                    output += num_to_string[num_hundred_remain]\n",
        "                    output += level\n",
        "                else: \n",
        "                    output += num_to_string[num_one]\n",
        "                    output += level \n",
        "            if space: \n",
        "                output += \" \"\n",
        "            return output \n",
        "        \n",
        "        if over_billion: \n",
        "            output = change_to_string(over_billion, \" Billion\", over_million or over_thousand or over_zero, output)\n",
        "        if over_million: \n",
        "            output = change_to_string(over_million, \" Million\", over_thousand or over_zero, output)\n",
        "        if over_thousand: \n",
        "            output = change_to_string(over_thousand, \" Thousand\", over_zero, output)\n",
        "        if over_zero: \n",
        "            output = change_to_string(over_zero, \"\", False, output)\n",
        "\n",
        "        return output\n",
        "       "
      ],
      "metadata": {
        "id": "JgZakKorTzKa"
      },
      "execution_count": null,
      "outputs": []
    },
    {
      "cell_type": "code",
      "source": [
        "# Joe\n",
        "# TC: O(N)\n",
        "# SC: O(1)\n",
        "class Solution:\n",
        "    def numberToWords(self, num: int) -> str:\n",
        "        def helper(number):\n",
        "            ones = ['', 'One', 'Two', 'Three', 'Four', 'Five', 'Six', 'Seven', 'Eight', 'Nine']\n",
        "            teens = ['', 'Eleven', 'Twelve', 'Thirteen', 'Fourteen', 'Fifteen', 'Sixteen', 'Seventeen', 'Eighteen', 'Nineteen']\n",
        "            tens = ['', 'Ten', 'Twenty', 'Thirty', 'Forty', 'Fifty', 'Sixty', 'Seventy', 'Eighty', 'Ninety']\n",
        "            \n",
        "            number, _ones = divmod(number, 10)\n",
        "            number, _tens = divmod(number, 10)\n",
        "            \n",
        "            words = []\n",
        "            if number:\n",
        "                words.append(ones[number] + \" Hundred\")\n",
        "            if _tens == 1 and _ones:\n",
        "                words.append(teens[_ones])\n",
        "            else:\n",
        "                if _tens:\n",
        "                    words.append(tens[_tens])\n",
        "                if _ones:\n",
        "                    words.append(ones[_ones])\n",
        "            return \" \".join(words)\n",
        "        \n",
        "        res = []\n",
        "        \n",
        "        for n, word in [(10**9, ' Billion'), (10**6, ' Million'), (10**3, ' Thousand'), (1, '')]:\n",
        "            t, num = divmod(num, n)\n",
        "            if t:\n",
        "                res.append(helper(t) + word)\n",
        "        return \" \".join(res) if res else \"Zero\"\n",
        "\n",
        "            "
      ],
      "metadata": {
        "id": "mbeK-U4qW9fV"
      },
      "execution_count": null,
      "outputs": []
    },
    {
      "cell_type": "code",
      "source": [
        "#JH\n",
        "class Solution:\n",
        "    def numberToWords(self, num: int) -> str:\n",
        "        \n",
        "        if num == 0:\n",
        "            return \"Zero\"\n",
        "        \n",
        "        num1 = [\"\", \"One\", \"Two\", \"Three\", \"Four\", \"Five\", \"Six\", \"Seven\", \"Eight\", \"Nine\"]\n",
        "        num2 = [\"Ten\", \"Eleven\", \"Twelve\", \"Thirteen\", \"Fourteen\", \"Fifteen\", \"Sixteen\", \"Seventeen\", \"Eighteen\", \"Nineteen\"]\n",
        "        num3 = [\"\", \"\", \"Twenty\", \"Thirty\", \"Forty\", \"Fifty\", \"Sixty\", \"Seventy\", \"Eighty\", \"Ninety\"]\n",
        " \n",
        "        res = \"\"\n",
        "    \n",
        "        def converter(n):\n",
        "            if n // 100 > 0:\n",
        "                if (n%100) != 0:\n",
        "                    return num1[n//100] + \" Hundred \" + converter(n%100)\n",
        "                else:\n",
        "                    return num1[n//100] + \" Hundred\"\n",
        "                \n",
        "            if n > 19:\n",
        "                if (n%10) != 0:\n",
        "                    return num3[n//10] + \" \" + converter(n%10)\n",
        "                else:\n",
        "                    return num3[n//10] \n",
        "                \n",
        "            if n > 9: \n",
        "                return num2[n%10] \n",
        "            else:\n",
        "                return num1[n]\n",
        "        \n",
        "\n",
        "        while True:\n",
        "            if num // (10**9) > 0:\n",
        "                n = num // (10**9)\n",
        "                num = num % (10**9)\n",
        "                res += converter(n) + \" Billion \"\n",
        "            \n",
        "            if num // (10**6) > 0:\n",
        "                n = num // (10**6)\n",
        "                num = num % (10**6)\n",
        "                res += converter(n) + \" Million \"\n",
        "            \n",
        "            if num // (10**3) > 0:     \n",
        "                n = num // (10**3)\n",
        "                num = num % (10**3)\n",
        "                res += converter(n) + \" Thousand \"\n",
        "        \n",
        "            if num < 1000:\n",
        "                res += converter(num)\n",
        "                break;\n",
        "\n",
        "        return res.strip()\n",
        "            "
      ],
      "metadata": {
        "id": "egZlmd3xYGUu"
      },
      "execution_count": null,
      "outputs": []
    },
    {
      "cell_type": "code",
      "source": [
        "#Minsu's code\n",
        "\n",
        "class Solution:\n",
        "    def numberToWords(self, num: int) -> str:\n",
        "        #if num == 0:\n",
        "        #    return \"Zero\"\n",
        "        \n",
        "        ones = [\"Zero\",\"One\",\"Two\",\"Three\", \"Four\", \"Five\", \"Six\", \"Seven\", \"Eight\", \"Nine\"]\n",
        "        tens = [\"\",\"\",\"Twenty\",\"Thirty\",\"Forty\",\"Fifty\",\"Sixty\",\"Seventy\",\"Eighty\",\"Ninety\"]\n",
        "        #largeNumbers = [\"hundred\", \"thousand\",\"million\",\"billion\",\"trillion\",\"quadrillion\",\"quintillion\",\"sextillion\",\"septillion\",\"octillion\"]\n",
        "        teens = [\"Ten\", \"Eleven\", \"Twelve\", \"Thirteen\", \"Fourteen\", \"Fifteen\", \"Sixteen\", \"Seventeen\", \"Eighteen\", \"Nineteen\"]\n",
        "        \n",
        "        BILLION = 10**9\n",
        "        MILLION = 10**6\n",
        "        THOUSAND = 10**3\n",
        "        HUNDRED = 10**2\n",
        "        \n",
        "        if num>=BILLION:\n",
        "            return self.numberToWords(num//BILLION) + \" Billion \" + self.numberToWords(num % BILLION) if num % BILLION > 0 else self.numberToWords(num//BILLION) + \" Billion\"\n",
        "        elif num>=MILLION:\n",
        "            return self.numberToWords(num//MILLION) + \" Million \" + self.numberToWords(num % MILLION) if num % MILLION > 0 else self.numberToWords(num//MILLION) + \" Million\"\n",
        "        elif num>=THOUSAND:\n",
        "            return self.numberToWords(num//THOUSAND) + \" Thousand \" + self.numberToWords(num % THOUSAND) if num % THOUSAND > 0 else self.numberToWords(num//THOUSAND) + \" Thousand\"\n",
        "        elif num>=HUNDRED:\n",
        "            return self.numberToWords(num//HUNDRED) + \" Hundred \" + self.numberToWords(num % HUNDRED) if num % HUNDRED > 0 else self.numberToWords(num//HUNDRED) + \" Hundred\"\n",
        "        elif num>= 20:\n",
        "            return tens[num//10] + \" \" + ones[num%10] if num % 10 > 0 else tens[num//10]\n",
        "        elif num>=10:\n",
        "            return teens[num%10]\n",
        "        else:\n",
        "            return ones[num]"
      ],
      "metadata": {
        "id": "pkz-Sk0Nc0T5"
      },
      "execution_count": null,
      "outputs": []
    },
    {
      "cell_type": "code",
      "source": [
        "#YS\n",
        "class Solution(object):\n",
        "    def numberToWords(self, num):\n",
        "        \"\"\"\n",
        "        :type num: int\n",
        "        :rtype: str\n",
        "        \"\"\"\n",
        "        oneth = ['One','Two','Three','Four','Five','Six','Seven','Eight','Nine','Ten'\n",
        "                 ,'Eleven','Twelve','Thirteen','Fourteen','Fifteen','Sixteen','Seventeen','Eighteen','Nineteen']\n",
        "        tenth = ['Twenty','Thirty','Forty','Fifty','Sixty','Seventy','Eighty','Ninety']\n",
        "        ans = []\n",
        "        \n",
        "        if num == 0:\n",
        "            return \"Zero\"\n",
        "        \n",
        "        def help(n):\n",
        "            if n >= 100:\n",
        "                temp = n // 100\n",
        "                ans.append(oneth[temp-1])\n",
        "                ans.append('Hundred')\n",
        "                n = n % 100\n",
        "            \n",
        "            if 0 < n <= 19 :\n",
        "                ans.append(oneth[n-1])\n",
        "                n = 0\n",
        "            elif n >= 20:\n",
        "                temp = n // 10\n",
        "                ans.append(tenth[temp-2])\n",
        "                n = n % 10\n",
        "            if n > 0:\n",
        "                ans.append(oneth[n-1])\n",
        "        \n",
        "        \n",
        "        for i, c in enumerate(['Billion','Million','Thousand']):\n",
        "            po = (3-i) * 3\n",
        "            \n",
        "            if num >= pow(10,po):\n",
        "                n = num // pow(10,po)\n",
        "                help(n)\n",
        "\n",
        "                ans.append(c)\n",
        "                num = num % pow(10,po)\n",
        "        \n",
        "        if num > 0:\n",
        "            help(num)\n",
        "        \n",
        "        return ' '.join(ans)"
      ],
      "metadata": {
        "id": "rAzqFQtDffR_"
      },
      "execution_count": null,
      "outputs": []
    },
    {
      "cell_type": "markdown",
      "source": [
        "# 06/13/2022\n",
        "23. Merge k Sorted Lists [Hard]\n"
      ],
      "metadata": {
        "id": "xyYHglykqnRN"
      }
    },
    {
      "cell_type": "code",
      "source": [
        "# Joe\n",
        "# TC: O(K + NlogK), K: lists size, N: node size\n",
        "# SC: O(K)\n",
        "\n",
        "import heapq\n",
        "\n",
        "\n",
        "class Solution:\n",
        "    def mergeKLists(self, lists: List[Optional[ListNode]]) -> Optional[ListNode]:\n",
        "        root = ListNode(0)\n",
        "        cur = root\n",
        "        \n",
        "        hq = []\n",
        "        \n",
        "        for i, l in enumerate(lists):\n",
        "            if l:\n",
        "                heapq.heappush(hq, (l.val, i))\n",
        "        \n",
        "        while hq:\n",
        "            val, i = heapq.heappop(hq)\n",
        "            cur.next = ListNode(val)\n",
        "            cur = cur.next\n",
        "            lists[i] = lists[i].next\n",
        "            if lists[i]:\n",
        "                heapq.heappush(hq, (lists[i].val, i))\n",
        "        \n",
        "        return root.next"
      ],
      "metadata": {
        "id": "nnCqZ3pB1wJy"
      },
      "execution_count": null,
      "outputs": []
    },
    {
      "cell_type": "code",
      "source": [
        "# Dana \n",
        "\n",
        "# Definition for singly-linked list.\n",
        "# class ListNode:\n",
        "#     def __init__(self, val=0, next=None):\n",
        "#         self.val = val\n",
        "#         self.next = next\n",
        "class Solution:\n",
        "    def mergeKLists(self, lists: List[Optional[ListNode]]) -> Optional[ListNode]:\n",
        "        # Divide and Conquer\n",
        "        # L1, L2, L3, L4, L5, L6, L7 \n",
        "        \n",
        "        if len(lists) == 0: \n",
        "            return None \n",
        "        \n",
        "        if len(lists) == 1: \n",
        "            return lists[0]\n",
        "        \n",
        "        mid = len(lists) // 2\n",
        "        left, right = self.mergeKLists(lists[:mid]), self.mergeKLists(lists[mid:])\n",
        "        \n",
        "        return self.merge2LL(left, right)\n",
        "    \n",
        "    def merge2LL(self, node1, node2): \n",
        "        dummy_head = ListNode() \n",
        "        current = dummy_head \n",
        "        while node1 and node2: \n",
        "            if node1.val < node2.val: \n",
        "                current.next = node1 \n",
        "                node1 = node1.next \n",
        "            else: \n",
        "                current.next = node2 \n",
        "                node2 = node2.next \n",
        "            current = current.next \n",
        "        current.next = node1 or node2 \n",
        "        return dummy_head.next"
      ],
      "metadata": {
        "id": "RgQKG9EBTxHO"
      },
      "execution_count": null,
      "outputs": []
    },
    {
      "cell_type": "code",
      "source": [
        "# Minsu's code\n",
        "# idea : Priority Queue를 이용하여 문제 해결\n",
        "# TC : O(NK * logK) N is length of node, K is length of list\n",
        "# SC : O(K)\n",
        "from queue import PriorityQueue\n",
        "class Solution:\n",
        "    def mergeKLists(self, lists: List[Optional[ListNode]]) -> Optional[ListNode]:\n",
        "        class Data:\n",
        "            def __init__(self, node):\n",
        "                self.val = node.val\n",
        "                self.node = node\n",
        "            \n",
        "            def __lt__(self, other):\n",
        "                if self.val == other.val:\n",
        "                    return 1\n",
        "                return self.val < other.val\n",
        "        \n",
        "        head = ListNode(0)\n",
        "        tail = head\n",
        "        pq = PriorityQueue()\n",
        "        \n",
        "        # O(K) : lists 순회\n",
        "        # O(logK) : lists 안에있는 node의 head만 우선순위 큐에 입력\n",
        "        # O(K * logK)\n",
        "        for node in lists:\n",
        "            if node:\n",
        "                pq.put(Data(node))\n",
        "        \n",
        "        # O(logK) : 우선순위 큐에서 node 꺼냄\n",
        "        # 꺼낸 node의 값을 현재 head 뒤에 붙여주고\n",
        "        # O(logK) : 꺼낸 node 의 next가 있으면 우선순위큐에 넣어줌\n",
        "        # O(NK) : 위의 task대로 총 노드의 갯수인 NK만큼 반복\n",
        "        # O(NK * logK)\n",
        "        while not pq.empty():\n",
        "            data = pq.get()\n",
        "            tail.next = ListNode(data.val)\n",
        "            tail = tail.next\n",
        "            node = data.node.next\n",
        "            if node:\n",
        "                pq.put(Data(node))\n",
        "        return head.next"
      ],
      "metadata": {
        "id": "8Wm270TdK0xS"
      },
      "execution_count": null,
      "outputs": []
    },
    {
      "cell_type": "code",
      "source": [
        "#JH\n",
        "class Solution:\n",
        "    def mergeKLists(self, lists: List[Optional[ListNode]]) -> Optional[ListNode]:\n",
        "        \n",
        "        if not lists or len(lists) == 0:\n",
        "            return None\n",
        "\n",
        "        while len(lists) > 1:\n",
        "            merged = []\n",
        "            for i in range(0, len(lists), 2):\n",
        "                l1 = lists[i]\n",
        "                l2 = lists[i+1] if i+1 < len(lists) else None\n",
        "                merged.append(self.merge(l1, l2))\n",
        "            lists = merged\n",
        "\n",
        "        return lists[0]\n",
        "\n",
        "    def merge(self, l1, l2):    \n",
        "        curr = ListNode(None)\n",
        "        res = curr\n",
        "        \n",
        "        while l1 and l2:    \n",
        "            if l1.val < l2.val:\n",
        "                curr.next = l1\n",
        "                l1 = l1.next\n",
        "            else:\n",
        "                curr.next = l2\n",
        "                l2 = l2.next\n",
        "            curr = curr.next\n",
        "    \n",
        "        if l1:\n",
        "            curr.next = l1\n",
        "        if l2:\n",
        "            curr.next = l2\n",
        "            \n",
        "        return res.next\n",
        "    "
      ],
      "metadata": {
        "id": "OLt8njAW0qZF"
      },
      "execution_count": null,
      "outputs": []
    },
    {
      "cell_type": "code",
      "source": [
        "#Leo \n",
        "class Solution:\n",
        "    def mergeKLists(self, lists: List[Optional[ListNode]]) -> Optional[ListNode]:\n",
        "        q = []\n",
        "        root = head = ListNode(None)\n",
        "        for i in range(len(lists)):\n",
        "            if lists[i]:\n",
        "                # 1, 0, 1->4->5\n",
        "                heapq.heappush(q, (lists[i].val, i, lists[i]))  # 가장 앞의 데이터값, i 번째, 해당 노드\n",
        "\n",
        "        while q:\n",
        "            node = heapq.heappop(q)\n",
        "            idx = node[1]\n",
        "            head.next = node[2]\n",
        "            head = head.next\n",
        "\n",
        "            if head.next:\n",
        "                # 하나 전진시키고 다시 힙에 넣어줌\n",
        "                heapq.heappush(q, (head.next.val, idx, head.next))\n",
        "\n",
        "        return root.next"
      ],
      "metadata": {
        "id": "6XegvKVy2iMY"
      },
      "execution_count": null,
      "outputs": []
    },
    {
      "cell_type": "code",
      "source": [
        "# YS\n",
        "class Solution:\n",
        "    def mergeKLists(self, lists: List[Optional[ListNode]]) -> Optional[ListNode]:\n",
        "        heap = []\n",
        "        \n",
        "        for i,node in enumerate(lists):\n",
        "            if node:\n",
        "                heapq.heappush(heap, (node.val, i))\n",
        "                lists[i] = lists[i].next\n",
        "        #print(heap)\n",
        "        \n",
        "        head = ListNode(None,None)\n",
        "        node = head\n",
        "        while heap:\n",
        "            node_val, i = heapq.heappop(heap)\n",
        "            node.next = ListNode(node_val, None)\n",
        "            node = node.next\n",
        "            \n",
        "            if lists[i]:\n",
        "                heapq.heappush(heap, (lists[i].val, i))\n",
        "                lists[i] = lists[i].next\n",
        "        \n",
        "        return head.next"
      ],
      "metadata": {
        "id": "pLZsaPIZ6SmL"
      },
      "execution_count": null,
      "outputs": []
    },
    {
      "cell_type": "code",
      "source": [
        "#Iris\n",
        "\n",
        "# Definition for singly-linked list.\n",
        "# class ListNode:\n",
        "#     def __init__(self, val=0, next=None):\n",
        "#         self.val = val\n",
        "#         self.next = next\n",
        "class Solution:\n",
        "    def mergeKLists(self, lists: List[Optional[ListNode]]) -> Optional[ListNode]:\n",
        "        if len(lists) == 0 or not lists:\n",
        "            return None\n",
        "        while len(lists) > 1:\n",
        "            combined = []\n",
        "            for i in range(0, len(lists), 2):\n",
        "                list1 = lists[i]\n",
        "                list2 = lists[i+1] if (i+1) < len(lists) else None\n",
        "                combined.append(self.helper(list1, list2))\n",
        "            lists = combined\n",
        "        return lists[0]\n",
        "        \n",
        "    def helper(self, list1, list2):\n",
        "        node = ListNode()\n",
        "        tail = node\n",
        "        \n",
        "        while list1 and list2:\n",
        "            if list1.val < list2.val:\n",
        "                tail.next = list1\n",
        "                list1 = list1.next\n",
        "            else:\n",
        "                tail.next = list2\n",
        "                list2 = list2.next\n",
        "            tail = tail.next\n",
        "        if list1:\n",
        "            tail.next = list1\n",
        "        if list2:\n",
        "            tail.next = list2\n",
        "        return node.next"
      ],
      "metadata": {
        "id": "iFYLkDiU8ZqF"
      },
      "execution_count": null,
      "outputs": []
    },
    {
      "cell_type": "markdown",
      "source": [
        "# 06/14/2022\n",
        "973. K Closest Points to Origin [Medium]\n"
      ],
      "metadata": {
        "id": "08jPZAfBqqHp"
      }
    },
    {
      "cell_type": "code",
      "source": [
        "# Dana \n",
        "\n",
        "class Solution:\n",
        "    def kClosest(self, points: List[List[int]], k: int) -> List[List[int]]:\n",
        "        heap = []\n",
        "        heap_size = 0 \n",
        "         \n",
        "        for point in points: \n",
        "            distance = point[0] ** 2 + point[1] ** 2 \n",
        "            if heap_size == k: \n",
        "                heapq.heappushpop(heap, (-distance, point))\n",
        "            else: \n",
        "                heapq.heappush(heap, (-distance, point))\n",
        "                heap_size += 1\n",
        "        \n",
        "        return [point for (_, point) in heap]"
      ],
      "metadata": {
        "id": "LDwZWH4UYpzE"
      },
      "execution_count": null,
      "outputs": []
    },
    {
      "cell_type": "code",
      "source": [
        "# YS\n",
        "class Solution:\n",
        "    def kClosest(self, points: List[List[int]], k: int) -> List[List[int]]:\n",
        "        return heapq.nlargest(k, points, key = lambda x: -(x[0]**2 + x[1]**2) )\n"
      ],
      "metadata": {
        "id": "F9-DtjoE6O_M"
      },
      "execution_count": null,
      "outputs": []
    },
    {
      "cell_type": "code",
      "source": [
        "#Minsu's code\n",
        "#Idea : Sorting\n",
        "# TC : O(n log n)\n",
        "\n",
        "class Solution:\n",
        "    def kClosest(self, points: List[List[int]], k: int) -> List[List[int]]:\n",
        "        list_ = []\n",
        "        res = []\n",
        "        for x,y in points:\n",
        "            list_.append( ((abs(x)**2 + abs(y)**2) ,x,y))\n",
        "        \n",
        "        list_.sort()\n",
        "        for i in range(k):\n",
        "            res.append([list_[i][1],list_[i][2]])\n",
        "        \n",
        "        return res"
      ],
      "metadata": {
        "id": "zp-1wWfNnuPV"
      },
      "execution_count": null,
      "outputs": []
    },
    {
      "cell_type": "code",
      "source": [
        "# Joe\n",
        "# TC: O(N) in general case\n",
        "\n",
        "class Solution:\n",
        "    def kClosest(self, points: List[List[int]], k: int) -> List[List[int]]:\n",
        "        def partition(left, right):\n",
        "            pidx = left+(right-left)//2\n",
        "            pivot = points[pidx][0] ** 2 + points[pidx][1] ** 2\n",
        "            points[pidx], points[right] = points[right], points[pidx]\n",
        "            cur = left\n",
        "            for i in range(left, right):\n",
        "                if points[i][0] ** 2 +  points[i][1] ** 2 < pivot:\n",
        "                    points[cur], points[i] = points[i], points[cur]\n",
        "                    cur += 1\n",
        "            points[cur], points[right] = points[right], points[cur]\n",
        "            return cur\n",
        "        \n",
        "        \n",
        "        pivot_index = len(points)\n",
        "        left, right = 0, len(points)-1\n",
        "        \n",
        "        while pivot_index != k:\n",
        "            pivot_index = partition(left, right)\n",
        "            if pivot_index < k:\n",
        "                left = pivot_index + 1\n",
        "            else:\n",
        "                right = pivot_index - 1\n",
        "        return points[:pivot_index]"
      ],
      "metadata": {
        "id": "WGjM3ZYU4iTz"
      },
      "execution_count": null,
      "outputs": []
    },
    {
      "cell_type": "code",
      "source": [
        "#JH \n",
        "class Solution:\n",
        "    def kClosest(self, points: List[List[int]], k: int) -> List[List[int]]:\n",
        "        \n",
        "        min_heap = []\n",
        "        res = []\n",
        "        for x, y in points:\n",
        "            d = x**2 + y**2\n",
        "            min_heap.append([d, x, y])\n",
        "        \n",
        "        heapq.heapify(min_heap)\n",
        "        \n",
        "        for _ in range(k):\n",
        "            d, x, y = heapq.heappop(min_heap)\n",
        "            res.append([x, y])\n",
        "        \n",
        "        return res"
      ],
      "metadata": {
        "id": "9VEcqRnU5_L0"
      },
      "execution_count": null,
      "outputs": []
    },
    {
      "cell_type": "code",
      "source": [
        "#Leo\n",
        "\n",
        "import heapq\n",
        "\n",
        "class Solution:\n",
        "    def kClosest(self, points: List[List[int]], k: int) -> List[List[int]]:\n",
        "        res = [] \n",
        "        \n",
        "        final = [] \n",
        "        #using priority Q -> maintain it \n",
        "        \n",
        "        #p1 : [x1,y1] , No need sqroot \n",
        "        def calculate_distance(p):\n",
        "            return (p[0]**2) + (p[1]**2)\n",
        "        \n",
        "        for p in points:\n",
        "            res.append( ( calculate_distance(p) , p)  )   # ex ( 10 , [1,3])\n",
        "        \n",
        "        heapq.heapify(res) \n",
        "        \n",
        "        #in for loop pop up  K amount \n",
        "        for i in range(k):\n",
        "            final.append(heapq.heappop(res)[1])\n",
        "            \n",
        "        return final\n",
        "        \n",
        "        \n",
        "        "
      ],
      "metadata": {
        "id": "C3rerdb56Rh8"
      },
      "execution_count": null,
      "outputs": []
    },
    {
      "cell_type": "code",
      "source": [
        "#Iris\n",
        "class Solution:\n",
        "    def kClosest(self, points: List[List[int]], k: int) -> List[List[int]]:\n",
        "        return nsmallest(k, points, key=lambda v: v[0]*v[0] + v[1]*v[1])"
      ],
      "metadata": {
        "id": "KhN9WBL8IrCn"
      },
      "execution_count": null,
      "outputs": []
    },
    {
      "cell_type": "markdown",
      "source": [
        "# 06/15/2022\n",
        "49. Group Anagrams [Medium]\n"
      ],
      "metadata": {
        "id": "vtSG5_uSqta2"
      }
    },
    {
      "cell_type": "code",
      "source": [
        "# Dana \n",
        "\n",
        "class Solution:\n",
        "    def groupAnagrams(self, strs: List[str]) -> List[List[str]]:\n",
        "        alphabetical_dict = {} \n",
        "        \n",
        "        for word in strs: \n",
        "            sorted_word = ''.join(sorted(word)) \n",
        "            if sorted_word in alphabetical_dict: \n",
        "                alphabetical_dict[sorted_word].append(word) \n",
        "            else: \n",
        "                alphabetical_dict[sorted_word] = [word]\n",
        "                \n",
        "        return list(alphabetical_dict.values())"
      ],
      "metadata": {
        "id": "c-35VJc7astt"
      },
      "execution_count": null,
      "outputs": []
    },
    {
      "cell_type": "code",
      "source": [
        "#Minsu's code\n",
        "\n",
        "from collections import defaultdict\n",
        "class Solution:\n",
        "    def groupAnagrams(self, strs: List[str]) -> List[List[str]]:\n",
        "        map_ = defaultdict(list)\n",
        "        for s in strs:\n",
        "            map_[tuple(sorted(s))].append(s)\n",
        "        \n",
        "        return map_.values()"
      ],
      "metadata": {
        "id": "XZNsjJhLF7TO"
      },
      "execution_count": null,
      "outputs": []
    },
    {
      "cell_type": "code",
      "source": [
        "# Joe\n",
        "# TC: O(N*max(K))\n",
        "from collections import defaultdict\n",
        "\n",
        "\n",
        "class Solution:\n",
        "    def groupAnagrams(self, strs: List[str]) -> List[List[str]]:\n",
        "        group = defaultdict(list)\n",
        "        \n",
        "        for word in strs:\n",
        "            tmp = [0] * 26\n",
        "            for char in word:\n",
        "                o = ord(char) - ord('a')\n",
        "                tmp[o] += 1\n",
        "            group[tuple(tmp)].append(word)\n",
        "        return group.values()"
      ],
      "metadata": {
        "id": "f2O9QqpcuAiQ"
      },
      "execution_count": null,
      "outputs": []
    },
    {
      "cell_type": "code",
      "source": [
        "# YS\n",
        "class Solution:\n",
        "    def groupAnagrams(self, strs: List[str]) -> List[List[str]]:\n",
        "        dic = collections.defaultdict(list)\n",
        "        for s in strs:\n",
        "            d = Counter(s)\n",
        "            arr = []\n",
        "            for c in 'abcdefghijklmnopqrstuvwxyz':\n",
        "                if c in d:\n",
        "                    arr.append(c)\n",
        "                    arr.append(str(d[c]))\n",
        "            dic[''.join(arr)].append(s)\n",
        "        \n",
        "        return [dic[x] for x in dic]"
      ],
      "metadata": {
        "id": "umwd2C7tJrVd"
      },
      "execution_count": null,
      "outputs": []
    },
    {
      "cell_type": "code",
      "source": [
        "#JH\n",
        "class Solution:\n",
        "    def groupAnagrams(self, strs: List[str]) -> List[List[str]]:\n",
        "        \n",
        "        map_ = collections.defaultdict(list)\n",
        "        \n",
        "        for s in strs:\n",
        "            key = [0]*26\n",
        "            for c in s:\n",
        "                key[ord(c) - ord('a')] += 1   \n",
        "            map_[tuple(key)].append(s)\n",
        "        \n",
        "        return map_.values()"
      ],
      "metadata": {
        "id": "-DB1nPVmPC3J"
      },
      "execution_count": null,
      "outputs": []
    },
    {
      "cell_type": "markdown",
      "source": [
        "# 06/16/2022\n",
        "1152. Analyze User Website Visit Pattern [Medium]\n",
        "doc"
      ],
      "metadata": {
        "id": "SO8W3dj5q4LS"
      }
    },
    {
      "cell_type": "code",
      "source": [
        "#Minsu's code\n",
        "#TC : O(N^3logN)\n",
        "#SC : O(N^3)\n",
        "from queue import PriorityQueue\n",
        "\n",
        "class Solution:\n",
        "    def mostVisitedPattern(self, username: List[str], timestamp: List[int], website: List[str]) -> List[str]:\n",
        "        class Data:\n",
        "            def __init__(self, username, timestamp, website):\n",
        "                self.username = username\n",
        "                self.timestamp = timestamp\n",
        "                self.website = website\n",
        "\n",
        "            def __lt__(self,other): \n",
        "                return self.timestamp < other.timestamp \n",
        "        \n",
        "        que = PriorityQueue()\n",
        "        \n",
        "        for i in range(len(timestamp)):\n",
        "            que.put(Data(username[i],timestamp[i],website[i]))\n",
        "        \n",
        "        map_ = dict()\n",
        "        while not que.empty():\n",
        "            data = que.get()\n",
        "            if data.username in map_:\n",
        "                map_[data.username].append(data.website)\n",
        "            else:\n",
        "                webList = []\n",
        "                webList.append(data.website)\n",
        "                map_[data.username] = webList\n",
        "        \n",
        "        webs = dict()\n",
        "        max_ = -10**6\n",
        "        for name in map_.keys():\n",
        "            list_ = map_[name]\n",
        "            for i in range(len(list_)):\n",
        "                for j in range(i+1, len(list_)):\n",
        "                    for k in range(j+1, len(list_)):\n",
        "                        visit = list_[i] + \" \" + list_[j] + \" \" + list_[k]\n",
        "                        if visit in webs:\n",
        "                            set_ = webs[visit]\n",
        "                        else:\n",
        "                            set_ = set()\n",
        "                        set_.add(name)\n",
        "                        webs[visit] = set_\n",
        "                        if len(set_) > max_ :\n",
        "                            #res = list(visit.split(\" \"))\n",
        "                            max_ = len(set_)\n",
        "        visits = []\n",
        "        for visit in webs.keys():\n",
        "            if len(webs[visit]) == max_:\n",
        "                visits.append(list(visit.split(\" \")))\n",
        "        \n",
        "        visits.sort()\n",
        "        \n",
        "        return visits[0]"
      ],
      "metadata": {
        "id": "4oWofknd8-hH"
      },
      "execution_count": null,
      "outputs": []
    },
    {
      "cell_type": "code",
      "source": [
        "# Joe\n",
        "\n",
        "from collections import defaultdict\n",
        "from itertools import combinations\n",
        "\n",
        "\n",
        "class Solution:\n",
        "    def mostVisitedPattern(self, username: List[str], timestamp: List[int], website: List[str]) -> List[str]:\n",
        "        _path = sorted(zip(username, website, timestamp), key=lambda x: x[2])\n",
        "        \n",
        "        _map = defaultdict(list)\n",
        "        \n",
        "        for user, webpage, _ in _path:\n",
        "            _map[user].append(webpage)\n",
        "        \n",
        "        _score = defaultdict(int)\n",
        "        res = (0, None)\n",
        "        \n",
        "        for i in _map.values():\n",
        "          # [a,b,c,d]\n",
        "          # [a,b,c], [a,b,d], [a,c,d], [b,c,d]\n",
        "            for j in set(combinations(i, 3)):\n",
        "                _t = tuple(j)\n",
        "                _score[_t] += 1\n",
        "                if _score[_t] > res[0]:\n",
        "                    res = (_score[_t], _t)\n",
        "                elif _score[_t] == res[0] and _t < res[1]:\n",
        "                    res = (_score[_t], _t)\n",
        "        \n",
        "        return res[1]"
      ],
      "metadata": {
        "id": "ioZQWH5iY9e7"
      },
      "execution_count": null,
      "outputs": []
    },
    {
      "cell_type": "code",
      "source": [
        "# YS\n",
        "class Solution:\n",
        "    def mostVisitedPattern(self, username: List[str], timestamp: List[int], website: List[str]) -> List[str]:\n",
        "        dic = collections.defaultdict(list)\n",
        "        score = collections.defaultdict(int)\n",
        "        #print(sorted(zip(username, timestamp, website),key = lambda x:x[1]))\n",
        "        #print([(x,y,z) for x,y,z in zip(username, timestamp, website)])\n",
        "        for user, _, web in sorted(zip(username, timestamp, website),key = lambda x:x[1]):\n",
        "            dic[user].append(web)\n",
        "        \n",
        "        for user in dic:\n",
        "            if len(dic[user]) >= 3:\n",
        "                temp_set = set() # avoid duplicates\n",
        "                # i    ~  j    ~    k        : combination\n",
        "                for i in range(0, len(dic[user]) -1): # 0 ~ N-2\n",
        "                    for k in range(i+2, len(dic[user])): # 2~ N-1   \n",
        "                        for j in range(i+1,k):\n",
        "                            temp_set.add( (dic[user][i],dic[user][j],dic[user][k]) ) \n",
        "                \n",
        "                for item in temp_set:\n",
        "                    score[ item ] += 1\n",
        "        #print(score)\n",
        "        candidate = None\n",
        "        mx = 0\n",
        "        \n",
        "        for k in score:\n",
        "            if score[k] > mx: # update max -> new candidate\n",
        "                mx = score[k]\n",
        "                candidate = k\n",
        "            elif score[k] == mx and candidate > k: # same value -> lexicographcial order\n",
        "                candidate = k\n",
        "        \n",
        "        return candidate"
      ],
      "metadata": {
        "id": "ToU2Ud9WqVoe"
      },
      "execution_count": null,
      "outputs": []
    },
    {
      "cell_type": "markdown",
      "source": [
        "# 06/17/2022\n",
        "127. Word Ladder [Hard]\n"
      ],
      "metadata": {
        "id": "TpTb1oCrq6d9"
      }
    },
    {
      "cell_type": "code",
      "source": [
        "#Minsu's code\n",
        "\n",
        "from collections import defaultdict,deque\n",
        "class Solution:\n",
        "    def ladderLength(self, beginWord: str, endWord: str, wordList: List[str]) -> int:\n",
        "        if endWord not in wordList:\n",
        "            return 0\n",
        "        \n",
        "        graph = defaultdict(list)\n",
        "        visited = set()\n",
        "        queue = deque()\n",
        "        \n",
        "        for i in range(len(beginWord)):\n",
        "            for word in wordList:\n",
        "                graph[word[:i]+\"*\"+word[i+1:]].append(word)\n",
        "        \n",
        "        visited.add(beginWord)\n",
        "        queue.append((beginWord,1))\n",
        "        \n",
        "        while queue:\n",
        "            curr, level = queue.popleft()\n",
        "            for i in range(len(curr)):\n",
        "                key = curr[:i] + \"*\" + curr[i+1:]\n",
        "                for word in graph[key]:\n",
        "                    if word == endWord:\n",
        "                        return level + 1\n",
        "                    if word not in visited:\n",
        "                        queue.append((word, level+1))\n",
        "                        visited.add(word)\n",
        "                       \n",
        "        return 0"
      ],
      "metadata": {
        "id": "y2LLny6yfbxl"
      },
      "execution_count": null,
      "outputs": []
    },
    {
      "cell_type": "code",
      "source": [
        "# Joe\n",
        "\n",
        "from collections import defaultdict, deque\n",
        "\n",
        "class Solution:\n",
        "    def ladderLength(self, beginWord: str, endWord: str, wordList: List[str]) -> int:\n",
        "        _map = defaultdict(list)\n",
        "        \n",
        "        for word in wordList:\n",
        "            for i in range(len(word)):\n",
        "                k = word[:i]+\"*\"+word[i+1:]\n",
        "                _map[k].append(word)\n",
        "        # hot -> *ot, h*t, ho*\n",
        "        # *ot: [hot], h*t: [hot], ho*: [hot]\n",
        "        \n",
        "        q = deque([(beginWord, 1)])\n",
        "        visited = set([beginWord])\n",
        "        while q:\n",
        "            word, cnt = q.popleft()                \n",
        "            for i in range(len(word)):\n",
        "                k = word[:i]+\"*\"+word[i+1:]\n",
        "                for w in _map[k]:\n",
        "                    if w == endWord:\n",
        "                        return cnt + 1\n",
        "                    if w not in visited:\n",
        "                        visited.add(w)\n",
        "                        q.append((w, cnt+1))\n",
        "                _map[k] = []\n",
        "        return 0"
      ],
      "metadata": {
        "id": "Lmv3q_9EnQUK"
      },
      "execution_count": null,
      "outputs": []
    },
    {
      "cell_type": "code",
      "source": [
        "#JH\n",
        "class Solution:\n",
        "    def ladderLength(self, beginWord: str, endWord: str, wordList: List[str]) -> int:\n",
        "        \n",
        "        if endWord not in wordList:\n",
        "            return 0\n",
        "   \n",
        "        graph = collections.defaultdict(list)\n",
        "        for word in wordList:\n",
        "            for i in range(len(word)):\n",
        "                graph[word[:i] + '*' + word[i+1:]].append(word)\n",
        "\n",
        "        visited = set()\n",
        "        visited.add(beginWord)\n",
        "        q = collections.deque([beginWord])\n",
        "        res = 1\n",
        "        while q:\n",
        "            for i in range(len(q)):\n",
        "                word = q.popleft()\n",
        "                if word == endWord:\n",
        "                    return res\n",
        "                for j in range(len(word)):\n",
        "                    for n in graph[word[:j] + '*' +word[j+1:]]:\n",
        "                        if n not in visited:\n",
        "                            visited.add(n)\n",
        "                            q.append(n)\n",
        "            res += 1          \n",
        "        return 0"
      ],
      "metadata": {
        "id": "bOcFRqGqf5AL"
      },
      "execution_count": null,
      "outputs": []
    },
    {
      "cell_type": "markdown",
      "source": [
        "# 06/20/2022\n",
        "2104. Sum of Subarray Ranges [Medium]\n"
      ],
      "metadata": {
        "id": "x9bNbcnWq-1H"
      }
    },
    {
      "cell_type": "code",
      "source": [
        "# Joe\n",
        "# TC: O(N)\n",
        "# SC: O(N)\n",
        "\n",
        "class Solution:\n",
        "    def subArrayRanges(self, nums: List[int]) -> int:\n",
        "        n = len(nums)\n",
        "        stack = []\n",
        "        min_sum = 0\n",
        "        for next_ in range(n+1):\n",
        "            while stack and (next_ == n or nums[next_] < nums[stack[-1]]):\n",
        "                i = stack.pop()\n",
        "                prev = stack[-1] if stack else -1\n",
        "                min_sum += nums[i] * (next_-i) * (i-prev)\n",
        "            stack.append(next_)\n",
        "        stack = []\n",
        "        max_sum = 0\n",
        "        \n",
        "        for next_ in range(n+1):\n",
        "            while stack and (next_ == n or nums[next_] > nums[stack[-1]]):\n",
        "                i = stack.pop()\n",
        "                prev = stack[-1] if stack else -1\n",
        "                max_sum += nums[i] * (next_-i) * (i-prev)\n",
        "            stack.append(next_)\n",
        "        \n",
        "        return max_sum - min_sum"
      ],
      "metadata": {
        "id": "VmygUAc3TGOr"
      },
      "execution_count": null,
      "outputs": []
    },
    {
      "cell_type": "code",
      "source": [
        "#Minsu's code\n",
        "'''\n",
        "TC : O(n)\n",
        "SC : O(n)\n",
        "Idea : [먼저 증명]example 1의 [1,2,3] 의 max min을 구해보면\n",
        "         array          max min\n",
        "        [1]               1  1\n",
        "        [1,2]             2  1\n",
        "        [1,2,3]           3  1\n",
        "        [2]               2  2\n",
        "        [2,3]             3  2\n",
        "        [3]               3  3\n",
        "- 이렇게되고 1이 max로 나온'횟수'는 1번 2는 2번 3이 3번인걸 확인할 수 있다.\n",
        "이것을 max sum 과 min sum을 구해보면\n",
        "max sum = 1 * 1 + 2* 2 + 3 *3 = 1 + 4 + 9 = 14\n",
        "min sum = 1 * 3 + 2 *2 + 3 * 1 = 3 + 4 + 3 = 10\n",
        "max sum - min sum = 14 - 10 = 4 \n",
        "example1에서 구한 값과 같다는 것을 알 수 있다. (문제 참조)\n",
        "\n",
        "※ 문제정의\n",
        "따라서 이문제는 해당 \"list의 최대, 최소의 값을 구하는 문제\" 라고 생각 (그 후 차가 답이니..)\n",
        "(subarray에서 최소횟수 발생을 찾으려면 왼쪽부터 탐색, 오른쪽부터 탐색 두번을 탐색해서 풀어야 되는점)\n",
        "\n",
        "monotonic stack을 이용하여 각 항목에 대한 max, min 값을 구해서 위의 식으로 구하면 된다.\n",
        "'''\n",
        "class Solution:\n",
        "    def subArrayRanges(self, nums: List[int]) -> int:\n",
        "        length = len(nums)\n",
        "        lMax = [length+1] * length \n",
        "        rMax = [length+1] * length \n",
        "        lMin = [length+1] * length  \n",
        "        rMin = [length+1] * length \n",
        "        \n",
        "        stack = []\n",
        "        for i in range(length):\n",
        "            while stack and nums[stack[-1]] > nums[i]:\n",
        "                lMin[stack[-1]] = i\n",
        "                stack.pop()   \n",
        "            stack.append(i)\n",
        "            \n",
        "        stack = []\n",
        "        for i in range(length-1,-1,-1):\n",
        "            while stack and nums[stack[-1]] >= nums[i]:\n",
        "                rMin[stack[-1]] = i\n",
        "                stack.pop()\n",
        "            stack.append(i)\n",
        "            \n",
        "        stack = []\n",
        "        for i in range(length):\n",
        "            while stack and nums[stack[-1]] < nums[i]:\n",
        "                lMax[stack[-1]] = i\n",
        "                stack.pop()   \n",
        "            stack.append(i)\n",
        "            \n",
        "        stack = []\n",
        "        for i in range(length-1,-1,-1): \n",
        "            while stack and nums[stack[-1]] <= nums[i]:\n",
        "                rMax[stack[-1]] = i\n",
        "                stack.pop()\n",
        "            stack.append(i)\n",
        "        \n",
        "        \n",
        "        minV = 0\n",
        "        maxV = 0\n",
        "        for i in range(length):\n",
        "            if rMin[i] == length+1:\n",
        "                leftV = i - 0\n",
        "            else:\n",
        "                leftV = (i - rMin[i]) - 1\n",
        "                \n",
        "            if lMin[i]== length+1:\n",
        "                rightV = length-1 - i\n",
        "            else:\n",
        "                rightV = (lMin[i] - i) - 1\n",
        "            \n",
        "            minV += nums[i] * (leftV + 1) * (rightV + 1)\n",
        "                    \n",
        "            if rMax[i] == length+1:\n",
        "                leftV = i - 0\n",
        "            else:\n",
        "                leftV = (i - rMax[i]) - 1\n",
        "            \n",
        "            if lMax[i] == length+1:\n",
        "                rightV = length-1 - i\n",
        "            else:\n",
        "                rightV = (lMax[i] - i) - 1\n",
        "            \n",
        "            maxV += nums[i] * (leftV + 1) * (rightV + 1)\n",
        "            \n",
        "        return maxV - minV"
      ],
      "metadata": {
        "id": "63pT-nGWREMk"
      },
      "execution_count": null,
      "outputs": []
    },
    {
      "cell_type": "code",
      "source": [
        "#JH\n",
        "class Solution:\n",
        "    def subArrayRanges(self, nums: List[int]) -> int:\n",
        "        \n",
        "        res = 0\n",
        "        \n",
        "        for i in range(len(nums)):\n",
        "            \n",
        "            s = nums[i]\n",
        "            l = nums[i]\n",
        "            \n",
        "            for j in range(i+1, len(nums)):\n",
        "                \n",
        "                s = min(s, nums[j])\n",
        "                l = max(l, nums[j])\n",
        "                res += l - s\n",
        "        \n",
        "        return res"
      ],
      "metadata": {
        "id": "4KAawsek7SGv"
      },
      "execution_count": null,
      "outputs": []
    },
    {
      "cell_type": "code",
      "source": [
        "# Iris\n",
        "class Solution:\n",
        "    def subArrayRanges(self, nums: List[int]) -> int:\n",
        "        total = 0\n",
        "        for i in range(len(nums)):\n",
        "            minNum = nums[i]\n",
        "            maxNum = nums[i]\n",
        "            \n",
        "            for j in range(i+1, len(nums)):\n",
        "                minNum = min(nums[j], minNum)\n",
        "                maxNum = max(nums[j], maxNum)\n",
        "                \n",
        "                total += (maxNum - minNum)\n",
        "        return total"
      ],
      "metadata": {
        "id": "sjxNrb7q8MUu"
      },
      "execution_count": null,
      "outputs": []
    },
    {
      "cell_type": "code",
      "source": [
        "# YS\n",
        "class Solution:\n",
        "    def subArrayRanges(self, nums: List[int]) -> int:\n",
        "        ans = 0\n",
        "        \n",
        "        for i in range(len(nums)): #  [ 1 2   3 4   ]\n",
        "            mx = nums[i]\n",
        "            mn = nums[i]\n",
        "            \n",
        "            for j in range(i, len(nums)):\n",
        "                mx = max(nums[j],mx)\n",
        "                mn = min(nums[j],mn)\n",
        "                \n",
        "                ans += mx-mn\n",
        "        return ans"
      ],
      "metadata": {
        "id": "eDwNJuJE9vie"
      },
      "execution_count": null,
      "outputs": []
    },
    {
      "cell_type": "markdown",
      "source": [
        "# 06/21/2022\n",
        "212. Word Search II [Hard]\n"
      ],
      "metadata": {
        "id": "uPlntXqJrAT4"
      }
    },
    {
      "cell_type": "code",
      "source": [
        "# Joe\n",
        "\n",
        "from collections import defaultdict\n",
        "\n",
        "\n",
        "class Trie:\n",
        "    def __init__(self):\n",
        "        self.is_word = False\n",
        "        self.children = defaultdict(Trie)\n",
        "        self.parent = None\n",
        "        self.word = None\n",
        "\n",
        "\n",
        "class Solution:\n",
        "    def findWords(self, board: List[List[str]], words: List[str]) -> List[str]:\n",
        "        self.root = Trie()\n",
        "        self.res = set()\n",
        "        \n",
        "        def prune(node, word):\n",
        "            if node.children or not node.parent or not word:\n",
        "                return\n",
        "            del node.parent.children[word[-1]]\n",
        "            prune(node.parent, word[:-1])\n",
        "        \n",
        "        def helper(r, c, node):\n",
        "            if node.is_word:\n",
        "                self.res.add(node.word)\n",
        "                prune(node, node.word)\n",
        "                \n",
        "            board[r][c], tmp = '#', board[r][c]\n",
        "            for i, j in ((0, 1), (0, -1), (1, 0), (-1, 0)):\n",
        "                nr = r+i\n",
        "                nc = c+j\n",
        "                if nr < 0 or nc < 0 or nr >= len(board) or nc >= len(board[0]):\n",
        "                    continue\n",
        "                if board[nr][nc] in node.children:\n",
        "                    helper(nr, nc, node.children[board[nr][nc]])\n",
        "            board[r][c] = tmp\n",
        "                \n",
        "        for word in words:\n",
        "            node = self.root\n",
        "            p = None\n",
        "            for w in word:\n",
        "                node, node.parent = node.children[w], p\n",
        "                p = node\n",
        "            node.is_word = True\n",
        "            node.word = word\n",
        "        \n",
        "        for row in range(len(board)):\n",
        "            for col in range(len(board[0])):\n",
        "                if board[row][col] in self.root.children:\n",
        "                    helper(row, col, self.root.children[board[row][col]])\n",
        "                    \n",
        "        return self.res"
      ],
      "metadata": {
        "id": "YzO5c5r_WM1-"
      },
      "execution_count": null,
      "outputs": []
    },
    {
      "cell_type": "code",
      "source": [
        "#Minsu's code\n",
        "#TLE, 오류난 해당 케이스 가지고 testcase로 돌리면 accept..-_(ツ)_/¯\n",
        "#다시풀어도 TLE...\n",
        "class Node:\n",
        "    def __init__(self, key):\n",
        "        self.key = key\n",
        "        self.data = None\n",
        "        self.children = dict()\n",
        "        \n",
        "class Trie:\n",
        "    def __init__(self):\n",
        "        self.node = Node(None)\n",
        "        \n",
        "    def insert(self, word):\n",
        "        node = self.node\n",
        "        for c in word:\n",
        "            if c not in node.children:\n",
        "                node.children[c] = Node(c)\n",
        "            node = node.children[c]\n",
        "        node.data = word\n",
        "\n",
        "class Solution:\n",
        "    def findWords(self, board: List[List[str]], words: List[str]) -> List[str]:\n",
        "        def dfs(x, y, node):\n",
        "            c = board[x][y]\n",
        "            if c == None:\n",
        "                return\n",
        "            if c not in node.children:\n",
        "                return\n",
        "            if node.children[c].data:\n",
        "                res.append(node.children[c].data)\n",
        "                node.children[c].data = None\n",
        "                if len(node.children[c].children) == 0:\n",
        "                    return\n",
        "            \n",
        "            board[x][y] = None\n",
        "            for d in ((1,0),(-1,0),(0,1),(0,-1)):\n",
        "                dx = d[0] + x\n",
        "                dy = d[1] + y\n",
        "                if dx>=0 and dx<len(board) and dy>=0 and dy<len(board[0]) and c in node.children:\n",
        "                    dfs(dx, dy, node.children[c])\n",
        "            board[x][y] = c\n",
        "        \n",
        "        \n",
        "        trie = Trie()\n",
        "        for word in words:\n",
        "            trie.insert(word)\n",
        "        \n",
        "        res = []\n",
        "        for i in range(len(board)):\n",
        "            for j in range(len(board[0])):\n",
        "                dfs(i, j, trie.node)\n",
        "        return res"
      ],
      "metadata": {
        "id": "e9ZC06qRdOS4"
      },
      "execution_count": null,
      "outputs": []
    },
    {
      "cell_type": "code",
      "source": [
        "#JH \n",
        "#TLE\n",
        "\n",
        "class TrieNode:\n",
        "    def __init__(self):\n",
        "        self.children = {}\n",
        "        self.isEnd = False\n",
        "        self.word = None\n",
        "\n",
        "class Trie:\n",
        "    def __init__(self):\n",
        "        self.root = TrieNode()\n",
        "    \n",
        "    def insert(self, word):\n",
        "        node = self.root\n",
        "        \n",
        "        for c in word:\n",
        "            if c not in node.children:\n",
        "                node.children[c] = TrieNode()\n",
        "            node = node.children[c]\n",
        "        node.isEnd = True\n",
        "        node.word = word\n",
        "        \n",
        "class Solution:\n",
        "    def findWords(self, board: List[List[str]], words: List[str]) -> List[str]:\n",
        "      \n",
        "        def dfs(r, c, node):\n",
        "            node = node.children[board[r][c]]\n",
        "            if node.isEnd:\n",
        "                res.append(node.word)\n",
        "                node.isEnd = False\n",
        "                \n",
        "            temp = board[r][c]\n",
        "            board[r][c] = '#'\n",
        "            for nr, nc in [(r+1,c), (r-1,c), (r, c-1), (r, c+1)]:\n",
        "                if 0 <= nr < row and 0 <= nc < col and board[nr][nc] in node.children:\n",
        "                    dfs(nr, nc, node)    \n",
        "            board[r][c] = temp\n",
        "\n",
        "            \n",
        "        trie = Trie()\n",
        "        \n",
        "        for word in words:\n",
        "            trie.insert(word)\n",
        "\n",
        "        res = []\n",
        "        \n",
        "        row, col = len(board), len(board[0])\n",
        "        \n",
        "        for r in range(row):\n",
        "            for c in range(col):\n",
        "                if board[r][c] in trie.root.children:\n",
        "                    dfs(r, c, trie.root)\n",
        "        \n",
        "        return res"
      ],
      "metadata": {
        "id": "z45Nh9apIaTV"
      },
      "execution_count": null,
      "outputs": []
    },
    {
      "cell_type": "markdown",
      "source": [
        "# 06/22/2022\n",
        "937. Reorder Data in Log Files [Easy]\n"
      ],
      "metadata": {
        "id": "7B72lHSArCAw"
      }
    },
    {
      "cell_type": "code",
      "source": [
        "#Leo \n",
        "class Solution:\n",
        "    def reorderLogFiles(self, logs: List[str]) -> List[str]:\n",
        "        letter_logs = []\n",
        "        digit_logs = []\n",
        "        \n",
        "        for log in logs:\n",
        "            if log.split()[1].isdigit():\n",
        "                digit_logs.append(log)\n",
        "                \n",
        "            else:\n",
        "                letter_logs.append(log)\n",
        "                \n",
        "                \n",
        "        letter_logs.sort(key=lambda x : (x.split()[1:], x.split()[0]))\n",
        "        return letter_logs + digit_logs"
      ],
      "metadata": {
        "id": "-B08pBzNmofd"
      },
      "execution_count": null,
      "outputs": []
    },
    {
      "cell_type": "code",
      "source": [
        "#Minsu's code\n",
        "#TC : O(N + MlogM) n : logs , m ; letters\n",
        "class Solution:\n",
        "    def reorderLogFiles(self, logs: List[str]) -> List[str]:\n",
        "        dig = []\n",
        "        let = []\n",
        "        for log in logs:\n",
        "            temp = log.split(' ')\n",
        "            if temp[1].isdigit():\n",
        "                dig.append(log)\n",
        "            else:\n",
        "                let.append((temp[1:],log))\n",
        "        let.sort()\n",
        "        res = []\n",
        "        for l in let:\n",
        "            res.append(l[1])\n",
        "        return res + dig"
      ],
      "metadata": {
        "id": "__GEP46c6IRf"
      },
      "execution_count": null,
      "outputs": []
    },
    {
      "cell_type": "code",
      "source": [
        "# Joe\n",
        "# TC: O(NlogN)\n",
        "\n",
        "class Solution:\n",
        "    def reorderLogFiles(self, logs: List[str]) -> List[str]:\n",
        "        def helper(x):\n",
        "            identifier, content = x.split(\" \", 1)\n",
        "            if content[0].isalpha():\n",
        "                return (0, content, identifier,)\n",
        "            return (1,)\n",
        "        return sorted(logs, key=helper)"
      ],
      "metadata": {
        "id": "JwydUt_m_ojC"
      },
      "execution_count": null,
      "outputs": []
    },
    {
      "cell_type": "code",
      "source": [
        "#JH\n",
        "class Solution:\n",
        "    def reorderLogFiles(self, logs: List[str]) -> List[str]:\n",
        "        letters = []\n",
        "        digits = []\n",
        "        \n",
        "        for log in logs:\n",
        "            if log[-1].isalpha():\n",
        "                letters.append(log)\n",
        "            \n",
        "            else:\n",
        "                digits.append(log)\n",
        "\n",
        "        letters.sort(key=lambda x: (x.split()[1:], x.split()[0]))\n",
        "        \n",
        "        return letters + digits"
      ],
      "metadata": {
        "id": "9Z2Jmtw9NQyB"
      },
      "execution_count": null,
      "outputs": []
    },
    {
      "cell_type": "code",
      "source": [
        "# Iris\n",
        "class Solution:\n",
        "    def reorderLogFiles(self, logs: List[str]) -> List[str]:\n",
        "        letter = []\n",
        "        digit = []\n",
        "        \n",
        "        for log in logs: \n",
        "            if log.split()[1].isdigit():\n",
        "                digit.append(log)\n",
        "            else:\n",
        "                letter.append(log)\n",
        "                \n",
        "        letter.sort(key = lambda x:x.split()[0])\n",
        "        letter.sort(key = lambda x:x.split()[1:])\n",
        "        result = letter + digit\n",
        "        return result\n",
        "        "
      ],
      "metadata": {
        "id": "x1p-1QmoPnjK"
      },
      "execution_count": null,
      "outputs": []
    },
    {
      "cell_type": "markdown",
      "source": [
        "# 06/23/2022\n",
        "828. Count Unique Characters of All Substrings of a Given String [Hard]\n"
      ],
      "metadata": {
        "id": "BtiifYVorDVB"
      }
    },
    {
      "cell_type": "code",
      "source": [
        "#Minsu's code\n",
        "#TC : O(n)\n",
        "#idea : sliding window, 해당 point의 '문자'기준 유니크한 left, right 문자사이의 windows를 찾는것으로 변형해서 생각해서 풀기\n",
        "  \n",
        "from collections import defaultdict\n",
        "class Solution:\n",
        "    def uniqueLetterString(self, s: str) -> int:\n",
        "        length = len(s)\n",
        "        map_ = defaultdict(list)\n",
        "        for i, v in enumerate(s):\n",
        "            map_[v].append(i)\n",
        "        \n",
        "        res = 0\n",
        "        for idx in map_:\n",
        "            indexList = map_[idx]\n",
        "            indexList.insert(0, -1)\n",
        "            indexList.append(length) \n",
        "\n",
        "            for i in range(1, len(indexList)-1):\n",
        "                left = i-1\n",
        "                right = i+1\n",
        "                res += (indexList[i]-indexList[left]) * (indexList[right]-indexList[i]) \n",
        "                \n",
        "        return res"
      ],
      "metadata": {
        "id": "s0LkuLvzXcov"
      },
      "execution_count": null,
      "outputs": []
    },
    {
      "cell_type": "markdown",
      "source": [
        "# 06/24/2022\n",
        "1268. Search Suggestions System [Medium]\n"
      ],
      "metadata": {
        "id": "wXGzk-jkrE5t"
      }
    },
    {
      "cell_type": "code",
      "source": [
        "# Joe\n",
        "class Solution:\n",
        "    def suggestedProducts(self, products: List[str], searchWord: str) -> List[List[str]]:\n",
        "        res = []\n",
        "        \n",
        "        products.sort()\n",
        "        for i, char in enumerate(searchWord):\n",
        "            products = [p for p in products if len(p) > i and p[i] == char]\n",
        "            res.append(products[:3])\n",
        "            \n",
        "        return res\n",
        "\n",
        "\n",
        "######################################\n",
        "from collections import defaultdict\n",
        "import heapq\n",
        "\n",
        "class Trie:\n",
        "    def __init__(self):\n",
        "        self.cache = []\n",
        "        self.children = defaultdict(Trie)\n",
        "\n",
        "\n",
        "class Solution:\n",
        "    def suggestedProducts(self, products: List[str], searchWord: str) -> List[List[str]]:\n",
        "        root = Trie()\n",
        "        heapq.heapify(products)\n",
        "        while products:\n",
        "            word = heapq.heappop(products)\n",
        "            node = root\n",
        "            for c in word:\n",
        "                node = node.children[c]\n",
        "                if len(node.cache) < 3:\n",
        "                    node.cache.append(word)\n",
        "        node = root\n",
        "        res = []\n",
        "        for s in searchWord:\n",
        "            node = node.children[s]\n",
        "            res.append(node.cache)\n",
        "        return res"
      ],
      "metadata": {
        "id": "WFWXWm0bjlAg"
      },
      "execution_count": null,
      "outputs": []
    },
    {
      "cell_type": "code",
      "source": [
        "#JH\n",
        "class TrieNode:\n",
        "    def __init__(self):\n",
        "        self.children = {}\n",
        "        self.words = []\n",
        "\n",
        "class Trie:\n",
        "    def __init__(self):\n",
        "        self.root = TrieNode()\n",
        "    \n",
        "    def insert(self, word):\n",
        "        node = self.root\n",
        "        for c in word:\n",
        "            if c not in node.children:\n",
        "                node.children[c] = TrieNode()\n",
        "            node = node.children[c]\n",
        "            if len(node.words) < 3:\n",
        "                node.words.append(word)\n",
        "            \n",
        "    def search(self, word):\n",
        "        node = self.root\n",
        "        for c in word:\n",
        "            if c not in node.children:\n",
        "                return []\n",
        "            node = node.children[c]\n",
        "        return node.words\n",
        "         \n",
        "        \n",
        "class Solution:\n",
        "    def suggestedProducts(self, products: List[str], searchWord: str) -> List[List[str]]:\n",
        "        \n",
        "        trie = Trie()\n",
        "        \n",
        "        for product in sorted(products):\n",
        "            trie.insert(product)\n",
        "        \n",
        "        res = []\n",
        "        keyword = \"\"\n",
        "        for c in searchWord:\n",
        "            keyword += c\n",
        "            res.append(trie.search(keyword))\n",
        "            \n",
        "        return res\n",
        "        "
      ],
      "metadata": {
        "id": "nsgRJby-krkR"
      },
      "execution_count": null,
      "outputs": []
    },
    {
      "cell_type": "code",
      "source": [
        "#Minsu's code\n",
        "\n",
        "class Solution:\n",
        "    def suggestedProducts(self, products: List[str], searchWord: str) -> List[List[str]]:\n",
        "        products.sort()\n",
        "        match = set()\n",
        "        for i in range(1,len(searchWord)+1):\n",
        "            temp = searchWord[0:i]\n",
        "            astar = \"*\" * (len(searchWord)-i)\n",
        "            match.add(temp + astar)\n",
        "        \n",
        "        res = [[]*len(searchWord) for _ in range(len(searchWord)) ]\n",
        "        for product in products:\n",
        "            for i in range(1,len(searchWord)+1):\n",
        "                if len(res[i-1]) == 3:\n",
        "                    continue\n",
        "                temp = product[0:i]\n",
        "                astar = \"*\" * (len(searchWord)-i)\n",
        "                if temp + astar in match:\n",
        "                    res[i-1].append(product)  \n",
        "\n",
        "        return res"
      ],
      "metadata": {
        "id": "ywgnQofeaDmx"
      },
      "execution_count": null,
      "outputs": []
    },
    {
      "cell_type": "markdown",
      "source": [
        "# 06/27/2022\n",
        "239. Sliding Window Maximum [Hard]\n"
      ],
      "metadata": {
        "id": "yODHEev7rGLq"
      }
    },
    {
      "cell_type": "code",
      "source": [
        "#Minsu's code\n",
        "# Idea : dp, 왼쪽에서 오른쪽으로 최대값을 모두 검색, 오른쪽에서 왼쪽으로 최대값을 모두 검색을 하게되면, 좌우측 끝 값으로 K 범위에서 최대값 구할 수 있다.\n",
        "# TC : O(n)\n",
        "class Solution:\n",
        "    def maxSlidingWindow(self, nums: List[int], k: int) -> List[int]:\n",
        "        length = len(nums)\n",
        "        dpLeft = [0] * length\n",
        "        dpRight = [0] * length\n",
        "        \n",
        "        left, right = nums[0], nums[-1]\n",
        "        #O(n), left to right\n",
        "        for i, num in enumerate(nums):\n",
        "            if i % k == 0 :\n",
        "                left = num\n",
        "            if left <num:\n",
        "                left = num\n",
        "            dpLeft[i] = left\n",
        "        #O(n), right to left\n",
        "        for i in range(length-1,-1,-1):\n",
        "            if i % k == k - 1:\n",
        "                right = nums[i]\n",
        "            if right < nums[i] : \n",
        "                right = nums[i]\n",
        "            dpRight[i] = right\n",
        "        \n",
        "        res = []\n",
        "        #O(n)\n",
        "        for i in range(length-k + 1):\n",
        "            ii = i + k - 1\n",
        "            res.append(max(dpRight[i], dpLeft[ii])) #O(1)\n",
        "        \n",
        "        return res"
      ],
      "metadata": {
        "id": "Th6FQNKrtHP-"
      },
      "execution_count": null,
      "outputs": []
    },
    {
      "cell_type": "code",
      "source": [
        "#JH\n",
        "class Solution:\n",
        "    def maxSlidingWindow(self, nums: List[int], k: int) -> List[int]:\n",
        "        res = []\n",
        "        q = collections.deque()\n",
        "        \n",
        "        for i, n in enumerate(nums):\n",
        "            while q and q[-1][1] <= n:\n",
        "                q.pop()\n",
        "                \n",
        "            q.append((i,n))\n",
        "        \n",
        "            if q and q[0][0] <= i-k: \n",
        "                q.popleft()\n",
        "                \n",
        "            if i >= k-1:\n",
        "                res.append(q[0][1])\n",
        "                \n",
        "        return res\n",
        "            "
      ],
      "metadata": {
        "id": "tbVB81_d-VhK"
      },
      "execution_count": null,
      "outputs": []
    },
    {
      "cell_type": "code",
      "source": [
        "#YS\n",
        "class Solution:\n",
        "    def maxSlidingWindow(self, nums: List[int], k: int) -> List[int]:\n",
        "        mx =  max(nums[:k])\n",
        "        ans = [mx]\n",
        "        que = collections.deque() # save index\n",
        "        \n",
        "        for i in range(k):\n",
        "            while que and nums[i] > nums[que[-1]]: # remove all items less than current item\n",
        "                que.pop()\n",
        "            que.append(i)\n",
        "            \n",
        "        \n",
        "        for i in range(k, len(nums)):          \n",
        "            if que and que[0] == i-k: # if max == previous item, remove previous item\n",
        "                que.popleft()\n",
        "            while que and nums[i] > nums[que[-1]]: # remove all items less than current item\n",
        "                que.pop()                \n",
        "            que.append(i)\n",
        "            \n",
        "            ans.append(nums[que[0]])\n",
        "            \n",
        "            \n",
        "        return ans"
      ],
      "metadata": {
        "id": "63gtmIb3CMZX"
      },
      "execution_count": null,
      "outputs": []
    },
    {
      "cell_type": "markdown",
      "source": [
        "# 06/28/2022\n",
        "12. Integer to Roman [Medium]\n"
      ],
      "metadata": {
        "id": "KYH32pL3rHXO"
      }
    },
    {
      "cell_type": "code",
      "source": [
        "#JH\n",
        "class Solution:\n",
        "    def intToRoman(self, num: int) -> str:\n",
        "        \n",
        "        symbol = [\"M\", \"CM\", \"D\", \"CD\", \"C\", \"XC\", \"L\", \"XL\", \"X\", \"IX\", \"V\", \"IV\", \"I\"]\n",
        "        value = [1000, 900, 500, 400, 100, 90, 50, 40, 10, 9, 5, 4, 1]\n",
        "        \n",
        "        res = \"\"\n",
        "        \n",
        "        for i in range(len(value)):\n",
        "            q, r = divmod(num, value[i])\n",
        "            res += symbol[i]*q\n",
        "            num = r\n",
        "        \n",
        "        return res"
      ],
      "metadata": {
        "id": "-BXbeNVbHaDi"
      },
      "execution_count": null,
      "outputs": []
    },
    {
      "cell_type": "code",
      "source": [
        "# Joe\n",
        "# TC: O(N)\n",
        "# SC: O(1)\n",
        "\n",
        "class Solution:\n",
        "    def intToRoman(self, num: int) -> str:\n",
        "        roman = [\n",
        "            ('I', 1),\n",
        "            ('IV', 4),\n",
        "            ('V', 5),\n",
        "            ('IX', 9),\n",
        "            ('X', 10),\n",
        "            ('XL', 40),\n",
        "            ('L', 50),\n",
        "            ('XC', 90),\n",
        "            ('C', 100),\n",
        "            ('CD', 400),\n",
        "            ('D', 500),\n",
        "            ('CM', 900),\n",
        "            ('M', 1000)\n",
        "        ]\n",
        "        res = \"\"\n",
        "        while num > 0:\n",
        "            r, a = roman.pop()\n",
        "            res += r * (num // a)\n",
        "            num %= a\n",
        "        return res"
      ],
      "metadata": {
        "id": "IW4QSdqsI6-M"
      },
      "execution_count": null,
      "outputs": []
    },
    {
      "cell_type": "code",
      "source": [
        "# Minsu's code\n",
        "\n",
        "class Solution:\n",
        "    def intToRoman(self, num: int) -> str:\n",
        "        map_ = {1000:'M'\n",
        "                ,900:'CM'\n",
        "                ,500:'D'\n",
        "                ,400:'CD'\n",
        "               ,100:'C'\n",
        "                ,90:'XC'\n",
        "               ,50:'L'\n",
        "                ,40:'XL'\n",
        "               ,10:'X'\n",
        "                ,9:'IX'\n",
        "               ,5:'V'\n",
        "                ,4:'IV'\n",
        "               ,1:'I'\n",
        "               }\n",
        "        list_ = [1000,900,500,400,100,90,50,40,10,9,5,4,1]\n",
        "        i = 0\n",
        "        res = \"\"\n",
        "        while i<len(list_):\n",
        "            if num >= list_[i]:\n",
        "                res += map_[list_[i]]\n",
        "                num-=list_[i]\n",
        "            else:\n",
        "                i += 1\n",
        "        return res\n",
        "        "
      ],
      "metadata": {
        "id": "ZeBfaOraKltI"
      },
      "execution_count": null,
      "outputs": []
    },
    {
      "cell_type": "code",
      "source": [
        "# YS\n",
        "class Solution:\n",
        "    def intToRoman(self, num: int) -> str:\n",
        "        ans = []\n",
        "        if num >= 1000:\n",
        "            n = num // 1000\n",
        "            for _ in range(n):\n",
        "                ans.append('M')\n",
        "            num = num % 1000\n",
        "        \n",
        "        if num >= 900:\n",
        "            ans.append('CM')\n",
        "            num -= 900\n",
        "        \n",
        "        if num >= 500:\n",
        "            ans.append('D')\n",
        "            num -= 500\n",
        "        \n",
        "        if num >= 400:\n",
        "            ans.append('CD')\n",
        "            num -= 400\n",
        "        \n",
        "        if num >= 100:\n",
        "            n = num // 100\n",
        "            for _ in range(n):\n",
        "                ans.append('C')\n",
        "            num = num % 100\n",
        "        \n",
        "        if num >= 90:\n",
        "            ans.append('XC')\n",
        "            num -= 90\n",
        "        \n",
        "        if num >= 50:\n",
        "            ans.append('L')\n",
        "            num -= 50\n",
        "        \n",
        "        if num >= 40:\n",
        "            ans.append('XL')\n",
        "            num -= 40\n",
        "        \n",
        "        if num >= 10:\n",
        "            n = num // 10\n",
        "            for _ in range(n):\n",
        "                ans.append('X')\n",
        "            num = num % 10\n",
        "            \n",
        "        if num >= 9:\n",
        "            ans.append('IX')\n",
        "            num -= 9\n",
        "        \n",
        "        if num >= 5:\n",
        "            ans.append('V')\n",
        "            num -= 5\n",
        "        \n",
        "        if num >= 4:\n",
        "            ans.append('IV')\n",
        "            num -= 4\n",
        "        \n",
        "        if num >= 1:\n",
        "            n = num\n",
        "            for _ in range(n):\n",
        "                ans.append('I')\n",
        "                \n",
        "        return ''.join(ans)"
      ],
      "metadata": {
        "id": "yVwtW84BLe0a"
      },
      "execution_count": null,
      "outputs": []
    },
    {
      "cell_type": "code",
      "source": [
        "# Iris \n",
        "\n",
        "class Solution:\n",
        "    def intToRoman(self, num: int) -> str:\n",
        "        list1 = [[\"I\", 1], [\"IV\", 4], [\"V\", 5], [\"IX\", 9], [\"X\", 10], [\"XL\", 40], [\"L\", 50], [\"XC\", 90], [\"C\", 100], [\"CD\", 400], [\"D\", 500], [\"CM\", 900], [\"M\", 1000]]\n",
        "        res = \"\"\n",
        "        \n",
        "        for itm, val in reversed(list1):\n",
        "            if num//val:\n",
        "                cnt = num // val\n",
        "                res += (itm * cnt)\n",
        "                num = num % val\n",
        "        return res"
      ],
      "metadata": {
        "id": "4H8a-_XVM2Ux"
      },
      "execution_count": null,
      "outputs": []
    },
    {
      "cell_type": "markdown",
      "source": [
        "# 06/29/2022\n",
        "696. Count Binary Substrings [Easy]\n"
      ],
      "metadata": {
        "id": "y5xmHLWorIl_"
      }
    },
    {
      "cell_type": "code",
      "source": [
        "#Minsu's code\n",
        "#TC : O(n)\n",
        "class Solution:\n",
        "    def countBinarySubstrings(self, s: str) -> int:\n",
        "        p, pLen, currLen = s[0], 0, 1\n",
        "        res = 0\n",
        "        for c in s[1:]:\n",
        "            if c == p:\n",
        "                currLen += 1\n",
        "            else:\n",
        "                res += min(pLen, currLen)\n",
        "                pLen = currLen\n",
        "                currLen = 1\n",
        "                p = c\n",
        "        res += min(pLen, currLen)\n",
        "        return res"
      ],
      "metadata": {
        "id": "OoLSoLAV2bfa"
      },
      "execution_count": null,
      "outputs": []
    },
    {
      "cell_type": "code",
      "source": [
        "#Iris\n",
        "\n",
        "class Solution:\n",
        "    def countBinarySubstrings(self, s: str) -> int:\n",
        "        lsts = [1]\n",
        "        res = 0\n",
        "\n",
        "        for i in range(1, len(s)):\n",
        "            if(s[i] != s[i-1]):\n",
        "                lst.append(1)\n",
        "            else:\n",
        "                lst[-1]=lst[-1]+1\n",
        "        \n",
        "        for x, y in zip(lst, lst[1:]):\n",
        "            res = res+min(x, y)\n",
        "        return(res)"
      ],
      "metadata": {
        "id": "gSb6fAewOdlW"
      },
      "execution_count": null,
      "outputs": []
    },
    {
      "cell_type": "code",
      "source": [
        "# Joe\n",
        "# TC: O(N)\n",
        "\n",
        "class Solution:\n",
        "    def countBinarySubstrings(self, s: str) -> int:\n",
        "        if len(s) < 2:\n",
        "            return 0\n",
        "        \n",
        "        def helper(l, r, ls, rs):\n",
        "            sub = 0\n",
        "            while l >= 0 and r < len(s) and s[l] == ls and s[r] == rs:\n",
        "                sub += 1\n",
        "                l -= 1\n",
        "                r += 1\n",
        "            return sub\n",
        "        \n",
        "        p = 0\n",
        "        res = 0\n",
        "        while p+1 < len(s):\n",
        "            if s[p] != s[p+1]:\n",
        "                res += helper(p, p+1, s[p], s[p+1])\n",
        "            p += 1\n",
        "        return res"
      ],
      "metadata": {
        "id": "4A8cO5-OVHHW"
      },
      "execution_count": null,
      "outputs": []
    },
    {
      "cell_type": "markdown",
      "source": [
        "# 06/30/2022\n",
        "735. Asteroid Collision [Medium]\n"
      ],
      "metadata": {
        "id": "K4p23hY8rJ8K"
      }
    },
    {
      "cell_type": "code",
      "source": [
        "#minsu's code\n",
        "#tc : O(n)\n",
        "class Solution:\n",
        "    def asteroidCollision(self, asteroids: List[int]) -> List[int]:\n",
        "        l, r = 0, 1\n",
        "        length = len(asteroids)\n",
        "        while r < length:\n",
        "            if l >= 0 and asteroids[l] > 0 and  asteroids[r] < 0:\n",
        "                if asteroids[l]==abs(asteroids[r]):\n",
        "                    l -= 1\n",
        "                    r += 1\n",
        "                elif asteroids[l] > abs(asteroids[r]):\n",
        "                    r += 1\n",
        "                else:\n",
        "                    l -= 1\n",
        "            else:\n",
        "                asteroids[l+1] = asteroids[r]\n",
        "                l += 1\n",
        "                r += 1\n",
        "        res = []\n",
        "        for i in range(l+1):\n",
        "            res.append(asteroids[i])\n",
        "        return res"
      ],
      "metadata": {
        "id": "dDoc_MKbgDZe"
      },
      "execution_count": null,
      "outputs": []
    },
    {
      "cell_type": "code",
      "source": [
        "# YS\n",
        "class Solution:\n",
        "    def asteroidCollision(self, asteroids: List[int]) -> List[int]:\n",
        "        stack = []\n",
        "        saved = [] # < 0\n",
        "        for n in asteroids:\n",
        "            if n < 0:\n",
        "                destroyed = False\n",
        "                while stack and stack[-1] <= -n:\n",
        "                    if stack.pop() == -n:\n",
        "                        destroyed = True\n",
        "                        break\n",
        "                if not stack and not destroyed:\n",
        "                    saved.append(n)\n",
        "            else:\n",
        "                stack.append(n)\n",
        "        \n",
        "        return saved + stack"
      ],
      "metadata": {
        "id": "PK67JwLyWKet"
      },
      "execution_count": null,
      "outputs": []
    },
    {
      "cell_type": "code",
      "source": [
        "# Joe\n",
        "\n",
        "class Solution:\n",
        "    def asteroidCollision(self, asteroids: List[int]) -> List[int]:\n",
        "        stack = []\n",
        "        for ast in asteroids:\n",
        "            while stack and ast < 0 < stack[-1]:\n",
        "                if abs(ast) == abs(stack[-1]):\n",
        "                    stack.pop()\n",
        "                elif abs(ast) > abs(stack[-1]):\n",
        "                    stack.pop()\n",
        "                    continue\n",
        "                break\n",
        "            else:\n",
        "                stack.append(ast)\n",
        "        return stack"
      ],
      "metadata": {
        "id": "Wsx31Ak7Z_Q5"
      },
      "execution_count": null,
      "outputs": []
    },
    {
      "cell_type": "code",
      "source": [
        "#JH\n",
        "class Solution:\n",
        "    def asteroidCollision(self, asteroids: List[int]) -> List[int]:     \n",
        "        stack = []\n",
        "        \n",
        "        for i in range(len(asteroids)):\n",
        "            curr = asteroids[i]\n",
        "            while stack and (stack[-1] > 0 and curr < 0):   \n",
        "                if abs(stack[-1]) == abs(curr):\n",
        "                    stack.pop()\n",
        "                elif abs(stack[-1]) < abs(curr):\n",
        "                    stack.pop()\n",
        "                    continue\n",
        "                break\n",
        "             \n",
        "            else:\n",
        "                stack.append(curr)\n",
        "            \n",
        "        return stack\n",
        "       "
      ],
      "metadata": {
        "id": "GTi0UILzeLAD"
      },
      "execution_count": null,
      "outputs": []
    },
    {
      "cell_type": "markdown",
      "source": [
        "# 07/01/2022\n",
        "139. Word Break [Medium]\n"
      ],
      "metadata": {
        "id": "rEHK-peBrLFB"
      }
    },
    {
      "cell_type": "code",
      "source": [
        "# Joe\n",
        "# TC: O(n^2)\n",
        "# SC: O(n)\n",
        "\n",
        "class Solution:\n",
        "    def wordBreak(self, s: str, wordDict: List[str]) -> bool:\n",
        "        words = set(wordDict)\n",
        "        dp = [False] * (len(s) + 1)\n",
        "        dp[0] = True\n",
        "        for i in range(1, len(s)+1):\n",
        "            for j in range(i):\n",
        "                if dp[j] and s[j:i] in words:\n",
        "                    dp[i] = True\n",
        "        return dp[len(s)]"
      ],
      "metadata": {
        "id": "kmMrKStc1cR_"
      },
      "execution_count": null,
      "outputs": []
    },
    {
      "cell_type": "code",
      "source": [
        "#Minsu's code\n",
        "#TC : O(n^2)\n",
        "\n",
        "class Solution:\n",
        "    def helper(self, s, wordDict, memo):\n",
        "        if len(s)==0:\n",
        "            return True\n",
        "        elif s in memo:\n",
        "            return memo[s]\n",
        "\n",
        "        for word in wordDict:\n",
        "            if s[0:len(word)]==word and self.helper(s[len(word):], wordDict, memo):\n",
        "                memo[s]=True\n",
        "                return True\n",
        "        memo[s]=False\n",
        "        return False\n",
        "\n",
        "    def wordBreak(self, s: str, wordDict: List[str]) -> bool:\n",
        "        memo = dict()\n",
        "        return self.helper(s, wordDict, memo)"
      ],
      "metadata": {
        "id": "I6VCc7l3Xb2u"
      },
      "execution_count": null,
      "outputs": []
    },
    {
      "cell_type": "code",
      "source": [
        "#JH \n",
        "class Solution:\n",
        "    def wordBreak(self, s: str, wordDict: List[str]) -> bool:\n",
        "        \n",
        "        wordDict = set(wordDict)        \n",
        "        visited = set()\n",
        "        lengths = [len(w) for \bw in wordDict]\n",
        "        \n",
        "        q = collections.deque()\n",
        "        q.append(0)\n",
        "        \n",
        "        while q:\n",
        "\n",
        "            l = q.popleft()\n",
        "\n",
        "            if l in visited:\n",
        "                continue\n",
        "\n",
        "            for r in lengths:\n",
        "                if s[l:l+r] in wordDict:\n",
        "                    q.append(l+r)\n",
        "                    if (l+r) == len(s):\n",
        "                        return True\n",
        "\n",
        "            visited.add(l)\n",
        "\n",
        "        return False\n",
        "            "
      ],
      "metadata": {
        "id": "olBzEQLed76m"
      },
      "execution_count": null,
      "outputs": []
    },
    {
      "cell_type": "code",
      "source": [
        "# YS\n",
        "class Solution:\n",
        "    def wordBreak(self, s: str, wordDict: List[str]) -> bool:\n",
        "        wordSet = set(wordDict)\n",
        "        \n",
        "        dp = [False] * (len(s)+1)\n",
        "        dp[0] = True\n",
        "        \n",
        "        for i in range(len(s)):\n",
        "            if dp[i]:\n",
        "                for j in range(i+1, len(s)+1):\n",
        "                    if s[i:j] in wordSet:\n",
        "                        dp[j] = True\n",
        "        return dp[-1]"
      ],
      "metadata": {
        "id": "kBMTWEd3mnuv"
      },
      "execution_count": null,
      "outputs": []
    },
    {
      "cell_type": "markdown",
      "source": [
        "# 07/05/2022\n",
        "863. All Nodes Distance K in Binary Tree [Medium]\n"
      ],
      "metadata": {
        "id": "k24R7ts6rMRx"
      }
    },
    {
      "cell_type": "code",
      "source": [
        "#Minsu's code\n",
        "#TC : O(N)\n",
        "#Idea : Graph, 해당 노드의 부모, 왼쪽자식노드, 오른쪽자식노드 대한 단방향 그래프를 만든 후, target을 시작점으로 bfs 탐색\n",
        "\n",
        "from collections import deque\n",
        "class Solution:\n",
        "    def distanceK(self, root: TreeNode, target: TreeNode, k: int) -> List[int]:\n",
        "        que = deque()\n",
        "        que.append((root, None))\n",
        "        graph = dict()\n",
        "        while que:\n",
        "            node, parent = que.popleft()\n",
        "            if node and (node not in graph):\n",
        "                graph[node] = (parent, node.left, node.right)\n",
        "                que.append((node.left, node))\n",
        "                que.append((node.right, node))\n",
        "        \n",
        "        visited = set()\n",
        "        visited.add(target.val)\n",
        "        queue = deque()\n",
        "        queue.append((target,k))\n",
        "        res = []\n",
        "        while queue:\n",
        "            node, dis = queue.popleft()\n",
        "            if dis == 0:\n",
        "                res.append(node.val)\n",
        "                continue\n",
        "            for n in graph[node]:\n",
        "                if n and (n.val not in visited):\n",
        "                    queue.append((n, dis-1))\n",
        "                    visited.add(n.val)\n",
        "        return res\n",
        "        "
      ],
      "metadata": {
        "id": "4R3XB75bzj8c"
      },
      "execution_count": null,
      "outputs": []
    },
    {
      "cell_type": "markdown",
      "source": [
        "# 07/06/2022\n",
        "772. Basic Calculator III [Hard]\n"
      ],
      "metadata": {
        "id": "uyyWugParN92"
      }
    },
    {
      "cell_type": "code",
      "source": [
        ""
      ],
      "metadata": {
        "id": "kxFqCw8mzjJc"
      },
      "execution_count": null,
      "outputs": []
    },
    {
      "cell_type": "markdown",
      "source": [
        "# 07/07/2022\n",
        "210. Course Schedule II [Medium]\n"
      ],
      "metadata": {
        "id": "W7UY6Gi3rPPu"
      }
    },
    {
      "cell_type": "markdown",
      "source": [
        "# 07/08/2022\n",
        "348. Design Tic-Tac-Toe [Medium]\n"
      ],
      "metadata": {
        "id": "brIJ7v81rQWQ"
      }
    },
    {
      "cell_type": "markdown",
      "source": [
        "# 07/11/2022\n",
        "926. Flip String to Monotone Increasing [Medium]\n"
      ],
      "metadata": {
        "id": "0NmBAhAJrRei"
      }
    },
    {
      "cell_type": "markdown",
      "source": [
        "# 07/12/2022\n",
        "295. Find Median from Data Stream [Hard]\n"
      ],
      "metadata": {
        "id": "3-NlKSABrSlu"
      }
    },
    {
      "cell_type": "markdown",
      "source": [
        "# 07/13/2022\n",
        "767. Reorganize String [Medium]\n"
      ],
      "metadata": {
        "id": "hzLZLzwYrTsG"
      }
    },
    {
      "cell_type": "markdown",
      "source": [
        "# 07/14/2022\n",
        "472. Concatenated Words [Hard]\n"
      ],
      "metadata": {
        "id": "7iGb6CDCrUqZ"
      }
    },
    {
      "cell_type": "markdown",
      "source": [
        "# 07/15/2022\n",
        "103. Binary Tree Zigzag Level Order Traversal [Medium]\n"
      ],
      "metadata": {
        "id": "eQupUVs1rVtW"
      }
    },
    {
      "cell_type": "markdown",
      "source": [
        "# 07/18/2022\n",
        "545. Boundary of Binary Tree [Medium]\n"
      ],
      "metadata": {
        "id": "8Ysph9JBrWvf"
      }
    },
    {
      "cell_type": "markdown",
      "source": [
        "# 07/19/2022\n",
        "994. Rotting Oranges [Medium]\n"
      ],
      "metadata": {
        "id": "J0ai_ZJXrX9I"
      }
    },
    {
      "cell_type": "markdown",
      "source": [
        "# 07/20/2022\n",
        "1710. Maximum Units on a Truck [Easy]\n"
      ],
      "metadata": {
        "id": "0Z1YDIfXrY9m"
      }
    },
    {
      "cell_type": "markdown",
      "source": [
        "# 07/21/2022\n",
        "909. Snakes and Ladders [Medium]\n"
      ],
      "metadata": {
        "id": "Ewnsudi1raHA"
      }
    },
    {
      "cell_type": "markdown",
      "source": [
        "# 07/22/2022\n",
        "370. Range Addition [Medium]\n"
      ],
      "metadata": {
        "id": "R6yeRqTDrbOK"
      }
    },
    {
      "cell_type": "markdown",
      "source": [
        "# 07/25/2022\n",
        "1567. Maximum Length of Subarray With Positive Product [Medium]\n"
      ],
      "metadata": {
        "id": "cOgmaMyLrcJa"
      }
    },
    {
      "cell_type": "markdown",
      "source": [
        "# 07/26/2022\n",
        "1044. Longest Duplicate Substring [Hard]\n"
      ],
      "metadata": {
        "id": "-u8tR7h2rdIc"
      }
    },
    {
      "cell_type": "markdown",
      "source": [
        "# 07/27/2022\n",
        "1438. Longest Continuous Subarray With Absolute Diff Less Than or Equal to Limit [Medium]\n"
      ],
      "metadata": {
        "id": "mU0xG4bdreGx"
      }
    },
    {
      "cell_type": "markdown",
      "source": [
        "# 07/28/2022\n",
        "907. Sum of Subarray Minimums [Medium]\n"
      ],
      "metadata": {
        "id": "9kXpg6FirfJe"
      }
    },
    {
      "cell_type": "markdown",
      "source": [
        "# 07/29/2022\n",
        "2130. Maximum Twin Sum of a Linked List [Medium]\n"
      ],
      "metadata": {
        "id": "rtg_12igrgI3"
      }
    },
    {
      "cell_type": "markdown",
      "source": [
        "# 1492. The kth Factor of n [Medium]\n"
      ],
      "metadata": {
        "id": "W-LoU-OprhBs"
      }
    },
    {
      "cell_type": "markdown",
      "source": [
        "# 1730. Shortest Path to Get Food [Medium]\n"
      ],
      "metadata": {
        "id": "iBthG8N2riDI"
      }
    },
    {
      "cell_type": "markdown",
      "source": [
        "# 1151. Minimum Swaps to Group All 1's Together [Medium]\n"
      ],
      "metadata": {
        "id": "iOG63AS4ri98"
      }
    },
    {
      "cell_type": "markdown",
      "source": [
        "# 1597. Build Binary Expression Tree From Infix Expression [Hard]\n"
      ],
      "metadata": {
        "id": "UwamtZxtrj2o"
      }
    },
    {
      "cell_type": "markdown",
      "source": [
        "# 1628. Design an Expression Tree With Evaluate Function [Medium]\n"
      ],
      "metadata": {
        "id": "6SvTLd8trkwa"
      }
    },
    {
      "cell_type": "markdown",
      "source": [
        "# 2102. Sequentially Ordinal Rank Tracker [Hard]\n"
      ],
      "metadata": {
        "id": "zV0n0suJrlj7"
      }
    },
    {
      "cell_type": "markdown",
      "source": [
        "# 582. Kill Process [Medium]\n"
      ],
      "metadata": {
        "id": "l22Wed-krmSm"
      }
    },
    {
      "cell_type": "markdown",
      "source": [
        "# 2214. Minimum Health to Beat Game [Medium]\n"
      ],
      "metadata": {
        "id": "_Sep4ypWrnVH"
      }
    }
  ]
}