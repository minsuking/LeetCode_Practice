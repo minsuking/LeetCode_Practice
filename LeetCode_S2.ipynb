{
  "nbformat": 4,
  "nbformat_minor": 0,
  "metadata": {
    "colab": {
      "name": "LeetCode_S2.ipynb",
      "provenance": [],
      "collapsed_sections": [],
      "toc_visible": true,
      "include_colab_link": true
    },
    "kernelspec": {
      "name": "python3",
      "display_name": "Python 3"
    },
    "language_info": {
      "name": "python"
    }
  },
  "cells": [
    {
      "cell_type": "markdown",
      "metadata": {
        "id": "view-in-github",
        "colab_type": "text"
      },
      "source": [
        "<a href=\"https://colab.research.google.com/github/minsuking/LeetCode_Practice/blob/master/LeetCode_S2.ipynb\" target=\"_parent\"><img src=\"https://colab.research.google.com/assets/colab-badge.svg\" alt=\"Open In Colab\"/></a>"
      ]
    },
    {
      "cell_type": "markdown",
      "metadata": {
        "id": "yET4Zhl9hNYA"
      },
      "source": [
        "\n",
        "Start: SEP. 29. 2021 \n",
        "\n",
        "\n",
        "*   Time : PDT 7:00 pm\n",
        "\n",
        "*   Zoom :  https://ucdavis.zoom.us/j/4611628062?pwd=cVIxRnp6Zkxhc1pEWEw3d3BaYXJOdz09\n",
        "\n",
        "*   Reference resources : \n",
        "\n",
        "https://www.1point3acres.com/bbs/forum.php?mod=guide&view=hot&mobile=2\n",
        "\n",
        "https://blog.csdn.net/fuxuemingzhu/article/details/82960833\n",
        "\n",
        "https://blog.csdn.net/fuxuemingzhu/article/details/80826333\n",
        "\n",
        "https://interviewing.io/recordings\n",
        "\n",
        "https://wiki.python.org/moin/TimeComplexity (Shared by Leo, TimeComplexity)\n",
        "\n",
        "\n",
        "*   문제출제 순서: 민수 -> 레오 ->조셉 -> 민스\n",
        "\n"
      ]
    },
    {
      "cell_type": "code",
      "metadata": {
        "id": "MHLTcBfQmyhJ"
      },
      "source": [
        ""
      ],
      "execution_count": null,
      "outputs": []
    },
    {
      "cell_type": "markdown",
      "metadata": {
        "id": "8XA0JQHFhF8n"
      },
      "source": [
        "##**OCT. 10. 2021**\n",
        "\n",
        "Max Consecutive Ones (LeetCode #485)\n",
        "\n",
        "https://leetcode.com/problems/max-consecutive-ones/"
      ]
    },
    {
      "cell_type": "code",
      "metadata": {
        "id": "gi6fou4ahH3B"
      },
      "source": [
        "# Mins' Code\n",
        "\n",
        "from typing import List \n",
        "\n",
        "class Solution:\n",
        "    def findMaxConsecutiveOnes(self, nums: List[int]) -> int:\n",
        "        str_nums = list(map(str, nums))\n",
        "        sum_str = ''.join(str_nums)\n",
        "        spl_zero = sum_str.split('0')\n",
        "        count_one = list(map(len, spl_zero))\n",
        "        return max(count_one)"
      ],
      "execution_count": null,
      "outputs": []
    },
    {
      "cell_type": "code",
      "metadata": {
        "id": "uQnrh544ZgSw"
      },
      "source": [
        "# Leo's Code \n",
        "class Solution:\n",
        "    def findMaxConsecutiveOnes(self, nums: List[int]) -> int:\n",
        "        ans = 0 \n",
        "        curr_max = 0 \n",
        "        for i in nums:\n",
        "            if i == 1:\n",
        "                curr_max += 1 \n",
        "                \n",
        "            #if i == 0     \n",
        "            else:\n",
        "                ans = max ( ans, curr_max )\n",
        "                curr_max = 0\n",
        "        ans = max(ans, curr_max)\n",
        "        return ans\n",
        "\n",
        "\n",
        "        [1,1,0,0,1,1,1,1,1,1]\n",
        "            \n"
      ],
      "execution_count": null,
      "outputs": []
    },
    {
      "cell_type": "code",
      "metadata": {
        "id": "URQ7cj8zMqCz"
      },
      "source": [
        "# Joe's Code\n",
        "class Solution:\n",
        "    def findMaxConsecutiveOnes(self, nums: List[int]) -> int:\n",
        "        res = 0\n",
        "        cnt = 0\n",
        "        for n in nums:\n",
        "            if n == 0:\n",
        "                cnt = 0\n",
        "                continue\n",
        "            cnt += 1\n",
        "            res = max(cnt, res)\n",
        "        return res\n",
        "        "
      ],
      "execution_count": null,
      "outputs": []
    },
    {
      "cell_type": "code",
      "metadata": {
        "id": "1yLQAbULUnqm"
      },
      "source": [
        ""
      ],
      "execution_count": null,
      "outputs": []
    },
    {
      "cell_type": "markdown",
      "metadata": {
        "id": "aqsV2fGmYtNG"
      },
      "source": [
        "##**OCT. 11. 2021**\n",
        "\n",
        "Amazon OA Q : Sum of Subarray Minimums \n",
        "\n",
        "https://leetcode.com/problems/sum-of-subarray-minimums/\n",
        "\n",
        "\n"
      ]
    },
    {
      "cell_type": "code",
      "metadata": {
        "id": "PWqfPSGzb8Mv"
      },
      "source": [
        ""
      ],
      "execution_count": null,
      "outputs": []
    },
    {
      "cell_type": "code",
      "metadata": {
        "id": "hST8lW48Dnms"
      },
      "source": [
        "# Leo's Code\n",
        "from typing import List \n",
        "class LeetCode907Solution:\n",
        "    def sumSubarrayMins(self, arr: List[int]) -> int:\n",
        "        mod = 10**9 + 7\n",
        "        stack = [-1] \n",
        "        arr.append(-1) \n",
        "        # or new_arr = arr.copy() then new_arr.append(-1)\n",
        "        ans = 0 \n",
        "        \n",
        "        for i in range(len(arr)):\n",
        "            while arr[i] < arr[stack[-1]]:\n",
        "                curr_idx = stack.pop()\n",
        "                ans += arr[curr_idx]*(i-curr_idx)*(curr_idx-stack[-1])\n",
        "            stack.append(i)\n",
        "            \n",
        "        return ans % mod"
      ],
      "execution_count": null,
      "outputs": []
    },
    {
      "cell_type": "code",
      "metadata": {
        "id": "7YgrmT0HRzyW"
      },
      "source": [
        "# Joe's code\n",
        "# Time out\n",
        "class Solution:\n",
        "    def sumSubarrayMins(self, arr: List[int]) -> int:\n",
        "        res = 0\n",
        "        for i in range(len(arr)):\n",
        "            cur = 0\n",
        "            while cur + i < len(arr):\n",
        "                res += min(arr[cur:cur+i+1])\n",
        "                cur += 1\n",
        "        return res"
      ],
      "execution_count": null,
      "outputs": []
    },
    {
      "cell_type": "code",
      "metadata": {
        "id": "hYNvQDuN4MNO"
      },
      "source": [
        "# Minsu's Code\n",
        "# Java\n",
        "import java.util.*;\n",
        "\n",
        "class Solution {\n",
        "    static int MOD = 1000000007;\n",
        "    public int sumSubarrayMins(int[] arr) {\n",
        "        List<Long> res = new ArrayList<>();\n",
        "        List<Integer> pos = new ArrayList<>();\n",
        "        \n",
        "        for(int i=0;i<arr.length;i++){\n",
        "            long var = arr[i];\n",
        "            while(!pos.isEmpty() && arr[pos.get(pos.size()-1)] >= var){\n",
        "                pos.remove(pos.size()-1);\n",
        "            }\n",
        "            if(!pos.isEmpty()){\n",
        "                int minPos = pos.get(pos.size()-1);\n",
        "                res.add(res.get(minPos) + var * (i - minPos));\n",
        "            }else{\n",
        "                res.add(var * (i+1));\n",
        "            }\n",
        "            pos.add(i);\n",
        "        }\n",
        "        return (int)(res.stream().mapToLong(i -> i).sum() % MOD);\n",
        "\n",
        "    }\n",
        "}\n",
        "# Python\n",
        "class Solution:\n",
        "     def sumSubarrayMins(self, arr: List[int]) -> int:\n",
        "        mod = 1000000007\n",
        "        res, pos = [], []\n",
        "        for i, var in enumerate(arr): \n",
        "            while pos and arr[pos[-1]] >= var:\n",
        "                    del pos[-1]\n",
        "            if pos:\n",
        "                minPos = pos[-1]\n",
        "                res.append(res[minPos] + var * (i-minPos))\n",
        "            else: \n",
        "              res.append(var * (i+1))\n",
        "            pos.append(i)\n",
        "        return sum(res) % mod "
      ],
      "execution_count": null,
      "outputs": []
    },
    {
      "cell_type": "code",
      "metadata": {
        "id": "cxWCosTg4PGf"
      },
      "source": [
        ""
      ],
      "execution_count": null,
      "outputs": []
    },
    {
      "cell_type": "markdown",
      "metadata": {
        "id": "viMQYKjwAO2F"
      },
      "source": [
        "# OCT. 12. 2021\n",
        "Group Anagrams (LC #49)\n",
        "https://leetcode.com/problems/group-anagrams/\n"
      ]
    },
    {
      "cell_type": "code",
      "metadata": {
        "id": "ncosS3iaDSGw",
        "colab": {
          "base_uri": "https://localhost:8080/",
          "height": 130
        },
        "outputId": "54cfd775-f5f7-4a99-9921-eb3baf7b061e"
      },
      "source": [
        "#Leo's Code \n",
        "from collections import defaultdict\n",
        "\n",
        "class Solution:\n",
        "    def groupAnagrams(self, strs: List[str]) -> List[List[str]]:\n",
        "        \n",
        "                  #a b c d e f ... z \n",
        "        groups = [ 1 0 2 0 0 0 0 0 ]. \n",
        "\n",
        "        \n",
        "\n",
        "        groups = defaultdict(list)\n",
        "        \n",
        "        for s in strs: \n",
        "            counter = [0]*26  # lower case chars \n",
        "            \n",
        "            #counting up \n",
        "            for c in s:\n",
        "                counter[ord(c) - ord(\"a\")] += 1 \n",
        "            \n",
        "            #put it do the groupList \n",
        "            groups[tuple(counter)].append(s) \n",
        "            \n",
        "        \n",
        "        return list(groups.values())"
      ],
      "execution_count": null,
      "outputs": [
        {
          "output_type": "error",
          "ename": "SyntaxError",
          "evalue": "ignored",
          "traceback": [
            "\u001b[0;36m  File \u001b[0;32m\"<ipython-input-1-a0654d1e1550>\"\u001b[0;36m, line \u001b[0;32m6\u001b[0m\n\u001b[0;31m    a b c d e f ... z\u001b[0m\n\u001b[0m      ^\u001b[0m\n\u001b[0;31mSyntaxError\u001b[0m\u001b[0;31m:\u001b[0m invalid syntax\n"
          ]
        }
      ]
    },
    {
      "cell_type": "code",
      "metadata": {
        "id": "9XEqyAuyE5Ht"
      },
      "source": [
        "# Joe's Code\n",
        "# time O(N*M) N=len(strs), M=max_length(input), space O(N)\n",
        "from collections import defaultdict\n",
        "\n",
        "class Solution:\n",
        "    def groupAnagrams(self, strs: List[str]) -> List[List[str]]:\n",
        "        ga = defaultdict(list)\n",
        "        \n",
        "        for s in strs:\n",
        "            arr = [0] * 26\n",
        "            for o in s:\n",
        "                arr[ord(o)-ord('a')] += 1\n",
        "            ga[tuple(arr)].append(s)\n",
        "        return ga.values()"
      ],
      "execution_count": null,
      "outputs": []
    },
    {
      "cell_type": "code",
      "metadata": {
        "colab": {
          "base_uri": "https://localhost:8080/"
        },
        "id": "_mw-u0tuUj1b",
        "outputId": "3f5cfb51-5850-4e83-f51f-b72d5f1c6481"
      },
      "source": [
        "# Mins' code\n",
        "# Leet code solution\n",
        "\n",
        "'''\n",
        "In Dictionary, the key must be unique and immutable. This means that a Python Tuple can be a key.\n",
        "\n",
        "Defaultdict is a container like dictionaries present in the module collections. \n",
        "Defaultdict is a sub-class of the dictionary class that returns a dictionary-like object. \n",
        "The functionality of both dictionaries and defualtdict are almost same except for the fact that defualtdict never raises a KeyError. \n",
        "It provides a default value for the key that does not exists.\n",
        "''' \n",
        "\n",
        "import collections\n",
        "\n",
        "class Solution:    \n",
        "    def groupAnagrams(self, strs):\n",
        "        ans = collections.defaultdict(list)\n",
        "        for s in strs:\n",
        "            ans[tuple(sorted(s))].append(s)\n",
        "        return ans.values()\n",
        "\n",
        "strs = [\"eat\",\"tea\",\"tan\",\"ate\",\"nat\",\"bat\"]\n",
        "\n",
        "slu= Solution()\n",
        "slu.groupAnagrams(strs)\n",
        "\n",
        "# dict_values([['eat', 'tea', 'ate'], ['tan', 'nat'], ['bat']])\n",
        "# dict_keys([('a', 'e', 't'), ('a', 'n', 't'), ('a', 'b', 't')])"
      ],
      "execution_count": null,
      "outputs": [
        {
          "output_type": "execute_result",
          "data": {
            "text/plain": [
              "dict_values([['eat', 'tea', 'ate'], ['tan', 'nat'], ['bat']])"
            ]
          },
          "metadata": {},
          "execution_count": 7
        }
      ]
    },
    {
      "cell_type": "code",
      "metadata": {
        "id": "cGlT3o6mU1E8"
      },
      "source": [
        ""
      ],
      "execution_count": null,
      "outputs": []
    },
    {
      "cell_type": "markdown",
      "metadata": {
        "id": "5Dqb4D3QeVEE"
      },
      "source": [
        "# OCT. 13. 2021\n",
        "Flipping Image\n",
        "https://leetcode.com/problems/flipping-an-image/"
      ]
    },
    {
      "cell_type": "code",
      "metadata": {
        "id": "sci5WwVBeeEK"
      },
      "source": [
        "# Minsu's Code\n",
        "# Java\n",
        "# If I use reverse function and then XOR, I have to search for all the col's length, but with temp variables, I only have to search up to half the col's length.\n",
        "class Solution {\n",
        "    public int[][] flipAndInvertImage(int[][] image) {\n",
        "        int pos = image[0].length-1;\n",
        "        for(int i=0;i<image.length;i++){\n",
        "            for(int j=0;j<(image[0].length+1)/2;j++){\n",
        "                int temp = image[i][j]^1;\n",
        "                image[i][j] = image[i][pos-j]^1;\n",
        "                image[i][pos-j] = temp;\n",
        "            }\n",
        "        }\n",
        "        return image;\n",
        "    }\n",
        "}\n",
        "\n",
        "#Python\n",
        "class Solution:\n",
        "    def flipAndInvertImage(self, image: List[List[int]]) -> List[List[int]]:\n",
        "        pos = len(image[0])-1\n",
        "        for i in range(len(image)):\n",
        "            for j in range(int((image[0]+1) /2)):\n",
        "                image[i][j], image[i][pos-1-j] = image[i][pos-1-j]^1, image[i][j]^1\n",
        "        return image"
      ],
      "execution_count": null,
      "outputs": []
    },
    {
      "cell_type": "code",
      "metadata": {
        "id": "hBAuOEWx_iYN"
      },
      "source": [
        "# Joe's Code\n",
        "# Time O(M*N), Space(1)\n",
        "class Solution:\n",
        "    def flipAndInvertImage(self, image: List[List[int]]) -> List[List[int]]:\n",
        "        row = len(image)\n",
        "        col = len(image[0])\n",
        "        for r in range(row):\n",
        "            for c in range(int(ceil(col/2))):\n",
        "                image[r][c], image[r][col-c-1] = image[r][col-c-1]^1, image[r][c]^1\n",
        "        return image\n",
        "\n",
        "\n",
        "\n",
        "        # 질문         for r in row:"
      ],
      "execution_count": null,
      "outputs": []
    },
    {
      "cell_type": "code",
      "metadata": {
        "id": "GoTYj3N9KKVY"
      },
      "source": [
        "# Leo's Code \n",
        "\n",
        "class Solution:\n",
        "    def flipAndInvertImage(self, image: List[List[int]]) -> List[List[int]]:\n",
        "        for i in range (len(image)):\n",
        "            for j in range( len(image[0]) // 2 ):\n",
        "                image[i][j], image[i][len(image)-j-1] = image[i][len(image)-j-1],image[i][j]\n",
        "                \n",
        "                if image[i][j] == 1:\n",
        "                    image[i][j] =0 \n",
        "                else:\n",
        "                    image[i][j] = 1 \n",
        "                    \n",
        "                if image[i][len(image)-j-1] == 1:\n",
        "                    image[i][len(image)-j-1] = 0 \n",
        "                else:\n",
        "                    image[i][len(image)-j-1] = 1\n",
        "                    \n",
        "            \n",
        "            if len(image) %2 == 1:\n",
        "                if image[i][len(image) //2 ] ==1:\n",
        "                    image[i][len(image) //2 ] = 0 \n",
        "                else :\n",
        "                    image[i][len(image) //2 ] = 1\n",
        "                    \n",
        "        return image"
      ],
      "execution_count": null,
      "outputs": []
    },
    {
      "cell_type": "code",
      "metadata": {
        "colab": {
          "base_uri": "https://localhost:8080/"
        },
        "id": "vgkjEFoAm0Xq",
        "outputId": "01fcd434-9076-4936-8310-660b07e7114d"
      },
      "source": [
        "# Mins' code\n",
        "\n",
        "class Solution(object):\n",
        "    def flipAndInvertImage(self, A):\n",
        "        for row in A:\n",
        "            for i in range((len(row) + 1) // 2):\n",
        "               # 비트 뒤집고, 1로 XOR 연산\n",
        "                \"\"\"\n",
        "                In Python, the shortcut row[~i] = row[-i-1] = row[len(row) - 1 - i]\n",
        "                helps us find the i-th value of the row, counting from the right.\n",
        "                \"\"\"\n",
        "                row[i], row[~i] = row[~i] ^ 1, row[i] ^ 1\n",
        "        return A\n",
        "\n",
        "\n",
        "\n",
        "A = [[1,1,0],[1,0,1],[0,0,0]]\n",
        "slu = Solution()\n",
        "slu.flipAndInvertImage(A)"
      ],
      "execution_count": null,
      "outputs": [
        {
          "output_type": "execute_result",
          "data": {
            "text/plain": [
              "[[1, 0, 0], [0, 1, 0], [1, 1, 1]]"
            ]
          },
          "metadata": {},
          "execution_count": 2
        }
      ]
    },
    {
      "cell_type": "markdown",
      "metadata": {
        "id": "zmWJdytkKKLH"
      },
      "source": [
        "![xor 연산 - Google Search 2021-10-13 19-40-09.png](data:image/png;base64,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)"
      ]
    },
    {
      "cell_type": "markdown",
      "metadata": {
        "id": "JCNd2mBNGpaM"
      },
      "source": [
        "# OCT. 14. 2021\n",
        "All nodes Distance K in Binary Tree \n",
        "\n",
        "https://leetcode.com/problems/all-nodes-distance-k-in-binary-tree/\n"
      ]
    },
    {
      "cell_type": "code",
      "metadata": {
        "id": "b7fqhopmpwWS"
      },
      "source": [
        ""
      ],
      "execution_count": null,
      "outputs": []
    },
    {
      "cell_type": "code",
      "metadata": {
        "id": "muXwhSPxT_19"
      },
      "source": [
        "# Joe's Code\n",
        "# Time O(N), Space O(N)\n",
        "\n",
        "from collections import deque\n",
        "\n",
        "class Solution:\n",
        "    def distanceK(self, root: TreeNode, target: TreeNode, k: int) -> List[int]:\n",
        "        def parents(node, pa):\n",
        "            if not node:\n",
        "                return\n",
        "            \n",
        "            node.parent = pa\n",
        "            \n",
        "            parents(node.left, node)\n",
        "            parents(node.right, node)\n",
        "        \n",
        "        \n",
        "        parents(root, None)\n",
        "        \n",
        "        q = deque()\n",
        "        q.append((target, 0))\n",
        "        visited = set()\n",
        "        res = []\n",
        "        \n",
        "        while q:\n",
        "            node, dis = q.popleft()\n",
        "            if not node:\n",
        "                continue\n",
        "            visited.add(node)\n",
        "            if dis == k:\n",
        "                res.append(node.val)\n",
        "                continue\n",
        "            for n in (node.left, node.right, node.parent):\n",
        "                if n not in visited:\n",
        "                    q.append((n, dis+1))\n",
        "        return res"
      ],
      "execution_count": null,
      "outputs": []
    },
    {
      "cell_type": "code",
      "metadata": {
        "id": "OuhS0sCuaQzd"
      },
      "source": [
        "#Minsu;s Code\n",
        "\n",
        "from queue import Queue\n",
        "    \n",
        "class Solution:\n",
        "    def distanceK(self, root: TreeNode, target: TreeNode, k: int) -> List[int]:\n",
        "        res = list()\n",
        "        parents = dict()\n",
        "        checked = set()\n",
        "        def setParents(root: TreeNode, parent: TreeNode): # Put root's parent node in the map to connect the child node and the parent node\n",
        "            if root :\n",
        "                parents[root]= parent \n",
        "                setParents(root.left, root)\n",
        "                setParents(root.right, root)\n",
        "        \n",
        "        setParents(root,None)\n",
        "        \n",
        "        queue = Queue();\n",
        "        queue.put(root)\n",
        "        while queue:\n",
        "            got = queue.get();\n",
        "            if got == target: # Find target node to count distance\n",
        "                break\n",
        "            if got.left : \n",
        "                queue.put(got.left)\n",
        "            if got.right : \n",
        "                queue.put(got.right)\n",
        "        \n",
        "        def dfs(root: TreeNode, target: TreeNode, dis: int, k: int): #Find left, right and parent node and the distance is k, add the val in List\n",
        "            if root == None or dis > k or (root.val in checked):\n",
        "                return None\n",
        "            if k == dis:\n",
        "                res.append(root.val)\n",
        "                return None\n",
        "            \n",
        "            checked.add(root.val)\n",
        "            dfs(root.left, target, dis+1, k)\n",
        "            dfs(root.right, target, dis+1, k)\n",
        "            dfs(parents.get(root), target, dis+1, k)\n",
        "        \n",
        "        dfs(got, target, 0, k)\n",
        "        return res"
      ],
      "execution_count": null,
      "outputs": []
    },
    {
      "cell_type": "code",
      "metadata": {
        "id": "XDv_l27ocsw3"
      },
      "source": [
        "# Leo's Code \n",
        "# Definition for a binary tree node.\n",
        "# class TreeNode:\n",
        "#     def __init__(self, x):\n",
        "#         self.val = x\n",
        "#         self.left = None\n",
        "#         self.right = None\n",
        "\n",
        "from collections import defaultdict,deque\n",
        "\n",
        "class Solution:\n",
        "    def distanceK(self, root: TreeNode, target: TreeNode, k: int) -> List[int]:\n",
        "        #degree_dict = defaultdict(list)\n",
        "        graph_table = defaultdict(list)\n",
        "        \n",
        "        def traverse_tree(node, parent):\n",
        "            if not node:\n",
        "                return \n",
        "            \n",
        "            if parent:\n",
        "                graph_table[node.val].append(parent.val)\n",
        "                \n",
        "            if node.left:\n",
        "                graph_table[node.val].append(node.left.val)\n",
        "                traverse_tree(node.left, node)\n",
        "                \n",
        "            if node.right:\n",
        "                graph_table[node.val].append(node.right.val)\n",
        "                traverse_tree(node.right, node)\n",
        "                \n",
        "        \n",
        "        visited = set() \n",
        "        q = deque()\n",
        "        result = [] \n",
        "        \n",
        "        traverse_tree(root, None)\n",
        "        \n",
        "        #BFS\n",
        "        q.append((target.val, 0))\n",
        "        while q:\n",
        "            curr_node, dist = q.popleft()\n",
        "            if curr_node in visited:\n",
        "                continue\n",
        "                \n",
        "            visited.add(curr_node)\n",
        "            \n",
        "            if k == dist:\n",
        "                result.append(curr_node)\n",
        "            \n",
        "            elif dist < k:\n",
        "                for next_node in graph_table[curr_node]:\n",
        "                    q.append((next_node, dist + 1))\n",
        "                    \n",
        "        #print(graph_table)                    \n",
        "        return result\n"
      ],
      "execution_count": null,
      "outputs": []
    },
    {
      "cell_type": "code",
      "metadata": {
        "id": "7hfbRir4pxae"
      },
      "source": [
        "# Mins' code : Leet code solution, but can't get it now. \n",
        "\n",
        "# Definition for a binary tree node.\n",
        "# class TreeNode:\n",
        "#     def __init__(self, x):\n",
        "#         self.val = x\n",
        "#         self.left = None\n",
        "#         self.right = None\n",
        "\n",
        "class Solution:\n",
        "    #def distanceK(self, root: TreeNode, target: TreeNode, k: int) -> List[int]:\n",
        "    def distanceK(self, root, target, K):\n",
        "        def dfs(node, par = None):\n",
        "            if node:\n",
        "                node.par = par\n",
        "                dfs(node.left, node)\n",
        "                dfs(node.right, node)\n",
        "\n",
        "        dfs(root)\n",
        "\n",
        "        queue = collections.deque([(target, 0)])\n",
        "        seen = {target}\n",
        "        while queue:\n",
        "            if queue[0][1] == K:\n",
        "                return [node.val for node, d in queue]\n",
        "            node, d = queue.popleft()\n",
        "            for nei in (node.left, node.right, node.par):\n",
        "                if nei and nei not in seen:\n",
        "                    seen.add(nei)\n",
        "                    queue.append((nei, d+1))\n",
        "\n",
        "        return []"
      ],
      "execution_count": null,
      "outputs": []
    },
    {
      "cell_type": "markdown",
      "metadata": {
        "id": "5Zk_aga_4DQE"
      },
      "source": [
        "# OCT. 15. 2021\n",
        "https://leetcode.com/problems/course-schedule-ii/\n",
        "210. Course Schedule II\n",
        "\n"
      ]
    },
    {
      "cell_type": "code",
      "metadata": {
        "id": "QuOe_OV54uF0"
      },
      "source": [
        "# Joe's Code\n",
        "\n",
        "from collections import defaultdict, deque\n",
        "\n",
        "class Course:\n",
        "    def __init__(self, val):\n",
        "        self.val = val\n",
        "        self._in = 0\n",
        "        self.out = []\n",
        "\n",
        "\n",
        "class Solution:\n",
        "    def findOrder(self, numCourses: int, prerequisites: List[List[int]]) -> List[int]:\n",
        "        graph = defaultdict(Course)\n",
        "        \n",
        "        for i in range(numCourses):\n",
        "            graph[i] = Course(i)\n",
        "        \n",
        "        for pre, course in prerequisites:\n",
        "            graph[course].out.append(pre)\n",
        "            graph[pre]._in += 1\n",
        "\n",
        "        zero_in = deque()\n",
        "        \n",
        "        for key, obj in graph.items():\n",
        "            if obj._in == 0:\n",
        "                zero_in.append(obj)\n",
        "        \n",
        "        res = []\n",
        "\n",
        "        while zero_in:\n",
        "            course = zero_in.popleft()\n",
        "            res.append(course.val)\n",
        "\n",
        "            for c in course.out:\n",
        "                next_course = graph[c]\n",
        "                next_course._in -= 1\n",
        "                if next_course._in == 0:\n",
        "                    zero_in.append(next_course)\n",
        "        \n",
        "        return res if len(res) == numCourses else []"
      ],
      "execution_count": null,
      "outputs": []
    },
    {
      "cell_type": "code",
      "metadata": {
        "colab": {
          "base_uri": "https://localhost:8080/"
        },
        "id": "iwkI4ZohrhNx",
        "outputId": "98f17069-018e-4cc0-d900-3be03322bdb1"
      },
      "source": [
        "# Mins' code\n",
        "## 아주 중요한 문제!! \n",
        "\n",
        "from typing import List\n",
        "\n",
        "class Solution:\n",
        "    def findOrder(self, numCourses, prerequisites): \n",
        "\n",
        "        # building adjacency list of prereqs \n",
        "        # mapping crd and prerequistes\n",
        "        prereq = {c:[] for c in range(numCourses)}\n",
        "        for crs, pre in prerequisites:\n",
        "            prereq[crs].append(pre)\n",
        "        \n",
        "        # 3 states of a course: visited (no-outgoing edges: add to output) / visiting (not added to cycle) / unvisited (not added to output or cycle)\n",
        "        output = []\n",
        "        visit, cycle = set(), set()\n",
        "        def dfs(crs):\n",
        "          if crs in cycle:\n",
        "            return False\n",
        "          if crs in visit:\n",
        "            return True\n",
        "\n",
        "          cycle.add(crs)\n",
        "          for pre in prereq[crs]:\n",
        "            if dfs(pre) == False:\n",
        "              return False\n",
        "          cycle.remove(crs)\n",
        "          visit.add(crs)\n",
        "          output.append(crs)\n",
        "          return True\n",
        "\n",
        "        for c in range(numCourses):\n",
        "          if dfs(c) == False:\n",
        "            return []\n",
        "        return output\n",
        "\n",
        "# 예제 검증\n",
        "numCourses = 4\n",
        "prerequisites = [[1,0],[2,0],[3,1],[3,2]]\n",
        "slu = Solution()\n",
        "slu.findOrder(numCourses, prerequisites)\n",
        "\n",
        "# Input: numCourses = 4, prerequisites = [[1,0],[2,0],[3,1],[3,2]]"
      ],
      "execution_count": null,
      "outputs": [
        {
          "output_type": "execute_result",
          "data": {
            "text/plain": [
              "[0, 1, 2, 3]"
            ]
          },
          "metadata": {},
          "execution_count": 10
        }
      ]
    },
    {
      "cell_type": "code",
      "metadata": {
        "id": "xA-55vRetlgu"
      },
      "source": [
        ""
      ],
      "execution_count": null,
      "outputs": []
    },
    {
      "cell_type": "markdown",
      "metadata": {
        "id": "xw_YFAczcM7x"
      },
      "source": [
        "# OCT. 18. 2021\n",
        "https://leetcode.com/problems/top-k-frequent-elements/\n",
        "347. Top K Frequent Elements\n"
      ]
    },
    {
      "cell_type": "code",
      "metadata": {
        "id": "Xfh9TVLxcW1p"
      },
      "source": [
        "# Joe's Code\n",
        "# Time O(NlongN), Space: O(N)\n",
        "from collections import defaultdict\n",
        "\n",
        "class Solution:\n",
        "    def topKFrequent(self, nums: List[int], k: int) -> List[int]:\n",
        "        d = defaultdict(int)\n",
        "        \n",
        "        for n in nums:\n",
        "            d[n] += 1\n",
        "        \n",
        "        array = [(k, v) for k, v in d.items()]\n",
        "        array.sort(key=lambda x: x[1], reverse=True)\n",
        "        return [array[i][0] for i in range(k)]"
      ],
      "execution_count": null,
      "outputs": []
    },
    {
      "cell_type": "code",
      "metadata": {
        "id": "7D4Bca5f4Tvk"
      },
      "source": [
        "# Minsu's Code\n",
        "from queue import PriorityQueue\n",
        "from collections import defaultdict\n",
        "\n",
        "class Solution:\n",
        "    def topKFrequent(self, nums: List[int], k: int) -> List[int]:\n",
        "        res = list()\n",
        "        numCount = defaultdict(int)\n",
        "        pq = PriorityQueue()\n",
        "        \n",
        "        for num in nums:\n",
        "            numCount[num] += 1\n",
        "            \n",
        "        for num, count in numCount.items():\n",
        "            pq.put((-count, num))\n",
        "        \n",
        "        i=0\n",
        "        while i<k:\n",
        "            res.append(pq.get()[1])\n",
        "            i += 1\n",
        "        \n",
        "        return res"
      ],
      "execution_count": null,
      "outputs": []
    },
    {
      "cell_type": "code",
      "metadata": {
        "id": "dGT_ZWLFI6aE"
      },
      "source": [
        "# Leo's code \n",
        "# Time O (N log N ), space : N \n",
        "\n",
        "import heapq \n",
        "from collections import defaultdict\n",
        "\n",
        "class Solution:\n",
        "    def topKFrequent(self, nums: List[int], k: int) -> List[int]:\n",
        "        ans = []\n",
        "        temp = [] \n",
        "        \n",
        "        freq = defaultdict(int)\n",
        "        for n in nums:\n",
        "            freq[n] += 1\n",
        "        \n",
        "        \n",
        "        for key,val in freq.items():\n",
        "            heapq.heappush( temp,  (-val, key ) )\n",
        "        \n",
        "        # log N heapq is binary heap with logn push and log n pop \n",
        "        #heapq.heapify(nums)\n",
        "        \n",
        "        for i in range(k):\n",
        "            ans.append(heapq.heappop(temp)[1])\n",
        "            \n",
        "        return ans\n",
        "        "
      ],
      "execution_count": null,
      "outputs": []
    },
    {
      "cell_type": "code",
      "metadata": {
        "colab": {
          "base_uri": "https://localhost:8080/"
        },
        "id": "TAbDsqBPczPE",
        "outputId": "cf0ee2f0-48e3-48f0-ec47-fe2f940ac919"
      },
      "source": [
        "# Mins' code\n",
        "\n",
        "from typing import List\n",
        "\n",
        "class Solution:\n",
        "  def topFrequent(self, num: List[int], k: int) -> List[int]:\n",
        "    count = {}\n",
        "    freq = [[] for i in range(len(num) + 1)]\n",
        "\n",
        "    for n in nums:\n",
        "      count[n] = 1 + count.get(n, 0)\n",
        "    for n, c in count.items():\n",
        "      freq[c].append(n)\n",
        "\n",
        "    res = []\n",
        "    # print(freq)\n",
        "    for i in range(len(freq) -1, 0, -1):\n",
        "      for n in freq[i]:\n",
        "        res.append(n)\n",
        "        if len(res) == k:\n",
        "          return res\n",
        "\n",
        "nums = [1,1,1,2,2,2]\n",
        "k = 2\n",
        "slu = Solution()\n",
        "slu.topFrequent(nums,k)"
      ],
      "execution_count": null,
      "outputs": [
        {
          "output_type": "stream",
          "name": "stdout",
          "text": [
            "[[], [], [], [1, 2], [], [], []]\n"
          ]
        },
        {
          "output_type": "execute_result",
          "data": {
            "text/plain": [
              "[1, 2]"
            ]
          },
          "metadata": {},
          "execution_count": 5
        }
      ]
    },
    {
      "cell_type": "markdown",
      "metadata": {
        "id": "82cf5qig5s01"
      },
      "source": [
        "#OCT. 19. 2021\n",
        "\n",
        "https://leetcode.com/problems/the-maze/\n",
        "\n",
        "###490. The Maze\n",
        "###### Medium\n",
        "\n",
        "There is a ball in a maze with empty spaces (represented as 0) and walls (represented as 1). The ball can go through the empty spaces by rolling up, down, left or right, but it won't stop rolling until hitting a wall. When the ball stops, it could choose the next direction.\n",
        "\n",
        "Given the m x n maze, the ball's start position and the destination, where start = [startrow, startcol] and destination = [destinationrow, destinationcol], return true if the ball can stop at the destination, otherwise return false.\n",
        "\n",
        "You may assume that the borders of the maze are all walls (see examples).\n",
        "\n",
        " \n",
        "\n",
        "**Example 1:**\n",
        ">![이미지](https://assets.leetcode.com/uploads/2021/03/31/maze1-1-grid.jpg)\n",
        ">**Input:** maze = [[0,0,1,0,0],[0,0,0,0,0],[0,0,0,1,0],[1,1,0,1,1],[0,0,0,0,0]], start = [0,4], destination = [4,4]\n",
        ">\n",
        ">**Output:** true\n",
        ">\n",
        ">**Explanation:** One possible way is : left -> down -> left -> down -> right -> down -> right.\n",
        "\n",
        "**Example 2:**\n",
        ">![이미지](https://assets.leetcode.com/uploads/2021/03/31/maze1-2-grid.jpg)\n",
        ">\n",
        ">**Input:** maze = [[0,0,1,0,0],[0,0,0,0,0],[0,0,0,1,0],[1,1,0,1,1],[0,0,0,0,0]], start = [0,4], destination = [3,2]\n",
        ">\n",
        ">**Output:** false\n",
        ">\n",
        ">**Explanation:** There is no way for the ball to stop at the destination. Notice that you can pass through the destination but you cannot stop there.\n",
        "\n",
        "**Example 3:**\n",
        "\n",
        ">**Input:** maze = [[0,0,0,0,0],[1,1,0,0,1],[0,0,0,0,0],[0,1,0,0,1],[0,1,0,0,0]], start = [4,3], destination = [0,1]\n",
        ">\n",
        ">**Output:** false\n",
        ">\n",
        "\n",
        "**Constraints:**\n",
        ">* m == maze.length\n",
        ">* n == maze[i].length\n",
        ">* 1 <= m, n <= 100\n",
        ">* maze[i][j] is 0 or 1.\n",
        ">* start.length == 2\n",
        ">* destination.length == 2\n",
        ">* 0 <= startrow, destinationrow <= m\n",
        ">* 0 <= startcol, destinationcol <= n\n",
        ">* Both the ball and the destination exist in an empty space, and they will not be in the same position initially.\n",
        "The maze contains at least 2 empty spaces.\n"
      ]
    },
    {
      "cell_type": "code",
      "metadata": {
        "id": "W8bLg6iS5yql"
      },
      "source": [
        "#Minsu's code\n",
        "\n",
        "class Solution:\n",
        "    def hasPath(self, maze: List[List[int]], start: List[int], destination: List[int]) -> bool:\n",
        "        rows = len(maze)\n",
        "        cols = len(maze[0])\n",
        "        visited = {}\n",
        "        directions = ((0,1),(0,-1),(1,0),(-1,0))\n",
        "        \n",
        "        def dfs(start, visited):\n",
        "            if visited.get((start[0],start[1])):\n",
        "                return False\n",
        "            if start == destination:\n",
        "                return True\n",
        "            \n",
        "            visited[(start[0],start[1])] = True\n",
        "            for direction in directions:\n",
        "                dx = start[0]\n",
        "                dy = start[1]\n",
        "                while dx + direction[0] >= 0 and dx + direction[0] < rows and dy + direction[1] >= 0 and dy + direction[1] < cols and maze[dx+direction[0]][dy+direction[1]] !=1:\n",
        "                        dx, dy = dx + direction[0], dy + direction[1]\n",
        "                if dfs([dx, dy], visited):\n",
        "                    return True\n",
        "            return False\n",
        "        \n",
        "        return dfs(start, visited)"
      ],
      "execution_count": null,
      "outputs": []
    },
    {
      "cell_type": "code",
      "metadata": {
        "colab": {
          "base_uri": "https://localhost:8080/"
        },
        "id": "QJVJ0-RUXKpQ",
        "outputId": "2a6db053-e4e0-4ef7-8c93-4b3b6cc6c750"
      },
      "source": [
        "from collections import deque\n",
        "\n",
        "class Solution:\n",
        "    def hasPath(self, maze, start, destination):\n",
        "        dx = [ 0 , 0 , 1 , -1]\n",
        "        dy = [ 1, -1 , 0 , 0 ]\n",
        "\n",
        "        if start == destination:\n",
        "            return True\n",
        "        visited = set()\n",
        "        q = deque()\n",
        "        q.append( ( start[0], start[1] ) )\n",
        "        visited.add(( start[0], start[1] ) )\n",
        "\n",
        "        while q:\n",
        "            x,y = q.popleft()\n",
        "            if x == destination[0] and y == destination[1]:\n",
        "                return True\n",
        "\n",
        "            for k in range(4):\n",
        "                nx, ny  = x + dx[k], y + dy[k]\n",
        "                while 0 <= nx < len(maze) and 0 <= ny < len(maze[0]) and maze[nx][ny] != 1:\n",
        "                    nx += dx[k]\n",
        "                    ny += dy[k]\n",
        "\n",
        "                nx -= dx[k]\n",
        "                ny -= dy[k]\n",
        "\n",
        "                if ( (nx,ny) not in visited ):\n",
        "                    visited.add((nx,ny))\n",
        "                    q.append((nx,ny))\n",
        "        return False\n",
        "\n",
        "\n",
        "sol1 = Solution()\n",
        "print(sol1.hasPath( [ [0,0,1,0,0],[0,0,0,0,0],[0,0,0,1,0],[1,1,0,1,1],[0,0,0,0,0] ], (0,4), (4,4) ))\n",
        "print(sol1.hasPath( [ [0,0,1,0,0],[0,0,0,0,0],[0,0,0,1,0],[1,1,0,1,1],[0,0,0,0,0] ], (0,4), (3,2) ))\n",
        "print(sol1.hasPath( [[0,0,0,0,0],[1,1,0,0,1],[0,0,0,0,0],[0,1,0,0,1],[0,1,0,0,0]], (4,3), (0,1) ))\n",
        "\n",
        "\n",
        "\n"
      ],
      "execution_count": null,
      "outputs": [
        {
          "output_type": "stream",
          "name": "stdout",
          "text": [
            "False\n",
            "True\n",
            "False\n"
          ]
        }
      ]
    },
    {
      "cell_type": "code",
      "metadata": {
        "colab": {
          "base_uri": "https://localhost:8080/"
        },
        "id": "2gYgS6DTh-r_",
        "outputId": "efd407ab-eb89-4cf3-b0c6-bd3ee92ab0e9"
      },
      "source": [
        "#  Mins': 아래 유튭코드 \n",
        "# https://www.youtube.com/watch?v=mjDfgdGp-II&t=201s\n",
        "\n",
        "from typing import List\n",
        "\n",
        "maze = [[0,0,1,0,0],[0,0,0,0,0],[0,0,0,1,0],[1,1,0,1,1],[0,0,0,0,0]]\n",
        "start = [0,4]\n",
        "destination = [4,4]\n",
        "\n",
        "class Solution:\n",
        "    def hasPath(self, maze:List[List[int]], start: List[int], destination: List[int]) -> bool: \n",
        "        m, n, visited = len(maze), len(maze[0]), set()\n",
        "        def dfs(x, y):\n",
        "            if (x,y) not in visited:\n",
        "                visited.add((x,y))\n",
        "            else:\n",
        "                return False\n",
        "            if [x,y] == destination:\n",
        "                return True\n",
        "            for i, j in (0, -1), (0, 1), (-1, 0), (1, 0):\n",
        "                new_X, new_Y = x, y\n",
        "                while 0 <= new_X + i < m and 0 <= new_Y + j < n and maze[new_X + i][new_Y +j] != 1:\n",
        "                    new_X += i\n",
        "                    new_Y += j\n",
        "                if dfs(new_X, new_Y):\n",
        "                    return True\n",
        "            return False\n",
        "        return(dfs(*start))\n",
        "\n",
        "\n",
        "slu = Solution()\n",
        "slu.hasPath(maze, start, destination)"
      ],
      "execution_count": null,
      "outputs": [
        {
          "output_type": "execute_result",
          "data": {
            "text/plain": [
              "True"
            ]
          },
          "metadata": {},
          "execution_count": 2
        }
      ]
    },
    {
      "cell_type": "code",
      "metadata": {
        "id": "DojPWcRTktoi"
      },
      "source": [
        "# Joe's Code\n",
        "\n",
        "# https://leetcode.com/problems/the-maze/\n",
        "\n",
        "from collections import deque\n",
        "\n",
        "\n",
        "def find_maze(maze, start, destination):\n",
        "    q = deque([start])\n",
        "    visited = set()\n",
        "    while q:\n",
        "        cur_row, cur_col = q.popleft()\n",
        "        visited.add((cur_row, cur_col))\n",
        "        if cur_row == destination[0] and cur_col == destination[1]:\n",
        "            return True\n",
        "        for d in ((-1, 0), (0, -1), (1, 0), (0, 1)):\n",
        "            nr, nc = cur_row+d[0], cur_col+d[1]\n",
        "            while 0 <= nr < len(maze) and 0 <= nc < len(maze[0]) and maze[nr][nc] != 1:\n",
        "                nr += d[0]\n",
        "                nc += d[1]\n",
        "            nr -= d[0]\n",
        "            nc -= d[1]\n",
        "            if (nr, nc) not in visited:\n",
        "                q.append((nr, nc))\n",
        "    return False\n",
        "\n",
        "\n",
        "if __name__ == '__main__':\n",
        "    maze = [[0, 0, 1, 0, 0], [0, 0, 0, 0, 0], [0, 0, 0, 1, 0], [1, 1, 0, 1, 1], [0, 0, 0, 0, 0]]\n",
        "    start = [0, 4]\n",
        "    destination = [4, 4]\n",
        "    assert find_maze(maze, start, destination)\n",
        "    maze = [[0, 0, 1, 0, 0], [0, 0, 0, 0, 0], [0, 0, 0, 1, 0], [1, 1, 0, 1, 1], [0, 0, 0, 0, 0]]\n",
        "    start = [0, 4]\n",
        "    destination = [3, 2]\n",
        "    assert not find_maze(maze, start, destination)\n",
        "    maze = [[0, 0, 0, 0, 0], [1, 1, 0, 0, 1], [0, 0, 0, 0, 0], [0, 1, 0, 0, 1], [0, 1, 0, 0, 0]]\n",
        "    start = [4, 3]\n",
        "    destination = [0, 1]\n",
        "    assert not find_maze(maze, start, destination)\n"
      ],
      "execution_count": null,
      "outputs": []
    },
    {
      "cell_type": "markdown",
      "metadata": {
        "id": "1XYntIkHfgar"
      },
      "source": [
        "# OCT. 20. 2021\n",
        "\n",
        "LeetCode #121 \n",
        "\n",
        "https://leetcode.com/problems/best-time-to-buy-and-sell-stock/\n",
        "\n",
        "\n",
        "시간 되시는 분은 Advanced version 도 :) #122\n",
        "https://leetcode.com/problems/best-time-to-buy-and-sell-stock-ii/\n",
        "\n"
      ]
    },
    {
      "cell_type": "code",
      "metadata": {
        "id": "ghocQloc2V0n"
      },
      "source": [
        "#Minsu's code \n",
        "#122 Time O(N), Space O(1)\n",
        "class Solution:\n",
        "    def maxProfit(self, prices: List[int]) -> int:\n",
        "        sumProfit = 0\n",
        "        \n",
        "        for i in range(1, len(prices)):\n",
        "            sumProfit = sumProfit + max(0,prices[i]-prices[i-1]) # Cumulative Sum the gap with i - 1 based on i (exclude nagative number)\n",
        "        \n",
        "        return sumProfit\n",
        "\n",
        "#121 Time O(N), Space O(1)\n",
        "class Solution:\n",
        "    def maxProfit(self, prices: List[int]) -> int:\n",
        "        l, r = 0, 1\n",
        "        maxProf = 0\n",
        "        while r<len(prices):\n",
        "            if prices[l]<prices[r]:\n",
        "                maxProf = max(maxProf,prices[r]-prices[l])\n",
        "            else:\n",
        "                l = r \n",
        "            r += 1\n",
        "        \n",
        "        return maxProf"
      ],
      "execution_count": null,
      "outputs": []
    },
    {
      "cell_type": "code",
      "metadata": {
        "id": "lrAIhrek18n5"
      },
      "source": [
        "# Joe's code\n",
        "# Time O(N), Space O(1)\n",
        "class Solution:\n",
        "    def maxProfit(self, prices: List[int]) -> int:\n",
        "        lowest = float('inf')\n",
        "        res = 0\n",
        "        \n",
        "        for price in prices:\n",
        "            res = max(res, price-lowest)\n",
        "            lowest = min(lowest, price)\n",
        "        return res\n",
        "\n",
        "# Time O(N), Space O(1)\n",
        "class Solution:\n",
        "    def maxProfit(self, prices: List[int]) -> int:\n",
        "        if not prices:\n",
        "            return 0\n",
        "        res = 0\n",
        "        for i, p in enumerate(prices):\n",
        "            if i == 0:\n",
        "                continue\n",
        "            if p > prices[i-1]:\n",
        "                res += (p - prices[i-1])\n",
        "        return res\n",
        "\n"
      ],
      "execution_count": null,
      "outputs": []
    },
    {
      "cell_type": "code",
      "metadata": {
        "colab": {
          "base_uri": "https://localhost:8080/"
        },
        "id": "NbU7zrdctwft",
        "outputId": "7af015ae-ce6f-4b60-f15d-87cf9b6144a3"
      },
      "source": [
        "# Mins' code\n",
        "## 중요한 문제\n",
        "\n",
        "from typing import List\n",
        "\n",
        "class Solution:\n",
        "    def maxProfit(self, prices: List[int]) -> int:\n",
        "        max_profit = 0\n",
        "        min_buy = float('inf')\n",
        "        for price in prices:\n",
        "            min_buy = min(min_buy, price)\n",
        "            max_profit = max(max_profit, price - min_buy)\n",
        "        return max_profit\n",
        "\n",
        "\n",
        "prices = [7,1,5,3,6,4]\n",
        "slu = Solution()\n",
        "slu.maxProfit(prices)  "
      ],
      "execution_count": null,
      "outputs": [
        {
          "output_type": "execute_result",
          "data": {
            "text/plain": [
              "5"
            ]
          },
          "metadata": {},
          "execution_count": 9
        }
      ]
    },
    {
      "cell_type": "markdown",
      "metadata": {
        "id": "JF6AieLRQxuo"
      },
      "source": [
        "# OCT. 21. 2021\n",
        "https://leetcode.com/problems/path-with-minimum-effort/\n",
        "1631. Path With Minimum Effort"
      ]
    },
    {
      "cell_type": "code",
      "metadata": {
        "id": "_KJKZ4Tde-nS"
      },
      "source": [
        "# Leo's code \n",
        "from collections import deque\n",
        "\n",
        "from typing import List\n",
        "\n",
        "class Solution:\n",
        "    def minimumEffortPath(self, heights: List[List[int]]) -> int:\n",
        "        # 시작점을 기준으로 BFS를 하는데\n",
        "        dx = [1, -1, 0, 0]\n",
        "        dy = [0, 0, 1, -1]\n",
        "        # result = []\n",
        "\n",
        "        start = (0, 0)\n",
        "        goal = (len(heights), len(heights[0]))\n",
        "\n",
        "        def can_reach_to_the_dest(mid):\n",
        "            visited = set()\n",
        "            q = deque()\n",
        "            q.append(start)\n",
        "\n",
        "            while q:\n",
        "                curr = q.popleft()\n",
        "                if curr == (goal[0]-1, goal[1]-1):\n",
        "                    return True\n",
        "                visited.add(curr)\n",
        "\n",
        "                for k in range(4):\n",
        "                    nx, ny = curr[0] + dx[k], curr[1] + dy[k]\n",
        "\n",
        "                    if 0 <= nx < goal[0] and 0 <= ny < goal[1] and (nx, ny) not in visited:\n",
        "                        effort_needed = abs(heights[nx][ny] - heights[curr[0]][curr[1]])\n",
        "\n",
        "                        if effort_needed <= mid:\n",
        "                            visited.add((nx, ny))\n",
        "                            q.append((nx, ny))\n",
        "\n",
        "            return False\n",
        "\n",
        "        left, right = 1, 10 ** 6\n",
        "        while left < right:\n",
        "            mid = left + ((right - left) // 2)\n",
        "            # 해당 path 로 BFS\n",
        "            if can_reach_to_the_dest(mid):\n",
        "                right = mid\n",
        "            else:\n",
        "                left = mid + 1\n",
        "\n",
        "        return left\n",
        "\n",
        "\n",
        "sol1 =  Solution()\n",
        "print(sol1.minimumEffortPath([[1,2,2],[3,8,2],[5,3,5]] ))"
      ],
      "execution_count": null,
      "outputs": []
    },
    {
      "cell_type": "code",
      "metadata": {
        "id": "jblab8WSmLqs"
      },
      "source": [
        "#Minsu's code \n",
        "#Priority Queue + BFS\n",
        "#p.s Backtracking method is TLE.\n",
        "\n",
        "from queue import PriorityQueue\n",
        "\n",
        "class Solution:\n",
        "    def minimumEffortPath(self, heights: List[List[int]]) -> int:\n",
        "        rows, cols = len(heights), len(heights[0])\n",
        "        visited=set()\n",
        "        pq = PriorityQueue()\n",
        "        \n",
        "        pq.put((0,0,0)) #to find the Minimum effort value, this Priority Queue reference value is the effort value. and coordinate? 좌표....ㅜ\n",
        "        \n",
        "        directions = ((0,1),(0,-1),(1,0),(-1,0))\n",
        "        \"\"\"\n",
        "        If I use Priority Queue, I can use dfs or bfs to find values. (Refer to the Maze problem(19, Oct, 2021)) : I? You?\n",
        "        \"\"\"\n",
        "        while pq:\n",
        "            got = pq.get()\n",
        "            effort = got[0]\n",
        "            if got[1] == rows-1 and got[2] == cols-1:\n",
        "                break #dfs : return effort\n",
        "            visited.add((got[1],got[2]))\n",
        "            \n",
        "            for direction in directions:\n",
        "                dx, dy = got[1] + direction[0], got[2] + direction[1]\n",
        "                if dx < rows and dx >=0 and dy >= 0 and dy < cols and (dx, dy) not in visited:\n",
        "                    eff = max(effort, abs(heights[dx][dy] - heights[got[1]][got[2]]))\n",
        "                    pq.put((eff,dx,dy))\n",
        "            \n",
        "        return effort"
      ],
      "execution_count": null,
      "outputs": []
    },
    {
      "cell_type": "code",
      "metadata": {
        "id": "c5gGM8vvp14H"
      },
      "source": [
        "# Joe's Code\n",
        "import heapq\n",
        "\n",
        "\n",
        "class Solution:\n",
        "    def minimumEffortPath(self, heights: List[List[int]]) -> int:\n",
        "        rows = len(heights) - 1\n",
        "        cols = len(heights[0]) - 1\n",
        "        visited = set()\n",
        "        hq = [(0, heights[0][0], 0, 0)]\n",
        "        heapq.heapify(hq)\n",
        "\n",
        "        while hq:\n",
        "            md, prev, row, col = heapq.heappop(hq)\n",
        "            visited.add((row, col))\n",
        "            if (row, col) == (rows, cols):\n",
        "                return md\n",
        "            \n",
        "            for r, c in [(1, 0), (-1, 0), (0, 1), (0, -1)]:\n",
        "                nr = row + r\n",
        "                nc = col + c\n",
        "                \n",
        "                if 0 <= nr <= rows and 0 <= nc <= cols and (nr, nc) not in visited:\n",
        "                    cur_val = heights[nr][nc]\n",
        "                    heapq.heappush(hq, (max(md, abs(cur_val - prev)), cur_val, nr, nc))\n",
        "        return -1"
      ],
      "execution_count": null,
      "outputs": []
    },
    {
      "cell_type": "markdown",
      "metadata": {
        "id": "P5l7vxzScCyD"
      },
      "source": [
        "# Oct. 22. 2021\n",
        "https://leetcode.com/problems/valid-parentheses/\n",
        " 20. Valid Parentheses\n",
        "\n",
        "```\n",
        "Given a string s containing just the characters '(', ')', '{', '}', '[' and ']', determine if the input string is valid.\n",
        "\n",
        "An input string is valid if:\n",
        "\n",
        "Open brackets must be closed by the same type of brackets.\n",
        "Open brackets must be closed in the correct order.\n",
        " \n",
        "Example 1:\n",
        "\n",
        "Input: s = \"()\"\n",
        "Output: true\n",
        "Example 2:\n",
        "\n",
        "Input: s = \"()[]{}\"\n",
        "Output: true\n",
        "Example 3:\n",
        "\n",
        "Input: s = \"(]\"\n",
        "Output: false\n",
        "Example 4:\n",
        "\n",
        "Input: s = \"([)]\"\n",
        "Output: false\n",
        "Example 5:\n",
        "\n",
        "Input: s = \"{[]}\"\n",
        "Output: true\n",
        "```\n",
        "\n"
      ]
    },
    {
      "cell_type": "code",
      "metadata": {
        "id": "H84qmcivcEhs"
      },
      "source": [
        "# Joe's Code\n",
        "# using stack\n",
        "# Time O(N), Space O(N)\n",
        "class Solution:\n",
        "    def isValid(self, s: str) -> bool:\n",
        "        stack = []\n",
        "        pair = {\n",
        "            ']': '[',\n",
        "            ')': '(',\n",
        "            '}': '{',\n",
        "        }\n",
        "        \n",
        "        for i in s:\n",
        "            if i in pair:\n",
        "                if not stack or pair[i] != stack[-1]:\n",
        "                    return False\n",
        "                stack.pop()\n",
        "            else:\n",
        "                stack.append(i)\n",
        "        \n",
        "        return not stack"
      ],
      "execution_count": null,
      "outputs": []
    },
    {
      "cell_type": "code",
      "metadata": {
        "id": "TSB1Q30mtMrz"
      },
      "source": [
        "# Leo's Code \n",
        "class Solution:\n",
        "    def isValid(self, s: str) -> bool:\n",
        "        #\n",
        "        \n",
        "        stk = [] \n",
        "        \n",
        "        for p in s:\n",
        "            #여는 괄호인 경우 \n",
        "            if p == \"{\" or p == \"(\" or p ==\"[\":\n",
        "                stk.append(p)\n",
        "                \n",
        "            else:\n",
        "                # 닫는 경우가 먼저나온 경우 \n",
        "                if not stk:\n",
        "                    return False \n",
        "                tmp = stk.pop()\n",
        "                \n",
        "                if p == \"}\":\n",
        "                    if tmp != \"{\":\n",
        "                        return False \n",
        "                elif p == \")\":\n",
        "                    if tmp != \"(\":\n",
        "                        return False \n",
        "                else:\n",
        "                    if tmp != \"[\":\n",
        "                        return False\n",
        "                \n",
        "        return True if not stk else False "
      ],
      "execution_count": null,
      "outputs": []
    },
    {
      "cell_type": "code",
      "metadata": {
        "id": "BeT_0kwYwj-v"
      },
      "source": [
        "#Minsu's Code\n",
        "\n",
        "class Solution:\n",
        "    def isValid(self, s: str) -> bool:\n",
        "        list_ = []\n",
        "        map_ = {'(':')'\n",
        "                ,'{':'}'\n",
        "                ,'[':']'};\n",
        "        for c in s:\n",
        "            if c in map_:\n",
        "                list_.append(map_[c])\n",
        "            elif list_:\n",
        "                if list_[len(list_)-1] == c:\n",
        "                    del list_[len(list_)-1]\n",
        "                    list_.pop\n",
        "\n",
        "                else:\n",
        "                    return False\n",
        "            else:\n",
        "                return False\n",
        "        if list_:\n",
        "            return False\n",
        "        return True\n",
        "    "
      ],
      "execution_count": null,
      "outputs": []
    },
    {
      "cell_type": "code",
      "metadata": {
        "colab": {
          "base_uri": "https://localhost:8080/"
        },
        "id": "dzevoz1v3dsf",
        "outputId": "0b294c94-d6f3-4370-ab01-4b5fff57c2d4"
      },
      "source": [
        "# Mins' Code \n",
        "# 오늘 시간이 없어서, Leet code 솔루션 이해하는 것으로 했습니다. \n",
        "\n",
        "class Solution(object):\n",
        "    def isValid(self, s):\n",
        "\n",
        "        # The stack to keep track of opening brackets.\n",
        "        stack = []\n",
        "\n",
        "        # Hash map for keeping track of mappings. This keeps the code very clean.\n",
        "        # Also makes adding more types of parenthesis easier\n",
        "        mapping = {\")\": \"(\", \"}\": \"{\", \"]\": \"[\"}\n",
        "\n",
        "        # For every bracket in the expression.\n",
        "        for char in s:\n",
        "\n",
        "            # If the character is an closing bracket\n",
        "            if char in mapping:\n",
        "\n",
        "                # Pop the topmost element from the stack, if it is non empty\n",
        "                # Otherwise assign a dummy value of '#' to the top_element variable\n",
        "                top_element = stack.pop() if stack else '#'\n",
        "\n",
        "                # The mapping for the opening bracket in our hash and the top\n",
        "                # element of the stack don't match, return False\n",
        "                if mapping[char] != top_element:\n",
        "                    return False\n",
        "            else:\n",
        "                # We have an opening bracket, simply push it onto the stack.\n",
        "                stack.append(char)\n",
        "\n",
        "        # In the end, if the stack is empty, then we have a valid expression.\n",
        "        # The stack won't be empty for cases like ((()\n",
        "        return not stack\n",
        "        \n",
        "s = \"()\"\n",
        "slu = Solution()\n",
        "slu.isValid(s) "
      ],
      "execution_count": null,
      "outputs": [
        {
          "output_type": "execute_result",
          "data": {
            "text/plain": [
              "True"
            ]
          },
          "metadata": {},
          "execution_count": 1
        }
      ]
    },
    {
      "cell_type": "code",
      "metadata": {
        "id": "-nyEdUJLa2YU"
      },
      "source": [
        ""
      ],
      "execution_count": null,
      "outputs": []
    },
    {
      "cell_type": "markdown",
      "metadata": {
        "id": "LBkX8XfUpORQ"
      },
      "source": [
        "# OCT. 25. 2021\n",
        "https://leetcode.com/problems/min-stack/\n",
        "155. Min Stack\n",
        "\n",
        "```\n",
        "Design a stack that supports push, pop, top, and retrieving the minimum element in constant time.\n",
        "\n",
        "Implement the MinStack class:\n",
        "\n",
        "MinStack() initializes the stack object.\n",
        "void push(int val) pushes the element val onto the stack.\n",
        "void pop() removes the element on the top of the stack.\n",
        "int top() gets the top element of the stack.\n",
        "int getMin() retrieves the minimum element in the stack.\n",
        " \n",
        "\n",
        "Example 1:\n",
        "\n",
        "Input\n",
        "[\"MinStack\",\"push\",\"push\",\"push\",\"getMin\",\"pop\",\"top\",\"getMin\"]\n",
        "[[],[-2],[0],[-3],[],[],[],[]]\n",
        "\n",
        "Output\n",
        "[null,null,null,null,-3,null,0,-2]\n",
        "\n",
        "Explanation\n",
        "MinStack minStack = new MinStack();\n",
        "minStack.push(-2);\n",
        "minStack.push(0);\n",
        "minStack.push(-3);\n",
        "minStack.getMin(); // return -3\n",
        "minStack.pop();\n",
        "minStack.top();    // return 0\n",
        "minStack.getMin(); // return -2\n",
        " \n",
        "\n",
        "Constraints:\n",
        "\n",
        "-231 <= val <= 231 - 1\n",
        "Methods pop, top and getMin operations will always be called on non-empty stacks.\n",
        "At most 3 * 104 calls will be made to push, pop, top, and getMin.\n",
        "```\n",
        "\n"
      ]
    },
    {
      "cell_type": "code",
      "metadata": {
        "id": "pI268dixqCf6"
      },
      "source": [
        "#Minsu's Code\n",
        "\n",
        "class MinStack:\n",
        "    \n",
        "    def __init__(self):\n",
        "        self.list_ = []\n",
        "        self.min_ = 2 ** 31 - 1\n",
        "\n",
        "    def push(self, val: int) -> None:\n",
        "        self.list_.append(val)\n",
        "        self.min_ = min(self.min_,val);\n",
        "\n",
        "    def pop(self) -> None:\n",
        "        if self.min_ == self.list_[-1]:\n",
        "            self.min_ = 2 ** 31 - 1\n",
        "            del self.list_[-1]\n",
        "            for val in self.list_ :\n",
        "                self.min_ = min(self.min_,val)\n",
        "        else:\n",
        "            del self.list_[-1]\n",
        "    \n",
        "    \n",
        "    def top(self) -> int:\n",
        "        return self.list_[-1]\n",
        "\n",
        "    def getMin(self) -> int:\n",
        "        return self.min_"
      ],
      "execution_count": null,
      "outputs": []
    },
    {
      "cell_type": "code",
      "metadata": {
        "id": "j1pnBC-9ITUU"
      },
      "source": [
        "# Joe's Code\n",
        "# Time Complexity: push O(1), getMin O(1), pop O(1), top O(1)\n",
        "# Space Complexity: O(N)\n",
        "class MinStack:\n",
        "    def __init__(self):\n",
        "        self.stack = []\n",
        "        self.min = []\n",
        "\n",
        "    def push(self, val: int) -> None:\n",
        "        self.stack.append(val)\n",
        "        if not self.min or self.min[-1][0] > val:\n",
        "            self.min.append((val, len(self.stack)))        ### 역순으로 숫자가 들어오는 경우를 제외하고, 메모리를 줄일 수 있음! \n",
        "    def pop(self) -> None:\n",
        "        self.stack.pop()\n",
        "        if len(self.stack) < self.min[-1][1]:\n",
        "            self.min.pop()\n",
        "\n",
        "    def top(self) -> int:\n",
        "        return self.stack[-1]\n",
        "\n",
        "    def getMin(self) -> int:\n",
        "        return self.min[-1][0]"
      ],
      "execution_count": null,
      "outputs": []
    },
    {
      "cell_type": "code",
      "metadata": {
        "id": "zRJaqELoPEAZ"
      },
      "source": [
        "# Mins' code\n",
        "\n",
        "class MinStack:\n",
        "\n",
        "    def __init__(self):\n",
        "        self.stack = []\n",
        "        self.minStack = []\n",
        "        \n",
        "\n",
        "    def push(self, val: int) -> None:\n",
        "        self.stack.append(val)\n",
        "        val = min(val,self.minStack[-1] if self.minStack else val)\n",
        "        self.minStack.append(val)     \n",
        "\n",
        "    def pop(self) -> None:\n",
        "        self.stack.pop()\n",
        "        self.minStack.pop()\n",
        "        \n",
        "    def top(self) -> int:\n",
        "        return self.stack[-1]\n",
        "        \n",
        "    def getMin(self) -> int:\n",
        "        return self.minStack[-1]"
      ],
      "execution_count": null,
      "outputs": []
    },
    {
      "cell_type": "markdown",
      "metadata": {
        "id": "7vCvaoToZjFd"
      },
      "source": [
        "# OCT. 26. 2021\n",
        "https://leetcode.com/problems/decode-string/\n",
        "394. Decode String\n",
        "\n",
        "\n",
        "\n",
        "```\n",
        "Given an encoded string, return its decoded string.\n",
        "\n",
        "The encoding rule is: k[encoded_string], where the encoded_string inside the square brackets is being repeated exactly k times. Note that k is guaranteed to be a positive integer.\n",
        "\n",
        "You may assume that the input string is always valid; No extra white spaces, square brackets are well-formed, etc.\n",
        "\n",
        "Furthermore, you may assume that the original data does not contain any digits and that digits are only for those repeat numbers, k. For example, there won't be input like 3a or 2[4].\n",
        "\n",
        " \n",
        "\n",
        "Example 1:\n",
        "Input: s = \"3[a]2[bc]\"\n",
        "Output: \"aaabcbc\"\n",
        "\n",
        "Example 2:\n",
        "Input: s = \"3[a2[c]]\"\n",
        "Output: \"accaccacc\"\n",
        "\n",
        "Example 3:\n",
        "Input: s = \"2[abc]3[cd]ef\"\n",
        "Output: \"abcabccdcdcdef\"\n",
        "\n",
        "Example 4:\n",
        "Input: s = \"abc3[cd]xyz\"\n",
        "Output: \"abccdcdcdxyz\"\n",
        " \n",
        "\n",
        "Constraints:\n",
        "\n",
        "1 <= s.length <= 30\n",
        "s consists of lowercase English letters, digits, and square brackets '[]'.\n",
        "s is guaranteed to be a valid input.\n",
        "All the integers in s are in the range [1, 300].\n",
        "```\n",
        "\n"
      ]
    },
    {
      "cell_type": "code",
      "metadata": {
        "id": "_z0IcogGUzHa"
      },
      "source": [
        "#Minsu's Code\n",
        "\n",
        "class Solution:\n",
        "    r = 0\n",
        "    def decodeString(self, s: str) -> str:\n",
        "        currNum = 0\n",
        "        currStr = \"\"\n",
        "        while self.r < len(s):\n",
        "            c = s[self.r]\n",
        "            self.r += 1\n",
        "            if c >= '0' and c <= '9' :\n",
        "                currNum = (currNum * 10) + int(c)\n",
        "            elif c == '[':\n",
        "                temp = self.decodeString(s)\n",
        "                for i in range(currNum):\n",
        "                    currStr += temp\n",
        "                currNum = 0\n",
        "            elif c == ']':\n",
        "                break;\n",
        "            else:\n",
        "                currStr += c\n",
        "        return currStr\n",
        "                "
      ],
      "execution_count": null,
      "outputs": []
    },
    {
      "cell_type": "code",
      "metadata": {
        "id": "50j_ccuCWanF"
      },
      "source": [
        "# Joe's code\n",
        "# Time complexity: O(n)\n",
        "# Space complexity: O(n)\n",
        "\n",
        "class Solution:\n",
        "    def decodeString(self, s: str) -> str:\n",
        "        char_stack = []\n",
        "        num_stack = []\n",
        "        char = \"\"\n",
        "        num = \"\"\n",
        "        \n",
        "        for i in s:\n",
        "            if i.isalpha():\n",
        "                char += i\n",
        "            elif i.isdigit():\n",
        "                num += i\n",
        "            elif i == '[':\n",
        "                char_stack.append(char)\n",
        "                char = \"\"\n",
        "                num_stack.append(int(num))\n",
        "                num = \"\"\n",
        "            else:\n",
        "                char = char_stack.pop() + char * num_stack.pop()\n",
        "        return char"
      ],
      "execution_count": null,
      "outputs": []
    },
    {
      "cell_type": "code",
      "metadata": {
        "id": "b0VAoIFxX0M9"
      },
      "source": [
        "#Leo's Code \n",
        "\n",
        "class Solution:\n",
        "    def decodeString(self, s: str) -> str:\n",
        "        stk = []\n",
        "        curr_str = \"\"\n",
        "        k = 0 #tracking num \n",
        "        for c in s: \n",
        "            if c == \"[\":\n",
        "                #frame 시작 \n",
        "                stk.append( (curr_str, k))\n",
        "                #str 초기화  \n",
        "                curr_str= \"\"\n",
        "                k = 0 \n",
        "            elif c == \"]\":\n",
        "                last_char, last_k = stk.pop(-1)\n",
        "                curr_str = last_char + last_k * curr_str\n",
        "                \n",
        "            elif c.isdigit():        # k = 2 , [ ].  curr_str= ab      stk = [(aaa , 2) ].   aaa + ab*2 \n",
        "\n",
        "                k = k*10 + int(c)\n",
        "                \n",
        "            else:\n",
        "                curr_str += c \n",
        "                #stk.append(c)\n",
        "                \n",
        "        return curr_str \n",
        "  "
      ],
      "execution_count": null,
      "outputs": []
    },
    {
      "cell_type": "markdown",
      "metadata": {
        "id": "5DQn3d6OdplP"
      },
      "source": [
        "# OCT. 27. 2021\n",
        "https://leetcode.com/problems/employee-importance/\n",
        "690. Employee Importance\n"
      ]
    },
    {
      "cell_type": "markdown",
      "metadata": {
        "id": "jVuhBNQjiqcZ"
      },
      "source": [
        "\n",
        "\n",
        "```\n",
        "You have a data structure of employee information, which includes the employee's unique ID, their importance value, and their direct subordinates' IDs.\n",
        "\n",
        "You are given an array of employees employees where:\n",
        "\n",
        "employees[i].id is the ID of the ith employee.\n",
        "employees[i].importance is the importance value of the ith employee.\n",
        "employees[i].subordinates is a list of the IDs of the direct subordinates of the ith employee.\n",
        "Given an integer id that represents the ID of an employee, return the total importance value of this employee and all their direct subordinates.\n",
        "\n",
        " \n",
        "\n",
        "Example 1: 아래 그림 1 참고\n",
        "\n",
        "\n",
        "\n",
        "Input: employees = [[1,5,[2,3]],[2,3,[]],[3,3,[]]], id = 1\n",
        "Output: 11\n",
        "Explanation: Employee 1 has an importance value of 5 and has two direct subordinates: employee 2 and employee 3.\n",
        "They both have an importance value of 3.\n",
        "Thus, the total importance value of employee 1 is 5 + 3 + 3 = 11.\n",
        "```\n",
        "\n",
        "\n",
        "\n"
      ]
    },
    {
      "cell_type": "markdown",
      "metadata": {
        "id": "HfBzBc3sjQXR"
      },
      "source": [
        "![Employee Importance - LeetCode 2021-10-26 23-58-45.png](data:image/png;base64,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)"
      ]
    },
    {
      "cell_type": "markdown",
      "metadata": {
        "id": "7dPiPHNukix2"
      },
      "source": [
        "\n",
        "\n",
        "```\n",
        "Example 2: 아래 그림 2 참고 \n",
        "\n",
        "Input: employees = [[1,2,[5]],[5,-3,[]]], id = 5\n",
        "Output: -3\n",
        "Explanation: Employee 5 has an importance value of -3 and has no direct subordinates.\n",
        "Thus, the total importance value of employee 5 is -3.\n",
        " \n",
        "\n",
        "Constraints:\n",
        "\n",
        "1 <= employees.length <= 2000\n",
        "1 <= employees[i].id <= 2000\n",
        "All employees[i].id are unique.\n",
        "-100 <= employees[i].importance <= 100\n",
        "One employee has at most one direct leader and may have several subordinates.\n",
        "The IDs in employees[i].subordinates are valid IDs.\n",
        "\n",
        "```\n",
        "\n"
      ]
    },
    {
      "cell_type": "markdown",
      "metadata": {
        "id": "J5Tj9MUpktYd"
      },
      "source": [
        "![2.png](data:image/png;base64,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)"
      ]
    },
    {
      "cell_type": "code",
      "metadata": {
        "id": "GwTSYXh9kq82"
      },
      "source": [
        "#Minsu's Code\n",
        "\n",
        "class Solution:\n",
        "    def getImportance(self, employees: List['Employee'], id: int) -> int:\n",
        "        map_ = {}\n",
        "        for emp in employees:\n",
        "            map_[emp.id] = emp\n",
        "        res = map_[id].importance\n",
        "        \n",
        "        def dfs(list_, map_): #풀고나서 생각해보니 list 빼고 map만 가지고 dfs 돌려도 답이 나올듯.\n",
        "            sum_ = 0\n",
        "            for id in list_:\n",
        "                sum_ += map_[id].importance\n",
        "                if len(map_[id].subordinates)>0:\n",
        "                    sum_ += dfs(map_[id].subordinates, map_)\n",
        "            return sum_\n",
        "        \n",
        "        if len(map_[id].subordinates)>0:\n",
        "            res += dfs(map_[id].subordinates, map_)\n",
        "            \n",
        "        return res"
      ],
      "execution_count": null,
      "outputs": []
    },
    {
      "cell_type": "code",
      "metadata": {
        "id": "fUG3GyxFjusK"
      },
      "source": [
        "# Joe's code\n",
        "# Time Complexity: O(n)\n",
        "# Space Complexity: O(n)\n",
        "\n",
        "from collections import deque, defaultdict\n",
        "\n",
        "\n",
        "class Solution:\n",
        "    def getImportance(self, employees: List['Employee'], id: int) -> int:\n",
        "        queue = deque()\n",
        "        eids = defaultdict()\n",
        "        \n",
        "        for e in employees:\n",
        "            eids[e.id] = e\n",
        "        \n",
        "        queue.append(id)\n",
        "        res = 0\n",
        "        \n",
        "        while queue:\n",
        "            e = eids[queue.popleft()]\n",
        "            res += e.importance\n",
        "            queue.extend(e.subordinates)\n",
        "        \n",
        "        return res"
      ],
      "execution_count": null,
      "outputs": []
    },
    {
      "cell_type": "code",
      "metadata": {
        "id": "ghPXxONQaB0S"
      },
      "source": [
        "# Leo's code \n",
        "class Solution:\n",
        "    def getImportance(self, employees: List['Employee'], id: int) -> int:\n",
        "        \n",
        "        emp_dict = {}\n",
        "        \n",
        "        #reading data .. \n",
        "        for employee in employees:\n",
        "            emp_dict[employee.id] = employee\n",
        "        \n",
        "        def dfs(emp, id):\n",
        "            for e in emp[id].subordinates:\n",
        "                emp[id].importance += dfs(emp,e)\n",
        "            \n",
        "        \n",
        "            return emp[id].importance\n",
        "        \n",
        "        return dfs(emp_dict, id)"
      ],
      "execution_count": null,
      "outputs": []
    },
    {
      "cell_type": "markdown",
      "metadata": {
        "id": "8sjQcyoZnHqT"
      },
      "source": [
        "# OCT. 28. 2021 \n",
        "Google 기출, Medium\n",
        "\n",
        "https://leetcode.com/problems/3sum/\n",
        "15. 3Sum\n",
        "\n",
        "```\n",
        "Given an integer array nums, return all the triplets [nums[i], nums[j], nums[k]] such that i != j, i != k, and j != k, and nums[i] + nums[j] + nums[k] == 0.\n",
        "\n",
        "Notice that the solution set must not contain duplicate triplets.\n",
        "\n",
        "Example 1:\n",
        "Input: nums = [-1,0,1,2,-1,-4]\n",
        "Output: [[-1,-1,2],[-1,0,1]]\n",
        "\n",
        "\n",
        "Example 2:\n",
        "Input: nums = []\n",
        "Output: []\n",
        "\n",
        "\n",
        "Example 3:\n",
        "Input: nums = [0]\n",
        "Output: []\n",
        " \n",
        "\n",
        "Constraints:\n",
        "0 <= nums.length <= 3000\n",
        "-105 <= nums[i] <= 105\n",
        "```\n",
        "\n"
      ]
    },
    {
      "cell_type": "code",
      "metadata": {
        "id": "Lc-rnWqDnYfG"
      },
      "source": [
        "# Joe's code\n",
        "# Time: O(N**2)\n",
        "# Space: O(1)\n",
        "\n",
        "class Solution:\n",
        "    def threeSum(self, nums: List[int]) -> List[List[int]]:\n",
        "        if len(nums) < 3:\n",
        "            return []\n",
        "        \n",
        "        nums.sort()\n",
        "        res = set()\n",
        "        for p1 in range(len(nums)-2):\n",
        "            p2 = p1 + 1\n",
        "            p3 = len(nums) - 1\n",
        "            while p2 < p3:\n",
        "                if nums[p1] + nums[p2] + nums[p3] == 0:\n",
        "                    res.add((nums[p1], nums[p2], nums[p3]))\n",
        "                if nums[p1] + nums[p2] + nums[p3] > 0:\n",
        "                    p3 -= 1\n",
        "                else:\n",
        "                    p2 += 1\n",
        "        return res\n",
        "\n",
        "\n",
        "# Time: O(N**2)\n",
        "# Space: O(N)\n",
        "class Solution:\n",
        "    def threeSum(self, nums: List[int]) -> List[List[int]]:\n",
        "        v = {n: i for i, n in enumerate(nums)}\n",
        "        res = set()\n",
        "        for i in range(len(nums)):\n",
        "            for j in range(i+1, len(nums)):\n",
        "                target = (nums[i]+ nums[j])*-1\n",
        "                if target in v and v[target] not in (i, j):\n",
        "                    res.add(tuple(sorted([nums[i], nums[j], target])))\n",
        "        return res\n"
      ],
      "execution_count": null,
      "outputs": []
    },
    {
      "cell_type": "code",
      "metadata": {
        "id": "-6LLJLvxmFuE"
      },
      "source": [
        "#Minsu's code\n",
        "\n",
        "class Solution:\n",
        "    def threeSum(self, nums: List[int]) -> List[List[int]]:\n",
        "        \n",
        "        res = set()\n",
        "        \n",
        "        map_ ={}\n",
        "        for num in nums:       #메소드 질문, Java의 getOrDefault 같이 count할때 좋은 메소드가 있는지.    ---> Leo : dictionary 를 defaultdict(int)로 선언해주시면 됩니다. \n",
        "            if num not in map_:\n",
        "                map_[num] = 0\n",
        "            map_[num] += 1\n",
        "        \n",
        "        list_ = list(map_.keys())\n",
        "        \n",
        "        if 0 in map_ and map_[0]>=3 :\n",
        "                res.add((0, 0, 0)) # List로 넣을 경우 같은에러 [0,0,0]\n",
        "        \n",
        "        pCnt, nCnt = 0, 0\n",
        "        pos, neg = [], []\n",
        "        for i in list_:\n",
        "            if i>0:\n",
        "                pos.append(i)\n",
        "            elif i<0:\n",
        "                neg.append(i)\n",
        "                \n",
        "        for i in pos:\n",
        "            for j in neg:\n",
        "                k = -(i + j)\n",
        "                if k in map_ and ((k != i and k != j) or map_[k] > 1):\n",
        "                    res.add(tuple(sorted([i, j, k]))) # List를 set에 넣을때 TypeError: unhashable type: 'list' 라고 나오는데 list는 값이 변경이 가능한 Collection이라 \n",
        "                                                      # 불변형 (immutable) 형태인 Tuple로 캐스팅해서 넣어줘야함. 출처 : https://daewonyoon.tistory.com/363\n",
        "        return res"
      ],
      "execution_count": null,
      "outputs": []
    },
    {
      "cell_type": "code",
      "metadata": {
        "id": "vFOkkK5tnqae"
      },
      "source": [
        "#Leo's Code \n",
        "class Solution:\n",
        "    def threeSum(self, nums: List[int]) -> List[List[int]]:\n",
        "        if len(nums) <= 2:\n",
        "            return [] \n",
        "        \n",
        "        \n",
        "        #우선 정렬을 한다 N log N \n",
        "        nums.sort()\n",
        "        res = []\n",
        "        for idx, n1 in enumerate(nums):\n",
        "            if idx > 0 and n1 == nums[idx-1]:\n",
        "                #we don't want to reuse same combi \n",
        "                continue\n",
        "            left, right = idx+1, len(nums)-1 \n",
        "            \n",
        "            while left < right:\n",
        "                three_sum = n1 + nums[left] + nums[right]\n",
        "                if three_sum > 0 :\n",
        "                    right -= 1 \n",
        "                elif three_sum < 0:\n",
        "                    left +=1 \n",
        "                \n",
        "                #matched ! \n",
        "                else:\n",
        "                    res.append([n1, nums[left], nums[right]])\n",
        "                    \n",
        "                    #update pointer \n",
        "                    left +=1 \n",
        "                    while nums[left] == nums[left-1] and left < right:\n",
        "                        left +=1 \n",
        "        return res"
      ],
      "execution_count": null,
      "outputs": []
    },
    {
      "cell_type": "code",
      "metadata": {
        "colab": {
          "base_uri": "https://localhost:8080/"
        },
        "id": "vgMprSz-wa3J",
        "outputId": "f6218551-f147-4c15-b07b-35303ca59fce"
      },
      "source": [
        "# Time complexity: O(N^2) = [O(nlogn): sorting + O(N^2): nested loop]\n",
        "\n",
        "from typing import List\n",
        "\n",
        "class Solution:\n",
        "    def threeSum(self, nums: List[int]) -> List[List[int]]:\n",
        "        res = []\n",
        "        nums.sort()\n",
        "        \n",
        "        for i, a in enumerate(nums):\n",
        "            if i > 0 and a == nums[i-1]:\n",
        "                continue \n",
        "            l, r = i + 1, len(nums) - 1\n",
        "            while l < r:\n",
        "                threeSum = a + nums[l] + nums[r]\n",
        "                if threeSum > 0:\n",
        "                    r -= 1\n",
        "                elif threeSum < 0 :\n",
        "                    l += 1\n",
        "                else:\n",
        "                    res.append([a, nums[l], nums[r]]) \n",
        "                    # [-2, -2, 0, 0, 2, 2]\n",
        "                    l += 1\n",
        "                    while nums[l] == nums[l-1] and l < r:\n",
        "                        l += 1 \n",
        "        return res\n",
        "\n",
        "\n",
        "\n",
        "nums = [-1,0,1,2,-1,-4]\n",
        "slu = Solution()\n",
        "slu.threeSum(nums) "
      ],
      "execution_count": null,
      "outputs": [
        {
          "output_type": "execute_result",
          "data": {
            "text/plain": [
              "[[-1, -1, 2], [-1, 0, 1]]"
            ]
          },
          "metadata": {},
          "execution_count": 4
        }
      ]
    },
    {
      "cell_type": "markdown",
      "metadata": {
        "id": "hFuygelS4uxD"
      },
      "source": [
        "# OCT. 29. 2021 \n",
        "Google 기출, easy\n",
        "\n",
        "53. Maximum Subarray\n",
        "\n",
        "https://leetcode.com/problems/maximum-subarray/\n",
        "\n",
        "\n",
        "\n",
        "```\n",
        "Given an integer array nums, find the contiguous subarray (containing at least one number) which has the largest sum and return its sum.\n",
        "\n",
        "A subarray is a contiguous part of an array.\n",
        "\n",
        "Example 1:\n",
        "Input: nums = [-2,1,-3,4,-1,2,1,-5,4]\n",
        "Output: 6\n",
        "Explanation: [4,-1,2,1] has the largest sum = 6.\n",
        "\n",
        "Example 2:\n",
        "Input: nums = [1]\n",
        "Output: 1\n",
        "\n",
        "Example 3:\n",
        "Input: nums = [5,4,-1,7,8]\n",
        "Output: 23\n",
        " \n",
        "\n",
        "Constraints:\n",
        "\n",
        "1 <= nums.length <= 105\n",
        "-104 <= nums[i] <= 104\n",
        " \n",
        "\n",
        "Follow up: If you have figured out the O(n) solution, try coding another solution using the divide and conquer approach, which is more subtle.\n",
        "```\n",
        "\n"
      ]
    },
    {
      "cell_type": "code",
      "metadata": {
        "id": "OU_skAk24wxu"
      },
      "source": [
        "#Leo's Code \n",
        "\n",
        "class Solution:\n",
        "    def maxSubArray(self, nums: List[int]) -> int:\n",
        "        max_sum = nums[0]\n",
        "        curr_sum = max_sum\n",
        "        \n",
        "        for i in range(1, len(nums)):\n",
        "            curr_sum = max( nums[i], curr_sum + nums[i])\n",
        "            max_sum = max(max_sum, curr_sum)\n",
        "        return max_sum\n",
        "        "
      ],
      "execution_count": null,
      "outputs": []
    },
    {
      "cell_type": "code",
      "metadata": {
        "id": "DDgnHBY3vuvS"
      },
      "source": [
        "# Joe's code\n",
        "# Time O(n), Space O(1)\n",
        "\n",
        "class Solution:\n",
        "    def maxSubArray(self, nums: List[int]) -> int:\n",
        "        res = float('-inf')     # 요걸로 암기! \n",
        "        cur = float('-inf')\n",
        "        \n",
        "        for n in nums:\n",
        "            cur = max(n, cur+n)\n",
        "            res = max(res, cur)\n",
        "        \n",
        "        return res"
      ],
      "execution_count": null,
      "outputs": []
    },
    {
      "cell_type": "code",
      "metadata": {
        "id": "rMxujDJL5L4C"
      },
      "source": [
        "# Minsu's Code\n",
        "\n",
        "class Solution:\n",
        "    def maxSubArray(self, nums: List[int]) -> int:\n",
        "        dp = [0] * len(nums)\n",
        "        dp[0] = nums[0]\n",
        "        max_ = dp[0]\n",
        "        \n",
        "        for i in range(1,len(nums)):\n",
        "            dp[i] = max(nums[i] + dp[i-1],nums[i])\n",
        "            max_ = max(max_, dp[i])\n",
        "        \n",
        "        return max_"
      ],
      "execution_count": null,
      "outputs": []
    },
    {
      "cell_type": "code",
      "metadata": {
        "id": "3IbXTArgbH9v"
      },
      "source": [
        "#  Kadane algorithm 검색!!"
      ],
      "execution_count": null,
      "outputs": []
    },
    {
      "cell_type": "markdown",
      "metadata": {
        "id": "EV6kHEOk8R1Z"
      },
      "source": [
        "# NOV. 01. 2021\n",
        "287. Find the Duplicate Number\n",
        "\n",
        "https://leetcode.com/problems/find-the-duplicate-number/"
      ]
    },
    {
      "cell_type": "code",
      "metadata": {
        "colab": {
          "base_uri": "https://localhost:8080/",
          "height": 38
        },
        "id": "xJhBCwrnAITX",
        "outputId": "02f87be6-3a57-45cc-d2b2-1f0f15096a1f"
      },
      "source": [
        "%%html\n",
        "<marquee style='width: 30%; color: orange;'><b> Happy Halloween!!</b></marquee>"
      ],
      "execution_count": null,
      "outputs": [
        {
          "output_type": "display_data",
          "data": {
            "text/html": [
              "<marquee style='width: 30%; color: orange;'><b> Happy Halloween!!</b></marquee>"
            ],
            "text/plain": [
              "<IPython.core.display.HTML object>"
            ]
          },
          "metadata": {}
        }
      ]
    },
    {
      "cell_type": "markdown",
      "metadata": {
        "id": "SbZmR2g5LZSU"
      },
      "source": [
        "ㄴ 따봉 누르고 갑니당~ Minsu"
      ]
    },
    {
      "cell_type": "code",
      "metadata": {
        "id": "mEraNm-sA_KG"
      },
      "source": [
        "#Minsu's Code\n",
        "\n",
        "class Solution:\n",
        "    def findDuplicate(self, nums: List[int]) -> int:\n",
        "        for i in range(len(nums)):\n",
        "            if nums[abs(nums[i])]<0:\n",
        "                return abs(nums[i])\n",
        "            else:\n",
        "                nums[abs(nums[i])] *= -1\n",
        "        return -1"
      ],
      "execution_count": null,
      "outputs": []
    },
    {
      "cell_type": "code",
      "metadata": {
        "id": "HEvbG9geRDWB"
      },
      "source": [
        "# Joe's Code\n",
        "# Time: O(n)\n",
        "# Space: O(1)\n",
        "\n",
        "class Solution:\n",
        "    def findDuplicate(self, nums: List[int]) -> int:\n",
        "        for i in range(len(nums)):\n",
        "            if nums[abs(nums[i])-1] < 0:\n",
        "                return abs(nums[i])\n",
        "            nums[abs(nums[i])-1] *= -1"
      ],
      "execution_count": null,
      "outputs": []
    },
    {
      "cell_type": "code",
      "metadata": {
        "colab": {
          "base_uri": "https://localhost:8080/"
        },
        "id": "8NGcfCwjU8PZ",
        "outputId": "4256eacd-6d8c-48bb-d332-97780f0b7089"
      },
      "source": [
        "# Mins' Code  # 이렇게 풀면 안됨!! \n",
        "\n",
        "nums = [1,3,4,2,2]\n",
        "\n",
        "from typing import List\n",
        "\n",
        "\n",
        "class Solution:\n",
        "    def findDuplicate(self, nums: List[int]) -> int:\n",
        "        nums.sort()\n",
        "        for i in range(1, len(nums)):\n",
        "            if nums[i] == nums[i-1]:\n",
        "                return nums[i]\n",
        "\n",
        "solu = Solution()\n",
        "solu.findDuplicate(nums)"
      ],
      "execution_count": null,
      "outputs": [
        {
          "output_type": "execute_result",
          "data": {
            "text/plain": [
              "2"
            ]
          },
          "metadata": {},
          "execution_count": 1
        }
      ]
    },
    {
      "cell_type": "code",
      "metadata": {
        "id": "U9sc9axEXnMF"
      },
      "source": [
        "class Solution:\n",
        "    def findDuplicate(self, nums: List[int]) -> int:\n",
        "        #Dictonary ? \n",
        "        #Sort and \n",
        "        n = len(nums)\n",
        "        #sum_nums = sum(nums)\n",
        "        #return gauss_sum - sum_nums\n",
        "        slow = nums[nums[0]] \n",
        "        fast = nums[slow]\n",
        "        \n",
        "        while slow != fast:   \n",
        "            slow = nums[slow]\n",
        "            fast = nums[ nums[fast] ]\n",
        "            \n",
        "        slow = nums[0]\n",
        "        while slow != fast:\n",
        "            slow = nums[slow]\n",
        "            fast = nums[fast]\n",
        "        \n",
        "        return slow\n",
        "\n",
        "\n",
        "        x -> num[x] -> num[nums[x]] -> .... "
      ],
      "execution_count": null,
      "outputs": []
    },
    {
      "cell_type": "markdown",
      "metadata": {
        "id": "uO1xWOJbMQHQ"
      },
      "source": [
        "# NOV. 02. 2021\n",
        "415. Add Strings\n",
        "\n",
        "https://leetcode.com/problems/add-strings/\n",
        "\n",
        "\n",
        "\n",
        "```\n",
        "Given two non-negative integers, num1 and num2 represented as string, return the sum of num1 and num2 as a string.\n",
        "\n",
        "You must solve the problem without using any built-in library for handling large integers (such as BigInteger). You must also not convert the inputs to integers directly.\n",
        "\n",
        "\n",
        "Example 1:\n",
        "\n",
        "Input: num1 = \"11\", num2 = \"123\"\n",
        "Output: \"134\"\n",
        "\n",
        "Example 2:\n",
        "\n",
        "Input: num1 = \"456\", num2 = \"77\"\n",
        "Output: \"533\"\n",
        "Example 3:\n",
        "\n",
        "Input: num1 = \"0\", num2 = \"0\"\n",
        "Output: \"0\"\n",
        " \n",
        "\n",
        "Constraints:\n",
        "\n",
        "1 <= num1.length, num2.length <= 104\n",
        "num1 and num2 consist of only digits.\n",
        "num1 and num2 don't have any leading zeros except for the zero itself.\n",
        "```\n",
        "\n"
      ]
    },
    {
      "cell_type": "code",
      "metadata": {
        "id": "2i006h58Oyfu"
      },
      "source": [
        "#Minsu's code\n",
        "\n",
        "class Solution(object):\n",
        "    def addStrings(self, num1, num2):\n",
        "        \"\"\"\n",
        "        :type num1: str\n",
        "        :type num2: str\n",
        "        :rtype: str\n",
        "        \"\"\"\n",
        "        return str(int(num1) + int(num2))\n",
        "\n",
        "\n",
        "class Solution(object):\n",
        "    def addStrings(self, num1, num2):\n",
        "        \n",
        "        i, j = len(num1)-1, len(num2)-1\n",
        "        carry = 0\n",
        "        res = []\n",
        "        while i >=0 or j >=0 or carry != 0:\n",
        "            \"\"\"\n",
        "            if i >= 0:\n",
        "                n1 = int(num1[i])\n",
        "                i -= 1\n",
        "            else:\n",
        "                n1 = 0\n",
        "            if j>= 0:\n",
        "                n2 = int(num2[j])\n",
        "                j -= 1\n",
        "            else:\n",
        "                n2 = 0\n",
        "            res.insert(0, str((n1 + n2 + carry)%10))\n",
        "            carry = (n1 + n2 + carry) / 10\n",
        "            \"\"\"\n",
        "            #Python 삼항연산자,\n",
        "            n1 = int(num1[i]) if i >= 0 else 0\n",
        "            n2 = int(num2[j]) if j >= 0 else 0\n",
        "            \n",
        "            res.insert(0, str((n1 + n2 + carry)%10))\n",
        "            carry = (n1 + n2 + carry) / 10\n",
        "            \n",
        "            i -= 1\n",
        "            j -= 1\n",
        "        return ''.join(res)\n"
      ],
      "execution_count": null,
      "outputs": []
    },
    {
      "cell_type": "code",
      "metadata": {
        "id": "wG3d4M2QBxuH"
      },
      "source": [
        "# Joe's code\n",
        "# Time: O(max(n, m))\n",
        "# Space: O(1)\n",
        "class Solution:\n",
        "    def addStrings(self, num1: str, num2: str) -> str:\n",
        "        p1 = len(num1) - 1\n",
        "        p2 = len(num2) - 1\n",
        "        \n",
        "        res = \"\"\n",
        "        d = { str(i): i for i in range(10) }\n",
        "        r = 0\n",
        "        while p1 >= 0 or p2 >= 0 or r:\n",
        "            n1 = num1[p1] if p1 >= 0 else \"0\"\n",
        "            n2 = num2[p2] if p2 >= 0 else \"0\"\n",
        "            \n",
        "            cur = (d[n1] + d[n2] + r) % 10\n",
        "            r = (d[n1] + d[n2] + r) // 10\n",
        "            \n",
        "            p1 -= 1\n",
        "            p2 -= 1\n",
        "            res = str(cur) + res\n",
        "        \n",
        "        return res\n"
      ],
      "execution_count": null,
      "outputs": []
    },
    {
      "cell_type": "markdown",
      "metadata": {
        "id": "TUfqTNFGku42"
      },
      "source": [
        "#NOV. 03. 2021\n",
        "833. Find And Replace in String\n",
        "\n",
        "https://leetcode.com/problems/find-and-replace-in-string/"
      ]
    },
    {
      "cell_type": "code",
      "metadata": {
        "id": "tOpnYdEYXxe0"
      },
      "source": [
        "#Minsu's Code\n",
        "class Solution(object):\n",
        "    def findReplaceString(self, s, indices, sources, targets):\n",
        "        res = \"\"\n",
        "        check = [False]*len(s)\n",
        "        map_ = dict()\n",
        "        for i in range(len(indices)):\n",
        "            if s.find(sources[i],indices[i])==indices[i]:\n",
        "                for j in range(indices[i],indices[i]+len(sources[i])):\n",
        "                    check[j] = True\n",
        "                map_[indices[i]] = targets[i]\n",
        "       \n",
        "        for i in range(len(check)):\n",
        "            if check[i]:\n",
        "                if i in map_:\n",
        "                   res = res + map_[i]\n",
        "            else:\n",
        "                   res = res + s[i]\n",
        "        \n",
        "        return res"
      ],
      "execution_count": null,
      "outputs": []
    }
  ]
}