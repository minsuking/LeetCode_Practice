{
  "nbformat": 4,
  "nbformat_minor": 0,
  "metadata": {
    "colab": {
      "name": "LeetCode_S2.ipynb",
      "provenance": [],
      "collapsed_sections": [],
      "include_colab_link": true
    },
    "kernelspec": {
      "name": "python3",
      "display_name": "Python 3"
    },
    "language_info": {
      "name": "python"
    }
  },
  "cells": [
    {
      "cell_type": "markdown",
      "metadata": {
        "id": "view-in-github",
        "colab_type": "text"
      },
      "source": [
        "<a href=\"https://colab.research.google.com/github/minsuking/LeetCode_Practice/blob/master/LeetCode_S2.ipynb\" target=\"_parent\"><img src=\"https://colab.research.google.com/assets/colab-badge.svg\" alt=\"Open In Colab\"/></a>"
      ]
    },
    {
      "cell_type": "markdown",
      "metadata": {
        "id": "yET4Zhl9hNYA"
      },
      "source": [
        "\n",
        "Start: SEP. 29. 2021 \n",
        "\n",
        "\n",
        "*   Time : PDT 7:00 pm\n",
        "\n",
        "*   Zoom :  https://ucdavis.zoom.us/j/4611628062?pwd=cVIxRnp6Zkxhc1pEWEw3d3BaYXJOdz09\n",
        "\n",
        "*   Reference resources : \n",
        "\n",
        "https://www.1point3acres.com/bbs/forum.php?mod=guide&view=hot&mobile=2\n",
        "\n",
        "https://blog.csdn.net/fuxuemingzhu/article/details/82960833\n",
        "\n",
        "https://blog.csdn.net/fuxuemingzhu/article/details/80826333\n",
        "\n",
        "https://interviewing.io/recordings"
      ]
    },
    {
      "cell_type": "code",
      "metadata": {
        "id": "MHLTcBfQmyhJ"
      },
      "source": [
        ""
      ],
      "execution_count": null,
      "outputs": []
    },
    {
      "cell_type": "markdown",
      "metadata": {
        "id": "8XA0JQHFhF8n"
      },
      "source": [
        "##**OCT. 10. 2021**\n",
        "\n",
        "Max Consecutive Ones (LeetCode #485)\n",
        "\n",
        "https://leetcode.com/problems/max-consecutive-ones/"
      ]
    },
    {
      "cell_type": "code",
      "metadata": {
        "id": "gi6fou4ahH3B"
      },
      "source": [
        "# Mins' Code\n",
        "\n",
        "from typing import List \n",
        "\n",
        "class Solution:\n",
        "    def findMaxConsecutiveOnes(self, nums: List[int]) -> int:\n",
        "        str_nums = list(map(str, nums))\n",
        "        sum_str = ''.join(str_nums)\n",
        "        spl_zero = sum_str.split('0')\n",
        "        count_one = list(map(len, spl_zero))\n",
        "        return max(count_one)"
      ],
      "execution_count": null,
      "outputs": []
    },
    {
      "cell_type": "code",
      "metadata": {
        "id": "uQnrh544ZgSw"
      },
      "source": [
        "# Leo's Code \n",
        "class Solution:\n",
        "    def findMaxConsecutiveOnes(self, nums: List[int]) -> int:\n",
        "        ans = 0 \n",
        "        curr_max = 0 \n",
        "        for i in nums:\n",
        "            if i == 1:\n",
        "                curr_max += 1 \n",
        "                \n",
        "            #if i == 0     \n",
        "            else:\n",
        "                ans = max ( ans, curr_max )\n",
        "                curr_max = 0\n",
        "        ans = max(ans, curr_max)\n",
        "        return ans\n",
        "\n",
        "\n",
        "        [1,1,0,0,1,1,1,1,1,1]\n",
        "            \n"
      ],
      "execution_count": null,
      "outputs": []
    },
    {
      "cell_type": "code",
      "metadata": {
        "id": "URQ7cj8zMqCz"
      },
      "source": [
        "# Joe's Code\n",
        "class Solution:\n",
        "    def findMaxConsecutiveOnes(self, nums: List[int]) -> int:\n",
        "        res = 0\n",
        "        cnt = 0\n",
        "        for n in nums:\n",
        "            if n == 0:\n",
        "                cnt = 0\n",
        "                continue\n",
        "            cnt += 1\n",
        "            res = max(cnt, res)\n",
        "        return res\n",
        "        "
      ],
      "execution_count": null,
      "outputs": []
    },
    {
      "cell_type": "code",
      "metadata": {
        "id": "1yLQAbULUnqm"
      },
      "source": [
        ""
      ],
      "execution_count": null,
      "outputs": []
    },
    {
      "cell_type": "markdown",
      "metadata": {
        "id": "aqsV2fGmYtNG"
      },
      "source": [
        "##**OCT. 11. 2021**\n",
        "\n",
        "Amazon OA Q : Sum of Subarray Minimums \n",
        "\n",
        "https://leetcode.com/problems/sum-of-subarray-minimums/\n",
        "\n",
        "\n"
      ]
    },
    {
      "cell_type": "code",
      "metadata": {
        "id": "PWqfPSGzb8Mv"
      },
      "source": [
        ""
      ],
      "execution_count": null,
      "outputs": []
    },
    {
      "cell_type": "code",
      "metadata": {
        "id": "hST8lW48Dnms"
      },
      "source": [
        "# Leo's Code\n",
        "from typing import List \n",
        "class LeetCode907Solution:\n",
        "    def sumSubarrayMins(self, arr: List[int]) -> int:\n",
        "        mod = 10**9 + 7\n",
        "        stack = [-1] \n",
        "        arr.append(-1) \n",
        "        # or new_arr = arr.copy() then new_arr.append(-1)\n",
        "        ans = 0 \n",
        "        \n",
        "        for i in range(len(arr)):\n",
        "            while arr[i] < arr[stack[-1]]:\n",
        "                curr_idx = stack.pop()\n",
        "                ans += arr[curr_idx]*(i-curr_idx)*(curr_idx-stack[-1])\n",
        "            stack.append(i)\n",
        "            \n",
        "        return ans % mod"
      ],
      "execution_count": null,
      "outputs": []
    },
    {
      "cell_type": "code",
      "metadata": {
        "id": "7YgrmT0HRzyW"
      },
      "source": [
        "# Joe's code\n",
        "# Time out\n",
        "class Solution:\n",
        "    def sumSubarrayMins(self, arr: List[int]) -> int:\n",
        "        res = 0\n",
        "        for i in range(len(arr)):\n",
        "            cur = 0\n",
        "            while cur + i < len(arr):\n",
        "                res += min(arr[cur:cur+i+1])\n",
        "                cur += 1\n",
        "        return res"
      ],
      "execution_count": null,
      "outputs": []
    },
    {
      "cell_type": "code",
      "metadata": {
        "id": "hYNvQDuN4MNO"
      },
      "source": [
        "# Minsu's Code\n",
        "# Java\n",
        "import java.util.*;\n",
        "\n",
        "class Solution {\n",
        "    static int MOD = 1000000007;\n",
        "    public int sumSubarrayMins(int[] arr) {\n",
        "        List<Long> res = new ArrayList<>();\n",
        "        List<Integer> pos = new ArrayList<>();\n",
        "        \n",
        "        for(int i=0;i<arr.length;i++){\n",
        "            long var = arr[i];\n",
        "            while(!pos.isEmpty() && arr[pos.get(pos.size()-1)] >= var){\n",
        "                pos.remove(pos.size()-1);\n",
        "            }\n",
        "            if(!pos.isEmpty()){\n",
        "                int minPos = pos.get(pos.size()-1);\n",
        "                res.add(res.get(minPos) + var * (i - minPos));\n",
        "            }else{\n",
        "                res.add(var * (i+1));\n",
        "            }\n",
        "            pos.add(i);\n",
        "        }\n",
        "        return (int)(res.stream().mapToLong(i -> i).sum() % MOD);\n",
        "\n",
        "    }\n",
        "}\n",
        "# Python\n",
        "class Solution:\n",
        "     def sumSubarrayMins(self, arr: List[int]) -> int:\n",
        "        mod = 1000000007\n",
        "        res, pos = [], []\n",
        "        for i, var in enumerate(arr): \n",
        "            while pos and arr[pos[-1]] >= var:\n",
        "                    del pos[-1]\n",
        "            if pos:\n",
        "                minPos = pos[-1]\n",
        "                res.append(res[minPos] + var * (i-minPos))\n",
        "            else: \n",
        "              res.append(var * (i+1))\n",
        "            pos.append(i)\n",
        "        return sum(res) % mod "
      ],
      "execution_count": null,
      "outputs": []
    },
    {
      "cell_type": "code",
      "metadata": {
        "id": "cxWCosTg4PGf"
      },
      "source": [
        ""
      ],
      "execution_count": null,
      "outputs": []
    },
    {
      "cell_type": "markdown",
      "metadata": {
        "id": "viMQYKjwAO2F"
      },
      "source": [
        "# OCT. 12. 2021\n",
        "Group Anagrams (LC #49)\n",
        "https://leetcode.com/problems/group-anagrams/\n"
      ]
    },
    {
      "cell_type": "code",
      "metadata": {
        "id": "ncosS3iaDSGw",
        "colab": {
          "base_uri": "https://localhost:8080/",
          "height": 130
        },
        "outputId": "54cfd775-f5f7-4a99-9921-eb3baf7b061e"
      },
      "source": [
        "#Leo's Code \n",
        "from collections import defaultdict\n",
        "\n",
        "class Solution:\n",
        "    def groupAnagrams(self, strs: List[str]) -> List[List[str]]:\n",
        "        \n",
        "                  #a b c d e f ... z \n",
        "        groups = [ 1 0 2 0 0 0 0 0 ]. \n",
        "\n",
        "        \n",
        "\n",
        "        groups = defaultdict(list)\n",
        "        \n",
        "        for s in strs: \n",
        "            counter = [0]*26  # lower case chars \n",
        "            \n",
        "            #counting up \n",
        "            for c in s:\n",
        "                counter[ord(c) - ord(\"a\")] += 1 \n",
        "            \n",
        "            #put it do the groupList \n",
        "            groups[tuple(counter)].append(s) \n",
        "            \n",
        "        \n",
        "        return list(groups.values())"
      ],
      "execution_count": null,
      "outputs": [
        {
          "output_type": "error",
          "ename": "SyntaxError",
          "evalue": "ignored",
          "traceback": [
            "\u001b[0;36m  File \u001b[0;32m\"<ipython-input-1-a0654d1e1550>\"\u001b[0;36m, line \u001b[0;32m6\u001b[0m\n\u001b[0;31m    a b c d e f ... z\u001b[0m\n\u001b[0m      ^\u001b[0m\n\u001b[0;31mSyntaxError\u001b[0m\u001b[0;31m:\u001b[0m invalid syntax\n"
          ]
        }
      ]
    },
    {
      "cell_type": "code",
      "metadata": {
        "id": "9XEqyAuyE5Ht"
      },
      "source": [
        "# Joe's Code\n",
        "# time O(N*M) N=len(strs), M=max_length(input), space O(N)\n",
        "from collections import defaultdict\n",
        "\n",
        "class Solution:\n",
        "    def groupAnagrams(self, strs: List[str]) -> List[List[str]]:\n",
        "        ga = defaultdict(list)\n",
        "        \n",
        "        for s in strs:\n",
        "            arr = [0] * 26\n",
        "            for o in s:\n",
        "                arr[ord(o)-ord('a')] += 1\n",
        "            ga[tuple(arr)].append(s)\n",
        "        return ga.values()"
      ],
      "execution_count": null,
      "outputs": []
    },
    {
      "cell_type": "code",
      "metadata": {
        "colab": {
          "base_uri": "https://localhost:8080/"
        },
        "id": "_mw-u0tuUj1b",
        "outputId": "3f5cfb51-5850-4e83-f51f-b72d5f1c6481"
      },
      "source": [
        "# Mins' code\n",
        "# Leet code solution\n",
        "\n",
        "'''\n",
        "In Dictionary, the key must be unique and immutable. This means that a Python Tuple can be a key.\n",
        "\n",
        "Defaultdict is a container like dictionaries present in the module collections. \n",
        "Defaultdict is a sub-class of the dictionary class that returns a dictionary-like object. \n",
        "The functionality of both dictionaries and defualtdict are almost same except for the fact that defualtdict never raises a KeyError. \n",
        "It provides a default value for the key that does not exists.\n",
        "''' \n",
        "\n",
        "import collections\n",
        "\n",
        "class Solution:    \n",
        "    def groupAnagrams(self, strs):\n",
        "        ans = collections.defaultdict(list)\n",
        "        for s in strs:\n",
        "            ans[tuple(sorted(s))].append(s)\n",
        "        return ans.values()\n",
        "\n",
        "strs = [\"eat\",\"tea\",\"tan\",\"ate\",\"nat\",\"bat\"]\n",
        "\n",
        "slu= Solution()\n",
        "slu.groupAnagrams(strs)\n",
        "\n",
        "# dict_values([['eat', 'tea', 'ate'], ['tan', 'nat'], ['bat']])\n",
        "# dict_keys([('a', 'e', 't'), ('a', 'n', 't'), ('a', 'b', 't')])"
      ],
      "execution_count": null,
      "outputs": [
        {
          "output_type": "execute_result",
          "data": {
            "text/plain": [
              "dict_values([['eat', 'tea', 'ate'], ['tan', 'nat'], ['bat']])"
            ]
          },
          "metadata": {},
          "execution_count": 7
        }
      ]
    },
    {
      "cell_type": "code",
      "metadata": {
        "id": "cGlT3o6mU1E8"
      },
      "source": [
        ""
      ],
      "execution_count": null,
      "outputs": []
    },
    {
      "cell_type": "markdown",
      "metadata": {
        "id": "5Dqb4D3QeVEE"
      },
      "source": [
        "# OCT. 13. 2021\n",
        "Flipping Image\n",
        "https://leetcode.com/problems/flipping-an-image/"
      ]
    },
    {
      "cell_type": "code",
      "metadata": {
        "id": "sci5WwVBeeEK"
      },
      "source": [
        "# Minsu's Code\n",
        "# Java\n",
        "# If I use reverse function and then XOR, I have to search for all the col's length, but with temp variables, I only have to search up to half the col's length.\n",
        "class Solution {\n",
        "    public int[][] flipAndInvertImage(int[][] image) {\n",
        "        int pos = image[0].length-1;\n",
        "        for(int i=0;i<image.length;i++){\n",
        "            for(int j=0;j<(image[0].length+1)/2;j++){\n",
        "                int temp = image[i][j]^1;\n",
        "                image[i][j] = image[i][pos-j]^1;\n",
        "                image[i][pos-j] = temp;\n",
        "            }\n",
        "        }\n",
        "        return image;\n",
        "    }\n",
        "}\n",
        "\n",
        "#Python\n",
        "class Solution:\n",
        "    def flipAndInvertImage(self, image: List[List[int]]) -> List[List[int]]:\n",
        "        pos = len(image[0])-1\n",
        "        for i in range(len(image)):\n",
        "            for j in range(int((image[0]+1) /2)):\n",
        "                image[i][j], image[i][pos-1-j] = image[i][pos-1-j]^1, image[i][j]^1\n",
        "        return image"
      ],
      "execution_count": null,
      "outputs": []
    },
    {
      "cell_type": "code",
      "metadata": {
        "id": "hBAuOEWx_iYN"
      },
      "source": [
        "# Joe's Code\n",
        "# Time O(M*N), Space(1)\n",
        "class Solution:\n",
        "    def flipAndInvertImage(self, image: List[List[int]]) -> List[List[int]]:\n",
        "        row = len(image)\n",
        "        col = len(image[0])\n",
        "        for r in range(row):\n",
        "            for c in range(int(ceil(col/2))):\n",
        "                image[r][c], image[r][col-c-1] = image[r][col-c-1]^1, image[r][c]^1\n",
        "        return image\n",
        "\n",
        "\n",
        "\n",
        "        # 질문         for r in row:"
      ],
      "execution_count": null,
      "outputs": []
    },
    {
      "cell_type": "code",
      "metadata": {
        "id": "GoTYj3N9KKVY"
      },
      "source": [
        "# Leo's Code \n",
        "\n",
        "class Solution:\n",
        "    def flipAndInvertImage(self, image: List[List[int]]) -> List[List[int]]:\n",
        "        for i in range (len(image)):\n",
        "            for j in range( len(image[0]) // 2 ):\n",
        "                image[i][j], image[i][len(image)-j-1] = image[i][len(image)-j-1],image[i][j]\n",
        "                \n",
        "                if image[i][j] == 1:\n",
        "                    image[i][j] =0 \n",
        "                else:\n",
        "                    image[i][j] = 1 \n",
        "                    \n",
        "                if image[i][len(image)-j-1] == 1:\n",
        "                    image[i][len(image)-j-1] = 0 \n",
        "                else:\n",
        "                    image[i][len(image)-j-1] = 1\n",
        "                    \n",
        "            \n",
        "            if len(image) %2 == 1:\n",
        "                if image[i][len(image) //2 ] ==1:\n",
        "                    image[i][len(image) //2 ] = 0 \n",
        "                else :\n",
        "                    image[i][len(image) //2 ] = 1\n",
        "                    \n",
        "        return image"
      ],
      "execution_count": null,
      "outputs": []
    },
    {
      "cell_type": "code",
      "metadata": {
        "colab": {
          "base_uri": "https://localhost:8080/"
        },
        "id": "vgkjEFoAm0Xq",
        "outputId": "01fcd434-9076-4936-8310-660b07e7114d"
      },
      "source": [
        "# Mins' code\n",
        "\n",
        "class Solution(object):\n",
        "    def flipAndInvertImage(self, A):\n",
        "        for row in A:\n",
        "            for i in range((len(row) + 1) // 2):\n",
        "               # 비트 뒤집고, 1로 XOR 연산\n",
        "                \"\"\"\n",
        "                In Python, the shortcut row[~i] = row[-i-1] = row[len(row) - 1 - i]\n",
        "                helps us find the i-th value of the row, counting from the right.\n",
        "                \"\"\"\n",
        "                row[i], row[~i] = row[~i] ^ 1, row[i] ^ 1\n",
        "        return A\n",
        "\n",
        "\n",
        "\n",
        "A = [[1,1,0],[1,0,1],[0,0,0]]\n",
        "slu = Solution()\n",
        "slu.flipAndInvertImage(A)"
      ],
      "execution_count": null,
      "outputs": [
        {
          "output_type": "execute_result",
          "data": {
            "text/plain": [
              "[[1, 0, 0], [0, 1, 0], [1, 1, 1]]"
            ]
          },
          "metadata": {},
          "execution_count": 2
        }
      ]
    },
    {
      "cell_type": "markdown",
      "metadata": {
        "id": "zmWJdytkKKLH"
      },
      "source": [
        "![xor 연산 - Google Search 2021-10-13 19-40-09.png](data:image/png;base64,iVBORw0KGgoAAAANSUhEUgAAAYoAAAEECAYAAAA2xHO4AAAK1mlDQ1BJQ0MgUHJvZmlsZQAASImVlwdUk8kWx+f70kNCSSACUkLvSCeAlNBDEaSDqIQkJKHEkBBUxIYsruBaEBEBG7oiouDqCshaEAsWFsHeN8iioD4XCzZU3hd4hN1957133j1nMr9zM3PLZOacfwAgh7LF4mxYHYAcUZ4kJsSfnpScQscNAiJAAxSwArZsjlTMjI6OAIhNzX+197cBpJhv2Cli/fv3/9UoXJ6UAwCUinA6V8rJQbgDGc85YkkeAKhDiN9kcZ5Ywb0Ia0qQAhH+XcH8Sf6o4PQJRpMm1sTFBCBMBwBPYrMlfABItoifns/hI3FIih4cRFyhCOFChH04AjYX4ZMI2+bkLFLwEMKWyHoxAGTkdAAj/U8x+X+Jn66Mz2bzlTzZ14ThA4VScTZ76f95NP/bcrJlUznMkUESSEJjFPmQ87ubtShcyaL0OVFTLORO1qRggSw0foo50oCUKeayA8OVe7PnRExxhjCYpYyTx4qbYp40KHaKJYtilLkyJAHMKWZLJvISEZbLsuKVfgGPpYxfIIhLnOJ8YcKcKZZmxYZPrwlQ+iWyGGX9PFGI/3TeYGXvOdI/9StkKffmCeJClb2zp+vniZjTMaVJytq4vMCg6TXxyvXiPH9lLnF2tHI9LztE6Zfmxyr35iGXc3pvtPIMM9lh0VMMhCASsAGHrjZFAOTxluQpGglYJF4qEfIFeXQm8tp4dJaIY29Ld3JwcgRA8XYnr8Nb2sSbhGhXpn25HQB4lCJO/rSPbQLAiacAUN9P+0zeIFdpEwCnejkySf6kD634wCC/nhrQBDrAAJgAS2AHnIAb8AJ+IAiEgSgQB5LBAqRWAcgBErAYFILVoASUgU1gK6gGu8BecAAcBkdBKzgJzoKL4CroBbfAAyAHg+AFGAHvwRgEQTiIDFEhHcgQMoNsICeIAflAQVAEFAMlQ2kQHxJBMqgQWgOVQeVQNbQHaoB+gk5AZ6HLUB90D+qHhqE30GcYBZNgTVgfNodnwQyYCYfDcfB8mA/nwgVwMbwBroLr4ENwC3wWvgrfguXwC3gUBVAqKBrKCGWHYqACUFGoFFQGSoJagSpFVaLqUE2odlQX6gZKjnqJ+oTGoqloOtoO7YUORcejOehc9Ar0enQ1+gC6BX0efQPdjx5Bf8OQMXoYG4wnhoVJwvAxizElmErMfsxxzAXMLcwg5j0Wi6VhLbDu2FBsMjYTuwy7HrsD24ztwPZhB7CjOBxOB2eD88ZF4di4PFwJbjvuEO4M7jpuEPcRr4I3xDvhg/EpeBG+CF+JP4g/jb+Of4YfI6gTzAiehCgCl7CUsJGwj9BOuEYYJIwRNYgWRG9iHDGTuJpYRWwiXiA+JL5VUVExVvFQmasiVFmlUqVyROWSSr/KJxKFZE0KIKWSZKQNpHpSB+ke6S2ZTDYn+5FTyHnkDeQG8jnyY/JHVaqqvSpLlau6UrVGtUX1uuorNYKamRpTbYFagVql2jG1a2ov1Qnq5uoB6mz1Feo16ifU76iPalA1HDWiNHI01msc1LisMUTBUcwpQRQupZiyl3KOMkBFUU2oAVQOdQ11H/UCdVATq2mhydLM1CzTPKzZozmiRdFy0UrQWqJVo3VKS05D0cxpLFo2bSPtKO027fMM/RnMGbwZ62Y0zbg+44P2TG0/bZ52qXaz9i3tzzp0nSCdLJ3NOq06j3TRuta6c3UX6+7UvaD7cqbmTK+ZnJmlM4/OvK8H61nrxegt09ur1603qm+gH6Iv1t+uf07/pQHNwM8g06DC4LTBsCHV0MdQaFhheMbwOV2LzqRn06vo5+kjRnpGoUYyoz1GPUZjxhbG8cZFxs3Gj0yIJgyTDJMKk06TEVND00jTQtNG0/tmBDOGmcBsm1mX2QdzC/NE87XmreZDFtoWLIsCi0aLh5ZkS1/LXMs6y5tWWCuGVZbVDqtea9ja1VpgXWN9zQa2cbMR2uyw6bPF2HrYimzrbO/YkeyYdvl2jXb99jT7CPsi+1b7V7NMZ6XM2jyra9Y3B1eHbId9Dg8cKY5hjkWO7Y5vnKydOE41Tjedyc7Bziud25xfu9i48Fx2utx1pbpGuq517XT96ubuJnFrcht2N3VPc691v8PQZEQz1jMueWA8/D1Wepz0+OTp5pnnedTzDy87ryyvg15Dsy1m82bvmz3gbezN9t7jLfeh+6T57PaR+xr5sn3rfJ/4mfhx/fb7PWNaMTOZh5iv/B38Jf7H/T8EeAYsD+gIRAWGBJYG9gRRguKDqoMeBxsH84Mbg0dCXEOWhXSEYkLDQzeH3mHpszisBtZImHvY8rDz4aTw2PDq8CcR1hGSiPZIODIsckvkwzlmc0RzWqNAFCtqS9SjaIvo3Ohf5mLnRs+tmfs0xjGmMKYrlhq7MPZg7Ps4/7iNcQ/iLeNl8Z0JagmpCQ0JHxIDE8sT5UmzkpYnXU3WTRYmt6XgUhJS9qeMzguat3XeYKpraknq7fkW85fMv7xAd0H2glML1RayFx5Lw6Qlph1M+8KOYtexR9NZ6bXpI5wAzjbOC64ft4I7zPPmlfOeZXhnlGcM8b35W/jDAl9BpeClMEBYLXydGZq5K/NDVlRWfdZ4dmJ2cw4+Jy3nhIgiyhKdX2SwaMmiPrGNuEQsz/XM3Zo7IgmX7JdC0vnStjxNRCR1yyxl38n6833ya/I/Lk5YfGyJxhLRku6l1kvXLX1WEFzw4zL0Ms6yzkKjwtWF/cuZy/esgFakr+hcabKyeOXgqpBVB1YTV2et/rXIoai86N2axDXtxfrFq4oHvgv5rrFEtURScmet19pd36O/F37fs8553fZ130q5pVfKHMoqy76s56y/8oPjD1U/jG/I2NCz0W3jzk3YTaJNtzf7bj5QrlFeUD6wJXJLSwW9orTi3daFWy9XulTu2kbcJtsmr4qoattuun3T9i/VgupbNf41zbV6tetqP+zg7ri+029n0y79XWW7Pu8W7r67J2RPS515XeVe7N78vU/3Jezr+pHxY8N+3f1l+7/Wi+rlB2IOnG9wb2g4qHdwYyPcKGscPpR6qPdw4OG2JrumPc205rIj4IjsyPOf0n66fTT8aOcxxrGmn81+rj1OPV7aArUsbRlpFbTK25Lb+k6Enehs92o//ov9L/UnjU7WnNI6tfE08XTx6fEzBWdGO8QdL8/yzw50Lux8cC7p3M3zc8/3XAi/cOli8MVzXcyuM5e8L5287Hn5xBXGldarbldbul27j//q+uvxHreelmvu19p6PXrb+2b3nb7ue/3sjcAbF2+ybl69NedW3+3423fvpN6R3+XeHbqXfe/1/fz7Yw9WPcQ8LH2k/qjysd7jut+sfmuWu8lP9Qf2dz+JffJggDPw4nfp718Gi5+Sn1Y+M3zWMOQ0dHI4eLj3+bzngy/EL8ZelvxD4x+1ryxf/fyH3x/dI0kjg68lr8ffrH+r87b+ncu7ztHo0cfvc96PfSj9qPPxwCfGp67PiZ+fjS3+gvtS9dXqa/u38G8Px3PGx8VsCXtCCqCQAWdkAPCmHtHGyYh2QHQ5cd6ktp4waPL/wASB/8ST+nvC3ACo9wMgfhUAEYhG2YkMM4RJyKyQRHF+AHZ2Vo5/mTTD2WkyFglRlpiP4+Nv9QHAtQPwVTI+PrZjfPzrPqTYewB05E5qeoVhES2/m6KgboMV4O82qff/1OPfZ6CowAX8ff4nGmQX3pXlbH8AAAA4ZVhJZk1NACoAAAAIAAGHaQAEAAAAAQAAABoAAAAAAAKgAgAEAAAAAQAAAYqgAwAEAAAAAQAAAQQAAAAAOQKKAgAAHH5JREFUeAHt3QmQFGWWwPGv5JZDuRsPaPEAJ4yZUVzE9Rp0dp3RUHHVVXRk8BgiGBzGQNA2XEMN1xNCxoN1JRANd1VmkNDQ0XE9QJEJgRV3vEEj0DZEHBsREQSa7q6tl5DVldXVWd2ZWZUvv/xXRHflUfnl+37v63yVlVXVmUGDa7KGGwIIIIAAAu0IZLK5WzvrWIwAAggggIDZBwMEEEAAAQT8BCgUfjqsQwABBBDgjIIxgAACCCDgL8AZhb8PaxFAAIHUC1AoUj8EAEAAAQT8BSgU/j6sRQABBFIvQKFI/RAAAAEEEPAXoFD4+7AWAQQQSL0AhSL1QwAABBBAwF+AQuHvw1oEEEAg9QIUitQPAQAQQAABfwEKhb8PaxFAAIHUC1AoUj8EAEAAAQT8BSgU/j6sRQABBFIvQKFI/RAAAAEEEPAXoFD4+7AWAQQQSL0AhSL1QwAABBBAwF+AQuHvw1oEEEAg9QIUitQPAQAQQAABfwEKhb8PaxFAAIHUC1AoUj8EAEAAAQT8BSgU/j6sjUhg0aJFJpPJmGuuuSaiFttvxt2X7G/FihWeB5577rlOHGeffbZpamrKryvcRraTn4ULF+bXuxPu9u5j3Psg/br55pud/bhtFO+voaHB9OnTxxTH6sbid//DDz+YMWPGmAEDBphPP/3U76GsQ6CsAIWiLBEP8BNYvXq16dGjh+dg1tmDlHtAdA+Y7d2PGDHC7Ny50y8cZ91FF11kJkyY4Ezffffd+YIgsb7wwgumf//+5t577zVdu3Z1HiMH/4kTJ7Zp94orrvD0q80DChbcc889HS6Crs99991n1q9fb7LZrFm1apWZOnVqyeJUsJs2k26xKS4ybR7IAgRCCFAoQuCxabQCw4cPNzt27HAOnHLwLP6pr683PXv27NBOr7/+etO9e3fz3HPPmZUrVxo5OMuBuLGx0Vx22WXmkEMOcdqRA+0zzzzjTL/xxhv5fT755JPOMtn+uuuua7PPhx9+OP9Ytyg99dRTHSpkzz77rHn77bc9cYwdO9ZIzFKc3EI5ZMgQs3379jb7ZgEC1RagUFRbnP1VRUAOvGeccYazLzmrWLJkiXNwlmJ02223OcvlTGbOnDnOtBz4TzzxxHxsclZy0003OfOPPPKI78s3F154YX67jkysXbvWeZicyRTeRo8e7czOmDHDKUJff/216d27d+FDmEYgFgEKRSzs7LSUwOeff2569eqVf0btPrN27zv78sr8+fOdA61cp7j99tudXcrB3z0refXVV51n7PJS1Pjx49uENG3aNGf7b7/91mzYsKHNelkgZyqzZ8921p1//vn5tks+uAIL33nnHafVDz74oAKt0yQCewQoFIyESATkJZpu3bo5B3l5FiwvrXT2Vu6lp8svv7xTTQ4ePNjMnDnTyIFensVL+xdffHGbNvr27WuGDRvWZrn0Y9SoUc7yjz/+2LPefYnI7WvhmYrngSVm3DOHp59+2rPWPdPwLPSZkTOil19+2XlEey97Sd9Hjhzp5KWzhdZn16xKmQCFImUJr1R3zzrrLLN7927nJRN5Xf2YY46p1K4ia7ezB+b2dixFYt26dR0+m3Avthe+pCUX2u+44w5nF3JhXM6iyl2jmDJlihk4cKDZtGmTGTRokLnhhhvahChnS+4F884W2jaNsSC1AhSK1KZeX8fLvfTU2bd6Fh58pbfS/hNPPJHvuPvM/vvvvzcbN27ML3cnpOBJAZDbEUcc4S527t2L2XIhW9qVM4+OvCPLbUTOJqZPn55/tn/ccceZmpoaz8V8v2sUcn1DztokPikWL774onnooYc6/C4tNw7uEeiIAIWiI0o8pqIC8hLRtm3b8u8iKn63kzu/efPm/LuVygVU+C4nuTjsvotJXopyP1dw2mmn5a9BLFu2rE2T8+bNc65hyBnDscce22a9LHCvgxQXoZIPLloo77hy+yb3HXlXl/tWYrdIuNdbxFAKi1xLOfTQQ52CU7Q7ZhEILEChCEzHhpoF3LegyksvV111lfNMW14Ok9fsH3jgASd09xqGzMg1h8IP58kH8G655RbncYUXwJ0FBb+kjQULFjhLCotQwUPanXQ/T9GZMyU5y9myZUvJorLvvvuaNWvWOOvkTQHcEIhKgEIRlWTK24niYnZUhPKs+8orr3Sak7e/ymcm5CA6a9YsZ5lcA3CLwrXXXpu/nnLSSSfl33HlfgBPrr1MmjTJNzT55HRxEfLdIMTK2tra/AcF3U+TB/lUeIgQ2DSFAhSKFCY9yi7L5xV27drleQnFfTml3EtF7sso7ttfO3pf7hPacpFXnnkXv8vJvYgs/b/kkkucawrus3D3palCG/kAnpyZuJ/gLlxXOF1chKJ6d5H7klxHYiiMR6bdfpXLQfF2zCNQSmDPdxiUWsMyBCos4B4Io95N8dtOC9tvb50UEfkpdwu7fbn2WY+ARgHOKDRmhZhSJVD4WYdSZ1XlrmG4b6ctta0si+oMJ1VJobMeAc4oPBzMIFA9AffloaB77OhZUND22Q4BVyCTez05685wjwACCCCAQLEALz0VizCPAAIIIOARoFB4OJhBAAEEECgWoFAUizCPAAIIIOARoFB4OJhBAAEEECgWoFAUizCPAAIIIOARoFB4OJhBAAEEECgWoFAUizCPAAIIIOARoFB4OJhBAAEEECgWoFAUizCPAAIIIOARoFB4OJhBAAEEECgWoFAUizCPAAIIIOARoFB4OJhBAAEEECgWoFAUizCPAAIIIOARoFB4OJhBAAEEECgWoFAUizCPAAIIIOARoFB4OJhBAAEEECgWoFAUizCPAAIIIOARoFB4OJhBAAEEEGgjIP8KVcutrq5O/i0rPxgwBhgDjIHcGJg8ebKKw7Oq/5mdyWTaFDIWIIAAAmkWyFWK2LvfNfYISgTwh+frSyzVsejqM0c4gWiNUXt8gqc9RuIL/7eGYXSG4VsK3wLXKMIb0gICCCBgtQCFwur00jkEEEAgvACFIrwhLSCAAAJWC1AorE4vnUMAAQTCC1AowhvSAgIIIGC1AIXC6vTSOQQQQCC8AIUivCEtIIAAAlYLUCisTi+dQwABBMILUCjCG9ICAgggYLUAhcLq9NI5BBBAILyAyq/wCN8tY5YunmeWLXkw39SoMePNxBlzTZcuOrqsPT6B0x6j9vjE8N2//sUsvn+WTJpevfuZqXf8yfQfcpAzr+GX9vjESHuM2uOLYpzpOGpG0ZOCNh6fM92sfWtpwRJj1q1ZZuZO/4X5/dznTbfuPTzrqj2jPT7x0B6j9viKi1i1x1i5/WmPT+LXHqP2+MqNgc6st+6lJ6nubpE4Z8ot5tZF75sLfjfbMfnum6/My3+8tzM+kT9We3zSYe0xao+vcNDImezJE35TuEjVtPb4BEt7jNrji2LAWVUoGnftMCueW+i4SPKOPuUcZ/rHJ/zSjD72VGf6w5Uvmd2Nu6Kw63Qb2uOTDmmPUXt87qA49YJpzpOUX826X83LnW5scq89viTEmATDwpyHmbauUGza+JnjMXrMzzx/oMNGjHKWN+78wWzb0uBMV/uXHOQ0xyce2mPUHl+1xxT7Q6AaAlYVim//vsE0N+0u6TbogJHO8h3bt5qtm+MpFNrjEyDtMWqPr+TgYyECCRewqlAU5mLw3sJQuEzTtPb4xEp7jNrj0zTeiAWBMALWFoowKGyLAAIIINAqYG2haPhyfWsvC6bkvez9BgwuWBLPpPb4REV7jNrji2dksVcEohewtlAUU21qp3AUPy6uee3xiYv2GLXHF9fYYr8IhBWwqlAMHX6YGXrw4Y7J2jWvmebmprzPxvp1zvTw0WNMv4E1+eXVnNAen1hoj1F7fNUcT+wLgWoJWFUouvfoZeRtsXKTT2J/8cl7znThB7SK3zbrPKBKv7THJwzaY9QeX5WGErtBoKoC1n2Fx9jTJ5oVf37U7M59ZmHBzZd6MAs/hOdZUcUZ7fEJhfYYtccnhvLkxP2OJ5mXm7w1+57c18jIbb/cWW2cXyejPT4x0h6j9vjEMKqbVWcUgtKn3wBTN3+5GVZ7pMfo+DMnGQ2fktUeH4aeYcMMAgjkBKw7o5CsyssTv71zsdoEa48Pw/BDR742Rn603rTHJ27aY9QeX5Rjz7oziihxaAsBBBBAwBgKBaMAAQQQQMBXgELhy8NKBBBAAAEKBWMAAQQQQMBXgELhy8NKBBBAAAEKBWMAAQQQQMBXgELhy8NKBBBAAAEKBWMAAQQQQMBXgELhy8NKBBBAAAEKBWMAAQQQQMBXIJPN3XwfUcWVmUymintjVwgggIB+AQ2HaFVnFOPGjdOfNSJEAAEEqiRQW1tbpT3570bVGYV/qKxFAAEEEIhDQNUZRRwA7BMBBBBAwF+AQuHvw1oEEEAg9QIUitQPAQAQQAABfwEKhb8PaxFAAIHUC1AoUj8EAEAAAQT8BSgU/j6sRQABBFIvQKFI/RAAAAEEEPAXoFD4+7AWAQQQSL0AhSL1QwAABBBAwF+AQuHvw1oEEEAg9QIUitQPAQAQQAABfwEKhb8PaxFAAIHUC1hdKLINDaZ56CGmZcJ5xjQ1qUu29vgETHuM2uPDMJo/O+151h5f2CzYXSj+4z+N2bHbZJeuMtmVK8NaRb59Vnl80mHtMWqPD8No/my051l7fGGzYO3XjGdX/69pOT13JjHxLGPW/M2Yb74zXd5/y5iePcOaRbK99vikk9pj1B4fhpH8qTAOo2EM14r8hzsbb03/cn62qWZkNrv+02zLqtXZpv0PzjYvXKimq9rjEyjtMWqPD8No/ty051l7fFFkwUTRiLY28oXhmpn50AqTmV8Y04T2+IRFe4za48Mwmj8u7XnWHl80Wcj9u+yoGtLSTsv27dmmsf+YP5tw4yqVUHddNe+1xycW2mPUHh+G0fxFac+z9viiycKeVqwrFM1PLso29T0w21xwNuGCOWcVuXUtb7zhLqr6vfb4BER7jNrjwzCaPyvtedYeXzRZ2NOKVRez5S1qLUeNNaZv75IXrsutD3e1p/zW5fZfbn35PYR/RLkYyq0PH4F/C+X2X269f+vRrC0XQ7n10UTRfivl9l9uffstR7emXAzl1kcXSemWyu2/3PrSrepdalWh0MtMZAgggEByBaz+HEVy00LkCCCAgB4BCoWeXBAJAgggoFKAQqEyLQSFAAII6BGgUOjJBZEggAACKgUoFCrTQlAIIICAHgEKhZ5cEAkCCCCgUoBCoTItBIUAAgjoEaBQ6MkFkSCAAAIqBSgUKtNCUAgggIAeAQqFnlwQCQIIIKBSgEKhMi0EhQACCOgRoFDoyQWRIIAAAioFKBQq00JQCCCAgB4BCoWeXBAJAgggoFKAQqEyLQSFAAII6BGgUOjJBZEggAACKgUoFCrTQlAIIICAHgEKhZ5cEAkCCCCgUyDKf8Adtq26urpsTokfDBgDjAHGQG4MTJ48OexhNZLtVf3P7Ewmo7OaEhUCCCAQk0DuSB/Tnlt327V1Us/UH56v1xNMUSRXnznCWaI1Ru3xCZ72GImvaNAHmMUwAFrRJq5h0eJYZrlGEQs7O0UAAQSSI0ChSE6uiBQBBBCIRYBCEQs7O0UAAQSSI0ChSE6uiBQBBBCIRYBCEQs7O0UAAQSSI0ChSE6uiBQBBBCIRYBCEQs7O0UAAQSSI0ChSE6uiBQBBBCIRYBCEQs7O0UAAQSSI6Dyk9lR8C1dPM8sW/JgvqlRY8abiTPmmi5ddHRZe3wCpz3Gd//6F7P4/llOjnv17mem3vEn03/IQfmca5jAMHwWMAxvGLYFK88oHp8z3VMkBGndmmVm7vRfmN2Nu8Kahd5ee3zSQc0xyoHjxouOyheJ0AmpUAMYhofFMLxhFC1YVyjkWebat5Y6NudMucXcuuh9c8HvZjvz333zlXn5j/dG4Ra4De3xSceSEKPEKWeJJ0/4jUyqu2EYPiUYhjeMqgWrCkXjrh1mxXMLHRs5iBx9yjnO9I9P+KUZfeypzvSHK1+K7axCe3wClIQYT71gmvME4Fez7lfzUqIzuPb+wrBQI9g0hsHcKrWVdYVi08bPHKvRY37mOYgMGzHKWd648wezbUuDM13tXzL4NccnHkmIsdp56+z+MOysWNvHY9jWJM4lVhWKb/++wTQ37S7pOeiAkc7yHdu3mq2b4ykU2uMToCTEWDLBihZiGD4ZGIY3jLIFqwpFIczgvYWhcJmmae3xiVUSYtSU01KxYFhKpXPLMOycVyUebW2hqAQWbSKAAAJpFLC2UDR8ub5kPuX99v0GDC65rpoLtccnFkmIsZo5C7IvDIOoebfB0OsRx5y1haIYc1M7haP4cXHNa49PXJIQY1z56+h+MeyoVPuPw7B9m0qtsapQDB1+mBl68OGO1do1r5nm5qa828b6dc708NFjTL+BNfnl1ZzQHp9YJCHGauYsyL4wDKLm3QZDr0fcc1YViu49ehl5W6zc5JPYX3zynjNd+MGd4rfNOg+o0i/t8QlDEmKsUroC7wbDwHT5DTHMU6iY0PHFRxFSjD19olnx50fN7txnFhbcfKmn5cIP4XlWVHFGe3xCoT1GKfzudzy5qZO3Pd+T+4oWue2XO2P8/dznTbfuPdzVVb/HMDw5huENo2rBqjMKQenTb4Cpm7/cDKs90mN0/JmTjIZP8mqPLwmGnsQqnUlCnpXS5cPCME8R+4R1ZxQiKqetv71zcey47QWgPT7thvKVLPKj/aY5zxiGHz1JMQzfU2OsO6OIAoU2EEAAAQRaBSgUrRZMIYAAAgiUEKBQlEBhEQIIIIBAqwCFotWCKQQQQACBEgIUihIoLEIAAQQQaBWgULRaMIUAAgggUEKAQlEChUUIIIAAAq0CFIpWC6YQQAABBEoIUChKoLAIAQQQQKBVgELRasEUAggggEAJgUw2dyuxPJZFmUwmlv2yUwQQQECrgIZDtKozinHjxkWaq6a+Bxr50XzTHqP2+CS32mPUHh+G0RwhKpHn2traaIIL2YqqLwV88803Q3bHu3lzv4OcBRoqsjey1jntMWqPTyS1x6g9Pgxb/x7DTCUhz0H7p+qMImgn2A4BBBBAoHICFIrK2dIyAgggYIUAhcKKNNIJBBBAoHICFIrK2dIyAgggYIUAhcKKNNIJBBBAoHICFIrK2dIyAgggYIUAhcKKNNIJBBBAoHICFIrK2dIyAgggYIUAhcKKNNIJBBBAoHICFIrK2dIyAgggYIUAhcKKNNIJBBBAoHICFIrK2dIyAgggYIUAhcKKNNIJBBBAoHICFIrK2dIyAgggYIUAhcKKNNIJBBBAoHICFIrK2dIyAgggYIUAhcKKNNIJBBBAoHICFIrK2dIyAgggYIUAhcKKNNIJBBBAoHICFIrK2dIyAgggYIVAV7cXr65+1Lyy6jF31or7f9/bi+vvP1Vtf7THqD0+Saz2GLXHh2E0h4ck5DloTzmjCCrHdggggEBKBCgUKUk03UQAAQSCCmSyuVvQjbVv19zvICfELlu/UBuq9hi1xyeJ1R6j9vgwjObwkIQ8B+0pZxRB5dgOAQQQSIkAhSIliaabCCCAQFABCkVQObZDAAEEUiJAoUhJoukmAgggEFSAQhFUju0QQACBlAhQKFKSaLqJAAIIBBWgUASVYzsEEEAgJQIUipQkmm4igAACQQUoFEHl2A4BBBBIiQCFIiWJppsIIIBAUAEKRVA5tkMAAQRSItDVtn62rFxpzK6dnm61vP5afn6fU36Wn45rQnuM2uOTvGmPUXt8GEbz15+EPEfRU+u+FLBlxkyTXbCotM0/HW+6LFlcel0Vl2qPUXt8kirtMWqPD8No/uCTkOcoempdoch+9ZVpOWqcMY1NbXz2Wf68yfz0J22WV3uB9hi1xyf50h6j9vgwjOavPgl5jqKn1l2jyNTUmMyk89va5M4mNBQJCUx7jNrjw7Dt8A6yRHuetceXhHEYZFyU2sa6MwrpZKkqr+Vswk2C9hi1x5eEPGPojvbg9xgGt4tyS+vOKASnzTMRRWcTbvK0x6g9viTkGUN3tAe/xzC4XZRbWnlGIUCFz0S0nU24CdQeo/b4kpBnDN3RHvwew+B2UW1p3dtjXRj3mUi2vl7NtQk3Nvdee4za4xNH7TFqjw9D968x3H0S8hyqh/I/s7Xc6urq5P93R/aTu6yd/UnuJ8o2o25Le4za45N8aI9Re3wYRnPMqUSeJ0+erOLwrOqlp0wmkxuz3BBAAAEEXIFcpXAnY7tX+dLTRw/Oiw2k3I6PnDrNeYjWGLXHJ3jaYyS+cn8F5ddjWN6o3CNcw3KPq8Z6K9/1VA049oEAAgikRYBCkZZM008EEEAgoACFIiAcmyGAAAJpEaBQpCXT9BMBBBAIKEChCAjHZggggEBaBCgUack0/UQAAQQCClAoAsKxGQIIIJAWAQpFWjJNPxFAAIGAAhSKgHBshgACCKRFgEKRlkzTTwQQQCCggMqv8AjYF89m8196xSx45ZX8spOPPNLc9etLTZd9dNRG7fEJnPYY/+f//mZufHLP/0fv06uX+a/pV5kDBw7M51zDhPYYtedYcohh/CNZx1EzYodZjz7mKRLS/PKPPjLn3nmX2bV7d8R763xz2uOTHmmOUQ5uY6+tyxeJzmeg8lskIUbNOZYMYVj5cdrRPVhXKOTZx+sffuj0/9/OO8+svvtOc+vEi5z5r7Z8Zx588aWO2lTkcdrjk04nIUaJU84SLxs/XibV3rTGmJQcS2IxjH94W1UodjY2msdfX+6oyuA68x/GONOnH/1Tc8qPfuRML33v3djOKrTHJ0BJiHHKP//ceQIw57Jfmy5dujh51fZLc4xJyLHkE0M9o9quQpF7WemzhgZH9+RcYSi8HnH4AQc4y7ftajSbtm6NJQM7lccnKEmIMZbkWbRTchw+mWkztKpQbNi02TS1NJccBSMGD3KWb9uxwzTEVCi0xydASYixZIJZ2GEBctxhqnYfmDZDqwpFYVaHD9lTGAqXaZrWHp9YJSFGTTlNYizkOHzW0mBobaEIn35aQAABBBAQAWsLxedfbyqZYXm//eB+/Uquq+ZC7fGJRRJirGbObNwXOQ6f1TQYWlsoitNf31C6cBQ/Lq557fGJSxJijCt/tuyXHIfPpI2GVhWKQ4cNNYcNrXEyvTz3WYrmlpZ81j/58ktn+pjaWlPTv39+eTUntMcnFkmIsZo5s3Ff5Dh8VtNmaFWh6Nm9uzlx7+cl5JPY79XXOyOi8MNFxW+bDT9kOt6C9vikJ0mIsePiPLKUADkupdK5ZWkztO67nv71hOPNf7/+uvN5gCkPPuTJfuGH8DwrqjijPT6h0B6jFH73O57c1Mnbns+9a7YzW7P/fmbxrJmmR7du7uqq32uPUXuOJWEYVn3YtrtDq84opJf79+5tXrrpRjN67wfs3J5ffNJJxvkkb8xfCqg9viQYujnlPrhAEsZh8N5VZ8s0GVp3RiFDRE4LH7t6enVGS4C9aI9Pu6F8JYv8aL4lIUbt4xBDPSPcujMKPbREggACCNghQKGwI4/0AgEEEKiYAIWiYrQ0jAACCNghQKGwI4/0AgEEEKiYAIWiYrQ0jAACCNghQKGwI4/0AgEEEKiYAIWiYrQ0jAACCNghQKGwI4/0AgEEEKiYAIWiYrQ0jAACCNghQKGwI4/0AgEEEKiYQCabu1Ws9U42nMlkOrkFD0cAAQTsFtBwiFZ1RjFu3Di7M07vEEAAgU4I1Ob+f46G2/8DOz4LiGxy32gAAAAASUVORK5CYII=)"
      ]
    },
    {
      "cell_type": "markdown",
      "metadata": {
        "id": "JCNd2mBNGpaM"
      },
      "source": [
        "# OCT. 14. 2021\n",
        "All nodes Distance K in Binary Tree \n",
        "\n",
        "https://leetcode.com/problems/all-nodes-distance-k-in-binary-tree/\n"
      ]
    },
    {
      "cell_type": "code",
      "metadata": {
        "id": "b7fqhopmpwWS"
      },
      "source": [
        ""
      ],
      "execution_count": null,
      "outputs": []
    },
    {
      "cell_type": "code",
      "metadata": {
        "id": "muXwhSPxT_19"
      },
      "source": [
        "# Joe's Code\n",
        "# Time O(N), Space O(N)\n",
        "\n",
        "from collections import deque\n",
        "\n",
        "class Solution:\n",
        "    def distanceK(self, root: TreeNode, target: TreeNode, k: int) -> List[int]:\n",
        "        def parents(node, pa):\n",
        "            if not node:\n",
        "                return\n",
        "            \n",
        "            node.parent = pa\n",
        "            \n",
        "            parents(node.left, node)\n",
        "            parents(node.right, node)\n",
        "        \n",
        "        \n",
        "        parents(root, None)\n",
        "        \n",
        "        q = deque()\n",
        "        q.append((target, 0))\n",
        "        visited = set()\n",
        "        res = []\n",
        "        \n",
        "        while q:\n",
        "            node, dis = q.popleft()\n",
        "            if not node:\n",
        "                continue\n",
        "            visited.add(node)\n",
        "            if dis == k:\n",
        "                res.append(node.val)\n",
        "                continue\n",
        "            for n in (node.left, node.right, node.parent):\n",
        "                if n not in visited:\n",
        "                    q.append((n, dis+1))\n",
        "        return res"
      ],
      "execution_count": null,
      "outputs": []
    },
    {
      "cell_type": "code",
      "metadata": {
        "id": "OuhS0sCuaQzd"
      },
      "source": [
        "#Minsu;s Code\n",
        "\n",
        "from queue import Queue\n",
        "    \n",
        "class Solution:\n",
        "    def distanceK(self, root: TreeNode, target: TreeNode, k: int) -> List[int]:\n",
        "        res = list()\n",
        "        parents = dict()\n",
        "        checked = set()\n",
        "        def setParents(root: TreeNode, parent: TreeNode): # Put root's parent node in the map to connect the child node and the parent node\n",
        "            if root :\n",
        "                parents[root]= parent \n",
        "                setParents(root.left, root)\n",
        "                setParents(root.right, root)\n",
        "        \n",
        "        setParents(root,None)\n",
        "        \n",
        "        queue = Queue();\n",
        "        queue.put(root)\n",
        "        while queue:\n",
        "            got = queue.get();\n",
        "            if got == target: # Find target node to count distance\n",
        "                break\n",
        "            if got.left : \n",
        "                queue.put(got.left)\n",
        "            if got.right : \n",
        "                queue.put(got.right)\n",
        "        \n",
        "        def dfs(root: TreeNode, target: TreeNode, dis: int, k: int): #Find left, right and parent node and the distance is k, add the val in List\n",
        "            if root == None or dis > k or (root.val in checked):\n",
        "                return None\n",
        "            if k == dis:\n",
        "                res.append(root.val)\n",
        "                return None\n",
        "            \n",
        "            checked.add(root.val)\n",
        "            dfs(root.left, target, dis+1, k)\n",
        "            dfs(root.right, target, dis+1, k)\n",
        "            dfs(parents.get(root), target, dis+1, k)\n",
        "        \n",
        "        dfs(got, target, 0, k)\n",
        "        return res"
      ],
      "execution_count": null,
      "outputs": []
    },
    {
      "cell_type": "code",
      "metadata": {
        "id": "XDv_l27ocsw3"
      },
      "source": [
        "# Leo's Code \n",
        "# Definition for a binary tree node.\n",
        "# class TreeNode:\n",
        "#     def __init__(self, x):\n",
        "#         self.val = x\n",
        "#         self.left = None\n",
        "#         self.right = None\n",
        "\n",
        "from collections import defaultdict,deque\n",
        "\n",
        "class Solution:\n",
        "    def distanceK(self, root: TreeNode, target: TreeNode, k: int) -> List[int]:\n",
        "        #degree_dict = defaultdict(list)\n",
        "        graph_table = defaultdict(list)\n",
        "        \n",
        "        def traverse_tree(node, parent):\n",
        "            if not node:\n",
        "                return \n",
        "            \n",
        "            if parent:\n",
        "                graph_table[node.val].append(parent.val)\n",
        "                \n",
        "            if node.left:\n",
        "                graph_table[node.val].append(node.left.val)\n",
        "                traverse_tree(node.left, node)\n",
        "                \n",
        "            if node.right:\n",
        "                graph_table[node.val].append(node.right.val)\n",
        "                traverse_tree(node.right, node)\n",
        "                \n",
        "        \n",
        "        visited = set() \n",
        "        q = deque()\n",
        "        result = [] \n",
        "        \n",
        "        traverse_tree(root, None)\n",
        "        \n",
        "        #BFS\n",
        "        q.append((target.val, 0))\n",
        "        while q:\n",
        "            curr_node, dist = q.popleft()\n",
        "            if curr_node in visited:\n",
        "                continue\n",
        "                \n",
        "            visited.add(curr_node)\n",
        "            \n",
        "            if k == dist:\n",
        "                result.append(curr_node)\n",
        "            \n",
        "            elif dist < k:\n",
        "                for next_node in graph_table[curr_node]:\n",
        "                    q.append((next_node, dist + 1))\n",
        "                    \n",
        "        #print(graph_table)                    \n",
        "        return result\n"
      ],
      "execution_count": null,
      "outputs": []
    },
    {
      "cell_type": "code",
      "metadata": {
        "id": "7hfbRir4pxae"
      },
      "source": [
        "# Mins' code : Leet code solution, but can't get it now. \n",
        "\n",
        "# Definition for a binary tree node.\n",
        "# class TreeNode:\n",
        "#     def __init__(self, x):\n",
        "#         self.val = x\n",
        "#         self.left = None\n",
        "#         self.right = None\n",
        "\n",
        "class Solution:\n",
        "    #def distanceK(self, root: TreeNode, target: TreeNode, k: int) -> List[int]:\n",
        "    def distanceK(self, root, target, K):\n",
        "        def dfs(node, par = None):\n",
        "            if node:\n",
        "                node.par = par\n",
        "                dfs(node.left, node)\n",
        "                dfs(node.right, node)\n",
        "\n",
        "        dfs(root)\n",
        "\n",
        "        queue = collections.deque([(target, 0)])\n",
        "        seen = {target}\n",
        "        while queue:\n",
        "            if queue[0][1] == K:\n",
        "                return [node.val for node, d in queue]\n",
        "            node, d = queue.popleft()\n",
        "            for nei in (node.left, node.right, node.par):\n",
        "                if nei and nei not in seen:\n",
        "                    seen.add(nei)\n",
        "                    queue.append((nei, d+1))\n",
        "\n",
        "        return []"
      ],
      "execution_count": null,
      "outputs": []
    },
    {
      "cell_type": "markdown",
      "metadata": {
        "id": "5Zk_aga_4DQE"
      },
      "source": [
        "# OCT. 15. 2021\n",
        "https://leetcode.com/problems/course-schedule-ii/\n",
        "210. Course Schedule II\n",
        "\n"
      ]
    },
    {
      "cell_type": "code",
      "metadata": {
        "id": "QuOe_OV54uF0"
      },
      "source": [
        "# Joe's Code\n",
        "\n",
        "from collections import defaultdict, deque\n",
        "\n",
        "class Course:\n",
        "    def __init__(self, val):\n",
        "        self.val = val\n",
        "        self._in = 0\n",
        "        self.out = []\n",
        "\n",
        "\n",
        "class Solution:\n",
        "    def findOrder(self, numCourses: int, prerequisites: List[List[int]]) -> List[int]:\n",
        "        graph = defaultdict(Course)\n",
        "        \n",
        "        for i in range(numCourses):\n",
        "            graph[i] = Course(i)\n",
        "        \n",
        "        for pre, course in prerequisites:\n",
        "            graph[course].out.append(pre)\n",
        "            graph[pre]._in += 1\n",
        "\n",
        "        zero_in = deque()\n",
        "        \n",
        "        for key, obj in graph.items():\n",
        "            if obj._in == 0:\n",
        "                zero_in.append(obj)\n",
        "        \n",
        "        res = []\n",
        "\n",
        "        while zero_in:\n",
        "            course = zero_in.popleft()\n",
        "            res.append(course.val)\n",
        "\n",
        "            for c in course.out:\n",
        "                next_course = graph[c]\n",
        "                next_course._in -= 1\n",
        "                if next_course._in == 0:\n",
        "                    zero_in.append(next_course)\n",
        "        \n",
        "        return res if len(res) == numCourses else []"
      ],
      "execution_count": null,
      "outputs": []
    },
    {
      "cell_type": "code",
      "metadata": {
        "colab": {
          "base_uri": "https://localhost:8080/"
        },
        "id": "iwkI4ZohrhNx",
        "outputId": "98f17069-018e-4cc0-d900-3be03322bdb1"
      },
      "source": [
        "# Mins' code\n",
        "## 아주 중요한 문제!! \n",
        "\n",
        "from typing import List\n",
        "\n",
        "class Solution:\n",
        "    def findOrder(self, numCourses, prerequisites): \n",
        "\n",
        "        # building adjacency list of prereqs \n",
        "        # mapping crd and prerequistes\n",
        "        prereq = {c:[] for c in range(numCourses)}\n",
        "        for crs, pre in prerequisites:\n",
        "            prereq[crs].append(pre)\n",
        "        \n",
        "        # 3 states of a course: visited (no-outgoing edges: add to output) / visiting (not added to cycle) / unvisited (not added to output or cycle)\n",
        "        output = []\n",
        "        visit, cycle = set(), set()\n",
        "        def dfs(crs):\n",
        "          if crs in cycle:\n",
        "            return False\n",
        "          if crs in visit:\n",
        "            return True\n",
        "\n",
        "          cycle.add(crs)\n",
        "          for pre in prereq[crs]:\n",
        "            if dfs(pre) == False:\n",
        "              return False\n",
        "          cycle.remove(crs)\n",
        "          visit.add(crs)\n",
        "          output.append(crs)\n",
        "          return True\n",
        "\n",
        "        for c in range(numCourses):\n",
        "          if dfs(c) == False:\n",
        "            return []\n",
        "        return output\n",
        "\n",
        "# 예제 검증\n",
        "numCourses = 4\n",
        "prerequisites = [[1,0],[2,0],[3,1],[3,2]]\n",
        "slu = Solution()\n",
        "slu.findOrder(numCourses, prerequisites)\n",
        "\n",
        "# Input: numCourses = 4, prerequisites = [[1,0],[2,0],[3,1],[3,2]]"
      ],
      "execution_count": null,
      "outputs": [
        {
          "output_type": "execute_result",
          "data": {
            "text/plain": [
              "[0, 1, 2, 3]"
            ]
          },
          "metadata": {},
          "execution_count": 10
        }
      ]
    },
    {
      "cell_type": "code",
      "metadata": {
        "id": "xA-55vRetlgu"
      },
      "source": [
        ""
      ],
      "execution_count": null,
      "outputs": []
    },
    {
      "cell_type": "markdown",
      "metadata": {
        "id": "xw_YFAczcM7x"
      },
      "source": [
        "# OCT. 18. 2021\n",
        "https://leetcode.com/problems/top-k-frequent-elements/\n",
        "347. Top K Frequent Elements\n"
      ]
    },
    {
      "cell_type": "code",
      "metadata": {
        "id": "Xfh9TVLxcW1p"
      },
      "source": [
        "# Joe's Code\n",
        "# Time O(NlongN), Space: O(N)\n",
        "from collections import defaultdict\n",
        "\n",
        "class Solution:\n",
        "    def topKFrequent(self, nums: List[int], k: int) -> List[int]:\n",
        "        d = defaultdict(int)\n",
        "        \n",
        "        for n in nums:\n",
        "            d[n] += 1\n",
        "        \n",
        "        array = [(k, v) for k, v in d.items()]\n",
        "        array.sort(key=lambda x: x[1], reverse=True)\n",
        "        return [array[i][0] for i in range(k)]"
      ],
      "execution_count": null,
      "outputs": []
    },
    {
      "cell_type": "code",
      "metadata": {
        "id": "7D4Bca5f4Tvk"
      },
      "source": [
        "# Minsu's Code\n",
        "from queue import PriorityQueue\n",
        "from collections import defaultdict\n",
        "\n",
        "class Solution:\n",
        "    def topKFrequent(self, nums: List[int], k: int) -> List[int]:\n",
        "        res = list()\n",
        "        numCount = defaultdict(int)\n",
        "        pq = PriorityQueue()\n",
        "        \n",
        "        for num in nums:\n",
        "            numCount[num] += 1\n",
        "            \n",
        "        for num, count in numCount.items():\n",
        "            pq.put((-count, num))\n",
        "        \n",
        "        i=0\n",
        "        while i<k:\n",
        "            res.append(pq.get()[1])\n",
        "            i += 1\n",
        "        \n",
        "        return res"
      ],
      "execution_count": null,
      "outputs": []
    },
    {
      "cell_type": "code",
      "metadata": {
        "id": "dGT_ZWLFI6aE"
      },
      "source": [
        "# Leo's code \n",
        "# Time O (N log N ), space : N \n",
        "\n",
        "import heapq \n",
        "from collections import defaultdict\n",
        "\n",
        "class Solution:\n",
        "    def topKFrequent(self, nums: List[int], k: int) -> List[int]:\n",
        "        ans = []\n",
        "        temp = [] \n",
        "        \n",
        "        freq = defaultdict(int)\n",
        "        for n in nums:\n",
        "            freq[n] += 1\n",
        "        \n",
        "        \n",
        "        for key,val in freq.items():\n",
        "            heapq.heappush( temp,  (-val, key ) )\n",
        "        \n",
        "        # log N heapq is binary heap with logn push and log n pop \n",
        "        #heapq.heapify(nums)\n",
        "        \n",
        "        for i in range(k):\n",
        "            ans.append(heapq.heappop(temp)[1])\n",
        "            \n",
        "        return ans\n",
        "        "
      ],
      "execution_count": null,
      "outputs": []
    },
    {
      "cell_type": "code",
      "metadata": {
        "colab": {
          "base_uri": "https://localhost:8080/"
        },
        "id": "TAbDsqBPczPE",
        "outputId": "cf0ee2f0-48e3-48f0-ec47-fe2f940ac919"
      },
      "source": [
        "# Mins' code\n",
        "\n",
        "from typing import List\n",
        "\n",
        "class Solution:\n",
        "  def topFrequent(self, num: List[int], k: int) -> List[int]:\n",
        "    count = {}\n",
        "    freq = [[] for i in range(len(num) + 1)]\n",
        "\n",
        "    for n in nums:\n",
        "      count[n] = 1 + count.get(n, 0)\n",
        "    for n, c in count.items():\n",
        "      freq[c].append(n)\n",
        "\n",
        "    res = []\n",
        "    # print(freq)\n",
        "    for i in range(len(freq) -1, 0, -1):\n",
        "      for n in freq[i]:\n",
        "        res.append(n)\n",
        "        if len(res) == k:\n",
        "          return res\n",
        "\n",
        "nums = [1,1,1,2,2,2]\n",
        "k = 2\n",
        "slu = Solution()\n",
        "slu.topFrequent(nums,k)"
      ],
      "execution_count": null,
      "outputs": [
        {
          "output_type": "stream",
          "name": "stdout",
          "text": [
            "[[], [], [], [1, 2], [], [], []]\n"
          ]
        },
        {
          "output_type": "execute_result",
          "data": {
            "text/plain": [
              "[1, 2]"
            ]
          },
          "metadata": {},
          "execution_count": 5
        }
      ]
    },
    {
      "cell_type": "markdown",
      "metadata": {
        "id": "82cf5qig5s01"
      },
      "source": [
        "#OCT. 19. 2021\n",
        "\n",
        "https://leetcode.com/problems/the-maze/\n",
        "\n",
        "###490. The Maze\n",
        "###### Medium\n",
        "\n",
        "There is a ball in a maze with empty spaces (represented as 0) and walls (represented as 1). The ball can go through the empty spaces by rolling up, down, left or right, but it won't stop rolling until hitting a wall. When the ball stops, it could choose the next direction.\n",
        "\n",
        "Given the m x n maze, the ball's start position and the destination, where start = [startrow, startcol] and destination = [destinationrow, destinationcol], return true if the ball can stop at the destination, otherwise return false.\n",
        "\n",
        "You may assume that the borders of the maze are all walls (see examples).\n",
        "\n",
        " \n",
        "\n",
        "**Example 1:**\n",
        ">![이미지](https://assets.leetcode.com/uploads/2021/03/31/maze1-1-grid.jpg)\n",
        ">**Input:** maze = [[0,0,1,0,0],[0,0,0,0,0],[0,0,0,1,0],[1,1,0,1,1],[0,0,0,0,0]], start = [0,4], destination = [4,4]\n",
        ">\n",
        ">**Output:** true\n",
        ">\n",
        ">**Explanation:** One possible way is : left -> down -> left -> down -> right -> down -> right.\n",
        "\n",
        "**Example 2:**\n",
        ">![이미지](https://assets.leetcode.com/uploads/2021/03/31/maze1-2-grid.jpg)\n",
        ">\n",
        ">**Input:** maze = [[0,0,1,0,0],[0,0,0,0,0],[0,0,0,1,0],[1,1,0,1,1],[0,0,0,0,0]], start = [0,4], destination = [3,2]\n",
        ">\n",
        ">**Output:** false\n",
        ">\n",
        ">**Explanation:** There is no way for the ball to stop at the destination. Notice that you can pass through the destination but you cannot stop there.\n",
        "\n",
        "**Example 3:**\n",
        "\n",
        ">**Input:** maze = [[0,0,0,0,0],[1,1,0,0,1],[0,0,0,0,0],[0,1,0,0,1],[0,1,0,0,0]], start = [4,3], destination = [0,1]\n",
        ">\n",
        ">**Output:** false\n",
        ">\n",
        "\n",
        "**Constraints:**\n",
        ">* m == maze.length\n",
        ">* n == maze[i].length\n",
        ">* 1 <= m, n <= 100\n",
        ">* maze[i][j] is 0 or 1.\n",
        ">* start.length == 2\n",
        ">* destination.length == 2\n",
        ">* 0 <= startrow, destinationrow <= m\n",
        ">* 0 <= startcol, destinationcol <= n\n",
        ">* Both the ball and the destination exist in an empty space, and they will not be in the same position initially.\n",
        "The maze contains at least 2 empty spaces.\n"
      ]
    },
    {
      "cell_type": "code",
      "metadata": {
        "id": "W8bLg6iS5yql"
      },
      "source": [
        "#Minsu's code\n",
        "\n",
        "class Solution:\n",
        "    def hasPath(self, maze: List[List[int]], start: List[int], destination: List[int]) -> bool:\n",
        "        rows = len(maze)\n",
        "        cols = len(maze[0])\n",
        "        visited = {}\n",
        "        directions = ((0,1),(0,-1),(1,0),(-1,0))\n",
        "        \n",
        "        def dfs(start, visited):\n",
        "            if visited.get((start[0],start[1])):\n",
        "                return False\n",
        "            if start == destination:\n",
        "                return True\n",
        "            \n",
        "            visited[(start[0],start[1])] = True\n",
        "            for direction in directions:\n",
        "                dx = start[0]\n",
        "                dy = start[1]\n",
        "                while dx + direction[0] >= 0 and dx + direction[0] < rows and dy + direction[1] >= 0 and dy + direction[1] < cols and maze[dx+direction[0]][dy+direction[1]] !=1:\n",
        "                        dx, dy = dx + direction[0], dy + direction[1]\n",
        "                if dfs([dx, dy], visited):\n",
        "                    return True\n",
        "            return False\n",
        "        \n",
        "        return dfs(start, visited)"
      ],
      "execution_count": null,
      "outputs": []
    },
    {
      "cell_type": "code",
      "metadata": {
        "colab": {
          "base_uri": "https://localhost:8080/"
        },
        "id": "QJVJ0-RUXKpQ",
        "outputId": "2a6db053-e4e0-4ef7-8c93-4b3b6cc6c750"
      },
      "source": [
        "from collections import deque\n",
        "\n",
        "class Solution:\n",
        "    def hasPath(self, maze, start, destination):\n",
        "        dx = [ 0 , 0 , 1 , -1]\n",
        "        dy = [ 1, -1 , 0 , 0 ]\n",
        "\n",
        "        if start == destination:\n",
        "            return True\n",
        "        visited = set()\n",
        "        q = deque()\n",
        "        q.append( ( start[0], start[1] ) )\n",
        "        visited.add(( start[0], start[1] ) )\n",
        "\n",
        "        while q:\n",
        "            x,y = q.popleft()\n",
        "            if x == destination[0] and y == destination[1]:\n",
        "                return True\n",
        "\n",
        "            for k in range(4):\n",
        "                nx, ny  = x + dx[k], y + dy[k]\n",
        "                while 0 <= nx < len(maze) and 0 <= ny < len(maze[0]) and maze[nx][ny] != 1:\n",
        "                    nx += dx[k]\n",
        "                    ny += dy[k]\n",
        "\n",
        "                nx -= dx[k]\n",
        "                ny -= dy[k]\n",
        "\n",
        "                if ( (nx,ny) not in visited ):\n",
        "                    visited.add((nx,ny))\n",
        "                    q.append((nx,ny))\n",
        "        return False\n",
        "\n",
        "\n",
        "sol1 = Solution()\n",
        "print(sol1.hasPath( [ [0,0,1,0,0],[0,0,0,0,0],[0,0,0,1,0],[1,1,0,1,1],[0,0,0,0,0] ], (0,4), (4,4) ))\n",
        "print(sol1.hasPath( [ [0,0,1,0,0],[0,0,0,0,0],[0,0,0,1,0],[1,1,0,1,1],[0,0,0,0,0] ], (0,4), (3,2) ))\n",
        "print(sol1.hasPath( [[0,0,0,0,0],[1,1,0,0,1],[0,0,0,0,0],[0,1,0,0,1],[0,1,0,0,0]], (4,3), (0,1) ))\n",
        "\n",
        "\n",
        "\n"
      ],
      "execution_count": null,
      "outputs": [
        {
          "output_type": "stream",
          "name": "stdout",
          "text": [
            "False\n",
            "True\n",
            "False\n"
          ]
        }
      ]
    },
    {
      "cell_type": "code",
      "metadata": {
        "colab": {
          "base_uri": "https://localhost:8080/"
        },
        "id": "2gYgS6DTh-r_",
        "outputId": "efd407ab-eb89-4cf3-b0c6-bd3ee92ab0e9"
      },
      "source": [
        "#  Mins': 아래 유튭코드 \n",
        "# https://www.youtube.com/watch?v=mjDfgdGp-II&t=201s\n",
        "\n",
        "from typing import List\n",
        "\n",
        "maze = [[0,0,1,0,0],[0,0,0,0,0],[0,0,0,1,0],[1,1,0,1,1],[0,0,0,0,0]]\n",
        "start = [0,4]\n",
        "destination = [4,4]\n",
        "\n",
        "class Solution:\n",
        "    def hasPath(self, maze:List[List[int]], start: List[int], destination: List[int]) -> bool: \n",
        "        m, n, visited = len(maze), len(maze[0]), set()\n",
        "        def dfs(x, y):\n",
        "            if (x,y) not in visited:\n",
        "                visited.add((x,y))\n",
        "            else:\n",
        "                return False\n",
        "            if [x,y] == destination:\n",
        "                return True\n",
        "            for i, j in (0, -1), (0, 1), (-1, 0), (1, 0):\n",
        "                new_X, new_Y = x, y\n",
        "                while 0 <= new_X + i < m and 0 <= new_Y + j < n and maze[new_X + i][new_Y +j] != 1:\n",
        "                    new_X += i\n",
        "                    new_Y += j\n",
        "                if dfs(new_X, new_Y):\n",
        "                    return True\n",
        "            return False\n",
        "        return(dfs(*start))\n",
        "\n",
        "\n",
        "slu = Solution()\n",
        "slu.hasPath(maze, start, destination)"
      ],
      "execution_count": null,
      "outputs": [
        {
          "output_type": "execute_result",
          "data": {
            "text/plain": [
              "True"
            ]
          },
          "metadata": {},
          "execution_count": 2
        }
      ]
    },
    {
      "cell_type": "code",
      "metadata": {
        "id": "DojPWcRTktoi"
      },
      "source": [
        "# Joe's Code\n",
        "\n",
        "# https://leetcode.com/problems/the-maze/\n",
        "\n",
        "from collections import deque\n",
        "\n",
        "\n",
        "def find_maze(maze, start, destination):\n",
        "    q = deque([start])\n",
        "    visited = set()\n",
        "    while q:\n",
        "        cur_row, cur_col = q.popleft()\n",
        "        visited.add((cur_row, cur_col))\n",
        "        if cur_row == destination[0] and cur_col == destination[1]:\n",
        "            return True\n",
        "        for d in ((-1, 0), (0, -1), (1, 0), (0, 1)):\n",
        "            nr, nc = cur_row+d[0], cur_col+d[1]\n",
        "            while 0 <= nr < len(maze) and 0 <= nc < len(maze[0]) and maze[nr][nc] != 1:\n",
        "                nr += d[0]\n",
        "                nc += d[1]\n",
        "            nr -= d[0]\n",
        "            nc -= d[1]\n",
        "            if (nr, nc) not in visited:\n",
        "                q.append((nr, nc))\n",
        "    return False\n",
        "\n",
        "\n",
        "if __name__ == '__main__':\n",
        "    maze = [[0, 0, 1, 0, 0], [0, 0, 0, 0, 0], [0, 0, 0, 1, 0], [1, 1, 0, 1, 1], [0, 0, 0, 0, 0]]\n",
        "    start = [0, 4]\n",
        "    destination = [4, 4]\n",
        "    assert find_maze(maze, start, destination)\n",
        "    maze = [[0, 0, 1, 0, 0], [0, 0, 0, 0, 0], [0, 0, 0, 1, 0], [1, 1, 0, 1, 1], [0, 0, 0, 0, 0]]\n",
        "    start = [0, 4]\n",
        "    destination = [3, 2]\n",
        "    assert not find_maze(maze, start, destination)\n",
        "    maze = [[0, 0, 0, 0, 0], [1, 1, 0, 0, 1], [0, 0, 0, 0, 0], [0, 1, 0, 0, 1], [0, 1, 0, 0, 0]]\n",
        "    start = [4, 3]\n",
        "    destination = [0, 1]\n",
        "    assert not find_maze(maze, start, destination)\n"
      ],
      "execution_count": null,
      "outputs": []
    },
    {
      "cell_type": "markdown",
      "metadata": {
        "id": "1XYntIkHfgar"
      },
      "source": [
        "# OCT. 20. 2021\n",
        "\n",
        "LeetCode #121 \n",
        "\n",
        "https://leetcode.com/problems/best-time-to-buy-and-sell-stock/\n",
        "\n",
        "\n",
        "시간 되시는 분은 Advanced version 도 :) #122\n",
        "https://leetcode.com/problems/best-time-to-buy-and-sell-stock-ii/\n",
        "\n"
      ]
    },
    {
      "cell_type": "code",
      "metadata": {
        "id": "ghocQloc2V0n"
      },
      "source": [
        "#Minsu's code \n",
        "#122 Time O(N), Space O(1)\n",
        "class Solution:\n",
        "    def maxProfit(self, prices: List[int]) -> int:\n",
        "        sumProfit = 0\n",
        "        \n",
        "        for i in range(1, len(prices)):\n",
        "            sumProfit = sumProfit + max(0,prices[i]-prices[i-1]) # Cumulative Sum the gap with i - 1 based on i (exclude nagative number)\n",
        "        \n",
        "        return sumProfit\n",
        "\n",
        "#121 Time O(N), Space O(1)\n",
        "class Solution:\n",
        "    def maxProfit(self, prices: List[int]) -> int:\n",
        "        l, r = 0, 1\n",
        "        maxProf = 0\n",
        "        while r<len(prices):\n",
        "            if prices[l]<prices[r]:\n",
        "                maxProf = max(maxProf,prices[r]-prices[l])\n",
        "            else:\n",
        "                l = r \n",
        "            r += 1\n",
        "        \n",
        "        return maxProf"
      ],
      "execution_count": null,
      "outputs": []
    },
    {
      "cell_type": "code",
      "metadata": {
        "id": "lrAIhrek18n5"
      },
      "source": [
        "# Joe's code\n",
        "# Time O(N), Space O(1)\n",
        "class Solution:\n",
        "    def maxProfit(self, prices: List[int]) -> int:\n",
        "        lowest = float('inf')\n",
        "        res = 0\n",
        "        \n",
        "        for price in prices:\n",
        "            res = max(res, price-lowest)\n",
        "            lowest = min(lowest, price)\n",
        "        return res\n",
        "\n",
        "# Time O(N), Space O(1)\n",
        "class Solution:\n",
        "    def maxProfit(self, prices: List[int]) -> int:\n",
        "        if not prices:\n",
        "            return 0\n",
        "        res = 0\n",
        "        for i, p in enumerate(prices):\n",
        "            if i == 0:\n",
        "                continue\n",
        "            if p > prices[i-1]:\n",
        "                res += (p - prices[i-1])\n",
        "        return res\n",
        "\n"
      ],
      "execution_count": null,
      "outputs": []
    },
    {
      "cell_type": "markdown",
      "metadata": {
        "id": "JF6AieLRQxuo"
      },
      "source": [
        "# OCT. 21. 2021\n",
        "https://leetcode.com/problems/path-with-minimum-effort/\n",
        "1631. Path With Minimum Effort"
      ]
    },
    {
      "cell_type": "code",
      "metadata": {
        "id": "_KJKZ4Tde-nS"
      },
      "source": [
        "# Leo's code \n",
        "from collections import deque\n",
        "\n",
        "from typing import List\n",
        "\n",
        "class Solution:\n",
        "    def minimumEffortPath(self, heights: List[List[int]]) -> int:\n",
        "        # 시작점을 기준으로 BFS를 하는데\n",
        "        dx = [1, -1, 0, 0]\n",
        "        dy = [0, 0, 1, -1]\n",
        "        # result = []\n",
        "\n",
        "        start = (0, 0)\n",
        "        goal = (len(heights), len(heights[0]))\n",
        "\n",
        "        def can_reach_to_the_dest(mid):\n",
        "            visited = set()\n",
        "            q = deque()\n",
        "            q.append(start)\n",
        "\n",
        "            while q:\n",
        "                curr = q.popleft()\n",
        "                if curr == (goal[0]-1, goal[1]-1):\n",
        "                    return True\n",
        "                visited.add(curr)\n",
        "\n",
        "                for k in range(4):\n",
        "                    nx, ny = curr[0] + dx[k], curr[1] + dy[k]\n",
        "\n",
        "                    if 0 <= nx < goal[0] and 0 <= ny < goal[1] and (nx, ny) not in visited:\n",
        "                        effort_needed = abs(heights[nx][ny] - heights[curr[0]][curr[1]])\n",
        "\n",
        "                        if effort_needed <= mid:\n",
        "                            visited.add((nx, ny))\n",
        "                            q.append((nx, ny))\n",
        "\n",
        "            return False\n",
        "\n",
        "        left, right = 0, 10 ** 6\n",
        "        while left < right:\n",
        "            mid = left + ((right - left) // 2)\n",
        "            # 해당 path 로 BFS\n",
        "            if can_reach_to_the_dest(mid):\n",
        "                right = mid\n",
        "            else:\n",
        "                left = mid + 1\n",
        "\n",
        "        return left\n",
        "\n",
        "\n",
        "sol1 =  Solution()\n",
        "print(sol1.minimumEffortPath([[1,2,2],[3,8,2],[5,3,5]] ))"
      ],
      "execution_count": null,
      "outputs": []
    },
    {
      "cell_type": "code",
      "metadata": {
        "id": "jblab8WSmLqs"
      },
      "source": [
        "#Minsu's code \n",
        "#Priority Queue + BFS\n",
        "#p.s Backtracking method is TLE.\n",
        "\n",
        "from queue import PriorityQueue\n",
        "\n",
        "class Solution:\n",
        "    def minimumEffortPath(self, heights: List[List[int]]) -> int:\n",
        "        rows, cols = len(heights), len(heights[0])\n",
        "        visited=set()\n",
        "        pq = PriorityQueue()\n",
        "        \n",
        "        pq.put((0,0,0)) #to find the Minimum effort value, this Priority Queue reference value is the effort value. and coordinate? 좌표....ㅜ\n",
        "        \n",
        "        directions = ((0,1),(0,-1),(1,0),(-1,0))\n",
        "        \"\"\"\n",
        "        If I use Priority Queue, I can use dfs or bfs to find values. (Refer to the Maze problem(19, Oct, 2021)) : I? You?\n",
        "        \"\"\"\n",
        "        while pq:\n",
        "            got = pq.get()\n",
        "            effort = got[0]\n",
        "            if got[1] == rows-1 and got[2] == cols-1:\n",
        "                break\n",
        "            visited.add((got[1],got[2]))\n",
        "            \n",
        "            for direction in directions:\n",
        "                dx, dy = got[1] + direction[0], got[2] + direction[1]\n",
        "                if dx < rows and dx >=0 and dy >= 0 and dy < cols and (dx, dy) not in visited:\n",
        "                    eff = max(effort, abs(heights[dx][dy] - heights[got[1]][got[2]]))\n",
        "                    pq.put((eff,dx,dy))\n",
        "            \n",
        "        return effort"
      ],
      "execution_count": null,
      "outputs": []
    }
  ]
}