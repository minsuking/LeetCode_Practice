{
  "nbformat": 4,
  "nbformat_minor": 0,
  "metadata": {
    "colab": {
      "name": "2022_Jan_LeetCodeStudy.ipynb",
      "provenance": [],
      "collapsed_sections": [],
      "toc_visible": true,
      "include_colab_link": true
    },
    "kernelspec": {
      "name": "python3",
      "display_name": "Python 3"
    },
    "language_info": {
      "name": "python"
    }
  },
  "cells": [
    {
      "cell_type": "markdown",
      "metadata": {
        "id": "view-in-github",
        "colab_type": "text"
      },
      "source": [
        "<a href=\"https://colab.research.google.com/github/minsuking/LeetCode_Practice/blob/master/2022_Jan_LeetCodeStudy.ipynb\" target=\"_parent\"><img src=\"https://colab.research.google.com/assets/colab-badge.svg\" alt=\"Open In Colab\"/></a>"
      ]
    },
    {
      "cell_type": "markdown",
      "source": [
        "# 새해에도 화이팅 입니다 ! "
      ],
      "metadata": {
        "id": "MgGqHkGH1Mrg"
      }
    },
    {
      "cell_type": "markdown",
      "source": [
        "# Introduction\n",
        "MeetUp Link\n",
        "\n",
        "https://meet.google.com/vku-dnyp-aen\n",
        "\n",
        "문제 출제 순서\n",
        "\n",
        "Joseph -> Leo -> Minsu -> Youngsu\n",
        "\n",
        "leokim2024@gmail.com\n",
        "\n",
        "terun707@gmail.com\n",
        "\n",
        "minsu.kim08@gmail.com\n",
        "\n",
        "2021 Amazon OA (SDE 1 105 Mins):\n",
        "Two Sum Variation: https://leetcode.com/discuss/interview-question/938809/amazon-oa-amazon-music-runtime#:~:text=Amazon%20music%20is%20working%20on,the%20songs%20from%20a%20list. *Lots of edge cases handling required to pass all test cases\n",
        "\n",
        "https://leetcode.com/discuss/interview-question/1488281/amazon-oa"
      ],
      "metadata": {
        "id": "Hfu1gb-80h7c"
      }
    },
    {
      "cell_type": "markdown",
      "source": [
        ""
      ],
      "metadata": {
        "id": "3WpBmc2T1ACj"
      }
    },
    {
      "cell_type": "markdown",
      "source": [
        "# 2022 Jan 3rd \n",
        "\n",
        "Leetcode 1041. Robot Bounded in Circle\n",
        "\n",
        "https://leetcode.com/problems/robot-bounded-in-circle/\n"
      ],
      "metadata": {
        "id": "qftma_MO1Bbt"
      }
    },
    {
      "cell_type": "code",
      "source": [
        "#Minsu's Code\n",
        "\n",
        "class Solution:\n",
        "    def isRobotBounded(self, instructions: str) -> bool:\n",
        "        dirs = ((1,0),(0,-1),(-1,0),(0,1)) #북쪽부터 시작\n",
        "        i = 0\n",
        "        dy, dx = 0, 0\n",
        "        \n",
        "        res = False\n",
        "        \n",
        "        for c in instructions:\n",
        "            if c == 'R':\n",
        "                i -= 1\n",
        "                if i < 0:\n",
        "                    i = 3\n",
        "            elif c == 'L':\n",
        "                i += 1\n",
        "                i = i % 4\n",
        "            else:\n",
        "                dy += dirs[i][0]\n",
        "                dx += dirs[i][1]\n",
        "        if dy == 0 and dx == 0: #제자리\n",
        "            res = True\n",
        "        if i > 0: #방향이 시작한 방향인지 체크\n",
        "            res = True\n",
        "        return res"
      ],
      "metadata": {
        "id": "wyUYqDSk0-in"
      },
      "execution_count": null,
      "outputs": []
    }
  ]
}