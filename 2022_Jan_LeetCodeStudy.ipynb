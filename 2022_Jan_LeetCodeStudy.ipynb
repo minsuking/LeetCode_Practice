{
  "nbformat": 4,
  "nbformat_minor": 0,
  "metadata": {
    "colab": {
      "name": "2022_Jan_LeetCodeStudy.ipynb",
      "provenance": [],
      "collapsed_sections": [],
      "toc_visible": true,
      "include_colab_link": true
    },
    "kernelspec": {
      "name": "python3",
      "display_name": "Python 3"
    },
    "language_info": {
      "name": "python"
    }
  },
  "cells": [
    {
      "cell_type": "markdown",
      "metadata": {
        "id": "view-in-github",
        "colab_type": "text"
      },
      "source": [
        "<a href=\"https://colab.research.google.com/github/minsuking/LeetCode_Practice/blob/master/2022_Jan_LeetCodeStudy.ipynb\" target=\"_parent\"><img src=\"https://colab.research.google.com/assets/colab-badge.svg\" alt=\"Open In Colab\"/></a>"
      ]
    },
    {
      "cell_type": "markdown",
      "source": [
        "# 새해에도 화이팅 입니다 ! "
      ],
      "metadata": {
        "id": "MgGqHkGH1Mrg"
      }
    },
    {
      "cell_type": "markdown",
      "source": [
        "# Introduction\n",
        "MeetUp Link\n",
        "\n",
        "https://meet.google.com/vku-dnyp-aen\n",
        "\n",
        "문제 출제 순서\n",
        "\n",
        "Joseph -> Leo -> Minsu -> Youngsu -> Seongho -> Jinjoo \n",
        "\n",
        "leokim2024@gmail.com\n",
        "\n",
        "terun707@gmail.com\n",
        "\n",
        "minsu.kim08@gmail.com\n",
        "\n",
        "jinson355@gmail.com\n",
        "\n",
        "seongholee4@gmail.com\n",
        "\n",
        "2021 Amazon OA (SDE 1 105 Mins):\n",
        "Two Sum Variation: https://leetcode.com/discuss/interview-question/938809/amazon-oa-amazon-music-runtime#:~:text=Amazon%20music%20is%20working%20on,the%20songs%20from%20a%20list. *Lots of edge cases handling required to pass all test cases\n",
        "\n",
        "https://leetcode.com/discuss/interview-question/1488281/amazon-oa"
      ],
      "metadata": {
        "id": "Hfu1gb-80h7c"
      }
    },
    {
      "cell_type": "markdown",
      "source": [
        ""
      ],
      "metadata": {
        "id": "3WpBmc2T1ACj"
      }
    },
    {
      "cell_type": "markdown",
      "source": [
        "# Jan. 03. 2022\n",
        "\n",
        "Leetcode 1041. Robot Bounded in Circle\n",
        "\n",
        "https://leetcode.com/problems/robot-bounded-in-circle/\n"
      ],
      "metadata": {
        "id": "qftma_MO1Bbt"
      }
    },
    {
      "cell_type": "code",
      "source": [
        "#Minsu's Code\n",
        "\n",
        "class Solution:\n",
        "    def isRobotBounded(self, instructions: str) -> bool:\n",
        "        dirs = ((1,0),(0,-1),(-1,0),(0,1)) #북쪽부터 시작\n",
        "        i = 0\n",
        "        dy, dx = 0, 0\n",
        "        \n",
        "        res = False\n",
        "        \n",
        "        for c in instructions:\n",
        "            if c == 'R':\n",
        "                i -= 1\n",
        "                if i < 0:\n",
        "                    i = 3\n",
        "            elif c == 'L':\n",
        "                i += 1\n",
        "                i = i % 4\n",
        "            else:\n",
        "                dy += dirs[i][0]\n",
        "                dx += dirs[i][1]\n",
        "        if dy == 0 and dx == 0: #제자리\n",
        "            res = True\n",
        "        if i > 0: #방향이 시작한 방향인지 체크\n",
        "            res = True\n",
        "        return res"
      ],
      "metadata": {
        "id": "wyUYqDSk0-in"
      },
      "execution_count": null,
      "outputs": []
    },
    {
      "cell_type": "code",
      "source": [
        "# Joe's Code\n",
        "# Time: O(n), space: O(1)\n",
        "\n",
        "class Solution:\n",
        "    def isRobotBounded(self, instructions: str) -> bool:\n",
        "        direction = (\n",
        "            (-1, 0),  # up\n",
        "            (0, 1),  # right\n",
        "            (1, 0),  # down\n",
        "            (0, -1),  # left\n",
        "        )\n",
        "        cur = [0, 0]\n",
        "        d = 0\n",
        "        for i in instructions:\n",
        "            if i == 'L':\n",
        "                d = (d - 1) % 4\n",
        "            elif i == 'R':\n",
        "                d = (d + 1) % 4\n",
        "            else:\n",
        "                for j in range(2):\n",
        "                    cur[j] += direction[d][j]\n",
        "\n",
        "        return False if cur != [0, 0] and d == 0 else True\n",
        "        # return bool(cur == [0, 0])\n"
      ],
      "metadata": {
        "id": "0BSfoTZYAwpu"
      },
      "execution_count": null,
      "outputs": []
    },
    {
      "cell_type": "code",
      "source": [
        "# Youngsu\n",
        "class Solution(object):\n",
        "    def isRobotBounded(self, instructions):\n",
        "        \"\"\"\n",
        "        :type instructions: str\n",
        "        :rtype: bool\n",
        "        \"\"\"\n",
        "        direction = 0 # 0:up 1:right 2:down 3:left\n",
        "        x, y = 0, 0\n",
        "        for inst in instructions:\n",
        "            if inst == 'L':\n",
        "                direction -= 1\n",
        "                if direction == -1:\n",
        "                    direction = 3\n",
        "            elif inst == 'R':\n",
        "                direction += 1\n",
        "                if direction == 4:\n",
        "                    direction = 0\n",
        "            elif inst == 'G':\n",
        "                if direction == 0:\n",
        "                    y += 1\n",
        "                elif direction == 1:\n",
        "                    x += 1\n",
        "                elif direction == 2:\n",
        "                    y -= 1\n",
        "                elif direction == 3:\n",
        "                    x -= 1\n",
        "        if (x,y) == (0,0):\n",
        "            return True\n",
        "        elif direction == 0:\n",
        "            return False\n",
        "        return True"
      ],
      "metadata": {
        "id": "1hslLGiSCEYL"
      },
      "execution_count": null,
      "outputs": []
    },
    {
      "cell_type": "code",
      "source": [
        "#Leo's \n",
        "class Solution:\n",
        "    def isRobotBounded(self, instructions: str) -> bool:\n",
        "        # run simulation \n",
        "        #visited = set()\n",
        "        #curr_pos = (0,0) # x, y\n",
        "        curr_x, curr_y = 0,0\n",
        "        #curr_direction = \"N\" # 0 :\"N\", 1:\"\"\n",
        "        dir_x,dir_y = 0,1 #facing north \n",
        "        #moving = {\"N\":(0,1),\"E\":(-1,0),\"W\":(1,0),\"S\":(0,-1)}\n",
        "        \n",
        "        for i in instructions:\n",
        "            if i == \"G\":\n",
        "                curr_x += dir_x\n",
        "                curr_y += dir_y\n",
        "        #        if (curr_x, curr_y, curr_direction) in visited:\n",
        "        #            return True\n",
        "                \n",
        "        #        visited.add((curr_x,curr_y,curr_direction))\n",
        "            \n",
        "            elif i ==\"L\":    #N:(0,1) -L-> W:(-1,0) -L-> S:(0,-1) ....  x, y를 바꾸고, x 에 -1 \n",
        "                dir_x,dir_y =  dir_y, -dir_x \n",
        "                             # x,y를 바꾸고 y 에 -1 \n",
        "            else:\n",
        "                dir_x,dir_y =  -dir_y, dir_x \n",
        "            \n",
        "        return (curr_x ==0 and curr_y==0) or (dir_y != 1).  ->  <-   GL \n",
        "\n",
        "\n",
        "        # (0,0) : N \n",
        "        #G operation: (0,1) : N \n",
        "        #L operation: (0,1) : W\n",
        "         "
      ],
      "metadata": {
        "id": "leRboqqQEOM3"
      },
      "execution_count": null,
      "outputs": []
    },
    {
      "cell_type": "markdown",
      "source": [
        "# Jan. 04. 2022\n",
        "\n",
        "Leetcode 1405. Longest Happy String\n",
        "\n",
        "https://leetcode.com/problems/longest-happy-string/"
      ],
      "metadata": {
        "id": "w4FxP4q0Q1ab"
      }
    },
    {
      "cell_type": "code",
      "source": [
        "#Minsu's Code \n",
        "\n",
        "from queue import PriorityQueue\n",
        "class Solution:\n",
        "    def longestDiverseString(self, a: int, b: int, c: int) -> str:\n",
        "        \n",
        "        class pq(PriorityQueue): #PriortyQueue peek 구현, 참조 : https://www.pythonpool.com/python-queue-peek/\n",
        "            def peek(self):\n",
        "                return self.queue[0]\n",
        "            \n",
        "        class Data:\n",
        "            def __init__(self, count, letter):\n",
        "                self.count = count\n",
        "                self.letter = letter\n",
        "            \n",
        "            def __lt__(self, other):\n",
        "                return self.count > other.count\n",
        "            \n",
        "        que = pq()\n",
        "        def inputData(count, letter): #0체크해서 넣기위해 \n",
        "            if count != 0:\n",
        "                que.put(Data(count,letter))\n",
        "                \n",
        "        inputData(a,\"a\")\n",
        "        inputData(b,\"b\")\n",
        "        inputData(c,\"c\")\n",
        "        \n",
        "        #currLetter = que[0].letter\n",
        "        curr = que.peek()\n",
        "        currLetter = curr.letter\n",
        "        currCount = 0\n",
        "        \n",
        "        res = \"\"\n",
        "        while not que.empty():\n",
        "            data = que.get()\n",
        "            if data.letter == currLetter and currCount == 2:\n",
        "                if not que.empty():\n",
        "                    temp = que.get()\n",
        "                    inputData(data.count, data.letter)\n",
        "                    data = temp\n",
        "                else:\n",
        "                    break\n",
        "            res += data.letter\n",
        "            data.count -= 1\n",
        "            \n",
        "            if data.letter == currLetter:\n",
        "                currCount += 1\n",
        "            else:\n",
        "                currLetter = data.letter\n",
        "                currCount = 1\n",
        "                \n",
        "            if data.count > 0:\n",
        "                inputData(data.count, data.letter)\n",
        "        return res"
      ],
      "metadata": {
        "id": "rBTc0SlmmfwW"
      },
      "execution_count": null,
      "outputs": []
    }
  ]
}