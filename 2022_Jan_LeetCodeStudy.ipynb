{
  "nbformat": 4,
  "nbformat_minor": 0,
  "metadata": {
    "colab": {
      "name": "2022_Jan_LeetCodeStudy.ipynb",
      "provenance": [],
      "collapsed_sections": [],
      "include_colab_link": true
    },
    "kernelspec": {
      "name": "python3",
      "display_name": "Python 3"
    },
    "language_info": {
      "name": "python"
    }
  },
  "cells": [
    {
      "cell_type": "markdown",
      "metadata": {
        "id": "view-in-github",
        "colab_type": "text"
      },
      "source": [
        "<a href=\"https://colab.research.google.com/github/minsuking/LeetCode_Practice/blob/master/2022_Jan_LeetCodeStudy.ipynb\" target=\"_parent\"><img src=\"https://colab.research.google.com/assets/colab-badge.svg\" alt=\"Open In Colab\"/></a>"
      ]
    },
    {
      "cell_type": "markdown",
      "source": [
        "# 새해에도 화이팅 입니다 ! "
      ],
      "metadata": {
        "id": "MgGqHkGH1Mrg"
      }
    },
    {
      "cell_type": "markdown",
      "source": [
        "# Introduction\n",
        "MeetUp Link\n",
        "\n",
        "https://meet.google.com/vku-dnyp-aen\n",
        "\n",
        "문제 출제 순서\n",
        "\n",
        "Joseph -> Leo -> Minsu -> Youngsu -> Seongho -> Jinjoo \n",
        "\n",
        "leokim2024@gmail.com\n",
        "\n",
        "terun707@gmail.com\n",
        "\n",
        "minsu.kim08@gmail.com\n",
        "\n",
        "jinson355@gmail.com\n",
        "\n",
        "seongholee4@gmail.com\n",
        "\n",
        "2021 Amazon OA (SDE 1 105 Mins):\n",
        "Two Sum Variation: https://leetcode.com/discuss/interview-question/938809/amazon-oa-amazon-music-runtime#:~:text=Amazon%20music%20is%20working%20on,the%20songs%20from%20a%20list. *Lots of edge cases handling required to pass all test cases\n",
        "\n",
        "https://leetcode.com/discuss/interview-question/1488281/amazon-oa"
      ],
      "metadata": {
        "id": "Hfu1gb-80h7c"
      }
    },
    {
      "cell_type": "markdown",
      "source": [
        ""
      ],
      "metadata": {
        "id": "3WpBmc2T1ACj"
      }
    },
    {
      "cell_type": "markdown",
      "source": [
        "# Jan. 03. 2022\n",
        "\n",
        "Leetcode 1041. Robot Bounded in Circle\n",
        "\n",
        "https://leetcode.com/problems/robot-bounded-in-circle/\n"
      ],
      "metadata": {
        "id": "qftma_MO1Bbt"
      }
    },
    {
      "cell_type": "code",
      "source": [
        "#Minsu's Code\n",
        "\n",
        "class Solution:\n",
        "    def isRobotBounded(self, instructions: str) -> bool:\n",
        "        dirs = ((1,0),(0,-1),(-1,0),(0,1)) #북쪽부터 시작\n",
        "        i = 0\n",
        "        dy, dx = 0, 0\n",
        "        \n",
        "        res = False\n",
        "        \n",
        "        for c in instructions:\n",
        "            if c == 'R':\n",
        "                i -= 1\n",
        "                if i < 0:\n",
        "                    i = 3\n",
        "            elif c == 'L':\n",
        "                i += 1\n",
        "                i = i % 4\n",
        "            else:\n",
        "                dy += dirs[i][0]\n",
        "                dx += dirs[i][1]\n",
        "        if dy == 0 and dx == 0: #제자리\n",
        "            res = True\n",
        "        if i > 0: #방향이 시작한 방향인지 체크\n",
        "            res = True\n",
        "        return res"
      ],
      "metadata": {
        "id": "wyUYqDSk0-in"
      },
      "execution_count": null,
      "outputs": []
    },
    {
      "cell_type": "code",
      "source": [
        "# Joe's Code\n",
        "# Time: O(n), space: O(1)\n",
        "\n",
        "class Solution:\n",
        "    def isRobotBounded(self, instructions: str) -> bool:\n",
        "        direction = (\n",
        "            (-1, 0),  # up\n",
        "            (0, 1),  # right\n",
        "            (1, 0),  # down\n",
        "            (0, -1),  # left\n",
        "        )\n",
        "        cur = [0, 0]\n",
        "        d = 0\n",
        "        for i in instructions:\n",
        "            if i == 'L':\n",
        "                d = (d - 1) % 4\n",
        "            elif i == 'R':\n",
        "                d = (d + 1) % 4\n",
        "            else:\n",
        "                for j in range(2):\n",
        "                    cur[j] += direction[d][j]\n",
        "\n",
        "        return False if cur != [0, 0] and d == 0 else True\n",
        "        # return bool(cur == [0, 0])\n"
      ],
      "metadata": {
        "id": "0BSfoTZYAwpu"
      },
      "execution_count": null,
      "outputs": []
    },
    {
      "cell_type": "code",
      "source": [
        "# Youngsu\n",
        "class Solution(object):\n",
        "    def isRobotBounded(self, instructions):\n",
        "        \"\"\"\n",
        "        :type instructions: str\n",
        "        :rtype: bool\n",
        "        \"\"\"\n",
        "        direction = 0 # 0:up 1:right 2:down 3:left\n",
        "        x, y = 0, 0\n",
        "        for inst in instructions:\n",
        "            if inst == 'L':\n",
        "                direction -= 1\n",
        "                if direction == -1:\n",
        "                    direction = 3\n",
        "            elif inst == 'R':\n",
        "                direction += 1\n",
        "                if direction == 4:\n",
        "                    direction = 0\n",
        "            elif inst == 'G':\n",
        "                if direction == 0:\n",
        "                    y += 1\n",
        "                elif direction == 1:\n",
        "                    x += 1\n",
        "                elif direction == 2:\n",
        "                    y -= 1\n",
        "                elif direction == 3:\n",
        "                    x -= 1\n",
        "        if (x,y) == (0,0):\n",
        "            return True\n",
        "        elif direction == 0:\n",
        "            return False\n",
        "        return True"
      ],
      "metadata": {
        "id": "1hslLGiSCEYL"
      },
      "execution_count": null,
      "outputs": []
    },
    {
      "cell_type": "code",
      "source": [
        "#Leo's \n",
        "class Solution:\n",
        "    def isRobotBounded(self, instructions: str) -> bool:\n",
        "        # run simulation \n",
        "        #visited = set()\n",
        "        #curr_pos = (0,0) # x, y\n",
        "        curr_x, curr_y = 0,0\n",
        "        #curr_direction = \"N\" # 0 :\"N\", 1:\"\"\n",
        "        dir_x,dir_y = 0,1 #facing north \n",
        "        #moving = {\"N\":(0,1),\"E\":(-1,0),\"W\":(1,0),\"S\":(0,-1)}\n",
        "        \n",
        "        for i in instructions:\n",
        "            if i == \"G\":\n",
        "                curr_x += dir_x\n",
        "                curr_y += dir_y\n",
        "        #        if (curr_x, curr_y, curr_direction) in visited:\n",
        "        #            return True\n",
        "                \n",
        "        #        visited.add((curr_x,curr_y,curr_direction))\n",
        "            \n",
        "            elif i ==\"L\":    #N:(0,1) -L-> W:(-1,0) -L-> S:(0,-1) ....  x, y를 바꾸고, x 에 -1 \n",
        "                dir_x,dir_y =  dir_y, -dir_x \n",
        "                             # x,y를 바꾸고 y 에 -1 \n",
        "            else:\n",
        "                dir_x,dir_y =  -dir_y, dir_x \n",
        "            \n",
        "        return (curr_x ==0 and curr_y==0) or (dir_y != 1).  ->  <-   GL \n",
        "\n",
        "\n",
        "        # (0,0) : N \n",
        "        #G operation: (0,1) : N \n",
        "        #L operation: (0,1) : W\n",
        "         "
      ],
      "metadata": {
        "id": "leRboqqQEOM3"
      },
      "execution_count": null,
      "outputs": []
    },
    {
      "cell_type": "markdown",
      "source": [
        "# Jan. 04. 2022\n",
        "\n",
        "Leetcode 1405. Longest Happy String\n",
        "\n",
        "https://leetcode.com/problems/longest-happy-string/"
      ],
      "metadata": {
        "id": "w4FxP4q0Q1ab"
      }
    },
    {
      "cell_type": "code",
      "source": [
        "#Minsu's Code \n",
        "\n",
        "from queue import PriorityQueue\n",
        "class Solution:\n",
        "    def longestDiverseString(self, a: int, b: int, c: int) -> str:\n",
        "        \n",
        "        class pq(PriorityQueue): #PriortyQueue peek 구현, 참조 : https://www.pythonpool.com/python-queue-peek/\n",
        "            def peek(self):\n",
        "                return self.queue[0]\n",
        "            \n",
        "        class Data:\n",
        "            def __init__(self, count, letter):\n",
        "                self.count = count\n",
        "                self.letter = letter\n",
        "            \n",
        "            def __lt__(self, other):\n",
        "                return self.count > other.count\n",
        "            \n",
        "        que = pq()\n",
        "        def inputData(count, letter): #0체크해서 넣기위해 \n",
        "            if count != 0:\n",
        "                que.put(Data(count,letter))\n",
        "                \n",
        "        inputData(a,\"a\")\n",
        "        inputData(b,\"b\")\n",
        "        inputData(c,\"c\")\n",
        "        \n",
        "        #currLetter = que[0].letter\n",
        "        curr = que.peek()\n",
        "        currLetter = curr.letter\n",
        "        currCount = 0\n",
        "        \n",
        "        res = \"\"\n",
        "        while not que.empty():\n",
        "            data = que.get()\n",
        "            if data.letter == currLetter and currCount == 2:\n",
        "                if not que.empty():\n",
        "                    temp = que.get()\n",
        "                    inputData(data.count, data.letter)\n",
        "                    data = temp\n",
        "                else:\n",
        "                    break\n",
        "            res += data.letter\n",
        "            data.count -= 1\n",
        "            \n",
        "            if data.letter == currLetter:\n",
        "                currCount += 1\n",
        "            else:\n",
        "                currLetter = data.letter\n",
        "                currCount = 1\n",
        "      \n",
        "            inputData(data.count, data.letter)\n",
        "        return res"
      ],
      "metadata": {
        "id": "rBTc0SlmmfwW"
      },
      "execution_count": null,
      "outputs": []
    },
    {
      "cell_type": "code",
      "source": [
        "# Seongho\n",
        "\n",
        "class Solution:\n",
        "    def longestDiverseString(self, a: int, b: int, c: int) -> str:\n",
        "        # largest = max(a, max(b, c))\n",
        "\n",
        "        res = []\n",
        "        cntA, cntB, cntC = 0, 0, 0\n",
        "        \n",
        "        for i in range(a+b+c):\n",
        "            maxCount = max(a, b, c)\n",
        "            if (a == maxCount and cntA < 2) or (cntB == 2 and a >= 1) or (cntC == 2 and a >= 1):\n",
        "                res.append('a')\n",
        "                a = a-1\n",
        "                cntA = cntA+1\n",
        "                cntB, cntC = 0, 0\n",
        "            elif (b == maxCount and cntB < 2) or (cntA == 2 and b >= 1) or (cntC == 2 and b >= 1):\n",
        "                res.append('b')\n",
        "                b = b-1\n",
        "                cntB = cntB+1\n",
        "                cntA, cntC = 0, 0\n",
        "            elif (c == maxCount and cntC < 2) or (cntA == 2 and c >= 1) or (cntB == 2 and c >= 1):\n",
        "                res.append('c')\n",
        "                c = c-1\n",
        "                cntC = cntC+1\n",
        "                cntA, cntB = 0, 0\n",
        "        # end loop\n",
        "\n",
        "        return res\n",
        "\n"
      ],
      "metadata": {
        "id": "qVyrUzHnvVUK"
      },
      "execution_count": null,
      "outputs": []
    },
    {
      "cell_type": "code",
      "source": [
        "# Joe's Code\n",
        "\n",
        "class Solution:\n",
        "    def longestDiverseString(self, a: int, b: int, c: int) -> str:\n",
        "        def sort(arry):\n",
        "            return sorted(clean(arry), key=lambda x: x[1], reverse=True)\n",
        "        \n",
        "        def clean(arry):\n",
        "            tmp = []\n",
        "            for i, v in arry:\n",
        "                if v:\n",
        "                    tmp.append([i, v]) \n",
        "            return tmp\n",
        "        \n",
        "        res = ''\n",
        "        _map = {'a': a, 'b': b, 'c': c}\n",
        "        while sum(_map.values()):\n",
        "            choices = []\n",
        "            for s in [\"a\", \"b\", \"c\"]:\n",
        "                if _map[s] and (len(res) < 2 or res[-1] != s or res[-2] != s):\n",
        "                    choices.append([s, _map[s]])\n",
        "            if not choices:\n",
        "                break\n",
        "            choices = sort(choices)\n",
        "            res += choices[0][0]\n",
        "            _map[choices[0][0]] -= 1\n",
        "        return res"
      ],
      "metadata": {
        "id": "3C3qVIzqKDba"
      },
      "execution_count": null,
      "outputs": []
    },
    {
      "cell_type": "markdown",
      "source": [
        "# Jan. 05. 2022\n",
        "\n",
        "Leetcode 792. Number of Matching Subsequences\n",
        "\n",
        "https://leetcode.com/problems/number-of-matching-subsequences/"
      ],
      "metadata": {
        "id": "2J5DLM8aYwih"
      }
    },
    {
      "cell_type": "code",
      "source": [
        "#Minsu's Code\n",
        "\n",
        "from collections import defaultdict\n",
        "class Solution:\n",
        "    def numMatchingSubseq(self, s: str, words: List[str]) -> int:\n",
        "        \n",
        "        def binarySearch(list_, start, end, target):\n",
        "            while start < end:\n",
        "                mid = (start + end) // 2\n",
        "                if list_[mid] < target:\n",
        "                    start = mid + 1\n",
        "                else:\n",
        "                    end = mid\n",
        "            return start\n",
        "        \n",
        "        map_ = defaultdict(list)\n",
        "        \n",
        "        for i in range(len(s)):\n",
        "            map_[s[i]].append(i)\n",
        "\n",
        "        res = 0\n",
        "        for word in words:\n",
        "            p1, p2 = 0, 0\n",
        "            flag = True\n",
        "            while p1 < len(word):\n",
        "                c = word[p1]\n",
        "                if c in map_:\n",
        "                    idxs = map_[c]\n",
        "                    if p2 > idxs[len(idxs)-1]: #중복문자가 s에있는 인덱스보다 클때\n",
        "                        flag = False\n",
        "                        break\n",
        "                    p1 += 1\n",
        "                    p2 = idxs[binarySearch(idxs, 0, len(idxs), p2)] + 1\n",
        "                else:\n",
        "                    flag =  False\n",
        "                    break\n",
        "            if flag:\n",
        "                res += 1\n",
        "        \n",
        "        return res"
      ],
      "metadata": {
        "id": "eONBsUGeKrD8"
      },
      "execution_count": null,
      "outputs": []
    },
    {
      "cell_type": "code",
      "source": [
        "#Leo's Code \n",
        "from collections import defaultdict\n",
        "\n",
        "class Solution:\n",
        "    def numMatchingSubseq(self, s: str, words: List[str]) -> int:\n",
        "        char_map = defaultdict(list)\n",
        "        ans = 0\n",
        "        # 만들고...  O(S)\n",
        "        for i, c in enumerate(s):\n",
        "            char_map[c].append(i)\n",
        "        # O(W * C)\n",
        "        for word in words:\n",
        "            latest_index = -1\n",
        "            is_found = False\n",
        "\n",
        "            for idx,c in enumerate(word):\n",
        "                indices = char_map[c]\n",
        "                # A : 0, 3, 5\n",
        "                # 만약에 latest 보다 큰 인덱스를 찾을 수 있으면\n",
        "                tmp = -1\n",
        "                for i in indices:\n",
        "                    if i > tmp and i > latest_index:\n",
        "                        latest_index = i\n",
        "                        tmp = i\n",
        "                        break\n",
        "\n",
        "                if tmp == -1:\n",
        "                    break\n",
        "\n",
        "                if idx == len(word)-1:\n",
        "                    is_found=True\n",
        "\n",
        "            if is_found:\n",
        "                ans+=1\n",
        "\n",
        "        return ans\n",
        "\n"
      ],
      "metadata": {
        "id": "xkzgeEFWR-Tu"
      },
      "execution_count": null,
      "outputs": []
    },
    {
      "cell_type": "code",
      "source": [
        "# Joe's Code\n",
        "# Time: O(N), Space: O(N)\n",
        "\n",
        "from collections import defaultdict\n",
        "\n",
        "\n",
        "class Solution:\n",
        "    def numMatchingSubseq(self, s: str, words: List[str]) -> int:\n",
        "        res = 0\n",
        "        _map = defaultdict(list)\n",
        "        \n",
        "        for word in words:\n",
        "            _map[word[0]].append(word)\n",
        "        \n",
        "        for i in s:\n",
        "            if i not in _map:\n",
        "                continue\n",
        "            words = _map[i]\n",
        "            del _map[i]\n",
        "        \n",
        "            for word in words:\n",
        "                if len(word) == 1:\n",
        "                    res += 1\n",
        "                else:\n",
        "                    _map[word[1]].append(word[1:])\n",
        "        return res"
      ],
      "metadata": {
        "id": "oa4vci1-TWTN"
      },
      "execution_count": null,
      "outputs": []
    }
  ]
}